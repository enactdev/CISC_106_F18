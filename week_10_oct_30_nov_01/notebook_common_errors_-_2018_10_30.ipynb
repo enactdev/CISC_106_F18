{
 "cells": [
  {
   "cell_type": "markdown",
   "metadata": {},
   "source": [
    "# Class notebook, October 30, 2018\n",
    "\n",
    "[![Binder](https://mybinder.org/badge.svg)](https://mybinder.org/v2/gh/enactdev/CISC_106_F18/master?filepath=week_10_oct_30_nov_01/notebook_-_2018_10_30.ipynb)\n",
    "\n",
    "**I saw a couple common errors when I was looking at student's quiz submissions last week.**\n",
    "\n",
    "**If you practice these on your own, you will need to do a Kernel => Restart & Clear Output between running different cells.**\n",
    "\n",
    "**Here is (basically) what I originally saw when I warned against the Moodle error:**\n",
    "```\n",
    "***Runtime error***\n",
    "'input' function called when no input data available.\n",
    "```"
   ]
  },
  {
   "cell_type": "code",
   "execution_count": null,
   "metadata": {},
   "outputs": [],
   "source": [
    "def get_a_hello():\n",
    "    count = 0\n",
    "    input = ''\n",
    "    while input != 'hello':\n",
    "        input = input('That was not a hello. Enter hello: ')\n",
    "        count += 1\n",
    "    return count\n",
    "        \n",
    "get_a_hello()"
   ]
  },
  {
   "cell_type": "markdown",
   "metadata": {},
   "source": [
    "---\n",
    "\n",
    "**Turns out, this will also throw the same error in Moodle.**\n"
   ]
  },
  {
   "cell_type": "code",
   "execution_count": null,
   "metadata": {},
   "outputs": [],
   "source": [
    "def get_a_hello():\n",
    "    count = 1\n",
    "    user_input = input('Enter hello: ').lower\n",
    "    while user_input != 'hello':\n",
    "        count += 1\n",
    "        print(user_input)\n",
    "        user_input = input('That was not a hello. Enter hello: ').lower\n",
    "        \n",
    "    return count\n",
    "\n",
    "get_a_hello()"
   ]
  },
  {
   "cell_type": "markdown",
   "metadata": {},
   "source": [
    "---\n",
    "\n",
    "**You can overwrite Python's functions just like you can overwrite your own:**"
   ]
  },
  {
   "cell_type": "code",
   "execution_count": null,
   "metadata": {},
   "outputs": [],
   "source": [
    "def my_function():\n",
    "    print('Original my_function()')\n",
    "    \n",
    "def my_function():\n",
    "    print('New my_function()')\n",
    "    \n",
    "my_function()\n",
    "\n",
    "my_function = 'This is not a function'\n",
    "\n",
    "print(my_function)\n",
    "\n",
    "# This will throw an error\n",
    "my_function()"
   ]
  },
  {
   "cell_type": "code",
   "execution_count": null,
   "metadata": {},
   "outputs": [],
   "source": []
  }
 ],
 "metadata": {
  "kernelspec": {
   "display_name": "Python 3",
   "language": "python",
   "name": "python3"
  },
  "language_info": {
   "codemirror_mode": {
    "name": "ipython",
    "version": 3
   },
   "file_extension": ".py",
   "mimetype": "text/x-python",
   "name": "python",
   "nbconvert_exporter": "python",
   "pygments_lexer": "ipython3",
   "version": "3.6.6"
  }
 },
 "nbformat": 4,
 "nbformat_minor": 2
}
