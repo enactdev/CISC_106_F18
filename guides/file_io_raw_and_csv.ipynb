{
 "cells": [
  {
   "cell_type": "markdown",
   "metadata": {},
   "source": [
    "# File IO with CSV\n",
    "\n",
    "[![Binder](https://mybinder.org/badge.svg)](https://mybinder.org/v2/gh/enactdev/CISC_106_F18/master?filepath=guides/file_io_raw_and_csv.ipynb)\n",
    "\n",
    "**There are three steps to reading a file:**\n",
    "* **Open the file**\n",
    "* **Read file contents**\n",
    "    * **Read entire file, or line by line**\n",
    "* **Close the file**\n",
    "\n",
    "**You will open the file with the `open()` function:**\n",
    "\n",
    "### Open the file \n",
    "\n",
    "**Use 'r' for reading (common options: 'w' for writing to an existing file and overwriting the contents, 'a' for apending to an existing file, and 'x' for creating a new file)**"
   ]
  },
  {
   "cell_type": "code",
   "execution_count": 1,
   "metadata": {},
   "outputs": [],
   "source": [
    "f = open('../data_files/us_census_population.csv', 'r')"
   ]
  },
  {
   "cell_type": "markdown",
   "metadata": {},
   "source": [
    "### Read file contents\n",
    "\n",
    "**Read the entire file with the `read()` method:**"
   ]
  },
  {
   "cell_type": "code",
   "execution_count": 2,
   "metadata": {},
   "outputs": [
    {
     "name": "stdout",
     "output_type": "stream",
     "text": [
      "Year,Population\n",
      "1790,3929326\n",
      "1800,5308483\n",
      "1810,723\n"
     ]
    }
   ],
   "source": [
    "# Do not run this cell twice in a row. If you need to re-run it, you also need to re-run\n",
    "# the cell above that opens the file.\n",
    "file_contents = f.read()\n",
    "\n",
    "# Only look at the first 50 characters\n",
    "print(file_contents[:50])"
   ]
  },
  {
   "cell_type": "markdown",
   "metadata": {},
   "source": [
    "### Close the file\n",
    "\n",
    "**Close the file with the `close()` method:**"
   ]
  },
  {
   "cell_type": "code",
   "execution_count": 3,
   "metadata": {},
   "outputs": [],
   "source": [
    "f.close()"
   ]
  },
  {
   "cell_type": "markdown",
   "metadata": {},
   "source": [
    "**You can also read the file line by line:**"
   ]
  },
  {
   "cell_type": "code",
   "execution_count": 4,
   "metadata": {},
   "outputs": [
    {
     "name": "stdout",
     "output_type": "stream",
     "text": [
      "type(line): <class 'str'>\n",
      "Year,Population\n",
      "\n",
      "type(line): <class 'str'>\n",
      "1790,3929326\n",
      "\n",
      "type(line): <class 'str'>\n",
      "1800,5308483\n",
      "\n",
      "type(line): <class 'str'>\n",
      "1810,7239881\n",
      "\n",
      "type(line): <class 'str'>\n"
     ]
    }
   ],
   "source": [
    "f = open('../data_files/us_census_population.csv', 'r')\n",
    "\n",
    "current_line = 0\n",
    "for line in f:\n",
    "    current_line += 1\n",
    "    #print('current line number:', current_line)\n",
    "    print('type(line):', type(line))\n",
    "    if current_line >= 5:\n",
    "        break\n",
    "        \n",
    "    print(line)\n",
    "\n",
    "    \n",
    "f.close()"
   ]
  },
  {
   "cell_type": "markdown",
   "metadata": {},
   "source": [
    "**Let's parse the file with the string `split()` method.**"
   ]
  },
  {
   "cell_type": "code",
   "execution_count": 5,
   "metadata": {},
   "outputs": [
    {
     "name": "stdout",
     "output_type": "stream",
     "text": [
      "['Year', 'Population\\n']\n",
      "['1790', '3929326\\n']\n",
      "['1800', '5308483\\n']\n",
      "['1810', '7239881\\n']\n",
      "['1820', '9638453\\n']\n"
     ]
    }
   ],
   "source": [
    "f = open('../data_files/us_census_population.csv', 'r')\n",
    "\n",
    "current_line = 0\n",
    "for line in f:\n",
    "    current_line += 1\n",
    "    line_data = line.split(',')\n",
    "    print(line_data)\n",
    "    \n",
    "    if current_line >= 5:\n",
    "        break\n",
    "    \n",
    "f.close()"
   ]
  },
  {
   "cell_type": "markdown",
   "metadata": {},
   "source": [
    "**You can read a single line with the `next()` function.**"
   ]
  },
  {
   "cell_type": "code",
   "execution_count": 6,
   "metadata": {},
   "outputs": [
    {
     "name": "stdout",
     "output_type": "stream",
     "text": [
      "Year,Population\n",
      "\n"
     ]
    }
   ],
   "source": [
    "f = open('../data_files/us_census_population.csv', 'r')\n",
    "\n",
    "first_line = next(f)   # skip the first line\n",
    "\n",
    "print(first_line)\n",
    "\n",
    "f.close()"
   ]
  },
  {
   "cell_type": "code",
   "execution_count": 7,
   "metadata": {
    "scrolled": true
   },
   "outputs": [
    {
     "name": "stdout",
     "output_type": "stream",
     "text": [
      "Year,Population\n",
      "\n",
      "years: ['1790', '1800', '1810', '1820', '1830', '1840', '1850', '1860', '1870', '1880', '1890', '1900', '1910', '1920', '1930', '1940', '1950', '1960', '1970', '1980', '1990', '2000', '2010']\n",
      "population: ['3929326', '5308483', '7239881', '9638453', '12866020', '17069453', '23191876', '31443321', '39818449', '50189209', '62947714', '76212168', '92228496', '106021537', '122775046', '132164569', '150697361', '179323175', '203302031', '226545805', '248709873', '281421906', '308745538']\n"
     ]
    }
   ],
   "source": [
    "f = open('../data_files/us_census_population.csv', 'r')\n",
    "\n",
    "first_line = next(f)   # skip the first line\n",
    "\n",
    "print(first_line)\n",
    "\n",
    "year_list = []\n",
    "population_list = []\n",
    "\n",
    "current_line = 1\n",
    "for line in f:\n",
    "    current_line += 1\n",
    "    line_data = line.split(',')\n",
    "    #print(line_data)\n",
    "\n",
    "    #if current_line >= 5:\n",
    "    #    break\n",
    "        \n",
    "    year_list.append(line_data[0])\n",
    "    population_list.append(line_data[1].strip())\n",
    "\n",
    "print('years:', year_list)\n",
    "print('population:', population_list)\n",
    "    \n",
    "f.close()"
   ]
  },
  {
   "cell_type": "markdown",
   "metadata": {},
   "source": [
    "## CSV files\n",
    "\n",
    "**Files have lines, which should make sense. CSV files also have lines, but since CSV files are often imported into a spreadsheet program, the lines are often called rows.**\n",
    "\n",
    "**Note: You can also use the `next()` function on the CSV header row**\n"
   ]
  },
  {
   "cell_type": "code",
   "execution_count": 8,
   "metadata": {},
   "outputs": [
    {
     "name": "stdout",
     "output_type": "stream",
     "text": [
      "Help on built-in function reader in module _csv:\n",
      "\n",
      "reader(...)\n",
      "    csv_reader = reader(iterable [, dialect='excel']\n",
      "                            [optional keyword args])\n",
      "        for row in csv_reader:\n",
      "            process(row)\n",
      "    \n",
      "    The \"iterable\" argument can be any object that returns a line\n",
      "    of input for each iteration, such as a file object or a list.  The\n",
      "    optional \"dialect\" parameter is discussed below.  The function\n",
      "    also accepts optional keyword arguments which override settings\n",
      "    provided by the dialect.\n",
      "    \n",
      "    The returned object is an iterator.  Each iteration returns a row\n",
      "    of the CSV file (which can span multiple input lines).\n",
      "\n"
     ]
    }
   ],
   "source": [
    "import csv\n",
    "\n",
    "help(csv.reader)"
   ]
  },
  {
   "cell_type": "code",
   "execution_count": 9,
   "metadata": {},
   "outputs": [
    {
     "name": "stdout",
     "output_type": "stream",
     "text": [
      "first_row: ['Year', 'Population']\n",
      "['1790', '3929326']\n",
      "['1800', '5308483']\n",
      "['1810', '7239881']\n",
      "['1820', '9638453']\n",
      "['1830', '12866020']\n",
      "['1840', '17069453']\n",
      "['1850', '23191876']\n",
      "['1860', '31443321']\n",
      "['1870', '39818449']\n",
      "['1880', '50189209']\n",
      "['1890', '62947714']\n",
      "['1900', '76212168']\n",
      "['1910', '92228496']\n",
      "['1920', '106021537']\n",
      "['1930', '122775046']\n",
      "['1940', '132164569']\n",
      "['1950', '150697361']\n",
      "['1960', '179323175']\n",
      "['1970', '203302031']\n",
      "['1980', '226545805']\n",
      "['1990', '248709873']\n",
      "['2000', '281421906']\n",
      "['2010', '308745538']\n",
      "years: ['1790', '1800', '1810', '1820', '1830', '1840', '1850', '1860', '1870', '1880', '1890', '1900', '1910', '1920', '1930', '1940', '1950', '1960', '1970', '1980', '1990', '2000', '2010']\n",
      "population: ['3929326', '5308483', '7239881', '9638453', '12866020', '17069453', '23191876', '31443321', '39818449', '50189209', '62947714', '76212168', '92228496', '106021537', '122775046', '132164569', '150697361', '179323175', '203302031', '226545805', '248709873', '281421906', '308745538']\n"
     ]
    }
   ],
   "source": [
    "f = open('../data_files/us_census_population.csv', 'r')\n",
    "\n",
    "csvreader = csv.reader(f) #, delimiter=',', quotechar='\"'\n",
    "\n",
    "first_row = next(csvreader)   # skip the first line\n",
    "\n",
    "print('first_row:', first_row)\n",
    "\n",
    "year_list = []\n",
    "population_list = []\n",
    "\n",
    "current_line = 1\n",
    "\n",
    "for row in csvreader:\n",
    "    current_line += 1\n",
    "    \n",
    "    print(row)\n",
    "\n",
    "    #if current_line >= 5:\n",
    "    #    break\n",
    "\n",
    "    year_list.append(row[0])\n",
    "    population_list.append(row[1].strip())\n",
    "\n",
    "print('years:', year_list)\n",
    "print('population:', population_list)\n",
    "\n",
    "    \n",
    "f.close()"
   ]
  },
  {
   "cell_type": "markdown",
   "metadata": {},
   "source": [
    "**Let's make a bar chart. Here is the example used:**\n",
    "\n",
    "https://pythonspot.com/matplotlib-bar-chart/"
   ]
  },
  {
   "cell_type": "code",
   "execution_count": 14,
   "metadata": {},
   "outputs": [
    {
     "data": {
      "image/png": "[encoded data removed]",
      "text/plain": [
       "<Figure size 640x480 with 1 Axes>"
      ]
     },
     "metadata": {},
     "output_type": "display_data"
    }
   ],
   "source": [
    "import matplotlib.pyplot as plt; plt.rcdefaults()\n",
    "import numpy as np\n",
    "import matplotlib.pyplot as plt\n",
    "\n",
    "y_pos = np.arange(len(year_list))\n",
    " \n",
    "plt.bar(y_pos, population_list, align='center', alpha=0.6)\n",
    "plt.xticks(y_pos, year_list)\n",
    "plt.ylabel('Population')\n",
    "plt.title('US Census Population')\n",
    " \n",
    "# Removed the .show() method\n",
    "plt.show()"
   ]
  },
  {
   "cell_type": "markdown",
   "metadata": {},
   "source": [
    "### Let's create a json file\n",
    "\n",
    "**To do that, let's create a list of dictionaries.**"
   ]
  },
  {
   "cell_type": "code",
   "execution_count": 11,
   "metadata": {},
   "outputs": [
    {
     "name": "stdout",
     "output_type": "stream",
     "text": [
      "first_row: ['Year', 'Population']\n",
      "data_list: [{'year': '1790', 'population': '3929326'}, {'year': '1800', 'population': '5308483'}, {'year': '1810', 'population': '7239881'}, {'year': '1820', 'population': '9638453'}, {'year': '1830', 'population': '12866020'}, {'year': '1840', 'population': '17069453'}, {'year': '1850', 'population': '23191876'}, {'year': '1860', 'population': '31443321'}, {'year': '1870', 'population': '39818449'}, {'year': '1880', 'population': '50189209'}, {'year': '1890', 'population': '62947714'}, {'year': '1900', 'population': '76212168'}, {'year': '1910', 'population': '92228496'}, {'year': '1920', 'population': '106021537'}, {'year': '1930', 'population': '122775046'}, {'year': '1940', 'population': '132164569'}, {'year': '1950', 'population': '150697361'}, {'year': '1960', 'population': '179323175'}, {'year': '1970', 'population': '203302031'}, {'year': '1980', 'population': '226545805'}, {'year': '1990', 'population': '248709873'}, {'year': '2000', 'population': '281421906'}, {'year': '2010', 'population': '308745538'}]\n"
     ]
    }
   ],
   "source": [
    "f = open('../data_files/us_census_population.csv', 'r')\n",
    "\n",
    "csvreader = csv.reader(f) #, delimiter=',', quotechar='\"'\n",
    "\n",
    "first_row = next(csvreader)   # skip the first line\n",
    "\n",
    "print('first_row:', first_row)\n",
    "\n",
    "data_list = []\n",
    "\n",
    "current_line = 1\n",
    "\n",
    "for row in csvreader:\n",
    "    current_line += 1\n",
    "    \n",
    "    line_dict = {'year': row[0], 'population': row[1]}\n",
    "\n",
    "    data_list.append(line_dict)\n",
    "\n",
    "print('data_list:', data_list)\n",
    "\n",
    "    \n",
    "f.close()"
   ]
  },
  {
   "cell_type": "markdown",
   "metadata": {},
   "source": [
    "**Now let's write this to a file:**"
   ]
  },
  {
   "cell_type": "code",
   "execution_count": 12,
   "metadata": {},
   "outputs": [],
   "source": [
    "import json\n",
    "\n",
    "f = open('../data_files/us_census_population.json', 'w')\n",
    "\n",
    "f.write(json.dumps(data_list))\n",
    "    \n",
    "f.close()"
   ]
  },
  {
   "cell_type": "code",
   "execution_count": null,
   "metadata": {},
   "outputs": [],
   "source": []
  }
 ],
 "metadata": {
  "kernelspec": {
   "display_name": "Python 3",
   "language": "python",
   "name": "python3"
  },
  "language_info": {
   "codemirror_mode": {
    "name": "ipython",
    "version": 3
   },
   "file_extension": ".py",
   "mimetype": "text/x-python",
   "name": "python",
   "nbconvert_exporter": "python",
   "pygments_lexer": "ipython3",
   "version": "3.6.6"
  }
 },
 "nbformat": 4,
 "nbformat_minor": 2
}
