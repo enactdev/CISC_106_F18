{
 "cells": [
  {
   "cell_type": "markdown",
   "metadata": {},
   "source": [
    "# Octave basics part 3\n",
    "\n",
    "## December 4, 2018\n",
    "\n",
    "**No Binder links because Binder does not work with Octave. You are recommended to only use this as a reference while programming in the Octave or Matlab application.**\n",
    "\n",
    "**These correspond to Professor Wassil's slides**"
   ]
  },
  {
   "cell_type": "code",
   "execution_count": 1,
   "metadata": {},
   "outputs": [
    {
     "name": "stdout",
     "output_type": "stream",
     "text": [
      "A =\n",
      "\n",
      "    1    0    1\n",
      "    5    0   10\n",
      "    1    0    0\n",
      "\n",
      "ans =\n",
      "\n",
      "   1\n",
      "   2\n",
      "   3\n",
      "   7\n",
      "   8\n",
      "\n"
     ]
    }
   ],
   "source": [
    "A = [1 0 1; 5 0 10; 1 0 0]\n",
    "\n",
    "% By default, find() returns the indices of non-zero elements of the matrix\n",
    "find(A)\n"
   ]
  },
  {
   "cell_type": "code",
   "execution_count": 2,
   "metadata": {},
   "outputs": [
    {
     "name": "stdout",
     "output_type": "stream",
     "text": [
      "ans =\n",
      "\n",
      "   4\n",
      "   5\n",
      "   6\n",
      "   9\n",
      "\n"
     ]
    }
   ],
   "source": [
    "find(A==0)\n"
   ]
  },
  {
   "cell_type": "code",
   "execution_count": 3,
   "metadata": {},
   "outputs": [
    {
     "name": "stdout",
     "output_type": "stream",
     "text": [
      "A =\n",
      "\n",
      "   1\n",
      "   4\n",
      "   2\n",
      "   8\n",
      "   4\n",
      "\n",
      "ans =\n",
      "\n",
      "   3\n",
      "  -2\n",
      "   6\n",
      "  -4\n",
      "\n"
     ]
    }
   ],
   "source": [
    "A = [1; 4; 2; 8; 4]\n",
    "\n",
    "% if A is a vector – returns a vector one element shorter than A of the differences between adjacent elements\n",
    " \n",
    "diff(A)\n"
   ]
  },
  {
   "cell_type": "code",
   "execution_count": 4,
   "metadata": {},
   "outputs": [
    {
     "name": "stdout",
     "output_type": "stream",
     "text": [
      "B =\n",
      "\n",
      "   1   4   2   8   4\n",
      "\n",
      "ans =\n",
      "\n",
      "   3  -2   6  -4\n",
      "\n"
     ]
    }
   ],
   "source": [
    "B = [1 4 2 8 4]\n",
    "diff(B)\n"
   ]
  },
  {
   "cell_type": "code",
   "execution_count": 5,
   "metadata": {},
   "outputs": [
    {
     "name": "stdout",
     "output_type": "stream",
     "text": [
      "A =\n",
      "\n",
      "    1    2    3\n",
      "    4    8    5\n",
      "   24   18    1\n",
      "\n",
      "ans =\n",
      "\n",
      "    3    6    2\n",
      "   20   10   -4\n",
      "\n"
     ]
    }
   ],
   "source": [
    "A = [1 2 3; 4 8 5; 24 18 1]\n",
    "\n",
    "%  if matA is a matrix – matrix of row differences\n",
    "\n",
    "diff(A)\n"
   ]
  },
  {
   "cell_type": "code",
   "execution_count": 6,
   "metadata": {},
   "outputs": [
    {
     "name": "stdout",
     "output_type": "stream",
     "text": [
      "matA =\n",
      "\n",
      "   1   2   3\n",
      "  -4  -5  -6\n",
      "   7  -8   9\n",
      "\n"
     ]
    }
   ],
   "source": [
    "matA = [1 2 3; -4 -5 -6; 7 -8 9]\n"
   ]
  },
  {
   "cell_type": "code",
   "execution_count": 7,
   "metadata": {},
   "outputs": [
    {
     "name": "stdout",
     "output_type": "stream",
     "text": [
      "logical_negative =\n",
      "\n",
      "  0  0  0\n",
      "  1  1  1\n",
      "  0  1  0\n",
      "\n"
     ]
    }
   ],
   "source": [
    "logical_negative = matA < 0\n"
   ]
  },
  {
   "cell_type": "code",
   "execution_count": 8,
   "metadata": {},
   "outputs": [
    {
     "name": "stdout",
     "output_type": "stream",
     "text": [
      "idx_negative =\n",
      "\n",
      "   2\n",
      "   5\n",
      "   6\n",
      "   8\n",
      "\n"
     ]
    }
   ],
   "source": [
    "idx_negative = find(logical_negative)\n"
   ]
  },
  {
   "cell_type": "code",
   "execution_count": 9,
   "metadata": {},
   "outputs": [
    {
     "name": "stdout",
     "output_type": "stream",
     "text": [
      "matA =\n",
      "\n",
      "   1   2   3\n",
      "   0   0   0\n",
      "   7   0   9\n",
      "\n"
     ]
    }
   ],
   "source": [
    "matA(idx_negative) = 0\n"
   ]
  },
  {
   "cell_type": "code",
   "execution_count": 10,
   "metadata": {},
   "outputs": [
    {
     "name": "stdout",
     "output_type": "stream",
     "text": [
      "matA =\n",
      "\n",
      "   1   2   3\n",
      "  -4  -5  -6\n",
      "   7  -8   9\n",
      "\n"
     ]
    }
   ],
   "source": [
    "matA = [1 2 3; -4 -5 -6; 7 -8 9]\n"
   ]
  },
  {
   "cell_type": "code",
   "execution_count": 11,
   "metadata": {},
   "outputs": [
    {
     "name": "stdout",
     "output_type": "stream",
     "text": [
      "matA =\n",
      "\n",
      "   1   2   3\n",
      "   0   0   0\n",
      "   7   0   9\n",
      "\n"
     ]
    }
   ],
   "source": [
    "matA(find(matA < 0 )) = 0\n"
   ]
  },
  {
   "cell_type": "code",
   "execution_count": 12,
   "metadata": {},
   "outputs": [
    {
     "name": "stdout",
     "output_type": "stream",
     "text": [
      "matA =\n",
      "\n",
      "   1   2   3\n",
      "   4   5   6\n",
      "   7   8   9\n",
      "\n",
      "matB =\n",
      "\n",
      "   1   2   3\n",
      "   4   5   6\n",
      "   7   8   9\n",
      "\n",
      "C =\n",
      "\n",
      "   1   1   1\n",
      "   1   1   1\n",
      "   1   1   1\n",
      "\n"
     ]
    }
   ],
   "source": [
    "matA = [1 2 3; 4 5 6; 7 8 9]\n",
    "matB = [1 2 3; 4 5 6; 7 8 9]\n",
    "\n",
    "C = matA./matB\n"
   ]
  },
  {
   "cell_type": "code",
   "execution_count": 13,
   "metadata": {},
   "outputs": [
    {
     "name": "stdout",
     "output_type": "stream",
     "text": [
      "name = Professor Williams\n"
     ]
    }
   ],
   "source": [
    "name = 'Professor Williams'\n"
   ]
  },
  {
   "cell_type": "code",
   "execution_count": 14,
   "metadata": {},
   "outputs": [
    {
     "name": "stdout",
     "output_type": "stream",
     "text": [
      "ans = e\n"
     ]
    }
   ],
   "source": [
    "name(5)\n"
   ]
  },
  {
   "cell_type": "code",
   "execution_count": 15,
   "metadata": {},
   "outputs": [
    {
     "name": "stdout",
     "output_type": "stream",
     "text": [
      "ans = Williams\n"
     ]
    }
   ],
   "source": [
    "name(11:18)\n"
   ]
  },
  {
   "cell_type": "code",
   "execution_count": 16,
   "metadata": {},
   "outputs": [
    {
     "name": "stdout",
     "output_type": "stream",
     "text": [
      "ans =\n",
      "\n",
      "    1   18\n",
      "\n"
     ]
    }
   ],
   "source": [
    "size(name)\n"
   ]
  },
  {
   "cell_type": "code",
   "execution_count": 17,
   "metadata": {},
   "outputs": [
    {
     "name": "stdout",
     "output_type": "stream",
     "text": [
      "ans =  18\n"
     ]
    }
   ],
   "source": [
    "length(name)\n"
   ]
  },
  {
   "cell_type": "markdown",
   "metadata": {},
   "source": [
    "# Slides from Chapter 3"
   ]
  },
  {
   "cell_type": "code",
   "execution_count": 18,
   "metadata": {},
   "outputs": [
    {
     "name": "stdout",
     "output_type": "stream",
     "text": [
      "D =\n",
      "\n",
      "    72.0000   134.0000     3.2000\n",
      "    81.0000   201.0000     3.5000\n",
      "    69.0000   156.0000     7.1000\n",
      "    82.0000   148.0000     2.4000\n",
      "    75.0000   170.0000     1.2000\n",
      "\n"
     ]
    }
   ],
   "source": [
    "D =  [72 134 3.2; 81 201 3.5; 69 156 7.1; 82 148 2.4; 75 170 1.2 ]\n"
   ]
  },
  {
   "cell_type": "code",
   "execution_count": 19,
   "metadata": {},
   "outputs": [
    {
     "name": "stdout",
     "output_type": "stream",
     "text": [
      "A =\n",
      "\n",
      "   1   2   3\n",
      "   4   5   6\n",
      "\n"
     ]
    }
   ],
   "source": [
    "A = [1 2 3; 4 5 6]\n"
   ]
  },
  {
   "cell_type": "code",
   "execution_count": 20,
   "metadata": {},
   "outputs": [
    {
     "name": "stdout",
     "output_type": "stream",
     "text": [
      "ans =\n",
      "\n",
      "   2.5000   3.5000   4.5000\n",
      "\n"
     ]
    }
   ],
   "source": [
    "% mean of the columns\n",
    "mean(A, 1)\n"
   ]
  },
  {
   "cell_type": "code",
   "execution_count": 21,
   "metadata": {},
   "outputs": [
    {
     "name": "stdout",
     "output_type": "stream",
     "text": [
      "ans =\n",
      "\n",
      "    75.8000   161.8000     3.4800\n",
      "\n"
     ]
    }
   ],
   "source": [
    "mean(D, 1)\n"
   ]
  },
  {
   "cell_type": "code",
   "execution_count": 22,
   "metadata": {},
   "outputs": [
    {
     "name": "stdout",
     "output_type": "stream",
     "text": [
      "ans =\n",
      "\n",
      "   2\n",
      "   5\n",
      "\n"
     ]
    }
   ],
   "source": [
    "% mean of the rows\n",
    "mean(A, 2)\n"
   ]
  },
  {
   "cell_type": "code",
   "execution_count": 23,
   "metadata": {},
   "outputs": [
    {
     "name": "stdout",
     "output_type": "stream",
     "text": [
      "ans =\n",
      "\n",
      "   69.733\n",
      "   95.167\n",
      "   77.367\n",
      "   77.467\n",
      "   82.067\n",
      "\n"
     ]
    }
   ],
   "source": [
    "mean(D, 2)\n"
   ]
  },
  {
   "cell_type": "code",
   "execution_count": 24,
   "metadata": {},
   "outputs": [
    {
     "name": "stdout",
     "output_type": "stream",
     "text": [
      "ans =\n",
      "\n",
      "   2.5000   3.5000   4.5000\n",
      "\n"
     ]
    }
   ],
   "source": [
    "mean(A)\n"
   ]
  },
  {
   "cell_type": "code",
   "execution_count": 25,
   "metadata": {},
   "outputs": [
    {
     "name": "stdout",
     "output_type": "stream",
     "text": [
      "ans =  3.5000\n"
     ]
    }
   ],
   "source": [
    "mean(mean(A))\n"
   ]
  },
  {
   "cell_type": "code",
   "execution_count": 26,
   "metadata": {},
   "outputs": [
    {
     "name": "stdout",
     "output_type": "stream",
     "text": [
      "ans =  3.5000\n"
     ]
    }
   ],
   "source": [
    "mean(A(:))\n"
   ]
  },
  {
   "cell_type": "code",
   "execution_count": 27,
   "metadata": {},
   "outputs": [
    {
     "name": "stdout",
     "output_type": "stream",
     "text": [
      "x =\n",
      "\n",
      "    1.0000\n",
      "   50.0000\n",
      "    1.6000\n",
      "    1.3000\n",
      "    1.8000\n",
      "    1.9000\n",
      "    1.5000\n",
      "    1.2000\n",
      "    1.5000\n",
      "\n",
      "mu =  6.8667\n",
      "sigma =  16.177\n"
     ]
    }
   ],
   "source": [
    "% Preprocessing -- Identifying outliers\n",
    "\n",
    "x=[1; 50 ;1.6; 1.3; 1.8; 1.9; 1.5; 1.2; 1.5]\n",
    "\n",
    "mu = mean(x)\n",
    "sigma = std(x)\n"
   ]
  },
  {
   "cell_type": "code",
   "execution_count": 28,
   "metadata": {},
   "outputs": [
    {
     "name": "stdout",
     "output_type": "stream",
     "text": [
      "outliers =\n",
      "\n",
      "  0\n",
      "  1\n",
      "  0\n",
      "  0\n",
      "  0\n",
      "  0\n",
      "  0\n",
      "  0\n",
      "  0\n",
      "\n"
     ]
    }
   ],
   "source": [
    "outliers = abs(x - mu) > 2* sigma\n"
   ]
  },
  {
   "cell_type": "code",
   "execution_count": 29,
   "metadata": {},
   "outputs": [
    {
     "name": "stdout",
     "output_type": "stream",
     "text": [
      "x =\n",
      "\n",
      "   1.0000\n",
      "      NaN\n",
      "   1.6000\n",
      "   1.3000\n",
      "   1.8000\n",
      "   1.9000\n",
      "   1.5000\n",
      "   1.2000\n",
      "   1.5000\n",
      "\n"
     ]
    }
   ],
   "source": [
    "x(outliers) = NaN\n"
   ]
  },
  {
   "cell_type": "code",
   "execution_count": 30,
   "metadata": {},
   "outputs": [
    {
     "name": "stdout",
     "output_type": "stream",
     "text": [
      "ans =  1.5000\n"
     ]
    }
   ],
   "source": [
    "mode(x)\n"
   ]
  },
  {
   "cell_type": "code",
   "execution_count": 31,
   "metadata": {},
   "outputs": [
    {
     "name": "stdout",
     "output_type": "stream",
     "text": [
      "ans = NaN\n"
     ]
    }
   ],
   "source": [
    "% Be careful when using a matrix with a NaN value in a function\n",
    "mean(x)\n"
   ]
  },
  {
   "cell_type": "code",
   "execution_count": 32,
   "metadata": {},
   "outputs": [
    {
     "name": "stdout",
     "output_type": "stream",
     "text": [
      "ans = NaN\n"
     ]
    }
   ],
   "source": [
    "median(x)\n"
   ]
  },
  {
   "cell_type": "code",
   "execution_count": 33,
   "metadata": {},
   "outputs": [
    {
     "name": "stdout",
     "output_type": "stream",
     "text": [
      "count =\n",
      "\n",
      "    11    11     9\n",
      "     7    13    11\n",
      "    14    17    20\n",
      "    11    13     9\n",
      "    43    51    69\n",
      "    38    46    76\n",
      "    61   132   186\n",
      "    75   135   180\n",
      "    38    88   115\n",
      "    28    36    55\n",
      "    12    12    14\n",
      "    18    27    30\n",
      "    18    19    29\n",
      "    17    15    18\n",
      "    19    36    48\n",
      "    32    47    10\n",
      "    42    65    92\n",
      "    57    66   151\n",
      "    44    55    90\n",
      "   114   145   257\n",
      "    35    58    68\n",
      "    11    12    15\n",
      "    13     9    15\n",
      "    10     9     7\n",
      "\n"
     ]
    }
   ],
   "source": [
    "count =  [\n",
    "11 11 9; \n",
    "7 13 11; \n",
    "14 17 20; \n",
    "11 13 9; \n",
    "43 51 69; \n",
    "38 46 76; \n",
    "61 132 186; \n",
    "75 135 180; \n",
    "38 88 115; \n",
    "28 36 55; \n",
    "12 12 14; \n",
    "18 27 30; \n",
    "18 19 29; \n",
    "17 15 18; \n",
    "19 36 48; \n",
    "32 47 10; \n",
    "42 65 92; \n",
    "57 66 151;\n",
    "44 55 90; \n",
    "114 145 257; \n",
    "35 58 68; \n",
    "11 12 15; \n",
    "13 9 15; \n",
    "10 9 7]\n"
   ]
  },
  {
   "cell_type": "code",
   "execution_count": 34,
   "metadata": {
    "scrolled": true
   },
   "outputs": [
    {
     "data": {
      "image/png": "[encoded data removed]",
      "text/plain": [
       "<IPython.core.display.Image object>"
      ]
     },
     "metadata": {},
     "output_type": "display_data"
    }
   ],
   "source": [
    "hist(count)\n"
   ]
  },
  {
   "cell_type": "code",
   "execution_count": 35,
   "metadata": {},
   "outputs": [
    {
     "data": {
      "image/png": "[encoded data removed]",
      "text/plain": [
       "<IPython.core.display.Image object>"
      ]
     },
     "metadata": {},
     "output_type": "display_data"
    }
   ],
   "source": [
    "plot(count)\n"
   ]
  },
  {
   "cell_type": "code",
   "execution_count": 36,
   "metadata": {},
   "outputs": [
    {
     "data": {
      "image/png": "[encoded data removed]",
      "text/plain": [
       "<IPython.core.display.Image object>"
      ]
     },
     "metadata": {},
     "output_type": "display_data"
    }
   ],
   "source": [
    "plot(count(:,1))\n"
   ]
  },
  {
   "cell_type": "code",
   "execution_count": 37,
   "metadata": {},
   "outputs": [
    {
     "name": "stdout",
     "output_type": "stream",
     "text": [
      "error: Invalid call to scatter.  Correct usage is:\n",
      "\n",
      " -- scatter (X, Y)\n",
      " -- scatter (X, Y, S)\n",
      " -- scatter (X, Y, S, C)\n",
      " -- scatter (..., STYLE)\n",
      " -- scatter (..., \"filled\")\n",
      " -- scatter (..., PROP, VAL, ...)\n",
      " -- scatter (HAX, ...)\n",
      " -- H = scatter (...)\n",
      "\n",
      "Additional help for built-in functions and operators is\n",
      "available in the online version of the manual.  Use the command\n",
      "'doc <topic>' to search the manual index.\n",
      "\n",
      "Help and information about Octave is also available on the WWW\n",
      "at http://www.octave.org and via the help@octave.org\n",
      "mailing list.\n"
     ]
    }
   ],
   "source": [
    "scatter(x)\n"
   ]
  },
  {
   "cell_type": "code",
   "execution_count": 38,
   "metadata": {},
   "outputs": [
    {
     "name": "stdout",
     "output_type": "stream",
     "text": [
      "C =\n",
      "\n",
      "   10    2   30\n",
      "   40    5   60\n",
      "   70    8   90\n",
      "\n"
     ]
    }
   ],
   "source": [
    "A = [10 20 30; 40 50 60; 70 80 90];\n",
    "B = [1 10 1];\n",
    "C = A./B\n"
   ]
  }
 ],
 "metadata": {
  "kernelspec": {
   "display_name": "Octave",
   "language": "octave",
   "name": "octave"
  },
  "language_info": {
   "file_extension": ".m",
   "help_links": [
    {
     "text": "GNU Octave",
     "url": "https://www.gnu.org/software/octave/support.html"
    },
    {
     "text": "Octave Kernel",
     "url": "https://github.com/Calysto/octave_kernel"
    },
    {
     "text": "MetaKernel Magics",
     "url": "https://github.com/calysto/metakernel/blob/master/metakernel/magics/README.md"
    }
   ],
   "mimetype": "text/x-octave",
   "name": "octave",
   "version": "4.2.2"
  }
 },
 "nbformat": 4,
 "nbformat_minor": 2
}
