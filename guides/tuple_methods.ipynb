{
 "cells": [
  {
   "cell_type": "markdown",
   "metadata": {},
   "source": [
    "# Tuple methods\n",
    "\n",
    "[![Binder](https://mybinder.org/badge.svg)](https://mybinder.org/v2/gh/enactdev/CISC_106_F18/master?filepath=guides/tuple_methods.ipynb)\n",
    "\n",
    "**We will get into classes and objects soon, but for now know that:**\n",
    "* **An object is an instance of a class.**\n",
    "* **Classes can also define methods that are called from an object.**\n",
    "    * **Methods access object values.**\n",
    "    * **Note the return type!**\n",
    "\n",
    "## An object is an instance of a class.\n",
    "\n",
    "**These are the first few lines retuned by ```help(tuple)```:**\n",
    "\n",
    "```\n",
    "class tuple(object)\n",
    " |  tuple() -> empty tuple\n",
    " |  tuple(iterable) -> tuple initialized from iterable's items\n",
    "\n",
    "```\n",
    "\n",
    "**Tuples are similar to lists, but they are immutable. Although you can change the value of a list at a given index (i.e. ```my_list[1] = 'something new'```, you can not do that with a tuple.**\n",
    "\n",
    "**A tuple object can be created by the `tuple()` function, or with parenthesis. Let's create one and check the type:**\n"
   ]
  },
  {
   "cell_type": "code",
   "execution_count": 1,
   "metadata": {},
   "outputs": [
    {
     "data": {
      "text/plain": [
       "tuple"
      ]
     },
     "execution_count": 1,
     "metadata": {},
     "output_type": "execute_result"
    }
   ],
   "source": [
    "my_tuple = ('a', 'b', 'c')\n",
    "\n",
    "type(my_tuple)"
   ]
  },
  {
   "cell_type": "markdown",
   "metadata": {},
   "source": [
    "**The ```tuple()``` function will convert a list (or another iterable) to a tuple for you.**"
   ]
  },
  {
   "cell_type": "code",
   "execution_count": 2,
   "metadata": {},
   "outputs": [
    {
     "name": "stdout",
     "output_type": "stream",
     "text": [
      "my_list is of type: <class 'list'>\n",
      "my_tuple is of type: <class 'tuple'>\n"
     ]
    }
   ],
   "source": [
    "my_list = ['a', 'b', 'c']\n",
    "\n",
    "print('my_list is of type:', type(my_list))\n",
    "\n",
    "my_tuple = tuple(my_list)\n",
    "\n",
    "print('my_tuple is of type:', type(my_tuple))"
   ]
  },
  {
   "cell_type": "markdown",
   "metadata": {},
   "source": [
    "**Let's look at tuple methods:**"
   ]
  },
  {
   "cell_type": "code",
   "execution_count": 3,
   "metadata": {},
   "outputs": [
    {
     "name": "stdout",
     "output_type": "stream",
     "text": [
      "['count', 'index']\n"
     ]
    }
   ],
   "source": [
    "my_tuple = ('a', 'b', 'c')\n",
    "\n",
    "# This is using a comprehension\n",
    "methods = [method for method in dir(my_tuple) if method[0] != '_']\n",
    "\n",
    "print(methods)"
   ]
  },
  {
   "cell_type": "markdown",
   "metadata": {},
   "source": [
    "**Much shorter than the number of list methods. Note: These are the list methods that do not change the list.**"
   ]
  },
  {
   "cell_type": "code",
   "execution_count": 4,
   "metadata": {},
   "outputs": [
    {
     "name": "stdout",
     "output_type": "stream",
     "text": [
      "Help on built-in function count:\n",
      "\n",
      "count(...) method of builtins.tuple instance\n",
      "    T.count(value) -> integer -- return number of occurrences of value\n",
      "\n"
     ]
    }
   ],
   "source": [
    "help(my_tuple.count)"
   ]
  },
  {
   "cell_type": "code",
   "execution_count": 5,
   "metadata": {},
   "outputs": [
    {
     "name": "stdout",
     "output_type": "stream",
     "text": [
      "1\n"
     ]
    }
   ],
   "source": [
    "my_tuple = ('a', 'b', 'c')\n",
    "\n",
    "print(my_tuple.count('a'))"
   ]
  },
  {
   "cell_type": "markdown",
   "metadata": {},
   "source": [
    "---"
   ]
  },
  {
   "cell_type": "code",
   "execution_count": 6,
   "metadata": {},
   "outputs": [
    {
     "name": "stdout",
     "output_type": "stream",
     "text": [
      "Help on built-in function index:\n",
      "\n",
      "index(...) method of builtins.tuple instance\n",
      "    T.index(value, [start, [stop]]) -> integer -- return first index of value.\n",
      "    Raises ValueError if the value is not present.\n",
      "\n"
     ]
    }
   ],
   "source": [
    "help(my_tuple.index)"
   ]
  },
  {
   "cell_type": "code",
   "execution_count": 7,
   "metadata": {},
   "outputs": [
    {
     "name": "stdout",
     "output_type": "stream",
     "text": [
      "0\n"
     ]
    }
   ],
   "source": [
    "my_tuple = ('a', 'b', 'c')\n",
    "\n",
    "print(my_tuple.index('a'))"
   ]
  },
  {
   "cell_type": "markdown",
   "metadata": {},
   "source": [
    "**Note: Just like with the list method, you can also pass ```start``` and ```stop``` to find later instances of a value**"
   ]
  },
  {
   "cell_type": "code",
   "execution_count": 8,
   "metadata": {},
   "outputs": [
    {
     "name": "stdout",
     "output_type": "stream",
     "text": [
      "3\n"
     ]
    }
   ],
   "source": [
    "my_tuple = ('a', 'b', 'c', 'a', 'b', 'c')\n",
    "\n",
    "# This returns the first index of 'a' starting at index 1,\n",
    "# so it skips the 'a' in index 0\n",
    "print(my_tuple.index('a', 1))\n"
   ]
  },
  {
   "cell_type": "markdown",
   "metadata": {},
   "source": [
    "---\n",
    "\n",
    "**We do not use tuples very often in this class. One thing to remember is that you can use a tuple to return multiple values from a function.**"
   ]
  },
  {
   "cell_type": "code",
   "execution_count": 9,
   "metadata": {},
   "outputs": [
    {
     "name": "stdout",
     "output_type": "stream",
     "text": [
      "Return values as a tuple: 5 (10, 15)\n",
      "Return values as integers: 5 10 15\n"
     ]
    }
   ],
   "source": [
    "def double_and_triple(an_int):\n",
    "    return (an_int * 2, an_int * 3)\n",
    "\n",
    "my_int = 5\n",
    "\n",
    "# If a function returns a tuple, you can save it as a tuple:\n",
    "my_tuple = double_and_triple(my_int)\n",
    "\n",
    "print('Return values as a tuple:', my_int, my_tuple)\n",
    "\n",
    "# Or you can assign the objects in the tuple to individual variables\n",
    "my_int_doubled, my_int_trippled = double_and_triple(my_int)\n",
    "\n",
    "print('Return values as integers:', my_int, my_int_doubled, my_int_trippled)"
   ]
  },
  {
   "cell_type": "code",
   "execution_count": null,
   "metadata": {},
   "outputs": [],
   "source": []
  }
 ],
 "metadata": {
  "kernelspec": {
   "display_name": "Python 3",
   "language": "python",
   "name": "python3"
  },
  "language_info": {
   "codemirror_mode": {
    "name": "ipython",
    "version": 3
   },
   "file_extension": ".py",
   "mimetype": "text/x-python",
   "name": "python",
   "nbconvert_exporter": "python",
   "pygments_lexer": "ipython3",
   "version": "3.6.6"
  }
 },
 "nbformat": 4,
 "nbformat_minor": 2
}
