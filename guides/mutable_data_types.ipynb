{
 "cells": [
  {
   "cell_type": "markdown",
   "metadata": {},
   "source": [
    "# Mutable data types\n",
    "\n",
    "[![Binder](https://mybinder.org/badge.svg)](https://mybinder.org/v2/gh/enactdev/CISC_106_F18/master?filepath=resources/lists.ipynb)\n",
    "\n",
    "**Lists and dictionaries are mutable. All other data types we use in this class are immutable, and you need to understand the distinction. These examples use lists, but dictionaries work similarly.**\n",
    "\n",
    "**There are two important things to remember about mutable data types:**\n",
    "* **You can edit the original object.**\n",
    "* **Assignment operators (=) assign reference, not value.**\n",
    "    * **Multiple variables can reference the same object.**\n",
    "    * **You need to explicitly copy the list if you want them to be different objects.**\n",
    "    * **Functions basically assign arguments to parameters, thus work similarly to using '='.**\n",
    "\n",
    "## You can edit the original object.\n",
    "\n",
    "**You may think that you have already edited the value of objects, but you have not.**\n",
    "\n",
    "**This *does not* change the object ```a```:**"
   ]
  },
  {
   "cell_type": "code",
   "execution_count": 1,
   "metadata": {},
   "outputs": [
    {
     "name": "stdout",
     "output_type": "stream",
     "text": [
      "501\n"
     ]
    }
   ],
   "source": [
    "a = 500\n",
    "a += 1\n",
    "print(a)"
   ]
  },
  {
   "cell_type": "markdown",
   "metadata": {},
   "source": [
    "**What that does is create a new object that is also called ```a```. To see that in action, we will use the function ```id()``` which returns the internal Python identification for a variable. You will not be tested on this function, it is just handy to use for this guide.**\n",
    "\n",
    "**Note how the value returned by ```id()``` changes when we destroy the old variable ```a``` and create a new variable ```a```.**"
   ]
  },
  {
   "cell_type": "code",
   "execution_count": 2,
   "metadata": {
    "scrolled": true
   },
   "outputs": [
    {
     "name": "stdout",
     "output_type": "stream",
     "text": [
      "Original id: 139746026823216\n",
      "New id: 139746026822768\n"
     ]
    }
   ],
   "source": [
    "a = 500\n",
    "print('Original id:', id(a))\n",
    "a += 1\n",
    "print('New id:', id(a))"
   ]
  },
  {
   "cell_type": "markdown",
   "metadata": {},
   "source": [
    "**The ids changes because the second ```a``` is a new object. It just happens to be named the same, and its value is an increment of the value held in the old object.**\n",
    "\n",
    "**The power of mutable objects is that you can edit individual elements, and also append (or insert) new elements. For the immutable data type lists, you can also reverse, and even reorder them.**"
   ]
  },
  {
   "cell_type": "code",
   "execution_count": 3,
   "metadata": {
    "scrolled": true
   },
   "outputs": [
    {
     "name": "stdout",
     "output_type": "stream",
     "text": [
      "id: 139746026822768\n",
      "id, after append: 139746026822768\n",
      "my_list after the reverse() method: ['d', 'c', 'b', 'a']\n",
      "id is still: 139746026822768\n",
      "my_list after the sort() method: ['a', 'b', 'c', 'd']\n",
      "id is still: 139746026822768\n",
      "my_list after the sort() method with argument reverse=True: ['d', 'c', 'b', 'a']\n",
      "id is still: 139746026822768\n"
     ]
    }
   ],
   "source": [
    "my_list = ['a', 'b', 'c']\n",
    "print('id:', id(a))\n",
    "\n",
    "my_list.append('d')\n",
    "print('id, after append:', id(a))\n",
    "\n",
    "my_list.reverse()\n",
    "print('my_list after the reverse() method:', my_list)\n",
    "print('id is still:', id(a))\n",
    "\n",
    "my_list.sort()\n",
    "print('my_list after the sort() method:', my_list)\n",
    "print('id is still:', id(a))\n",
    "\n",
    "my_list.sort(reverse=True)\n",
    "print('my_list after the sort() method with argument reverse=True:', my_list)\n",
    "print('id is still:', id(a))"
   ]
  },
  {
   "cell_type": "markdown",
   "metadata": {},
   "source": [
    "**Note that the above methods return the value ```None```, so you *do not* want to assign the return value back to the variable name. You will loose your variable value!**"
   ]
  },
  {
   "cell_type": "code",
   "execution_count": 4,
   "metadata": {},
   "outputs": [
    {
     "name": "stdout",
     "output_type": "stream",
     "text": [
      "id: 139746026822768\n",
      "You do not want the value of my_list to be: None\n"
     ]
    }
   ],
   "source": [
    "my_list = ['a', 'b', 'c']\n",
    "print('id:', id(a))\n",
    "\n",
    "# Don't do this!\n",
    "my_list = my_list.append('d')\n",
    "\n",
    "print('You do not want the value of my_list to be:', my_list)"
   ]
  },
  {
   "cell_type": "markdown",
   "metadata": {},
   "source": [
    "## With mutable data types, assignment operators (=) assign reference, not value.\n",
    "\n",
    "### Multiple variables can reference the same object.\n",
    "\n",
    "**The operator ```is``` comes in handy here, but you will not be tested on this either.**"
   ]
  },
  {
   "cell_type": "code",
   "execution_count": 5,
   "metadata": {
    "scrolled": true
   },
   "outputs": [
    {
     "name": "stdout",
     "output_type": "stream",
     "text": [
      "original id of a: 139746026190792\n",
      "original id of b: 139746026190792\n",
      "id of a: 139746026190792\n",
      "id of b: 139746026190792\n",
      "values in a: ['a', 'B', 'c']\n",
      "my_list_a == my_list_b: True\n",
      "my_list_a is my_list_b: True\n"
     ]
    }
   ],
   "source": [
    "my_list_a = ['a', 'b', 'c']\n",
    "my_list_b = my_list_a\n",
    "\n",
    "print('original id of a:', id(my_list_a))\n",
    "print('original id of b:', id(my_list_b))\n",
    "\n",
    "# my_list_a and my_list_b point to the same object. \n",
    "# This line will change the object pointed to by both\n",
    "my_list_b[1] = my_list_b[1].upper()\n",
    "\n",
    "print('id of a:', id(my_list_a))\n",
    "print('id of b:', id(my_list_b))\n",
    "print('values in a:', my_list_a)\n",
    "print('my_list_a == my_list_b:', my_list_a == my_list_b)\n",
    "print('my_list_a is my_list_b:', my_list_a is my_list_b)"
   ]
  },
  {
   "cell_type": "markdown",
   "metadata": {},
   "source": [
    "### You need to explicitly copy mutable objects.\n",
    "\n",
    "**If you do not want ```my_list_b``` to point to the same object as ```my_list_a```, then you need to copy ```my_list_a```**"
   ]
  },
  {
   "cell_type": "code",
   "execution_count": 6,
   "metadata": {},
   "outputs": [
    {
     "name": "stdout",
     "output_type": "stream",
     "text": [
      "id of a: 139746026189768\n",
      "id of b: 139746026589384\n",
      "Note that the ids are different.\n",
      "my_list_a == my_list_b True\n",
      "my_list_a is my_list_b False\n",
      "values in a: ['a', 'b', 'c']\n",
      "values in b: ['a', 'B', 'c']\n",
      "my_list_a == my_list_b False\n"
     ]
    }
   ],
   "source": [
    "my_list_a = ['a', 'b', 'c']\n",
    "my_list_b = my_list_a.copy()\n",
    "\n",
    "print('id of a:', id(my_list_a))\n",
    "print('id of b:', id(my_list_b))\n",
    "\n",
    "print('Note that the ids are different.')\n",
    "print('my_list_a == my_list_b', my_list_a == my_list_b)\n",
    "print('my_list_a is my_list_b', my_list_a is my_list_b)\n",
    "\n",
    "# my_list_a and my_list_ point to *different* objects. \n",
    "# This line will only change my_list_b\n",
    "my_list_b[1] = my_list_b[1].upper()\n",
    "\n",
    "print('values in a:', my_list_a)\n",
    "print('values in b:', my_list_b)\n",
    "print('my_list_a == my_list_b', my_list_a == my_list_b)"
   ]
  },
  {
   "cell_type": "markdown",
   "metadata": {},
   "source": [
    "**Just to confuse things, immutable objects like strings *can* point to the same object, but that is only to save memory:**"
   ]
  },
  {
   "cell_type": "code",
   "execution_count": 7,
   "metadata": {},
   "outputs": [
    {
     "name": "stdout",
     "output_type": "stream",
     "text": [
      "id of a: 10965024\n",
      "id of b: 10965024\n",
      "values: 5 5\n"
     ]
    }
   ],
   "source": [
    "a = 5\n",
    "b = a\n",
    "print('id of a:', id(a))\n",
    "print('id of b:', id(b))\n",
    "print('values:', a, b)"
   ]
  },
  {
   "cell_type": "markdown",
   "metadata": {},
   "source": [
    "**But remember when the id of ```a``` changed in the first example? If multiple variables are pointing to the same object, then creating a new object and assigning it to one of those variables will not change the other(s):**"
   ]
  },
  {
   "cell_type": "code",
   "execution_count": 8,
   "metadata": {},
   "outputs": [
    {
     "name": "stdout",
     "output_type": "stream",
     "text": [
      "id of a: 10965088\n",
      "id of b: 10965024\n",
      "values: 7 5\n"
     ]
    }
   ],
   "source": [
    "a = 5\n",
    "b = a\n",
    "a = 7\n",
    "print('id of a:', id(a))\n",
    "print('id of b:', id(b))\n",
    "print('values:', a, b)"
   ]
  },
  {
   "cell_type": "markdown",
   "metadata": {},
   "source": [
    "**This is true for lists too.** \n",
    "\n",
    "**Anytime you assign a variable to an new object, it only affects that variable, not anything else that happened to be pointing to the same original object.**"
   ]
  },
  {
   "cell_type": "code",
   "execution_count": 9,
   "metadata": {},
   "outputs": [
    {
     "name": "stdout",
     "output_type": "stream",
     "text": [
      "id of a: 139746026189768\n",
      "id of b: 139746026191752\n",
      "values: ['d', 'e', 'f'] ['a', 'b', 'c']\n"
     ]
    }
   ],
   "source": [
    "my_list_a = ['a', 'b', 'c']\n",
    "my_list_b = my_list_a\n",
    "my_list_a = ['d', 'e', 'f']\n",
    "\n",
    "print('id of a:', id(my_list_a))\n",
    "print('id of b:', id(my_list_b))\n",
    "print('values:', my_list_a, my_list_b)"
   ]
  },
  {
   "cell_type": "markdown",
   "metadata": {},
   "source": [
    "### Functions basically assign arguments to parameters, thus work similarly to using '='.\n",
    "\n",
    "**Remember that with mutable data types, functions can mutate the object:**"
   ]
  },
  {
   "cell_type": "code",
   "execution_count": 10,
   "metadata": {},
   "outputs": [
    {
     "name": "stdout",
     "output_type": "stream",
     "text": [
      "['a', 'b', 'c', 'd']\n"
     ]
    }
   ],
   "source": [
    "def append_d_to_list(a_list):\n",
    "    # When you call the function, Python runs the equivelant of\n",
    "    # a_list = my_list_a (when my_list_a is the argument)\n",
    "    a_list.append('d')\n",
    "    \n",
    "my_list_a = ['a', 'b', 'c']\n",
    "append_d_to_list(my_list_a)\n",
    "\n",
    "print(my_list_a)"
   ]
  },
  {
   "cell_type": "markdown",
   "metadata": {},
   "source": [
    "**And note that the above does not need a ```return``` statement! In the example above, ```my_list_a``` and ```a_list``` both pointed to the same object, so appending to one is represented in both.**\n",
    "\n",
    "**But, just like with variables, if the function creates a new object and assigns it to the local variable (```a_list``` here) then that will not affect the other variables pointing to the original object.**"
   ]
  },
  {
   "cell_type": "code",
   "execution_count": 11,
   "metadata": {},
   "outputs": [
    {
     "name": "stdout",
     "output_type": "stream",
     "text": [
      "id of my_list_a starts at: 139746026189064\n",
      "id of a_list: 139746026189064\n",
      "new id of a_list: 139746026189640\n",
      "id of my_list_a is still: 139746026189064\n",
      "['a', 'b', 'c']\n"
     ]
    }
   ],
   "source": [
    "def reasign_local_list(a_list):\n",
    "    print('id of a_list:', id(a_list))\n",
    "    a_list = ['A', 'B', 'C']\n",
    "    print('new id of a_list:', id(a_list))\n",
    "    \n",
    "my_list_a = ['a', 'b', 'c']\n",
    "print('id of my_list_a starts at:', id(my_list_a))\n",
    "reasign_local_list(my_list_a)\n",
    "print('id of my_list_a is still:', id(my_list_a))\n",
    "\n",
    "print(my_list_a)"
   ]
  },
  {
   "cell_type": "markdown",
   "metadata": {},
   "source": [
    "**Dictionaries work the same:**"
   ]
  },
  {
   "cell_type": "code",
   "execution_count": 12,
   "metadata": {},
   "outputs": [
    {
     "name": "stdout",
     "output_type": "stream",
     "text": [
      "id of a: 139746026295800\n",
      "id of b: 139746026295800\n",
      "values in a: {'a': 1, 'b': 2, 'c': 3}\n",
      "my_dict_a == my_dict_b: True\n",
      "my_dict_a is my_dict_b: True\n"
     ]
    }
   ],
   "source": [
    "my_dict_a = {'a': 1, 'b': 2}\n",
    "my_dict_b = my_dict_a\n",
    "\n",
    "my_dict_b['c'] = 3\n",
    "\n",
    "print('id of a:', id(my_dict_a))\n",
    "print('id of b:', id(my_dict_b))\n",
    "print('values in a:', my_dict_a)\n",
    "print('my_dict_a == my_dict_b:', my_dict_a == my_dict_b)\n",
    "print('my_dict_a is my_dict_b:', my_dict_a is my_dict_b)"
   ]
  },
  {
   "cell_type": "code",
   "execution_count": null,
   "metadata": {},
   "outputs": [],
   "source": []
  }
 ],
 "metadata": {
  "kernelspec": {
   "display_name": "Python 3",
   "language": "python",
   "name": "python3"
  },
  "language_info": {
   "codemirror_mode": {
    "name": "ipython",
    "version": 3
   },
   "file_extension": ".py",
   "mimetype": "text/x-python",
   "name": "python",
   "nbconvert_exporter": "python",
   "pygments_lexer": "ipython3",
   "version": "3.6.6"
  }
 },
 "nbformat": 4,
 "nbformat_minor": 2
}
