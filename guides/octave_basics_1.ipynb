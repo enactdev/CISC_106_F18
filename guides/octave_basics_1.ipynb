{
 "cells": [
  {
   "cell_type": "markdown",
   "metadata": {},
   "source": [
    "# Octave basics \n",
    "\n",
    "## November 27, 2017\n",
    "\n",
    "**No Binder links because Binder does not work with Octave. You are recommended to only use this as a reference while programming in the Octave or Matlab application.**\n",
    "\n",
    "**We are starting from the beginning. Pre-Thanksgiving Octave guide is at [octave_basics_original.ipynb](octave_basics_original.ipynb).**\n",
    "\n",
    "**Assign a value to a variable with the '=' operator:**"
   ]
  },
  {
   "cell_type": "code",
   "execution_count": 1,
   "metadata": {},
   "outputs": [
    {
     "name": "stdout",
     "output_type": "stream",
     "text": [
      "a =  1\n"
     ]
    }
   ],
   "source": [
    "a = 1"
   ]
  },
  {
   "cell_type": "markdown",
   "metadata": {},
   "source": [
    "**Matlab is primarily used with matrixes and arrays (single-row matrix).**\n",
    "\n",
    "**Create an array with brackets and numbers seperated by spaces:**"
   ]
  },
  {
   "cell_type": "code",
   "execution_count": 2,
   "metadata": {},
   "outputs": [
    {
     "name": "stdout",
     "output_type": "stream",
     "text": [
      "array_1x3 =\n",
      "\n",
      "   1   2   3\n",
      "\n"
     ]
    }
   ],
   "source": [
    "array_1x3 = [1 2 3]"
   ]
  },
  {
   "cell_type": "markdown",
   "metadata": {},
   "source": [
    "**Check the dimentions with the `size()` function:**"
   ]
  },
  {
   "cell_type": "code",
   "execution_count": 3,
   "metadata": {},
   "outputs": [
    {
     "name": "stdout",
     "output_type": "stream",
     "text": [
      "ans =\n",
      "\n",
      "   1   3\n",
      "\n"
     ]
    }
   ],
   "source": [
    "size(array_1x3)"
   ]
  },
  {
   "cell_type": "markdown",
   "metadata": {},
   "source": [
    "**Note than when executing an expression, the answer is prefaced with `ans =`.**\n",
    "\n",
    "**To create a matrix, seperate rows with a semicolon:**"
   ]
  },
  {
   "cell_type": "code",
   "execution_count": 4,
   "metadata": {},
   "outputs": [
    {
     "name": "stdout",
     "output_type": "stream",
     "text": [
      "array_3x1 =\n",
      "\n",
      "   1\n",
      "   2\n",
      "   3\n",
      "\n"
     ]
    }
   ],
   "source": [
    "array_3x1 = [1; 2; 3]"
   ]
  },
  {
   "cell_type": "markdown",
   "metadata": {},
   "source": [
    "**Let's create a 3x3 matrix and explore some functions.**"
   ]
  },
  {
   "cell_type": "code",
   "execution_count": 6,
   "metadata": {},
   "outputs": [
    {
     "name": "stdout",
     "output_type": "stream",
     "text": [
      "matrix_3x3 =\n",
      "\n",
      "   1   2   3\n",
      "   4   5   6\n",
      "   7   8   9\n",
      "\n"
     ]
    }
   ],
   "source": [
    "% Comments use a percent sign in Octave/Matlab\n",
    "\n",
    "matrix_3x3 = [1 2 3; 4 5 6; 7 8 9]"
   ]
  },
  {
   "cell_type": "code",
   "execution_count": 7,
   "metadata": {},
   "outputs": [
    {
     "name": "stdout",
     "output_type": "stream",
     "text": [
      "ans =\n",
      "\n",
      "   12   15   18\n",
      "\n"
     ]
    }
   ],
   "source": [
    "% For a matrix, sum() will add up the columns and return a single-row array\n",
    "\n",
    "sum(matrix_3x3)"
   ]
  },
  {
   "cell_type": "code",
   "execution_count": 8,
   "metadata": {},
   "outputs": [
    {
     "name": "stdout",
     "output_type": "stream",
     "text": [
      "ans =  45\n"
     ]
    }
   ],
   "source": [
    "% For an array, sum() will add up the elements and return a single number\n",
    "\n",
    "sum(sum(matrix_3x3))"
   ]
  },
  {
   "cell_type": "code",
   "execution_count": 9,
   "metadata": {},
   "outputs": [
    {
     "name": "stdout",
     "output_type": "stream",
     "text": [
      "ans =\n",
      "\n",
      "   1\n",
      "   5\n",
      "   9\n",
      "\n"
     ]
    }
   ],
   "source": [
    "% diag() returns the diagonal from top left to bottom right\n",
    "\n",
    "diag(matrix_3x3)"
   ]
  },
  {
   "cell_type": "code",
   "execution_count": 10,
   "metadata": {},
   "outputs": [
    {
     "name": "stdout",
     "output_type": "stream",
     "text": [
      "ans =\n",
      "\n",
      "   3   2   1\n",
      "   6   5   4\n",
      "   9   8   7\n",
      "\n"
     ]
    }
   ],
   "source": [
    "% Flip left-right with fliplr()\n",
    "\n",
    "fliplr(matrix_3x3)"
   ]
  },
  {
   "cell_type": "code",
   "execution_count": 11,
   "metadata": {},
   "outputs": [
    {
     "name": "stdout",
     "output_type": "stream",
     "text": [
      "ans =\n",
      "\n",
      "   7   8   9\n",
      "   4   5   6\n",
      "   1   2   3\n",
      "\n"
     ]
    }
   ],
   "source": [
    "% Flip up-down with flipud()\n",
    "\n",
    "flipud(matrix_3x3)"
   ]
  },
  {
   "cell_type": "code",
   "execution_count": 14,
   "metadata": {},
   "outputs": [
    {
     "name": "stdout",
     "output_type": "stream",
     "text": [
      "matrix_3x3 =\n",
      "\n",
      "   1   2   3\n",
      "   4   5   6\n",
      "   7   8   9\n",
      "\n",
      "ans =\n",
      "\n",
      "   7\n",
      "   5\n",
      "   3\n",
      "\n"
     ]
    }
   ],
   "source": [
    "% Let's put some things together to get the anti-diagonal (bottom-left to upper-right):\n",
    "% Looking for [7; 5; 3]\n",
    "\n",
    "matrix_3x3\n",
    "\n",
    "diag(flipud(matrix_3x3))"
   ]
  },
  {
   "cell_type": "code",
   "execution_count": 15,
   "metadata": {},
   "outputs": [
    {
     "name": "stdout",
     "output_type": "stream",
     "text": [
      "ans =\n",
      "\n",
      "   1   4   7\n",
      "   2   5   8\n",
      "   3   6   9\n",
      "\n"
     ]
    }
   ],
   "source": [
    "% putting a single quote after a variable name will transpose the variable\n",
    "\n",
    "matrix_3x3'"
   ]
  },
  {
   "cell_type": "code",
   "execution_count": 16,
   "metadata": {},
   "outputs": [
    {
     "name": "stdout",
     "output_type": "stream",
     "text": [
      "ans =\n",
      "\n",
      "   1\n",
      "   5\n",
      "   9\n",
      "\n",
      "ans =\n",
      "\n",
      "   1\n",
      "   5\n",
      "   9\n",
      "\n"
     ]
    }
   ],
   "source": [
    "% Note the diagonal of a matrix is the same as diagonal of that matrix transposed:\n",
    "diag(matrix_3x3)\n",
    "\n",
    "diag(matrix_3x3')"
   ]
  },
  {
   "cell_type": "code",
   "execution_count": 17,
   "metadata": {},
   "outputs": [
    {
     "name": "stdout",
     "output_type": "stream",
     "text": [
      "matrix_3x3 =\n",
      "\n",
      "   1   2   3\n",
      "   4   5   6\n",
      "   7   8   9\n",
      "\n",
      "ans =  6\n"
     ]
    }
   ],
   "source": [
    "% Access elements of a matrix with parenthesis, seperate indexes with a comma\n",
    "% Remember that indexing starts at 1\n",
    "\n",
    "matrix_3x3\n",
    "\n",
    "matrix_3x3(2,3)"
   ]
  },
  {
   "cell_type": "code",
   "execution_count": 18,
   "metadata": {},
   "outputs": [
    {
     "name": "stdout",
     "output_type": "stream",
     "text": [
      "ans =\n",
      "\n",
      "   1   2\n",
      "   4   5\n",
      "\n"
     ]
    }
   ],
   "source": [
    "% You can slice an array or matrix in Octave/Matlab just like in Python\n",
    "\n",
    "matrix_3x3(1:2, 1:2)"
   ]
  },
  {
   "cell_type": "code",
   "execution_count": 19,
   "metadata": {},
   "outputs": [
    {
     "name": "stdout",
     "output_type": "stream",
     "text": [
      "ans =\n",
      "\n",
      "   1   2   3\n",
      "\n"
     ]
    }
   ],
   "source": [
    "% The colon is basically a wildcard. Replacing a number with a colon will return all.\n",
    "\n",
    "% First row: \n",
    "matrix_3x3(1,:)"
   ]
  },
  {
   "cell_type": "code",
   "execution_count": 20,
   "metadata": {},
   "outputs": [
    {
     "name": "stdout",
     "output_type": "stream",
     "text": [
      "ans =\n",
      "\n",
      "   2\n",
      "   5\n",
      "   8\n",
      "\n"
     ]
    }
   ],
   "source": [
    "% Second column\n",
    "matrix_3x3(:,2)"
   ]
  },
  {
   "cell_type": "code",
   "execution_count": 23,
   "metadata": {},
   "outputs": [
    {
     "name": "stdout",
     "output_type": "stream",
     "text": [
      "ans =\n",
      "\n",
      "   1   2   3\n",
      "   4   5   6\n",
      "   7   8   9\n",
      "\n"
     ]
    }
   ],
   "source": [
    "% The whole matrix\n",
    "matrix_3x3(:,:)"
   ]
  },
  {
   "cell_type": "code",
   "execution_count": 24,
   "metadata": {},
   "outputs": [
    {
     "name": "stdout",
     "output_type": "stream",
     "text": [
      "ans =\n",
      "\n",
      "  1  1  1\n",
      "  1  1  0\n",
      "  0  0  0\n",
      "\n"
     ]
    }
   ],
   "source": [
    "% You can use an entire matrix in a conditional expression. Note this creates a matrix with ones and zeros\n",
    "\n",
    "matrix_3x3 <= 5"
   ]
  },
  {
   "cell_type": "code",
   "execution_count": 26,
   "metadata": {},
   "outputs": [
    {
     "name": "stdout",
     "output_type": "stream",
     "text": [
      "matrix_3x3 =\n",
      "\n",
      "   1   2   3\n",
      "   4   5   6\n",
      "   7   8   9\n",
      "\n",
      "ans =\n",
      "\n",
      "  1  1  1\n",
      "  1  1  1\n",
      "  0  0  0\n",
      "\n"
     ]
    }
   ],
   "source": [
    "% You can also compare to a list or matrix *IF* they are either equal size or the smaller is evenly\n",
    "% divisible into the larger:\n",
    "\n",
    "matrix_3x3\n",
    "\n",
    "% Array of length 3\n",
    "\n",
    "matrix_3x3 <= [4, 5, 6]"
   ]
  },
  {
   "cell_type": "code",
   "execution_count": 27,
   "metadata": {},
   "outputs": [
    {
     "name": "stdout",
     "output_type": "stream",
     "text": [
      "ans =\n",
      "\n",
      "  1  1  1\n",
      "  0  0  1\n",
      "  0  0  1\n",
      "\n"
     ]
    }
   ],
   "source": [
    "% Array of length 3\n",
    "\n",
    "% Note that each row of the matrix is compared by index to the element in the array\n",
    "\n",
    "matrix_3x3 <= [1, 2, 10]"
   ]
  },
  {
   "cell_type": "code",
   "execution_count": 31,
   "metadata": {},
   "outputs": [
    {
     "name": "stdout",
     "output_type": "stream",
     "text": [
      "ans =\n",
      "\n",
      "  1  1  1\n",
      "  1  1  1\n",
      "  1  1  1\n",
      "\n"
     ]
    }
   ],
   "source": [
    "% Marix of size 3x3\n",
    "\n",
    "matrix_3x3 == [1 2 3; 4 5 6; 7 8 9]"
   ]
  },
  {
   "cell_type": "code",
   "execution_count": 51,
   "metadata": {},
   "outputs": [
    {
     "name": "stdout",
     "output_type": "stream",
     "text": [
      "ans =\n",
      "\n",
      "  1  1  1\n",
      "  1  1  1\n",
      "  1  1  1\n",
      "\n"
     ]
    }
   ],
   "source": [
    "% Or Call the eq() function\n",
    "\n",
    "eq(matrix_3x3, [1 2 3; 4 5 6; 7 8 9])"
   ]
  },
  {
   "cell_type": "code",
   "execution_count": 32,
   "metadata": {},
   "outputs": [
    {
     "name": "stdout",
     "output_type": "stream",
     "text": [
      "matrix_4x4 =\n",
      "\n",
      "    1    2    3    4\n",
      "    5    6    7    8\n",
      "    9   10   11   12\n",
      "   13   14   15   16\n",
      "\n"
     ]
    }
   ],
   "source": [
    "matrix_4x4 = [1 2 3 4; 5 6 7 8; 9 10 11 12; 13 14 15 16]"
   ]
  },
  {
   "cell_type": "code",
   "execution_count": 33,
   "metadata": {},
   "outputs": [
    {
     "name": "stdout",
     "output_type": "stream",
     "text": [
      "matrix_2x2 =\n",
      "\n",
      "   1   2\n",
      "   3   4\n",
      "\n"
     ]
    }
   ],
   "source": [
    "matrix_2x2 = [1 2; 3 4]"
   ]
  },
  {
   "cell_type": "code",
   "execution_count": 34,
   "metadata": {},
   "outputs": [
    {
     "name": "stdout",
     "output_type": "stream",
     "text": [
      "error: mx_el_eq: nonconformant arguments (op1 is 4x4, op2 is 2x2)\n"
     ]
    }
   ],
   "source": [
    "% Think this will work? \n",
    "\n",
    "matrix_4x4 == matrix_2x2"
   ]
  },
  {
   "cell_type": "code",
   "execution_count": 38,
   "metadata": {},
   "outputs": [
    {
     "name": "stdout",
     "output_type": "stream",
     "text": [
      "error: mx_el_eq: nonconformant arguments (op1 is 4x4, op2 is 1x2)\n"
     ]
    }
   ],
   "source": [
    "% How about this? \n",
    "\n",
    "matrix_4x4 == [5 6]"
   ]
  },
  {
   "cell_type": "code",
   "execution_count": 40,
   "metadata": {},
   "outputs": [
    {
     "name": "stdout",
     "output_type": "stream",
     "text": [
      "ans =\n",
      "\n",
      "   1   2   3   4\n",
      "\n",
      "ans = 1\n"
     ]
    }
   ],
   "source": [
    "% The any() function is basically a series of `if` statements, will be 1 if any match\n",
    "\n",
    "% Note the placement of the closing parenthesis\n",
    "\n",
    "matrix_4x4(1,:)\n",
    "\n",
    "any(matrix_4x4(1,:) < 5)"
   ]
  },
  {
   "cell_type": "code",
   "execution_count": 41,
   "metadata": {},
   "outputs": [
    {
     "name": "stdout",
     "output_type": "stream",
     "text": [
      "ans =\n",
      "\n",
      "   1   2   3   4\n",
      "\n",
      "ans = 1\n"
     ]
    }
   ],
   "source": [
    "% The all() function is basically a series of `and` statements, will be 1 only if all match\n",
    "\n",
    "matrix_4x4(1,:)\n",
    "\n",
    "all(matrix_4x4(1,:) < 5)"
   ]
  },
  {
   "cell_type": "code",
   "execution_count": 43,
   "metadata": {},
   "outputs": [
    {
     "name": "stdout",
     "output_type": "stream",
     "text": [
      "ans =\n",
      "\n",
      "   5   6   7   8\n",
      "\n",
      "ans = 1\n",
      "ans = 0\n"
     ]
    }
   ],
   "source": [
    "% any() and all() again\n",
    "\n",
    "% Note the placement of the closing parenthesis\n",
    "\n",
    "matrix_4x4(2,:)\n",
    "\n",
    "any(matrix_4x4(2,:) < 7)\n",
    "\n",
    "all(matrix_4x4(2,:) < 7)"
   ]
  },
  {
   "cell_type": "code",
   "execution_count": 44,
   "metadata": {},
   "outputs": [
    {
     "name": "stdout",
     "output_type": "stream",
     "text": [
      "matrix_3x3 =\n",
      "\n",
      "   1   2   3\n",
      "   4   5   6\n",
      "   7   8   9\n",
      "\n"
     ]
    }
   ],
   "source": [
    "% Let's go back to our 3x3\n",
    "matrix_3x3"
   ]
  },
  {
   "cell_type": "code",
   "execution_count": 45,
   "metadata": {},
   "outputs": [
    {
     "name": "stdout",
     "output_type": "stream",
     "text": [
      "ans =\n",
      "\n",
      "    2    4    6\n",
      "    8   10   12\n",
      "   14   16   18\n",
      "\n"
     ]
    }
   ],
   "source": [
    "% The dot . operator runs a component-wise application of the operator that follows\n",
    "\n",
    "% Multiply by 2:\n",
    "\n",
    "matrix_3x3 .* 2"
   ]
  },
  {
   "cell_type": "code",
   "execution_count": 46,
   "metadata": {},
   "outputs": [
    {
     "name": "stdout",
     "output_type": "stream",
     "text": [
      "ans =\n",
      "\n",
      "    1    4    9\n",
      "   16   25   36\n",
      "   49   64   81\n",
      "\n"
     ]
    }
   ],
   "source": [
    "% Elements squared\n",
    "\n",
    "matrix_3x3 .^ 2"
   ]
  },
  {
   "cell_type": "code",
   "execution_count": 47,
   "metadata": {},
   "outputs": [
    {
     "name": "stdout",
     "output_type": "stream",
     "text": [
      "array_1x3 =\n",
      "\n",
      "   1   2   3\n",
      "\n",
      "array_3x1 =\n",
      "\n",
      "   1\n",
      "   2\n",
      "   3\n",
      "\n"
     ]
    }
   ],
   "source": [
    "% Recall these variables from before:\n",
    "\n",
    "array_1x3\n",
    "\n",
    "array_3x1"
   ]
  },
  {
   "cell_type": "code",
   "execution_count": 48,
   "metadata": {},
   "outputs": [
    {
     "name": "stdout",
     "output_type": "stream",
     "text": [
      "ans =  14\n"
     ]
    }
   ],
   "source": [
    "% Anyone know how matrix mutiplication works?\n",
    "\n",
    "array_1x3 * array_3x1"
   ]
  },
  {
   "cell_type": "code",
   "execution_count": 49,
   "metadata": {},
   "outputs": [
    {
     "name": "stdout",
     "output_type": "stream",
     "text": [
      "ans =\n",
      "\n",
      "   1   2   3\n",
      "   2   4   6\n",
      "   3   6   9\n",
      "\n"
     ]
    }
   ],
   "source": [
    "% Swap the order before multiplying:\n",
    "\n",
    "array_3x1 * array_1x3"
   ]
  },
  {
   "cell_type": "markdown",
   "metadata": {},
   "source": [
    "**The lab will have you play around and learn more about mutliplicatoin, as well as inverses and identities. We will cover those on Thursday in the notebook octave_basics_2 .**"
   ]
  }
 ],
 "metadata": {
  "kernelspec": {
   "display_name": "Octave",
   "language": "octave",
   "name": "octave"
  },
  "language_info": {
   "file_extension": ".m",
   "help_links": [
    {
     "text": "GNU Octave",
     "url": "https://www.gnu.org/software/octave/support.html"
    },
    {
     "text": "Octave Kernel",
     "url": "https://github.com/Calysto/octave_kernel"
    },
    {
     "text": "MetaKernel Magics",
     "url": "https://github.com/calysto/metakernel/blob/master/metakernel/magics/README.md"
    }
   ],
   "mimetype": "text/x-octave",
   "name": "octave",
   "version": "4.2.2"
  }
 },
 "nbformat": 4,
 "nbformat_minor": 2
}
