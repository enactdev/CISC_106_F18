{
 "cells": [
  {
   "cell_type": "markdown",
   "metadata": {},
   "source": [
    "# Octave basics part 4\n",
    "\n",
    "## December 6, 2018\n",
    "\n",
    "**No Binder links because Binder does not work with Octave. You are recommended to only use this as a reference while programming in the Octave or Matlab application.**\n"
   ]
  },
  {
   "cell_type": "code",
   "execution_count": 1,
   "metadata": {},
   "outputs": [
    {
     "name": "stdout",
     "output_type": "stream",
     "text": [
      "count =\n",
      "\n",
      "    11    11     9\n",
      "     7    13    11\n",
      "    14    17    20\n",
      "    11    13     9\n",
      "    43    51    69\n",
      "    38    46    76\n",
      "    61   132   186\n",
      "    75   135   180\n",
      "    38    88   115\n",
      "    28    36    55\n",
      "    12    12    14\n",
      "    18    27    30\n",
      "    18    19    29\n",
      "    17    15    18\n",
      "    19    36    48\n",
      "    32    47    10\n",
      "    42    65    92\n",
      "    57    66   151\n",
      "    44    55    90\n",
      "   114   145   257\n",
      "    35    58    68\n",
      "    11    12    15\n",
      "    13     9    15\n",
      "    10     9     7\n",
      "\n"
     ]
    }
   ],
   "source": [
    "% These are the values in the 'count.mat' file:\n",
    "\n",
    "count =  [\n",
    "11 11 9; \n",
    "7 13 11; \n",
    "14 17 20; \n",
    "11 13 9; \n",
    "43 51 69; \n",
    "38 46 76; \n",
    "61 132 186; \n",
    "75 135 180; \n",
    "38 88 115; \n",
    "28 36 55; \n",
    "12 12 14; \n",
    "18 27 30; \n",
    "18 19 29; \n",
    "17 15 18; \n",
    "19 36 48; \n",
    "32 47 10; \n",
    "42 65 92; \n",
    "57 66 151;\n",
    "44 55 90; \n",
    "114 145 257; \n",
    "35 58 68; \n",
    "11 12 15; \n",
    "13 9 15; \n",
    "10 9 7]\n"
   ]
  },
  {
   "cell_type": "code",
   "execution_count": 2,
   "metadata": {},
   "outputs": [
    {
     "name": "stdout",
     "output_type": "stream",
     "text": [
      "error: count(_,4): but count has size 24x3\n"
     ]
    }
   ],
   "source": [
    "% For the test, know that you get an error if index does not exist:\n",
    "count(4, 4)\n"
   ]
  },
  {
   "cell_type": "code",
   "execution_count": 3,
   "metadata": {},
   "outputs": [
    {
     "data": {
      "image/png": "[encoded data removed]",
      "text/plain": [
       "<IPython.core.display.Image object>"
      ]
     },
     "metadata": {},
     "output_type": "display_data"
    }
   ],
   "source": [
    "% From the slides, we stopped here on Tuesday, though this was shown in MATLAB Online\n",
    "\n",
    "hist(count)\n",
    "legend('1st','2nd','3rd')\n"
   ]
  },
  {
   "cell_type": "code",
   "execution_count": 4,
   "metadata": {},
   "outputs": [
    {
     "name": "stdout",
     "output_type": "stream",
     "text": [
      "second_column_as_array =\n",
      "\n",
      " Columns 1 through 13:\n",
      "\n",
      "    11    13    17    13    51    46   132   135    88    36    12    27    19\n",
      "\n",
      " Columns 14 through 24:\n",
      "\n",
      "    15    36    47    65    66    55   145    58    12     9     9\n",
      "\n"
     ]
    }
   ],
   "source": [
    "% When creating a chart, you way want to use only one column.\n",
    "\n",
    "% Here's one way to turn a column into an array (1-row matrix)\n",
    "\n",
    "% Transpose the columns into rows, output suppressed\n",
    "count_transposed = count';\n",
    "\n",
    "% Get just the second column\n",
    "second_column_as_array = count_transposed(2,:)\n"
   ]
  },
  {
   "cell_type": "code",
   "execution_count": 5,
   "metadata": {},
   "outputs": [
    {
     "data": {
      "image/png": "[encoded data removed]",
      "text/plain": [
       "<IPython.core.display.Image object>"
      ]
     },
     "metadata": {},
     "output_type": "display_data"
    }
   ],
   "source": [
    "% Here are those numbers plotted out (note that the x values of 1-24 do not have a set meaning here)\n",
    "plot(1:length(second_column_as_array), second_column_as_array)\n"
   ]
  },
  {
   "cell_type": "code",
   "execution_count": 6,
   "metadata": {},
   "outputs": [
    {
     "data": {
      "image/png": "[encoded data removed]",
      "text/plain": [
       "<IPython.core.display.Image object>"
      ]
     },
     "metadata": {},
     "output_type": "display_data"
    }
   ],
   "source": [
    "% Turns out (tested below) that you do not need to transform before plotting (I transformed when doing the lab)\n",
    "\n",
    "% Get just the second column, supress output\n",
    "second_column_as_column = count(:,2);\n",
    "\n",
    "% plot\n",
    "plot(1:length(second_column_as_column), second_column_as_column)\n"
   ]
  },
  {
   "cell_type": "markdown",
   "metadata": {},
   "source": [
    "### Types of MATLAB questions"
   ]
  },
  {
   "cell_type": "code",
   "execution_count": 7,
   "metadata": {},
   "outputs": [
    {
     "name": "stdout",
     "output_type": "stream",
     "text": [
      "matA =\n",
      "\n",
      "   1   2   3\n",
      "   0   0   0\n",
      "   7   0   9\n",
      "\n"
     ]
    }
   ],
   "source": [
    "% I will not ask you to do three things at once like this (from Wassil's slides):\n",
    "matA = [1 2 3; -4 -5 -6; 7 -8 9];\n",
    "\n",
    "% Replace negative numbers with 0\n",
    "matA(find(matA < 0 )) = 0\n"
   ]
  },
  {
   "cell_type": "code",
   "execution_count": 8,
   "metadata": {},
   "outputs": [
    {
     "name": "stdout",
     "output_type": "stream",
     "text": [
      "logical_negative =\n",
      "\n",
      "  0  0  0\n",
      "  1  1  1\n",
      "  0  1  0\n",
      "\n"
     ]
    }
   ],
   "source": [
    "% But I will ask something like, create a logical matrix of negative values:\n",
    "matA = [1 2 3; -4 -5 -6; 7 -8 9];\n",
    "\n",
    "logical_negative = matA < 0\n"
   ]
  },
  {
   "cell_type": "code",
   "execution_count": 9,
   "metadata": {},
   "outputs": [
    {
     "name": "stdout",
     "output_type": "stream",
     "text": [
      "idx_negative =\n",
      "\n",
      "   2\n",
      "   5\n",
      "   6\n",
      "   8\n",
      "\n"
     ]
    }
   ],
   "source": [
    "% And expect a follow up quesiton that builds on previous question\n",
    "\n",
    "% Get indexes of negative values\n",
    "idx_negative = find(logical_negative)\n"
   ]
  },
  {
   "cell_type": "code",
   "execution_count": 10,
   "metadata": {},
   "outputs": [
    {
     "name": "stdout",
     "output_type": "stream",
     "text": [
      "matA =\n",
      "\n",
      "   1   2   3\n",
      "   0   0   0\n",
      "   7   0   9\n",
      "\n"
     ]
    }
   ],
   "source": [
    "% And you need to know that you can replace values by their index\n",
    "\n",
    "% Set the indexes in idx_negative to zeros:\n",
    "matA(idx_negative) = 0\n"
   ]
  },
  {
   "cell_type": "code",
   "execution_count": 11,
   "metadata": {},
   "outputs": [
    {
     "name": "stdout",
     "output_type": "stream",
     "text": [
      "logical_negative =\n",
      "\n",
      "  0  0  0\n",
      "  0  1  0\n",
      "  0  0  0\n",
      "\n"
     ]
    }
   ],
   "source": [
    "% You'll need to be able to do all sorts of logical matrixes\n",
    "\n",
    "% Like create a logical matrix of values where the absolute value is 5\n",
    "matA = [1 2 3; -4 -5 -6; 7 -8 9];\n",
    "\n",
    "logical_negative = abs(matA) == 5\n"
   ]
  },
  {
   "cell_type": "code",
   "execution_count": 12,
   "metadata": {},
   "outputs": [],
   "source": [
    " % More later.\n",
    " "
   ]
  }
 ],
 "metadata": {
  "kernelspec": {
   "display_name": "Octave",
   "language": "octave",
   "name": "octave"
  },
  "language_info": {
   "file_extension": ".m",
   "help_links": [
    {
     "text": "GNU Octave",
     "url": "https://www.gnu.org/software/octave/support.html"
    },
    {
     "text": "Octave Kernel",
     "url": "https://github.com/Calysto/octave_kernel"
    },
    {
     "text": "MetaKernel Magics",
     "url": "https://github.com/calysto/metakernel/blob/master/metakernel/magics/README.md"
    }
   ],
   "mimetype": "text/x-octave",
   "name": "octave",
   "version": "4.2.2"
  }
 },
 "nbformat": 4,
 "nbformat_minor": 2
}
