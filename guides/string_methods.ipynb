{
 "cells": [
  {
   "cell_type": "markdown",
   "metadata": {},
   "source": [
    "# String methods and an intro to objects\n",
    "\n",
    "[![Binder](https://mybinder.org/badge.svg)](https://mybinder.org/v2/gh/enactdev/CISC_106_F18/master?filepath=guides/string_methods.ipynb)\n",
    "\n",
    "**Some string methods are more fun than others. Here are the ones we'll be using, broken into categories:**\n",
    "\n",
    "* **Input cleaning methods**\n",
    "    * lower\n",
    "    * upper\n",
    "    * strip\n",
    "    * lstrip\n",
    "    * rstrip\n",
    "    * split\n",
    "    * splitlines\n",
    "* **Pre-conversion methods**\n",
    "    * isalnum\n",
    "    * isalpha\n",
    "    * isnumeric\n",
    "    * isspace\n",
    "* **Search methods**\n",
    "    * startswith\n",
    "    * endswith\n",
    "    * find\n",
    "    * rfind\n",
    "    * count\n",
    "    * replace\n",
    "* **String formating methods**\n",
    "    * capitalize\n",
    "    * swapcase\n",
    "    * title\n",
    "    * format\n",
    "    * join\n",
    "    \n",
    "## String instantiation\n",
    "\n",
    "**A string object can be created by the str() function, or with quotes. Both single and double quotes work.**"
   ]
  },
  {
   "cell_type": "code",
   "execution_count": 1,
   "metadata": {},
   "outputs": [
    {
     "name": "stdout",
     "output_type": "stream",
     "text": [
      "<class 'str'>\n",
      "True\n"
     ]
    }
   ],
   "source": [
    "my_str = 'With single quotes.'\n",
    "\n",
    "my_str = \"With double quotes.\"\n",
    "\n",
    "my_str = \"Double quotes let you use 'single' quotes in them.\"\n",
    "\n",
    "my_str = 'And single quotes let you use \\\"double\\\" quotes in them.'\n",
    "#print(my_str)\n",
    "\n",
    "my_str = 'You can also escape a \\'single\\' quote with a backslash.'\n",
    "\n",
    "my_str = 'This is Mary\\'s \\\\t notebook\\n, and it is nice'\n",
    "#print(my_str)\n",
    "\n",
    "my_str = \"\"\"Muli-line strings\n",
    "can be made\n",
    "with tripple double-quotes, just like what is used for comments.\"\"\"\n",
    "\n",
    "print(type(my_str))\n",
    "\n",
    "print(isinstance(my_str, str))"
   ]
  },
  {
   "cell_type": "markdown",
   "metadata": {},
   "source": [
    "\n",
    "## Input cleaning methods\n",
    "\n",
    "* lower\n",
    "* upper\n",
    "* strip\n",
    "* lstrip\n",
    "* rstrip\n",
    "* split\n",
    "* splitlines"
   ]
  },
  {
   "cell_type": "code",
   "execution_count": 2,
   "metadata": {},
   "outputs": [
    {
     "name": "stdout",
     "output_type": "stream",
     "text": [
      "Help on built-in function lower:\n",
      "\n",
      "lower(...) method of builtins.str instance\n",
      "    S.lower() -> str\n",
      "    \n",
      "    Return a copy of the string S converted to lowercase.\n",
      "\n"
     ]
    }
   ],
   "source": [
    "help(my_str.lower)"
   ]
  },
  {
   "cell_type": "code",
   "execution_count": 3,
   "metadata": {},
   "outputs": [
    {
     "name": "stdout",
     "output_type": "stream",
     "text": [
      "'HELLO'.lower() == hello\n"
     ]
    }
   ],
   "source": [
    "print(\"'HELLO'.lower() ==\", 'HELLO'.lower())"
   ]
  },
  {
   "cell_type": "markdown",
   "metadata": {},
   "source": [
    "---"
   ]
  },
  {
   "cell_type": "code",
   "execution_count": 4,
   "metadata": {},
   "outputs": [
    {
     "name": "stdout",
     "output_type": "stream",
     "text": [
      "Help on built-in function upper:\n",
      "\n",
      "upper(...) method of builtins.str instance\n",
      "    S.upper() -> str\n",
      "    \n",
      "    Return a copy of S converted to uppercase.\n",
      "\n"
     ]
    }
   ],
   "source": [
    "help(my_str.upper)"
   ]
  },
  {
   "cell_type": "code",
   "execution_count": 5,
   "metadata": {},
   "outputs": [
    {
     "name": "stdout",
     "output_type": "stream",
     "text": [
      "'hello'.upper() == HELLO\n"
     ]
    }
   ],
   "source": [
    "print(\"'hello'.upper() ==\", 'hello'.upper())"
   ]
  },
  {
   "cell_type": "markdown",
   "metadata": {},
   "source": [
    "---"
   ]
  },
  {
   "cell_type": "code",
   "execution_count": 6,
   "metadata": {},
   "outputs": [
    {
     "name": "stdout",
     "output_type": "stream",
     "text": [
      "Help on built-in function strip:\n",
      "\n",
      "strip(...) method of builtins.str instance\n",
      "    S.strip([chars]) -> str\n",
      "    \n",
      "    Return a copy of the string S with leading and trailing\n",
      "    whitespace removed.\n",
      "    If chars is given and not None, remove characters in chars instead.\n",
      "\n"
     ]
    }
   ],
   "source": [
    "help(my_str.strip)"
   ]
  },
  {
   "cell_type": "code",
   "execution_count": 7,
   "metadata": {},
   "outputs": [
    {
     "name": "stdout",
     "output_type": "stream",
     "text": [
      "'  HELLO\\n\\t'.strip() == HELLO\n"
     ]
    }
   ],
   "source": [
    "# Whitespace includes newlines and tabs\n",
    "print(\"'  HELLO\\\\n\\\\t'.strip() ==\", '  HELLO\\n\\t'.strip())"
   ]
  },
  {
   "cell_type": "code",
   "execution_count": 8,
   "metadata": {},
   "outputs": [
    {
     "name": "stdout",
     "output_type": "stream",
     "text": [
      "'HELLO!.:;;;;!?!'.strip('!?.:;') == HELLO\n"
     ]
    }
   ],
   "source": [
    "# You can also pass characters to be stripped, for instance punctuation\n",
    "print(\"'HELLO!.:;;;;!?!'.strip('!?.:;') ==\", 'HELLO.:;;;;!?!'.strip('!?.:;'))"
   ]
  },
  {
   "cell_type": "markdown",
   "metadata": {},
   "source": [
    "---"
   ]
  },
  {
   "cell_type": "code",
   "execution_count": 9,
   "metadata": {},
   "outputs": [
    {
     "name": "stdout",
     "output_type": "stream",
     "text": [
      "Help on built-in function lstrip:\n",
      "\n",
      "lstrip(...) method of builtins.str instance\n",
      "    S.lstrip([chars]) -> str\n",
      "    \n",
      "    Return a copy of the string S with leading whitespace removed.\n",
      "    If chars is given and not None, remove characters in chars instead.\n",
      "\n"
     ]
    }
   ],
   "source": [
    "help(my_str.lstrip)"
   ]
  },
  {
   "cell_type": "markdown",
   "metadata": {},
   "source": [
    "**The `lstrip()` method strips from the left, and the `rstrip()` method strips from the right.**"
   ]
  },
  {
   "cell_type": "markdown",
   "metadata": {},
   "source": [
    "---"
   ]
  },
  {
   "cell_type": "code",
   "execution_count": 10,
   "metadata": {},
   "outputs": [
    {
     "name": "stdout",
     "output_type": "stream",
     "text": [
      "Help on built-in function split:\n",
      "\n",
      "split(...) method of builtins.str instance\n",
      "    S.split(sep=None, maxsplit=-1) -> list of strings\n",
      "    \n",
      "    Return a list of the words in S, using sep as the\n",
      "    delimiter string.  If maxsplit is given, at most maxsplit\n",
      "    splits are done. If sep is not specified or is None, any\n",
      "    whitespace string is a separator and empty strings are\n",
      "    removed from the result.\n",
      "\n"
     ]
    }
   ],
   "source": [
    "help(my_str.split)"
   ]
  },
  {
   "cell_type": "code",
   "execution_count": 11,
   "metadata": {},
   "outputs": [
    {
     "name": "stdout",
     "output_type": "stream",
     "text": [
      "my_str.split() == ['The', 'quick', 'brown', 'fox', 'jumps', 'over', 'the', 'lazy', 'dog.']\n"
     ]
    }
   ],
   "source": [
    "# Note by default the `split()` method splits on any whitespace character\n",
    "my_str = \"The quick brown fox jumps over the lazy dog.\"\n",
    "\n",
    "\n",
    "print(\"my_str.split() ==\", my_str.split())"
   ]
  },
  {
   "cell_type": "markdown",
   "metadata": {},
   "source": [
    "---"
   ]
  },
  {
   "cell_type": "code",
   "execution_count": 12,
   "metadata": {},
   "outputs": [
    {
     "name": "stdout",
     "output_type": "stream",
     "text": [
      "Help on built-in function splitlines:\n",
      "\n",
      "splitlines(...) method of builtins.str instance\n",
      "    S.splitlines([keepends]) -> list of strings\n",
      "    \n",
      "    Return a list of the lines in S, breaking at line boundaries.\n",
      "    Line breaks are not included in the resulting list unless keepends\n",
      "    is given and true.\n",
      "\n"
     ]
    }
   ],
   "source": [
    "help(my_str.splitlines)"
   ]
  },
  {
   "cell_type": "code",
   "execution_count": 13,
   "metadata": {},
   "outputs": [
    {
     "name": "stdout",
     "output_type": "stream",
     "text": [
      "my_str.splitlines() == ['The quick brown fox jumps over the lazy dog.', 'Again.', 'And Again.']\n"
     ]
    }
   ],
   "source": [
    "my_str = \"\"\"The quick brown fox jumps over the lazy dog.\n",
    "Again.\n",
    "And Again.\"\"\"\n",
    "\n",
    "print(\"my_str.splitlines() ==\", my_str.splitlines())"
   ]
  },
  {
   "cell_type": "markdown",
   "metadata": {},
   "source": [
    "---"
   ]
  },
  {
   "cell_type": "markdown",
   "metadata": {},
   "source": [
    "## Pre-conversion methods\n",
    "\n",
    "**Test the contents of the string with these methods before converting.**\n",
    "\n",
    "* isalnum\n",
    "* isalpha\n",
    "* isnumeric\n",
    "* isspace\n"
   ]
  },
  {
   "cell_type": "code",
   "execution_count": 14,
   "metadata": {},
   "outputs": [
    {
     "name": "stdout",
     "output_type": "stream",
     "text": [
      "Help on built-in function isalnum:\n",
      "\n",
      "isalnum(...) method of builtins.str instance\n",
      "    S.isalnum() -> bool\n",
      "    \n",
      "    Return True if all characters in S are alphanumeric\n",
      "    and there is at least one character in S, False otherwise.\n",
      "\n"
     ]
    }
   ],
   "source": [
    "help(my_str.isalnum)"
   ]
  },
  {
   "cell_type": "code",
   "execution_count": 15,
   "metadata": {},
   "outputs": [
    {
     "name": "stdout",
     "output_type": "stream",
     "text": [
      "'hello 2 you'.isalnum() == False\n",
      "'hello2you'.isalnum() == True\n"
     ]
    }
   ],
   "source": [
    "# The space breaks it\n",
    "print(\"'hello 2 you'.isalnum() ==\", 'hello 2 you'.isalnum())\n",
    "\n",
    "print(\"'hello2you'.isalnum() ==\", 'hello2you'.isalnum())"
   ]
  },
  {
   "cell_type": "markdown",
   "metadata": {},
   "source": [
    "---"
   ]
  },
  {
   "cell_type": "code",
   "execution_count": 16,
   "metadata": {},
   "outputs": [
    {
     "name": "stdout",
     "output_type": "stream",
     "text": [
      "Help on built-in function isnumeric:\n",
      "\n",
      "isnumeric(...) method of builtins.str instance\n",
      "    S.isnumeric() -> bool\n",
      "    \n",
      "    Return True if there are only numeric characters in S,\n",
      "    False otherwise.\n",
      "\n"
     ]
    }
   ],
   "source": [
    "help(my_str.isnumeric)"
   ]
  },
  {
   "cell_type": "code",
   "execution_count": 17,
   "metadata": {},
   "outputs": [
    {
     "name": "stdout",
     "output_type": "stream",
     "text": [
      "'123'.isnumeric() == True\n",
      "'12.3'.isnumeric() == False\n"
     ]
    }
   ],
   "source": [
    "# Can only hold integers\n",
    "print(\"'123'.isnumeric() ==\", '123'.isnumeric())\n",
    "\n",
    "# Decimals don't work\n",
    "print(\"'12.3'.isnumeric() ==\", '12.3'.isnumeric())"
   ]
  },
  {
   "cell_type": "markdown",
   "metadata": {},
   "source": [
    "---"
   ]
  },
  {
   "cell_type": "code",
   "execution_count": 18,
   "metadata": {},
   "outputs": [
    {
     "name": "stdout",
     "output_type": "stream",
     "text": [
      "Help on built-in function isspace:\n",
      "\n",
      "isspace(...) method of builtins.str instance\n",
      "    S.isspace() -> bool\n",
      "    \n",
      "    Return True if all characters in S are whitespace\n",
      "    and there is at least one character in S, False otherwise.\n",
      "\n"
     ]
    }
   ],
   "source": [
    "help(my_str.isspace)"
   ]
  },
  {
   "cell_type": "code",
   "execution_count": 19,
   "metadata": {},
   "outputs": [
    {
     "name": "stdout",
     "output_type": "stream",
     "text": [
      "' '.isspace() == True\n",
      "'\\n'.isspace() == True\n",
      "'\\t'.isspace() == True\n"
     ]
    }
   ],
   "source": [
    "# Whitespace includes space\n",
    "print(\"' '.isspace() ==\", ' '.isspace())\n",
    "\n",
    "# Newlines\n",
    "print(\"'\\\\n'.isspace() ==\", '\\n'.isspace())\n",
    "\n",
    "# Tabs\n",
    "print(\"'\\\\t'.isspace() ==\", '\\t'.isspace())\n"
   ]
  },
  {
   "cell_type": "markdown",
   "metadata": {},
   "source": [
    "---\n",
    "\n",
    "## Search methods\n",
    "\n",
    "* startswith\n",
    "* endswith\n",
    "* find\n",
    "* rfind\n",
    "* count\n",
    "* replace"
   ]
  },
  {
   "cell_type": "code",
   "execution_count": 20,
   "metadata": {},
   "outputs": [
    {
     "name": "stdout",
     "output_type": "stream",
     "text": [
      "Help on built-in function startswith:\n",
      "\n",
      "startswith(...) method of builtins.str instance\n",
      "    S.startswith(prefix[, start[, end]]) -> bool\n",
      "    \n",
      "    Return True if S starts with the specified prefix, False otherwise.\n",
      "    With optional start, test S beginning at that position.\n",
      "    With optional end, stop comparing S at that position.\n",
      "    prefix can also be a tuple of strings to try.\n",
      "\n"
     ]
    }
   ],
   "source": [
    "help(my_str.startswith)"
   ]
  },
  {
   "cell_type": "code",
   "execution_count": 21,
   "metadata": {},
   "outputs": [
    {
     "name": "stdout",
     "output_type": "stream",
     "text": [
      "my_str.startswith('The') == True\n"
     ]
    }
   ],
   "source": [
    "my_str = \"The quick brown fox jumps over the lazy dog.\"\n",
    "\n",
    "print(\"my_str.startswith('The') ==\", my_str.startswith('The'))"
   ]
  },
  {
   "cell_type": "markdown",
   "metadata": {},
   "source": [
    "---"
   ]
  },
  {
   "cell_type": "code",
   "execution_count": 22,
   "metadata": {},
   "outputs": [
    {
     "name": "stdout",
     "output_type": "stream",
     "text": [
      "Help on built-in function endswith:\n",
      "\n",
      "endswith(...) method of builtins.str instance\n",
      "    S.endswith(suffix[, start[, end]]) -> bool\n",
      "    \n",
      "    Return True if S ends with the specified suffix, False otherwise.\n",
      "    With optional start, test S beginning at that position.\n",
      "    With optional end, stop comparing S at that position.\n",
      "    suffix can also be a tuple of strings to try.\n",
      "\n"
     ]
    }
   ],
   "source": [
    "help(my_str.endswith)"
   ]
  },
  {
   "cell_type": "code",
   "execution_count": 23,
   "metadata": {},
   "outputs": [
    {
     "name": "stdout",
     "output_type": "stream",
     "text": [
      "my_str.endswith('dog.') == True\n"
     ]
    }
   ],
   "source": [
    "my_str = \"The quick brown fox jumps over the lazy dog.\"\n",
    "\n",
    "print(\"my_str.endswith('dog.') ==\", my_str.endswith('dog.'))"
   ]
  },
  {
   "cell_type": "markdown",
   "metadata": {},
   "source": [
    "---"
   ]
  },
  {
   "cell_type": "code",
   "execution_count": 24,
   "metadata": {},
   "outputs": [
    {
     "name": "stdout",
     "output_type": "stream",
     "text": [
      "Help on built-in function find:\n",
      "\n",
      "find(...) method of builtins.str instance\n",
      "    S.find(sub[, start[, end]]) -> int\n",
      "    \n",
      "    Return the lowest index in S where substring sub is found,\n",
      "    such that sub is contained within S[start:end].  Optional\n",
      "    arguments start and end are interpreted as in slice notation.\n",
      "    \n",
      "    Return -1 on failure.\n",
      "\n"
     ]
    }
   ],
   "source": [
    "help(my_str.find)"
   ]
  },
  {
   "cell_type": "markdown",
   "metadata": {},
   "source": [
    "**Note that it returns -1 if the string is not found.**"
   ]
  },
  {
   "cell_type": "code",
   "execution_count": 25,
   "metadata": {},
   "outputs": [
    {
     "name": "stdout",
     "output_type": "stream",
     "text": [
      "my_str.find('Professor') == -1\n"
     ]
    }
   ],
   "source": [
    "my_str = \"The quick brown fox jumps over the lazy dog.\"\n",
    "\n",
    "print(\"my_str.find('Professor') ==\", my_str.find('Professor'))"
   ]
  },
  {
   "cell_type": "markdown",
   "metadata": {},
   "source": [
    "**Also, remember that indexing starts at zero.**"
   ]
  },
  {
   "cell_type": "code",
   "execution_count": 26,
   "metadata": {},
   "outputs": [
    {
     "name": "stdout",
     "output_type": "stream",
     "text": [
      "my_str.find('The') == 0\n"
     ]
    }
   ],
   "source": [
    "my_str = \"The quick brown fox jumps over the lazy dog.\"\n",
    "\n",
    "print(\"my_str.find('The') ==\", my_str.find('The'))"
   ]
  },
  {
   "cell_type": "markdown",
   "metadata": {},
   "source": [
    "**Let's extract the word we searched for by slicing. First, get the index:**"
   ]
  },
  {
   "cell_type": "code",
   "execution_count": 27,
   "metadata": {},
   "outputs": [
    {
     "name": "stdout",
     "output_type": "stream",
     "text": [
      "my_str.find('fox') == 16\n"
     ]
    }
   ],
   "source": [
    "my_str = \"The quick brown fox jumps over the lazy dog.\"\n",
    "\n",
    "print(\"my_str.find('fox') ==\", my_str.find('fox'))"
   ]
  },
  {
   "cell_type": "markdown",
   "metadata": {},
   "source": [
    "**Next, slice the string starting at that index, and stopping at the index plus the length of the word.**"
   ]
  },
  {
   "cell_type": "code",
   "execution_count": 28,
   "metadata": {},
   "outputs": [
    {
     "data": {
      "text/plain": [
       "'fox'"
      ]
     },
     "execution_count": 28,
     "metadata": {},
     "output_type": "execute_result"
    }
   ],
   "source": [
    "my_str[16:16+len('fox')]"
   ]
  },
  {
   "cell_type": "markdown",
   "metadata": {},
   "source": [
    "---"
   ]
  },
  {
   "cell_type": "code",
   "execution_count": 29,
   "metadata": {},
   "outputs": [
    {
     "name": "stdout",
     "output_type": "stream",
     "text": [
      "Help on built-in function rfind:\n",
      "\n",
      "rfind(...) method of builtins.str instance\n",
      "    S.rfind(sub[, start[, end]]) -> int\n",
      "    \n",
      "    Return the highest index in S where substring sub is found,\n",
      "    such that sub is contained within S[start:end].  Optional\n",
      "    arguments start and end are interpreted as in slice notation.\n",
      "    \n",
      "    Return -1 on failure.\n",
      "\n"
     ]
    }
   ],
   "source": [
    "help(my_str.rfind)"
   ]
  },
  {
   "cell_type": "markdown",
   "metadata": {},
   "source": [
    "**Like find, but searches from the right.**"
   ]
  },
  {
   "cell_type": "code",
   "execution_count": 30,
   "metadata": {},
   "outputs": [
    {
     "name": "stdout",
     "output_type": "stream",
     "text": [
      "my_str.find('the') == 0\n",
      "my_str.rfind('the') == 31\n"
     ]
    }
   ],
   "source": [
    "my_str = \"The quick brown fox jumps over the lazy dog.\"\n",
    "\n",
    "# Lowercase version has 'the' twice\n",
    "my_str = my_str.lower()\n",
    "\n",
    "# Index (from left) of 'the'\n",
    "print(\"my_str.find('the') ==\", my_str.find('the'))\n",
    "\n",
    "# Index (from right) of 'the'\n",
    "print(\"my_str.rfind('the') ==\", my_str.rfind('the'))"
   ]
  },
  {
   "cell_type": "markdown",
   "metadata": {},
   "source": [
    "---"
   ]
  },
  {
   "cell_type": "code",
   "execution_count": 31,
   "metadata": {},
   "outputs": [
    {
     "name": "stdout",
     "output_type": "stream",
     "text": [
      "Help on built-in function count:\n",
      "\n",
      "count(...) method of builtins.str instance\n",
      "    S.count(sub[, start[, end]]) -> int\n",
      "    \n",
      "    Return the number of non-overlapping occurrences of substring sub in\n",
      "    string S[start:end].  Optional arguments start and end are\n",
      "    interpreted as in slice notation.\n",
      "\n"
     ]
    }
   ],
   "source": [
    "help(my_str.count)"
   ]
  },
  {
   "cell_type": "code",
   "execution_count": 32,
   "metadata": {},
   "outputs": [
    {
     "name": "stdout",
     "output_type": "stream",
     "text": [
      "my_str.count('the') == 2\n"
     ]
    }
   ],
   "source": [
    "my_str = \"The quick brown fox jumps over the lazy dog.\"\n",
    "\n",
    "# Lowercase version has 'the' twice\n",
    "my_str = my_str.lower()\n",
    "\n",
    "print(\"my_str.count('the') ==\", my_str.count('the'))"
   ]
  },
  {
   "cell_type": "markdown",
   "metadata": {},
   "source": [
    "---"
   ]
  },
  {
   "cell_type": "code",
   "execution_count": 33,
   "metadata": {},
   "outputs": [
    {
     "name": "stdout",
     "output_type": "stream",
     "text": [
      "Help on built-in function replace:\n",
      "\n",
      "replace(...) method of builtins.str instance\n",
      "    S.replace(old, new[, count]) -> str\n",
      "    \n",
      "    Return a copy of S with all occurrences of substring\n",
      "    old replaced by new.  If the optional argument count is\n",
      "    given, only the first count occurrences are replaced.\n",
      "\n"
     ]
    }
   ],
   "source": [
    "help(my_str.replace)"
   ]
  },
  {
   "cell_type": "code",
   "execution_count": 34,
   "metadata": {},
   "outputs": [
    {
     "name": "stdout",
     "output_type": "stream",
     "text": [
      "my_str.replace('fox', 'cat') == The quick brown cat jumps over the lazy dog.\n"
     ]
    }
   ],
   "source": [
    "my_str = \"The quick brown fox jumps over the lazy dog.\"\n",
    "\n",
    "print(\"my_str.replace('fox', 'cat') ==\", my_str.replace('fox', 'cat'))"
   ]
  },
  {
   "cell_type": "markdown",
   "metadata": {},
   "source": [
    "---\n",
    "\n",
    "## String formating methods\n",
    "\n",
    "* capitalize\n",
    "* swapcase\n",
    "* title\n",
    "* format\n",
    "* join"
   ]
  },
  {
   "cell_type": "code",
   "execution_count": 35,
   "metadata": {},
   "outputs": [
    {
     "name": "stdout",
     "output_type": "stream",
     "text": [
      "Help on built-in function capitalize:\n",
      "\n",
      "capitalize(...) method of builtins.str instance\n",
      "    S.capitalize() -> str\n",
      "    \n",
      "    Return a capitalized version of S, i.e. make the first character\n",
      "    have upper case and the rest lower case.\n",
      "\n"
     ]
    }
   ],
   "source": [
    "help(my_str.capitalize)"
   ]
  },
  {
   "cell_type": "code",
   "execution_count": 36,
   "metadata": {},
   "outputs": [
    {
     "name": "stdout",
     "output_type": "stream",
     "text": [
      "'this sentence needs to be capitalized.'.capitalize() == This sentence needs to be capitalized.\n"
     ]
    }
   ],
   "source": [
    "'this is an uncapitalized sentence.'\n",
    "\n",
    "print(\"'this sentence needs to be capitalized.'.capitalize() ==\", 'this sentence needs to be capitalized.'.capitalize())"
   ]
  },
  {
   "cell_type": "markdown",
   "metadata": {},
   "source": [
    "---"
   ]
  },
  {
   "cell_type": "code",
   "execution_count": 37,
   "metadata": {},
   "outputs": [
    {
     "name": "stdout",
     "output_type": "stream",
     "text": [
      "Help on built-in function swapcase:\n",
      "\n",
      "swapcase(...) method of builtins.str instance\n",
      "    S.swapcase() -> str\n",
      "    \n",
      "    Return a copy of S with uppercase characters converted to lowercase\n",
      "    and vice versa.\n",
      "\n"
     ]
    }
   ],
   "source": [
    "help(my_str.swapcase)"
   ]
  },
  {
   "cell_type": "code",
   "execution_count": 38,
   "metadata": {},
   "outputs": [
    {
     "name": "stdout",
     "output_type": "stream",
     "text": [
      "'This Mehod Is Kind Of Pointless'.swapcase() == tHIS mEHOD iS kIND oF pOINTLESS\n"
     ]
    }
   ],
   "source": [
    "print(\"'This Mehod Is Kind Of Pointless'.swapcase() ==\", 'This Mehod Is Kind Of Pointless'.swapcase())"
   ]
  },
  {
   "cell_type": "markdown",
   "metadata": {},
   "source": [
    "---"
   ]
  },
  {
   "cell_type": "code",
   "execution_count": 39,
   "metadata": {},
   "outputs": [
    {
     "name": "stdout",
     "output_type": "stream",
     "text": [
      "Help on built-in function title:\n",
      "\n",
      "title(...) method of builtins.str instance\n",
      "    S.title() -> str\n",
      "    \n",
      "    Return a titlecased version of S, i.e. words start with title case\n",
      "    characters, all remaining cased characters have lower case.\n",
      "\n"
     ]
    }
   ],
   "source": [
    "help(my_str.title)"
   ]
  },
  {
   "cell_type": "code",
   "execution_count": 40,
   "metadata": {},
   "outputs": [
    {
     "name": "stdout",
     "output_type": "stream",
     "text": [
      "'turn a sentence into a headline'.title() == Turn A Sentence Into A Headline\n"
     ]
    }
   ],
   "source": [
    "print(\"'turn a sentence into a headline'.title() ==\", 'turn a sentence into a headline'.title())"
   ]
  },
  {
   "cell_type": "markdown",
   "metadata": {},
   "source": [
    "---"
   ]
  },
  {
   "cell_type": "code",
   "execution_count": 41,
   "metadata": {},
   "outputs": [
    {
     "name": "stdout",
     "output_type": "stream",
     "text": [
      "Help on built-in function format:\n",
      "\n",
      "format(...) method of builtins.str instance\n",
      "    S.format(*args, **kwargs) -> str\n",
      "    \n",
      "    Return a formatted version of S, using substitutions from args and kwargs.\n",
      "    The substitutions are identified by braces ('{' and '}').\n",
      "\n"
     ]
    }
   ],
   "source": [
    "help(my_str.format)"
   ]
  },
  {
   "cell_type": "code",
   "execution_count": 42,
   "metadata": {},
   "outputs": [
    {
     "name": "stdout",
     "output_type": "stream",
     "text": [
      "'{} divided by {} is {}'.format(2, 4, 2/4) == 2 divided by 4 is 0.5\n"
     ]
    }
   ],
   "source": [
    "print(\"'{} divided by {} is {}'.format(2, 4, 2/4) ==\", '{} divided by {} is {}'.format(2, 4, 2/4))"
   ]
  },
  {
   "cell_type": "markdown",
   "metadata": {},
   "source": [
    "---\n",
    "\n",
    "**Note: the `join()` method is one of the few methods that are often called on an uninstantiated string (a string that has not been assigned to a variable).**"
   ]
  },
  {
   "cell_type": "code",
   "execution_count": 43,
   "metadata": {},
   "outputs": [
    {
     "name": "stdout",
     "output_type": "stream",
     "text": [
      "Help on built-in function join:\n",
      "\n",
      "join(...) method of builtins.str instance\n",
      "    S.join(iterable) -> str\n",
      "    \n",
      "    Return a string which is the concatenation of the strings in the\n",
      "    iterable.  The separator between elements is S.\n",
      "\n"
     ]
    }
   ],
   "source": [
    "help(my_str.join)"
   ]
  },
  {
   "cell_type": "code",
   "execution_count": 44,
   "metadata": {},
   "outputs": [
    {
     "name": "stdout",
     "output_type": "stream",
     "text": [
      "', '.join(my_list) == a, b, c, d, e\n",
      "''.join(my_list) == abcde\n"
     ]
    }
   ],
   "source": [
    "my_list = ['a', 'b', 'c', 'd', 'e']\n",
    "\n",
    "print(\"', '.join(my_list) ==\", ', '.join(my_list))\n",
    "\n",
    "print(\"''.join(my_list) ==\", ''.join(my_list))\n"
   ]
  }
 ],
 "metadata": {
  "kernelspec": {
   "display_name": "Python 3",
   "language": "python",
   "name": "python3"
  },
  "language_info": {
   "codemirror_mode": {
    "name": "ipython",
    "version": 3
   },
   "file_extension": ".py",
   "mimetype": "text/x-python",
   "name": "python",
   "nbconvert_exporter": "python",
   "pygments_lexer": "ipython3",
   "version": "3.6.6"
  }
 },
 "nbformat": 4,
 "nbformat_minor": 2
}
