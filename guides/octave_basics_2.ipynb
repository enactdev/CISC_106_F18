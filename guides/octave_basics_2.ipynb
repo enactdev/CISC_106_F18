{
 "cells": [
  {
   "cell_type": "markdown",
   "metadata": {},
   "source": [
    "# Octave basics part 2\n",
    "\n",
    "## November 29, 2017\n",
    "\n",
    "**No Binder links because Binder does not work with Octave. You are recommended to only use this as a reference while programming in the Octave or Matlab application.**\n",
    "\n",
    "**You can vertically concatinate existing matrixes in a new matrix if the column lengths match**"
   ]
  },
  {
   "cell_type": "code",
   "execution_count": 1,
   "metadata": {},
   "outputs": [
    {
     "name": "stdout",
     "output_type": "stream",
     "text": [
      "array_1x3 =\n",
      "\n",
      "   1   2   3\n",
      "\n",
      "matrix_2x3 =\n",
      "\n",
      "   4   5   6\n",
      "   7   8   9\n",
      "\n",
      "matrix_3x3 =\n",
      "\n",
      "   1   2   3\n",
      "   4   5   6\n",
      "   7   8   9\n",
      "\n"
     ]
    }
   ],
   "source": [
    "array_1x3 = [1 2 3]\n",
    "\n",
    "matrix_2x3 = [4 5 6; 7 8 9]\n",
    "\n",
    "matrix_3x3 = [array_1x3; matrix_2x3]"
   ]
  },
  {
   "cell_type": "markdown",
   "metadata": {},
   "source": [
    "**You can horizontally concatinate if the row lengths match**"
   ]
  },
  {
   "cell_type": "code",
   "execution_count": 27,
   "metadata": {},
   "outputs": [
    {
     "name": "stdout",
     "output_type": "stream",
     "text": [
      "array_1x3 =\n",
      "\n",
      "   1   2   3\n",
      "\n",
      "matrix_1x2 =\n",
      "\n",
      "   4   5\n",
      "\n",
      "matrix_1x5 =\n",
      "\n",
      "   1   2   3   4   5\n",
      "\n"
     ]
    }
   ],
   "source": [
    "array_1x3 = [1 2 3]\n",
    "\n",
    "matrix_1x2 = [4 5]\n",
    "\n",
    "matrix_1x5 = [array_1x3, matrix_1x2]"
   ]
  },
  {
   "cell_type": "code",
   "execution_count": 2,
   "metadata": {},
   "outputs": [
    {
     "name": "stdout",
     "output_type": "stream",
     "text": [
      "ans =\n",
      "\n",
      "   1   2   3\n",
      "   4   5   6\n",
      "   7   8   9\n",
      "\n"
     ]
    }
   ],
   "source": [
    "% Last expression automatically stored in variable 'ans'\n",
    "\n",
    "[array_1x3; matrix_2x3]"
   ]
  },
  {
   "cell_type": "code",
   "execution_count": 3,
   "metadata": {},
   "outputs": [
    {
     "name": "stdout",
     "output_type": "stream",
     "text": [
      "ans =\n",
      "\n",
      "   1   2   3\n",
      "   4   5   6\n",
      "   7   8   9\n",
      "\n"
     ]
    }
   ],
   "source": [
    "ans"
   ]
  },
  {
   "cell_type": "code",
   "execution_count": 4,
   "metadata": {},
   "outputs": [],
   "source": [
    "% Semicolon at the end of the line will supress output\n",
    "\n",
    "ans;"
   ]
  },
  {
   "cell_type": "markdown",
   "metadata": {},
   "source": [
    "**Some basic MATLAB functions:**"
   ]
  },
  {
   "cell_type": "code",
   "execution_count": 5,
   "metadata": {},
   "outputs": [
    {
     "name": "stdout",
     "output_type": "stream",
     "text": [
      "ans =  10\n"
     ]
    }
   ],
   "source": [
    "abs(-10)"
   ]
  },
  {
   "cell_type": "code",
   "execution_count": 6,
   "metadata": {},
   "outputs": [
    {
     "name": "stdout",
     "output_type": "stream",
     "text": [
      "ans =  3\n"
     ]
    }
   ],
   "source": [
    "sqrt(9)"
   ]
  },
  {
   "cell_type": "code",
   "execution_count": 7,
   "metadata": {},
   "outputs": [
    {
     "name": "stdout",
     "output_type": "stream",
     "text": [
      "Hello CISC 106\n"
     ]
    }
   ],
   "source": [
    "disp('Hello CISC 106')"
   ]
  },
  {
   "cell_type": "code",
   "execution_count": 8,
   "metadata": {},
   "outputs": [
    {
     "name": "stdout",
     "output_type": "stream",
     "text": [
      "ans =\n",
      "\n",
      "   1   1   1\n",
      "   1   1   1\n",
      "   1   1   1\n",
      "\n"
     ]
    }
   ],
   "source": [
    "%ones(rows,cols) -- Matrix of all ones\n",
    "\n",
    "ones(3, 3)"
   ]
  },
  {
   "cell_type": "code",
   "execution_count": 9,
   "metadata": {},
   "outputs": [
    {
     "name": "stdout",
     "output_type": "stream",
     "text": [
      "ans =\n",
      "\n",
      "   0   0   0\n",
      "   0   0   0\n",
      "   0   0   0\n",
      "\n"
     ]
    }
   ],
   "source": [
    "%zeros(rows,cols) -- Matrix of all zeros\n",
    "\n",
    "zeros(3, 3)"
   ]
  },
  {
   "cell_type": "code",
   "execution_count": 10,
   "metadata": {},
   "outputs": [
    {
     "name": "stdout",
     "output_type": "stream",
     "text": [
      "ans =\n",
      "\n",
      "   0.6611745   0.6893931   0.0510586\n",
      "   0.9652721   0.7360433   0.2345729\n",
      "   0.1414638   0.0636705   0.0094807\n",
      "\n"
     ]
    }
   ],
   "source": [
    "% rand(rows,cols) -- Matrix of uniformly distributed random elements\n",
    "\n",
    "rand(3, 3)"
   ]
  },
  {
   "cell_type": "code",
   "execution_count": 11,
   "metadata": {},
   "outputs": [
    {
     "name": "stdout",
     "output_type": "stream",
     "text": [
      "ans =\n",
      "\n",
      "   2   2   1\n",
      "   1   3   4\n",
      "   1   2   5\n",
      "\n"
     ]
    }
   ],
   "source": [
    "% randi([min_val,max_val],rows,cols) -- Matrix of random integers between min_val and max_val (inclusive)\n",
    "randi([1, 6], 3, 3)"
   ]
  },
  {
   "cell_type": "markdown",
   "metadata": {},
   "source": [
    "**Variable naming:**\n",
    "* Must start with a letter, and can have numbers, letters, underscores\n",
    "* Case sensitive\n",
    "* Don't need to declare\n",
    "* You can make the variables any length -- but MATLAB only uses the first N characters to identify the variable – make first N characters unique\n",
    "* N = number returned by - namelengthmax function\n",
    "* Try: length_var_name = namelengthmax\n",
    " "
   ]
  },
  {
   "cell_type": "code",
   "execution_count": 12,
   "metadata": {},
   "outputs": [
    {
     "name": "stdout",
     "output_type": "stream",
     "text": [
      "ans =  63\n"
     ]
    }
   ],
   "source": [
    "namelengthmax()"
   ]
  },
  {
   "cell_type": "code",
   "execution_count": 17,
   "metadata": {},
   "outputs": [
    {
     "name": "stdout",
     "output_type": "stream",
     "text": [
      "length_var_name =  63\n"
     ]
    }
   ],
   "source": [
    "length_var_name = namelengthmax"
   ]
  },
  {
   "cell_type": "code",
   "execution_count": 20,
   "metadata": {},
   "outputs": [
    {
     "name": "stdout",
     "output_type": "stream",
     "text": [
      "length_var_name2 =  63\n"
     ]
    }
   ],
   "source": [
    "length_var_name2 = namelengthmax"
   ]
  },
  {
   "cell_type": "code",
   "execution_count": 18,
   "metadata": {},
   "outputs": [
    {
     "name": "stdout",
     "output_type": "stream",
     "text": [
      "length_var_name =  63\n"
     ]
    }
   ],
   "source": [
    "length_var_name\n"
   ]
  },
  {
   "cell_type": "code",
   "execution_count": 23,
   "metadata": {},
   "outputs": [
    {
     "name": "stdout",
     "output_type": "stream",
     "text": [
      "v =  15\n",
      "ans =\n",
      "\n",
      "   1   1\n",
      "\n",
      "ans =  15\n",
      "v =  15\n",
      "ans =\n",
      "\n",
      "   1   1\n",
      "\n",
      "v =\n",
      "\n",
      "   15   16   17   18\n",
      "\n",
      "ans =\n",
      "\n",
      "   1   4\n",
      "\n"
     ]
    }
   ],
   "source": [
    "% Every value assigned to a variable is an array\n",
    "\n",
    "v = 15\n",
    "size(v)\n",
    "\n",
    "v(1)\n",
    "\n",
    "v = [15]\n",
    "size(v)\n",
    "\n",
    "v = [15 16 17 18]\n",
    "size(v)\n",
    " "
   ]
  },
  {
   "cell_type": "markdown",
   "metadata": {},
   "source": [
    "**Let's solve [this Hackerrank problem](https://www.hackerrank.com/challenges/diagonal-difference/problem) using Octave: Complete the diagonalDifference function in the editor below. It must return an integer representing the absolute diagonal difference.**\n",
    "\n",
    "**Here is an example function from Professor Wassil's slides (MATLAB Ch. 2 & 5) -- You can download from Canvas, I linked to them on the main page, and they are also listed under Files.**\n",
    "\n",
    "```\n",
    " \n",
    "function [hzn_concat, vert_concat] = concatMat(A,B)\n",
    "    % Use percent sign for comments.\n",
    "    % Sorry, no block comments\n",
    "    % Just use lots of percent signs\n",
    "    hzn_concat = [A,B];\n",
    "    vert_concat = [A;B]; \n",
    "end\n",
    "\n",
    "```"
   ]
  },
  {
   "cell_type": "code",
   "execution_count": 31,
   "metadata": {},
   "outputs": [],
   "source": [
    "function diag_diff = diagonalDifference(a_matrix)\n",
    "    regular_diag = sum(diag(a_matrix));\n",
    "    anti_diag = sum(diag(flipud(a_matrix)));\n",
    "\n",
    "    diag_diff = abs(regular_diag - anti_diag);\n",
    "    \n",
    "end\n"
   ]
  },
  {
   "cell_type": "code",
   "execution_count": 34,
   "metadata": {},
   "outputs": [
    {
     "name": "stdout",
     "output_type": "stream",
     "text": [
      "matrix_3x3 =\n",
      "\n",
      "   1   2   3\n",
      "   7   8   9\n",
      "   6   2   6\n",
      "\n",
      "d_diff =  2\n"
     ]
    }
   ],
   "source": [
    "matrix_3x3 = [1 2 3; 7 8 9; 6 2 6]\n",
    "\n",
    "d_diff = diagonalDifference(matrix_3x3)"
   ]
  },
  {
   "cell_type": "code",
   "execution_count": 35,
   "metadata": {},
   "outputs": [],
   "source": [
    "% Function definition from Wassil's slides\n",
    "function [hzn_concat, vert_concat] = concatMat(A,B)\n",
    "    hzn_concat = [A,B];\n",
    "    vert_concat = [A;B]; \n",
    "end"
   ]
  },
  {
   "cell_type": "code",
   "execution_count": 36,
   "metadata": {},
   "outputs": [
    {
     "name": "stdout",
     "output_type": "stream",
     "text": [
      "matrix_1x3_a =\n",
      "\n",
      "   1   5   9\n",
      "\n",
      "matrix_1x3_b =\n",
      "\n",
      "   10   15   19\n",
      "\n",
      "h_cat =\n",
      "\n",
      "    1    5    9   10   15   19\n",
      "\n",
      "v_cat =\n",
      "\n",
      "    1    5    9\n",
      "   10   15   19\n",
      "\n"
     ]
    }
   ],
   "source": [
    "matrix_1x3_a = [1 5 9]\n",
    "matrix_1x3_b = [10 15 19]\n",
    "\n",
    "[h_cat, v_cat] = concatMat(matrix_1x3_a, matrix_1x3_b)"
   ]
  },
  {
   "cell_type": "code",
   "execution_count": 49,
   "metadata": {},
   "outputs": [
    {
     "name": "stdout",
     "output_type": "stream",
     "text": [
      "A =\n",
      "\n",
      "   10    8    6    4    2    0   -2   -4   -6   -8  -10\n",
      "\n",
      "ans =  2\n",
      "ans = 0\n",
      "greater\n"
     ]
    }
   ],
   "source": [
    "% From Wassil's PDF chap 2 & 5, slide 6\n",
    "\n",
    "A = 10:-2:-10\n",
    "\n",
    "A(1,5)\n",
    "\n",
    "A(1,6)\n",
    "  \n",
    "if ( A(1,5) == A(1,6) ) \n",
    "    disp(\"equal\")\n",
    "elseif ( A(1,5) > A(1,6) ) \n",
    "    disp(\"greater\")\n",
    "else\n",
    "    disp(\"less than\")\n",
    "end"
   ]
  },
  {
   "cell_type": "code",
   "execution_count": 50,
   "metadata": {},
   "outputs": [
    {
     "name": "stdout",
     "output_type": "stream",
     "text": [
      "ans =  0 + 1i\n"
     ]
    }
   ],
   "source": [
    "i"
   ]
  },
  {
   "cell_type": "code",
   "execution_count": 51,
   "metadata": {},
   "outputs": [
    {
     "name": "stdout",
     "output_type": "stream",
     "text": [
      "ans =  0 + 1i\n"
     ]
    }
   ],
   "source": [
    "j"
   ]
  },
  {
   "cell_type": "code",
   "execution_count": 52,
   "metadata": {},
   "outputs": [
    {
     "name": "stdout",
     "output_type": "stream",
     "text": [
      "ans = 1\n"
     ]
    }
   ],
   "source": [
    "i == j"
   ]
  },
  {
   "cell_type": "code",
   "execution_count": 61,
   "metadata": {},
   "outputs": [
    {
     "name": "stdout",
     "output_type": "stream",
     "text": [
      "matrix_3x3 =\n",
      "\n",
      "   1   2   3\n",
      "   4   5   6\n",
      "   7   8   9\n",
      "\n"
     ]
    }
   ],
   "source": [
    "% Boolean examples\n",
    "\n",
    "% Our matrix\n",
    "matrix_3x3 = [1 2 3; 4 5 6; 7 8 9]"
   ]
  },
  {
   "cell_type": "code",
   "execution_count": 62,
   "metadata": {},
   "outputs": [
    {
     "name": "stdout",
     "output_type": "stream",
     "text": [
      "ans =\n",
      "\n",
      "  0  0  0\n",
      "  0  0  0\n",
      "  0  0  0\n",
      "\n",
      "ans =\n",
      "\n",
      "  0  1  0\n",
      "\n"
     ]
    }
   ],
   "source": [
    "% Not of every element (0 if not 0, 1 if 0)\n",
    "\n",
    "~matrix_3x3\n",
    "\n",
    "~[1 0 3]"
   ]
  },
  {
   "cell_type": "code",
   "execution_count": 63,
   "metadata": {},
   "outputs": [
    {
     "name": "stdout",
     "output_type": "stream",
     "text": [
      "ans =\n",
      "\n",
      "  1  1  1\n",
      "  1  1  1\n",
      "  1  1  1\n",
      "\n"
     ]
    }
   ],
   "source": [
    "matrix_3x3 & 1"
   ]
  },
  {
   "cell_type": "code",
   "execution_count": 64,
   "metadata": {},
   "outputs": [
    {
     "name": "stdout",
     "output_type": "stream",
     "text": [
      "ans =\n",
      "\n",
      "  1  1  1\n",
      "  1  1  1\n",
      "  1  1  1\n",
      "\n"
     ]
    }
   ],
   "source": [
    "matrix_3x3 | 1"
   ]
  },
  {
   "cell_type": "code",
   "execution_count": 69,
   "metadata": {},
   "outputs": [
    {
     "name": "stdout",
     "output_type": "stream",
     "text": [
      "ans =  6\n"
     ]
    }
   ],
   "source": [
    "% How to find index with single number?\n",
    "\n",
    "matrix_3x3(8)\n",
    "\n",
    "% Start at (1, 1) and go down through the first column, then continue\n",
    "% counting at (1,2) and continue down the second column, etc., until you \n",
    "% find the 8th element\n"
   ]
  }
 ],
 "metadata": {
  "kernelspec": {
   "display_name": "Octave",
   "language": "octave",
   "name": "octave"
  },
  "language_info": {
   "file_extension": ".m",
   "help_links": [
    {
     "text": "GNU Octave",
     "url": "https://www.gnu.org/software/octave/support.html"
    },
    {
     "text": "Octave Kernel",
     "url": "https://github.com/Calysto/octave_kernel"
    },
    {
     "text": "MetaKernel Magics",
     "url": "https://github.com/calysto/metakernel/blob/master/metakernel/magics/README.md"
    }
   ],
   "mimetype": "text/x-octave",
   "name": "octave",
   "version": "4.2.2"
  }
 },
 "nbformat": 4,
 "nbformat_minor": 2
}
