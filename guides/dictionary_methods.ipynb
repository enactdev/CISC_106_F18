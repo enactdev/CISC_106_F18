{
 "cells": [
  {
   "cell_type": "markdown",
   "metadata": {},
   "source": [
    "# Dictionary methods\n",
    "\n",
    "[![Binder](https://mybinder.org/badge.svg)](https://mybinder.org/v2/gh/enactdev/CISC_106_F18/master?filepath=guides/dictionary_methods.ipynb)\n",
    "\n",
    "**We will get into classes and objects soon, but for now know that:**\n",
    "* **An object is an instance of a class.**\n",
    "* **Classes can also define methods that are called from an object.**\n",
    "    * **Methods access object values.**\n",
    "    * **For mutable data types, such as lists and dictionaries, the object methods can also change the values.**\n",
    "    * **Note the return type!**\n",
    "\n",
    "## An object is an instance of a class.\n",
    "\n",
    "**These are the first few lines retuned by ```help(dict)```:**\n",
    "\n",
    "```\n",
    "class dict(object)\n",
    " |  dict() -> new empty dictionary\n",
    " |  dict(mapping) -> new dictionary initialized from a mapping object's\n",
    " |      (key, value) pairs\n",
    "```\n",
    "\n",
    "**While lists and tuples are index-value pairs, a dictionary is a key-value pair. Like lists, dictionaries are mutable.**\n",
    "\n",
    "**A dictionary object can be created by the `dict()` function, or with brackets. Let's create one and check the type:**\n"
   ]
  },
  {
   "cell_type": "code",
   "execution_count": 1,
   "metadata": {},
   "outputs": [
    {
     "data": {
      "text/plain": [
       "dict"
      ]
     },
     "execution_count": 1,
     "metadata": {},
     "output_type": "execute_result"
    }
   ],
   "source": [
    "name_dict = {'first': 'Professor', 'last': 'Williams'}\n",
    "\n",
    "type(name_dict)"
   ]
  },
  {
   "cell_type": "markdown",
   "metadata": {},
   "source": [
    "**A dictionary will be displayed a bit differently than lists/tuples:**"
   ]
  },
  {
   "cell_type": "code",
   "execution_count": 2,
   "metadata": {},
   "outputs": [
    {
     "name": "stdout",
     "output_type": "stream",
     "text": [
      "{'first': 'Professor', 'last': 'Williams'}\n"
     ]
    }
   ],
   "source": [
    "name_dict = {'first': 'Professor', 'last': 'Williams'}\n",
    "\n",
    "print(name_dict)"
   ]
  },
  {
   "cell_type": "markdown",
   "metadata": {},
   "source": [
    "**Let's look at dictionary methods:**"
   ]
  },
  {
   "cell_type": "code",
   "execution_count": 3,
   "metadata": {},
   "outputs": [
    {
     "name": "stdout",
     "output_type": "stream",
     "text": [
      "['clear', 'copy', 'fromkeys', 'get', 'items', 'keys', 'pop', 'popitem', 'setdefault', 'update', 'values']\n"
     ]
    }
   ],
   "source": [
    "name_dict = {'first': 'Professor', 'last': 'Williams'}\n",
    "\n",
    "# This is using a comprehension\n",
    "methods = [method for method in dir(name_dict) if method[0] != '_']\n",
    "\n",
    "print(methods)"
   ]
  },
  {
   "cell_type": "markdown",
   "metadata": {},
   "source": [
    "**These are the ones we will look at here:**\n",
    "\n",
    "* clear\n",
    "* copy\n",
    "* fromkeys\n",
    "* get\n",
    "* keys\n",
    "* pop\n",
    "* values\n",
    "\n",
    "**Let's go through them.**"
   ]
  },
  {
   "cell_type": "code",
   "execution_count": 4,
   "metadata": {},
   "outputs": [
    {
     "name": "stdout",
     "output_type": "stream",
     "text": [
      "Help on built-in function clear:\n",
      "\n",
      "clear(...) method of builtins.dict instance\n",
      "    D.clear() -> None.  Remove all items from D.\n",
      "\n"
     ]
    }
   ],
   "source": [
    "help(name_dict.clear)"
   ]
  },
  {
   "cell_type": "code",
   "execution_count": 5,
   "metadata": {},
   "outputs": [
    {
     "name": "stdout",
     "output_type": "stream",
     "text": [
      "{}\n"
     ]
    }
   ],
   "source": [
    "name_dict = {'first': 'Professor', 'last': 'Williams'}\n",
    "\n",
    "name_dict.clear()\n",
    "\n",
    "print(name_dict)"
   ]
  },
  {
   "cell_type": "markdown",
   "metadata": {},
   "source": [
    "---"
   ]
  },
  {
   "cell_type": "code",
   "execution_count": 6,
   "metadata": {},
   "outputs": [
    {
     "name": "stdout",
     "output_type": "stream",
     "text": [
      "Help on built-in function copy:\n",
      "\n",
      "copy(...) method of builtins.dict instance\n",
      "    D.copy() -> a shallow copy of D\n",
      "\n"
     ]
    }
   ],
   "source": [
    "help(name_dict.copy)"
   ]
  },
  {
   "cell_type": "code",
   "execution_count": 7,
   "metadata": {},
   "outputs": [
    {
     "name": "stdout",
     "output_type": "stream",
     "text": [
      "name_dict: {'first': 'Professor', 'last': 'Williams'}\n",
      "my_new_dict: {'first': 'Professor', 'last': 'Williams'}\n"
     ]
    }
   ],
   "source": [
    "name_dict = {'first': 'Professor', 'last': 'Williams'}\n",
    "\n",
    "my_new_dict = name_dict.copy()\n",
    "\n",
    "print('name_dict:', name_dict)\n",
    "print('my_new_dict:', my_new_dict)"
   ]
  },
  {
   "cell_type": "markdown",
   "metadata": {},
   "source": [
    "---"
   ]
  },
  {
   "cell_type": "code",
   "execution_count": 8,
   "metadata": {},
   "outputs": [
    {
     "name": "stdout",
     "output_type": "stream",
     "text": [
      "Help on built-in function fromkeys:\n",
      "\n",
      "fromkeys(iterable, value=None, /) method of builtins.type instance\n",
      "    Returns a new dict with keys from iterable and values equal to value.\n",
      "\n"
     ]
    }
   ],
   "source": [
    "help(name_dict.fromkeys)"
   ]
  },
  {
   "cell_type": "markdown",
   "metadata": {},
   "source": [
    "**Note that this accepts an iterable (like a list) of key names as an argument, and only copies those keys into the new dictionary.**"
   ]
  },
  {
   "cell_type": "code",
   "execution_count": 9,
   "metadata": {},
   "outputs": [
    {
     "name": "stdout",
     "output_type": "stream",
     "text": [
      "name_dict: {'first': 'Professor', 'last': 'Williams'}\n",
      "my_new_dict: {'last': None}\n"
     ]
    }
   ],
   "source": [
    "name_dict = {'first': 'Professor', 'last': 'Williams'}\n",
    "\n",
    "my_new_dict = name_dict.fromkeys(['last'])\n",
    "\n",
    "print('name_dict:', name_dict)\n",
    "print('my_new_dict:', my_new_dict)"
   ]
  },
  {
   "cell_type": "markdown",
   "metadata": {},
   "source": [
    "---"
   ]
  },
  {
   "cell_type": "code",
   "execution_count": 10,
   "metadata": {},
   "outputs": [
    {
     "name": "stdout",
     "output_type": "stream",
     "text": [
      "Help on built-in function get:\n",
      "\n",
      "get(...) method of builtins.dict instance\n",
      "    D.get(k[,d]) -> D[k] if k in D, else d.  d defaults to None.\n",
      "\n"
     ]
    }
   ],
   "source": [
    "help(name_dict.get)"
   ]
  },
  {
   "cell_type": "code",
   "execution_count": 11,
   "metadata": {},
   "outputs": [
    {
     "name": "stdout",
     "output_type": "stream",
     "text": [
      "Williams\n"
     ]
    }
   ],
   "source": [
    "name_dict = {'first': 'Professor', 'last': 'Williams'}\n",
    "\n",
    "print(name_dict.get('last'))\n"
   ]
  },
  {
   "cell_type": "markdown",
   "metadata": {},
   "source": [
    "**Note you can also get the last name with `name_dict['last']`, but that format will throw an error if the key does not exist, while the `get()` method will return `None`.**"
   ]
  },
  {
   "cell_type": "code",
   "execution_count": 12,
   "metadata": {},
   "outputs": [
    {
     "name": "stdout",
     "output_type": "stream",
     "text": [
      "Middle name? None\n"
     ]
    }
   ],
   "source": [
    "name_dict = {'first': 'Professor', 'last': 'Williams'}\n",
    "\n",
    "print('Middle name?', name_dict.get('middle'))"
   ]
  },
  {
   "cell_type": "markdown",
   "metadata": {},
   "source": [
    "---"
   ]
  },
  {
   "cell_type": "code",
   "execution_count": 13,
   "metadata": {},
   "outputs": [
    {
     "name": "stdout",
     "output_type": "stream",
     "text": [
      "Help on built-in function keys:\n",
      "\n",
      "keys(...) method of builtins.dict instance\n",
      "    D.keys() -> a set-like object providing a view on D's keys\n",
      "\n"
     ]
    }
   ],
   "source": [
    "help(name_dict.keys)"
   ]
  },
  {
   "cell_type": "code",
   "execution_count": 14,
   "metadata": {},
   "outputs": [
    {
     "name": "stdout",
     "output_type": "stream",
     "text": [
      "dict_keys(['first', 'last'])\n"
     ]
    }
   ],
   "source": [
    "name_dict = {'first': 'Professor', 'last': 'Williams'}\n",
    "\n",
    "name_dict_keys = name_dict.keys()\n",
    "\n",
    "print(name_dict_keys)"
   ]
  },
  {
   "cell_type": "markdown",
   "metadata": {},
   "source": [
    "---"
   ]
  },
  {
   "cell_type": "code",
   "execution_count": 15,
   "metadata": {},
   "outputs": [
    {
     "name": "stdout",
     "output_type": "stream",
     "text": [
      "Help on built-in function pop:\n",
      "\n",
      "pop(...) method of builtins.dict instance\n",
      "    D.pop(k[,d]) -> v, remove specified key and return the corresponding value.\n",
      "    If key is not found, d is returned if given, otherwise KeyError is raised\n",
      "\n"
     ]
    }
   ],
   "source": [
    "help(name_dict.pop)"
   ]
  },
  {
   "cell_type": "code",
   "execution_count": 16,
   "metadata": {},
   "outputs": [
    {
     "name": "stdout",
     "output_type": "stream",
     "text": [
      "first_name: Professor\n",
      "name_dict: {'last': 'Williams'}\n"
     ]
    }
   ],
   "source": [
    "name_dict = {'first': 'Professor', 'last': 'Williams'}\n",
    "\n",
    "first_name = name_dict.pop('first')\n",
    "\n",
    "print('first_name:', first_name)\n",
    "print('name_dict:', name_dict)"
   ]
  },
  {
   "cell_type": "markdown",
   "metadata": {},
   "source": [
    "---"
   ]
  },
  {
   "cell_type": "code",
   "execution_count": 17,
   "metadata": {},
   "outputs": [
    {
     "name": "stdout",
     "output_type": "stream",
     "text": [
      "Help on built-in function values:\n",
      "\n",
      "values(...) method of builtins.dict instance\n",
      "    D.values() -> an object providing a view on D's values\n",
      "\n"
     ]
    }
   ],
   "source": [
    "help(name_dict.values)"
   ]
  },
  {
   "cell_type": "code",
   "execution_count": 18,
   "metadata": {},
   "outputs": [
    {
     "name": "stdout",
     "output_type": "stream",
     "text": [
      "dict_values(['Professor', 'Williams'])\n"
     ]
    }
   ],
   "source": [
    "name_dict = {'first': 'Professor', 'last': 'Williams'}\n",
    "\n",
    "name_dict_values = name_dict.values()\n",
    "\n",
    "print(name_dict_values)"
   ]
  },
  {
   "cell_type": "code",
   "execution_count": null,
   "metadata": {},
   "outputs": [],
   "source": []
  }
 ],
 "metadata": {
  "kernelspec": {
   "display_name": "Python 3",
   "language": "python",
   "name": "python3"
  },
  "language_info": {
   "codemirror_mode": {
    "name": "ipython",
    "version": 3
   },
   "file_extension": ".py",
   "mimetype": "text/x-python",
   "name": "python",
   "nbconvert_exporter": "python",
   "pygments_lexer": "ipython3",
   "version": "3.6.6"
  }
 },
 "nbformat": 4,
 "nbformat_minor": 2
}
