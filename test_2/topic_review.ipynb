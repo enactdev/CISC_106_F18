{
 "cells": [
  {
   "cell_type": "markdown",
   "metadata": {},
   "source": [
    "# Topic Review\n",
    "\n",
    "[![Binder](https://mybinder.org/badge.svg)](https://mybinder.org/v2/gh/enactdev/CISC_106_F18/master?filepath=test_2/topic_review.ipynb)\n",
    "\n",
    "**Topic Review from Professor Wassil's documents. Test will be during class on Th. Nov. 8**\n",
    "\n",
    "\n",
    "## Chapter 8 – Loops\n",
    "* **while loops – syntax, condition, body, flow of execution, how many iterations**\n",
    "* **infinite loops – what they are, how to set up the condition to avoid, comparing floats**\n",
    "\n",
    "## Chapter 9 - strings\n",
    "* **[collection data type](http://interactivepython.org/runestone/static/CS152f17/Strings/ACollectionDataType.html)**\n",
    "* **string literals, empty string**\n",
    "* **string operations  + and * how to use with strings**\n",
    "\n"
   ]
  },
  {
   "cell_type": "code",
   "execution_count": 1,
   "metadata": {},
   "outputs": [
    {
     "name": "stdout",
     "output_type": "stream",
     "text": [
      "ab\n"
     ]
    }
   ],
   "source": [
    "my_str = 'a' + 'b'\n",
    "\n",
    "print(my_str)"
   ]
  },
  {
   "cell_type": "code",
   "execution_count": 2,
   "metadata": {},
   "outputs": [
    {
     "name": "stdout",
     "output_type": "stream",
     "text": [
      "77777\n"
     ]
    }
   ],
   "source": [
    "my_str = 5 * '7'\n",
    "\n",
    "print(my_str)"
   ]
  },
  {
   "cell_type": "markdown",
   "metadata": {},
   "source": [
    "### Continue Chapter 9 - strings\n",
    "* **string indexing – positive and negative -- Starts at 0, for negative, last element is at -1**\n",
    "* **Section 9.5 – String Methods  strip(), split()**\n"
   ]
  },
  {
   "cell_type": "code",
   "execution_count": 3,
   "metadata": {},
   "outputs": [
    {
     "name": "stdout",
     "output_type": "stream",
     "text": [
      "The quick brown fox jumps over the lazy dog.\n"
     ]
    }
   ],
   "source": [
    "# Strip, by default (no arguments) will remove all white space including new lines and tabs\n",
    "my_sentence = \" \\n\\n  The quick brown fox jumps over the lazy dog. \\n\\n  \"\n",
    "\n",
    "print(my_sentence.strip())"
   ]
  },
  {
   "cell_type": "code",
   "execution_count": 4,
   "metadata": {},
   "outputs": [
    {
     "name": "stdout",
     "output_type": "stream",
     "text": [
      "The quick brown fox jumps over the lazy dog\n"
     ]
    }
   ],
   "source": [
    "# Strip can also take an argument of what to remove\n",
    "my_sentence = \"The quick brown fox jumps over the lazy dog.\"\n",
    "\n",
    "print(my_sentence.strip('.'))"
   ]
  },
  {
   "cell_type": "code",
   "execution_count": 5,
   "metadata": {},
   "outputs": [
    {
     "name": "stdout",
     "output_type": "stream",
     "text": [
      "The quick brown fox jumps over the lazy dog\n"
     ]
    }
   ],
   "source": [
    "# You can \"chain\" the string methods to first remove white space and then other characters. \n",
    "my_sentence = \" \\n\\n  The quick brown fox jumps over the lazy dog. \\n\\n  \"\n",
    "\n",
    "print(my_sentence.strip().strip('.'))"
   ]
  },
  {
   "cell_type": "code",
   "execution_count": 6,
   "metadata": {},
   "outputs": [
    {
     "name": "stdout",
     "output_type": "stream",
     "text": [
      "<class 'list'>\n",
      "['The', 'quick', 'brown', 'fox', 'jumps', 'over', 'the', 'lazy', 'dog.']\n"
     ]
    }
   ],
   "source": [
    "# By default, split() will strip the text of whitespace and then split the text on whitespace\n",
    "my_sentence = \" \\nThe quick brown fox\\njumps\\tover the lazy dog.   \"\n",
    "\n",
    "my_sentence_split = my_sentence.split()\n",
    "\n",
    "print(type(my_sentence_split))\n",
    "\n",
    "print(my_sentence_split)"
   ]
  },
  {
   "cell_type": "code",
   "execution_count": 7,
   "metadata": {},
   "outputs": [
    {
     "name": "stdout",
     "output_type": "stream",
     "text": [
      "<class 'list'>\n",
      "[' Th', ' quick brown fox\\njumps\\tov', 'r th', ' lazy dog.   ']\n"
     ]
    }
   ],
   "source": [
    "# You can also split on a specified character. This will not strip the text first\n",
    "my_sentence = \" The quick brown fox\\njumps\\tover the lazy dog.   \"\n",
    "\n",
    "my_sentence_split = my_sentence.split('e')\n",
    "\n",
    "print(type(my_sentence_split))\n",
    "\n",
    "print(my_sentence_split)"
   ]
  },
  {
   "cell_type": "code",
   "execution_count": 8,
   "metadata": {},
   "outputs": [
    {
     "name": "stdout",
     "output_type": "stream",
     "text": [
      "<class 'list'>\n",
      "[' \\n\\n  Th', ' quick brown fox jumps ov', 'r th', ' lazy dog. \\n\\n  ']\n"
     ]
    }
   ],
   "source": [
    "# You can also split on a specified character\n",
    "my_sentence = \" \\n\\n  The quick brown fox jumps over the lazy dog. \\n\\n  \"\n",
    "\n",
    "my_sentence_split = my_sentence.split('e')\n",
    "\n",
    "print(type(my_sentence_split))\n",
    "\n",
    "print(my_sentence_split)"
   ]
  },
  {
   "cell_type": "code",
   "execution_count": 9,
   "metadata": {},
   "outputs": [
    {
     "name": "stdout",
     "output_type": "stream",
     "text": [
      "<class 'int'>\n",
      "7\n"
     ]
    }
   ],
   "source": [
    "# Note: When doing type conversion, whitespace is removed for you\n",
    "my_int = int('   7   \\n\\t')\n",
    "\n",
    "print(type(my_int))\n",
    "\n",
    "print(my_int)"
   ]
  },
  {
   "cell_type": "markdown",
   "metadata": {},
   "source": [
    "### Continue Chapter 9 - strings\n",
    "* **len function – passing strings**\n",
    "* **slicing**\n",
    "* **how string comparison works**"
   ]
  },
  {
   "cell_type": "code",
   "execution_count": 10,
   "metadata": {},
   "outputs": [
    {
     "name": "stdout",
     "output_type": "stream",
     "text": [
      "True\n"
     ]
    }
   ],
   "source": [
    "# You can test equality\n",
    "print('a' == 'a')"
   ]
  },
  {
   "cell_type": "code",
   "execution_count": 11,
   "metadata": {},
   "outputs": [
    {
     "data": {
      "text/plain": [
       "True"
      ]
     },
     "execution_count": 11,
     "metadata": {},
     "output_type": "execute_result"
    }
   ],
   "source": [
    "# Silimiar to lists, you can test if s shorter string is in a string\n",
    "'a' in 'abc'"
   ]
  },
  {
   "cell_type": "code",
   "execution_count": 12,
   "metadata": {},
   "outputs": [
    {
     "data": {
      "text/plain": [
       "0"
      ]
     },
     "execution_count": 12,
     "metadata": {},
     "output_type": "execute_result"
    }
   ],
   "source": [
    "# You can also use methods such as find()\n",
    "# Silimiar to lists, you can test if s shorter string is in a string\n",
    "# Note that find will return the index, starting at 0\n",
    "'abc'.find('a')"
   ]
  },
  {
   "cell_type": "code",
   "execution_count": 13,
   "metadata": {},
   "outputs": [
    {
     "data": {
      "text/plain": [
       "-1"
      ]
     },
     "execution_count": 13,
     "metadata": {},
     "output_type": "execute_result"
    }
   ],
   "source": [
    "# If the string is not in there, the find() method returns -1\n",
    "'abc'.find('d')"
   ]
  },
  {
   "cell_type": "code",
   "execution_count": 14,
   "metadata": {},
   "outputs": [],
   "source": [
    "# If you're using a conditional, remember that 0 evaluates to false\n",
    "if 'abc'.find('a'):\n",
    "    print('This does not print even though a is in abc because it is at index 0')"
   ]
  },
  {
   "cell_type": "markdown",
   "metadata": {},
   "source": [
    "### Continue Chapter 9 - strings\n",
    "* **immutable – what that means , what can’t be done with strings**\n",
    "* **traversing strings by element (for loops)**"
   ]
  },
  {
   "cell_type": "code",
   "execution_count": 15,
   "metadata": {
    "scrolled": true
   },
   "outputs": [
    {
     "name": "stdout",
     "output_type": "stream",
     "text": [
      "T\n",
      "h\n",
      "e\n",
      " \n",
      "q\n",
      "u\n",
      "i\n",
      "c\n",
      "k\n",
      " \n",
      "f\n",
      "o\n",
      "x\n",
      ".\n"
     ]
    }
   ],
   "source": [
    "my_sentence = \"The quick fox.\"\n",
    "\n",
    "for character in my_sentence:\n",
    "    print(character)"
   ]
  },
  {
   "cell_type": "code",
   "execution_count": 16,
   "metadata": {},
   "outputs": [
    {
     "name": "stdout",
     "output_type": "stream",
     "text": [
      "1\n"
     ]
    }
   ],
   "source": [
    "# Note that \\n is a single character\n",
    "print(len('\\n'))"
   ]
  },
  {
   "cell_type": "markdown",
   "metadata": {},
   "source": [
    "### Continue Chapter 9 - strings\n",
    "* **traversing strings by index (for loops using the range function) -- pass it the length**\n",
    "    * **Check the [starter code](../starter_code.ipynb) if you need examples of looping by index**\n",
    "* **in and not in operator -- See example above**\n",
    "\n",
    "## Chapter 10 – Lists \n",
    "* **list creation, empty list**\n",
    "* **len function - TOPMOST level**\n",
    "* **list Indexing**\n",
    "* **list Membership – in and not in – TOPMOST level**\n",
    "* **slicing**\n",
    "* **mutable**\n",
    "* **deletion operator**\n"
   ]
  },
  {
   "cell_type": "code",
   "execution_count": 17,
   "metadata": {},
   "outputs": [
    {
     "name": "stdout",
     "output_type": "stream",
     "text": [
      "['a', 'b', 'c', 'd', 'e']\n",
      "['a', 'b', 'd', 'e']\n",
      "['a', 'b', 'e']\n"
     ]
    }
   ],
   "source": [
    "my_list = ['a', 'b', 'c', 'd', 'e']\n",
    "\n",
    "print(my_list)\n",
    "\n",
    "del(my_list[2])\n",
    "\n",
    "print(my_list)\n",
    "\n",
    "del(my_list[2])\n",
    "\n",
    "print(my_list)"
   ]
  },
  {
   "cell_type": "code",
   "execution_count": 18,
   "metadata": {},
   "outputs": [
    {
     "name": "stdout",
     "output_type": "stream",
     "text": [
      "['a', 'b', 'c', 'd', 'e']\n",
      "['a', 'e']\n"
     ]
    }
   ],
   "source": [
    "# Probably not on test, but you can also delete a list slice\n",
    "my_list = ['a', 'b', 'c', 'd', 'e']\n",
    "\n",
    "print(my_list)\n",
    "\n",
    "del(my_list[1:4])\n",
    "\n",
    "print(my_list)"
   ]
  },
  {
   "cell_type": "markdown",
   "metadata": {},
   "source": [
    "* **aliasing, cloning -- For more information see the [guide on mutable data types](../guides/mutable_data_types.ipynb)**\n"
   ]
  },
  {
   "cell_type": "code",
   "execution_count": 19,
   "metadata": {},
   "outputs": [
    {
     "name": "stdout",
     "output_type": "stream",
     "text": [
      "['A', 'b', 'c', 'd', 'e']\n"
     ]
    }
   ],
   "source": [
    "# Aliasing\n",
    "my_list_a = ['a', 'b', 'c', 'd', 'e']\n",
    "\n",
    "# Both will be pointing to the same object\n",
    "my_list_b = my_list_a\n",
    "\n",
    "my_list_b[0] = my_list_b[0].upper()\n",
    "\n",
    "# Changing b also changes a\n",
    "print(my_list_a)"
   ]
  },
  {
   "cell_type": "code",
   "execution_count": 20,
   "metadata": {
    "scrolled": true
   },
   "outputs": [
    {
     "ename": "TypeError",
     "evalue": "'tuple' object does not support item assignment",
     "output_type": "error",
     "traceback": [
      "\u001b[0;31m---------------------------------------------------------------------------\u001b[0m",
      "\u001b[0;31mTypeError\u001b[0m                                 Traceback (most recent call last)",
      "\u001b[0;32m<ipython-input-20-aebdaa719cdf>\u001b[0m in \u001b[0;36m<module>\u001b[0;34m()\u001b[0m\n\u001b[1;32m      5\u001b[0m \u001b[0;34m\u001b[0m\u001b[0m\n\u001b[1;32m      6\u001b[0m \u001b[0;31m# Since tuples are immutable, you can not change at an index (same with strings)\u001b[0m\u001b[0;34m\u001b[0m\u001b[0;34m\u001b[0m\u001b[0m\n\u001b[0;32m----> 7\u001b[0;31m \u001b[0mmy_tuple_b\u001b[0m\u001b[0;34m[\u001b[0m\u001b[0;36m0\u001b[0m\u001b[0;34m]\u001b[0m \u001b[0;34m=\u001b[0m \u001b[0mmy_tuple_b\u001b[0m\u001b[0;34m[\u001b[0m\u001b[0;36m0\u001b[0m\u001b[0;34m]\u001b[0m\u001b[0;34m.\u001b[0m\u001b[0mupper\u001b[0m\u001b[0;34m(\u001b[0m\u001b[0;34m)\u001b[0m\u001b[0;34m\u001b[0m\u001b[0m\n\u001b[0m",
      "\u001b[0;31mTypeError\u001b[0m: 'tuple' object does not support item assignment"
     ]
    }
   ],
   "source": [
    "# Note that tuples are not mutable, so a and b will be different\n",
    "my_tuple_a = ('a', 'b', 'c', 'd', 'e')\n",
    "\n",
    "my_tuple_b = my_tuple_a\n",
    "\n",
    "# Since tuples are immutable, you can not change at an index (same with strings)\n",
    "my_tuple_b[0] = my_tuple_b[0].upper()\n"
   ]
  },
  {
   "cell_type": "code",
   "execution_count": null,
   "metadata": {},
   "outputs": [],
   "source": [
    "# cloning -- use the copy method\n",
    "\n",
    "my_list_a = ['a', 'b', 'c', 'd', 'e']\n",
    "\n",
    "# b is a clone of a since the copy() method is used\n",
    "my_list_b = my_list_a.copy()\n",
    "\n",
    "my_list_b[0] = my_list_b[0].upper()\n",
    "\n",
    "# a is the same\n",
    "print(my_list_a)"
   ]
  },
  {
   "cell_type": "markdown",
   "metadata": {},
   "source": [
    "* **iterate through elements in list with indexes using the range function**\n",
    "    * **Check the [starter code](../starter_code.ipynb) if you need examples of looping by index**\n",
    "* **iterate through elements in list by item**\n",
    "    * **Similar to looping through a string by character above, also can review starter code for example**\n",
    "* **list() – how to use to make a list**\n",
    "* **passing lists to functions**\n",
    "    * **Remember that passing a list to a function passes by alias just like above, and the function can change the list, which carryes over outside the function**\n",
    "* **defining functions with lists as parameters**\n",
    "* **nested lists - indexing**\n",
    "* **nested loops to iterate over nested lists**\n",
    "\n",
    "## Recursion - Chapter 15– Sections 15.1-15.3 only\n",
    "* **definition of recursion**\n",
    "* **base case, recursive case**\n",
    "* **tracing recursive calls**\n",
    "\n",
    "## Files -  Chapter 11 \n",
    "* **how to open a file**\n",
    "* **how to read lines from a file **\n",
    "* **how to use readline to get the header of a file**\n",
    "* **how to extract data from the lines**\n",
    "* **how to close a file**\n",
    "* **string methods: split and strip**"
   ]
  },
  {
   "cell_type": "code",
   "execution_count": null,
   "metadata": {},
   "outputs": [],
   "source": []
  }
 ],
 "metadata": {
  "kernelspec": {
   "display_name": "Python 3",
   "language": "python",
   "name": "python3"
  },
  "language_info": {
   "codemirror_mode": {
    "name": "ipython",
    "version": 3
   },
   "file_extension": ".py",
   "mimetype": "text/x-python",
   "name": "python",
   "nbconvert_exporter": "python",
   "pygments_lexer": "ipython3",
   "version": "3.6.6"
  }
 },
 "nbformat": 4,
 "nbformat_minor": 2
}
