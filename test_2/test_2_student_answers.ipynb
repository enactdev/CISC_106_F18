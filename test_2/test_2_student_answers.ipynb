{
 "cells": [
  {
   "cell_type": "markdown",
   "metadata": {},
   "source": [
    "# CISC 106 Williams -- Student Solutions to Test 2\n",
    "\n",
    "### Thursday November 8, 2018\n",
    "\n",
    "[![Binder](https://mybinder.org/badge.svg)](https://mybinder.org/v2/gh/enactdev/CISC_106_F18/master?filepath=test_2/test_2_student_answers.ipynb)\n",
    "\n",
    "**These are only the questions where there were correct student answers that differed from mine. To see instructor solutions view [test_2_solutions.ipynb](test_2_solutions.ipynb).**"
   ]
  },
  {
   "cell_type": "markdown",
   "metadata": {},
   "source": [
    "---\n",
    "### Use the following for 8-10. Given:\n",
    "\n",
    "my_str = \"Crazy like a fox.\\n\"\n",
    "\n",
    "**Line above was not in code-font, which uses the same width for all characters. That was my fault. Should have looked like this:**\n",
    "\n",
    "```\n",
    "my_str = \"Crazy like a fox.\\n\"\n",
    "```\n",
    "\n",
    "### 8) What is the value of `len(my_str)`?  \\_\\_\\_\\_\\_\\_\\_\\_\\_\n"
   ]
  },
  {
   "cell_type": "code",
   "execution_count": 1,
   "metadata": {},
   "outputs": [
    {
     "name": "stdout",
     "output_type": "stream",
     "text": [
      "len(my_str): 18\n"
     ]
    }
   ],
   "source": [
    "my_str = \"Crazy like a fox.\\n\"\n",
    "\n",
    "print('len(my_str):', len(my_str))\n"
   ]
  },
  {
   "cell_type": "markdown",
   "metadata": {},
   "source": [
    "---\n",
    "**For Questions 13, 14, and 24: You can think of a nested list as a grid with rows and columns, where each inner-list holds a row of values. For instance, a formatted version of `[[1, 2, 3], [4, 5, 6], [7, 8, 9]]` that looks like a grid is:**\n",
    "```\n",
    "[[1, 2, 3], \n",
    " [4, 5, 6], \n",
    " [7, 8, 9]]\n",
    "```\n",
    "### 13) Set `nested_list_diagonal` to be a list of three values, the top-left to lower-right diagonal of `nested_list` (see `assertEqual()` statement):\n",
    "```\n",
    "nested_list = [[1, 2, 3], [4, 5, 6], [7, 8, 9]]\n",
    "\n",
    "# Finish this line:\n",
    "nested_list_diagonal = \n",
    "\n",
    "# This statement is a SUCCESS\n",
    "assertEqual(nested_list_diagonal, [1, 5, 9])\n",
    "```"
   ]
  },
  {
   "cell_type": "code",
   "execution_count": 2,
   "metadata": {},
   "outputs": [
    {
     "name": "stdout",
     "output_type": "stream",
     "text": [
      "SUCCESS - [line 9] assertEqual(nested_list_diagonal, [1, 5, 9])\n"
     ]
    },
    {
     "data": {
      "text/plain": [
       "True"
      ]
     },
     "execution_count": 2,
     "metadata": {},
     "output_type": "execute_result"
    }
   ],
   "source": [
    "# My expected solution:\n",
    "from cisc106 import assertEqual\n",
    "nested_list = [[1, 2, 3], [4, 5, 6], [7, 8, 9]]\n",
    "\n",
    "# Finish this line:\n",
    "nested_list_diagonal = [nested_list[0][0], nested_list[1][1], nested_list[2][2]]\n",
    "\n",
    "# This statement is a SUCCESS\n",
    "assertEqual(nested_list_diagonal, [1, 5, 9])\n",
    "\n"
   ]
  },
  {
   "cell_type": "markdown",
   "metadata": {},
   "source": [
    "**A few students did not put brackets around their list items, but turns out that code works because it creates a tuple:**"
   ]
  },
  {
   "cell_type": "code",
   "execution_count": 8,
   "metadata": {},
   "outputs": [
    {
     "name": "stdout",
     "output_type": "stream",
     "text": [
      "<class 'tuple'>\n",
      "SUCCESS - [line 7] assertEqual(nested_list_diagonal, [1, 5, 9])\n"
     ]
    },
    {
     "data": {
      "text/plain": [
       "True"
      ]
     },
     "execution_count": 8,
     "metadata": {},
     "output_type": "execute_result"
    }
   ],
   "source": [
    "# Finish this line:\n",
    "nested_list_diagonal = nested_list[0][0], nested_list[1][1], nested_list[2][2]\n",
    "\n",
    "print(type(nested_list_diagonal))\n",
    "\n",
    "# This statement is a SUCCESS\n",
    "assertEqual(nested_list_diagonal, [1, 5, 9])\n"
   ]
  },
  {
   "cell_type": "markdown",
   "metadata": {},
   "source": [
    "**But please note that Python does not treat them as equal:**"
   ]
  },
  {
   "cell_type": "code",
   "execution_count": 9,
   "metadata": {},
   "outputs": [
    {
     "ename": "AssertionError",
     "evalue": "",
     "output_type": "error",
     "traceback": [
      "\u001b[0;31m---------------------------------------------------------------------------\u001b[0m",
      "\u001b[0;31mAssertionError\u001b[0m                            Traceback (most recent call last)",
      "\u001b[0;32m<ipython-input-9-876ce7302a41>\u001b[0m in \u001b[0;36m<module>\u001b[0;34m()\u001b[0m\n\u001b[1;32m      3\u001b[0m \u001b[0mnested_tuple_diagonal\u001b[0m \u001b[0;34m=\u001b[0m \u001b[0mnested_list\u001b[0m\u001b[0;34m[\u001b[0m\u001b[0;36m0\u001b[0m\u001b[0;34m]\u001b[0m\u001b[0;34m[\u001b[0m\u001b[0;36m0\u001b[0m\u001b[0;34m]\u001b[0m\u001b[0;34m,\u001b[0m \u001b[0mnested_list\u001b[0m\u001b[0;34m[\u001b[0m\u001b[0;36m1\u001b[0m\u001b[0;34m]\u001b[0m\u001b[0;34m[\u001b[0m\u001b[0;36m1\u001b[0m\u001b[0;34m]\u001b[0m\u001b[0;34m,\u001b[0m \u001b[0mnested_list\u001b[0m\u001b[0;34m[\u001b[0m\u001b[0;36m2\u001b[0m\u001b[0;34m]\u001b[0m\u001b[0;34m[\u001b[0m\u001b[0;36m2\u001b[0m\u001b[0;34m]\u001b[0m\u001b[0;34m\u001b[0m\u001b[0m\n\u001b[1;32m      4\u001b[0m \u001b[0;34m\u001b[0m\u001b[0m\n\u001b[0;32m----> 5\u001b[0;31m \u001b[0;32massert\u001b[0m \u001b[0mnested_list_diagonal\u001b[0m \u001b[0;34m==\u001b[0m \u001b[0mnested_tuple_diagonal\u001b[0m\u001b[0;34m\u001b[0m\u001b[0m\n\u001b[0m",
      "\u001b[0;31mAssertionError\u001b[0m: "
     ]
    }
   ],
   "source": [
    "nested_list_diagonal = [nested_list[0][0], nested_list[1][1], nested_list[2][2]]\n",
    "\n",
    "nested_tuple_diagonal = nested_list[0][0], nested_list[1][1], nested_list[2][2]\n",
    "\n",
    "assert nested_list_diagonal == nested_tuple_diagonal"
   ]
  },
  {
   "cell_type": "markdown",
   "metadata": {},
   "source": [
    "---\n",
    "### 15) Given:\n",
    "```\n",
    "my_str = 'The quick brown fox jumps over the lazy dog.'\n",
    "```\n",
    "\n",
    "### 15) Use the string `replace()` method and print (changes in italics): The quick *red* fox jumps over the *ugly* dog.\n",
    "```\n",
    "# Write code below\n",
    "\n",
    "```\n",
    "```\n",
    "\n",
    "```\n",
    "\n",
    "**Some people tried to include italics in the sentence. Sorry for the confusion, no points off. Others accessed the string by index, which was correct as long as your indexes were correct:**"
   ]
  },
  {
   "cell_type": "code",
   "execution_count": 19,
   "metadata": {},
   "outputs": [
    {
     "name": "stdout",
     "output_type": "stream",
     "text": [
      "The quick red fox jumps over the ugly dog.\n",
      "The quick red fox jumps over the ugly dog.\n"
     ]
    }
   ],
   "source": [
    "my_str = 'The quick brown fox jumps over the lazy dog.'\n",
    "\n",
    "print(my_str.replace('brown', 'red').replace('lazy', 'ugly'))\n",
    "\n",
    "print(my_str.replace(my_str[10:15], 'red').replace(my_str[35:39], 'ugly'))\n"
   ]
  },
  {
   "cell_type": "code",
   "execution_count": 13,
   "metadata": {},
   "outputs": [
    {
     "name": "stdout",
     "output_type": "stream",
     "text": [
      "SUCCESS - [line 13] assertEqual(nested_list_size([[1], [2, 3], [4, 5, 6]]), [3, 3])\n",
      "SUCCESS - [line 16] assertEqual(nested_list_size([[1]]), [1, 1])\n",
      "SUCCESS - [line 18] assertEqual(nested_list_size([[1], [2, 3], [4, 5]]), [3, 2])\n"
     ]
    },
    {
     "data": {
      "text/plain": [
       "True"
      ]
     },
     "execution_count": 13,
     "metadata": {},
     "output_type": "execute_result"
    }
   ],
   "source": [
    "def nested_list_size(nested_list):\n",
    "    # Finish the function\n",
    "    max_length = len(nested_list[0])\n",
    "    \n",
    "    for inner_list in nested_list:\n",
    "        if len(inner_list) > max_length:\n",
    "            max_length = len(inner_list)\n",
    "            \n",
    "    return [len(nested_list), max_length]\n",
    "\n",
    "\n",
    "# This one is correct\n",
    "assertEqual(nested_list_size([[1], [2, 3], [4, 5, 6]]), [3, 3])\n",
    "\n",
    "# Finish these two:\n",
    "assertEqual(nested_list_size([[1]]), [1, 1])\n",
    "\n",
    "assertEqual(nested_list_size([[1], [2, 3], [4, 5]]), [3, 2])"
   ]
  },
  {
   "cell_type": "markdown",
   "metadata": {},
   "source": [
    "---\n",
    "### 25) Finish the function `sum_numbers_from_filename()` that takes a single argument, the location of a file that has a single number on each line. Sum all the numbers and return the value. (5 points)\n",
    "\n",
    "**The file is called `numbers.txt` and the numbers it holds are unknown. But, an example might be:**\n",
    "\n",
    "```\n",
    "67\n",
    "974\n",
    "23\n",
    "178\n",
    "98\n",
    "```\n",
    "\n",
    "```\n",
    "def sum_numbers_from_filename(filename):\n",
    "    # Open the file for reading\n",
    "    \n",
    "    \n",
    "    # Finish the rest of the function\n",
    "\n",
    "\n",
    "\n",
    "\n",
    "\n",
    "\n",
    "\n",
    "# This line is provided to give an example of calling the function\n",
    "print(sum_numbers_from_filename('numbers.txt'))\n",
    "```\n",
    "\n",
    "**There were a few different ways students solved this:**"
   ]
  },
  {
   "cell_type": "code",
   "execution_count": 14,
   "metadata": {},
   "outputs": [
    {
     "name": "stdout",
     "output_type": "stream",
     "text": [
      "1340\n"
     ]
    }
   ],
   "source": [
    "def sum_numbers_from_filename(filename):\n",
    "    # Open the file for reading\n",
    "    f = open(filename, 'r')\n",
    "    \n",
    "    # Finish the rest of the function\n",
    "    my_sum = 0\n",
    "    for line in f:\n",
    "        my_sum += int(line)\n",
    "    \n",
    "    return my_sum\n",
    "\n",
    "# This line is provided to give an example of calling the function\n",
    "print(sum_numbers_from_filename('numbers.txt'))"
   ]
  },
  {
   "cell_type": "code",
   "execution_count": 27,
   "metadata": {},
   "outputs": [
    {
     "name": "stdout",
     "output_type": "stream",
     "text": [
      "1340\n"
     ]
    }
   ],
   "source": [
    "# Using the readlines() method\n",
    "def sum_numbers_from_filename(filename):\n",
    "    # Open the file for reading\n",
    "    f = open(filename, 'r')\n",
    "    \n",
    "    # Finish the rest of the function\n",
    "    my_sum = 0\n",
    "    num_list = f.readlines()\n",
    "    for i in range(len(num_list)):\n",
    "        my_sum += int(num_list[i])\n",
    "    \n",
    "    return my_sum\n",
    "\n",
    "# This line is provided to give an example of calling the function\n",
    "print(sum_numbers_from_filename('numbers.txt'))"
   ]
  },
  {
   "cell_type": "code",
   "execution_count": 20,
   "metadata": {},
   "outputs": [
    {
     "name": "stdout",
     "output_type": "stream",
     "text": [
      "1340\n"
     ]
    }
   ],
   "source": [
    "# Reading entire file at once\n",
    "def sum_numbers_from_filename(filename):\n",
    "    # Open the file for reading\n",
    "    f = open(filename, 'r')\n",
    "    \n",
    "    # Finish the rest of the function\n",
    "    file_contents = f.read()\n",
    "\n",
    "    my_sum = 0\n",
    "\n",
    "    for line in file_contents.split():\n",
    "         my_sum += int(line)\n",
    "\n",
    "    return my_sum\n",
    "\n",
    "# This line is provided to give an example of calling the function\n",
    "print(sum_numbers_from_filename('numbers.txt'))"
   ]
  },
  {
   "cell_type": "markdown",
   "metadata": {},
   "source": [
    "---\n",
    "### 26) Finish the function `remove_max_from_list()` that takes a list as its only argument and removes all occurances of whichever element is the max. Edit the list that is passed, and do not change the order of the other elements. (5 points)\n",
    "\n",
    "**Example:**\n",
    "```\n",
    "my_list = [3, 9, 1, 9]\n",
    "remove_max_from_list(my_list)\n",
    "assertEqual(my_list, [3, 1] ) # This one is a SUCCESS\n",
    "```\n",
    "**Solve here:**\n",
    "```\n",
    "def remove_max_from_list(a_list):\n",
    "    # Finish the rest of the function\n",
    "```\n",
    "```\n",
    "\n",
    "```\n",
    "```\n",
    "\n",
    "```\n",
    "```\n",
    "\n",
    "```"
   ]
  },
  {
   "cell_type": "code",
   "execution_count": 15,
   "metadata": {},
   "outputs": [
    {
     "name": "stdout",
     "output_type": "stream",
     "text": [
      "SUCCESS - [line 9] assertEqual(my_list, [3, 1] )\n"
     ]
    },
    {
     "data": {
      "text/plain": [
       "True"
      ]
     },
     "execution_count": 15,
     "metadata": {},
     "output_type": "execute_result"
    }
   ],
   "source": [
    "def remove_max_from_list(a_list):\n",
    "    # Finish the rest of the function\n",
    "    list_max = max(a_list)\n",
    "    while list_max in a_list:\n",
    "        a_list.remove(list_max)\n",
    "    \n",
    "my_list = [3, 9, 1, 9]\n",
    "remove_max_from_list(my_list)\n",
    "assertEqual(my_list, [3, 1] )"
   ]
  },
  {
   "cell_type": "markdown",
   "metadata": {},
   "source": [
    "**A lot of students only called the remove() method once. Note this does not remove all instances.**"
   ]
  },
  {
   "cell_type": "code",
   "execution_count": 21,
   "metadata": {},
   "outputs": [
    {
     "name": "stdout",
     "output_type": "stream",
     "text": [
      "FAILURE - [line 8] assertEqual(my_list, [3, 1] ), predicted answer was [3, 1], computed answer was [3, 1, 9] \n"
     ]
    },
    {
     "data": {
      "text/plain": [
       "False"
      ]
     },
     "execution_count": 21,
     "metadata": {},
     "output_type": "execute_result"
    }
   ],
   "source": [
    "def remove_max_from_list(a_list):\n",
    "    # Finish the rest of the function\n",
    "    list_max = max(a_list)\n",
    "    a_list.remove(list_max)\n",
    "    \n",
    "my_list = [3, 9, 1, 9]\n",
    "remove_max_from_list(my_list)\n",
    "assertEqual(my_list, [3, 1] )"
   ]
  },
  {
   "cell_type": "markdown",
   "metadata": {},
   "source": [
    "---\n",
    "**Consider a triangle of size 4:**\n",
    "```\n",
    "####\n",
    "###\n",
    "##\n",
    "#\n",
    "```\n",
    "**Note the top line has four hashmarks, there are four lines in total, and the bottom line has a single hash mark. A tringle of size 1 would be just a single line with a single hashmark. For full credit, use recusion on this problem. You can solve it without recusion for half credit.**\n",
    "\n",
    "### 27) Finish the function `draw_triangle()` that takes a number as its only argument and draws a triangle of that size as described above. (5 points)\n",
    "\n",
    "```\n",
    "def draw_triangle(n):\n",
    "    # Finish the rest of the function\n",
    "```\n",
    "```\n",
    "\n",
    "```\n",
    "```\n",
    "\n",
    "```\n",
    "```\n",
    "\n",
    "```"
   ]
  },
  {
   "cell_type": "code",
   "execution_count": 16,
   "metadata": {},
   "outputs": [
    {
     "name": "stdout",
     "output_type": "stream",
     "text": [
      "#####\n",
      "####\n",
      "###\n",
      "##\n",
      "#\n"
     ]
    }
   ],
   "source": [
    "def draw_triangle(n):\n",
    "    # Finish the rest of the function\n",
    "    # If n is 1 we need to return, \n",
    "    # otherwise recursive function will call itself for infinity\n",
    "    if n == 1:\n",
    "        print('#')\n",
    "        return\n",
    "    \n",
    "    line = ''\n",
    "    for i in range(n):\n",
    "        line += '#'\n",
    "    print(line)\n",
    "    draw_triangle(n-1)\n",
    "    \n",
    "draw_triangle(5)"
   ]
  },
  {
   "cell_type": "code",
   "execution_count": 30,
   "metadata": {},
   "outputs": [
    {
     "name": "stdout",
     "output_type": "stream",
     "text": [
      "#####\n",
      "####\n",
      "###\n",
      "##\n",
      "#\n"
     ]
    }
   ],
   "source": [
    "# Or without recursion\n",
    "def draw_triangle(n):\n",
    "    while n >= 1:\n",
    "        print('#' * n)\n",
    "        n -= 1\n",
    "    \n",
    "draw_triangle(5)"
   ]
  },
  {
   "cell_type": "code",
   "execution_count": 22,
   "metadata": {},
   "outputs": [
    {
     "name": "stdout",
     "output_type": "stream",
     "text": [
      "#####\n",
      "####\n",
      "###\n",
      "##\n",
      "#\n"
     ]
    }
   ],
   "source": [
    "# With recursion, assumed return \n",
    "def draw_triangle(n):\n",
    "    print('#' * n)\n",
    "    n -= 1\n",
    "    if n > 0:\n",
    "        draw_triangle(n)\n",
    "    \n",
    "draw_triangle(5)"
   ]
  },
  {
   "cell_type": "markdown",
   "metadata": {},
   "source": [
    "**One student returned a triangle instead of printing it.**"
   ]
  },
  {
   "cell_type": "code",
   "execution_count": 24,
   "metadata": {},
   "outputs": [
    {
     "name": "stdout",
     "output_type": "stream",
     "text": [
      "#####\n",
      "####\n",
      "###\n",
      "##\n",
      "#\n"
     ]
    }
   ],
   "source": [
    "# Or without recursion\n",
    "def draw_triangle(n):\n",
    "    if n == 1:\n",
    "        return '#'\n",
    "    else:\n",
    "        return (n * '#')+'\\n' + draw_triangle(n-1)\n",
    "\n",
    "    \n",
    "print(draw_triangle(5))"
   ]
  }
 ],
 "metadata": {
  "kernelspec": {
   "display_name": "Python 3",
   "language": "python",
   "name": "python3"
  },
  "language_info": {
   "codemirror_mode": {
    "name": "ipython",
    "version": 3
   },
   "file_extension": ".py",
   "mimetype": "text/x-python",
   "name": "python",
   "nbconvert_exporter": "python",
   "pygments_lexer": "ipython3",
   "version": "3.6.6"
  }
 },
 "nbformat": 4,
 "nbformat_minor": 2
}
