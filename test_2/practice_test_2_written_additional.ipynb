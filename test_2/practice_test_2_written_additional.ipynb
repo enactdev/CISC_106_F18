{
 "cells": [
  {
   "cell_type": "markdown",
   "metadata": {},
   "source": [
    "# Practice Test 2 -- Additional Written Problems\n",
    "\n",
    "[![Binder](https://mybinder.org/badge.svg)](https://mybinder.org/v2/gh/enactdev/CISC_106_F18/master?filepath=test_2/practice_test_2_written_additional.ipynb)\n",
    "\n",
    "---\n",
    "\n",
    "**Finish this function `create_sentence_from_filename()` that takes a single argument, the location of a file that has a single word on each line, and turns the words into a sentence. You need to capitalize the first letter of the first word, and return a sentence with a period at the end.**\n",
    "\n",
    "**The test file is called `words.txt` and its content is as follows:**\n",
    "\n",
    "```\n",
    "the\n",
    "quick\n",
    "brown\n",
    "fox\n",
    "jumped\n",
    "over\n",
    "the\n",
    "lazy\n",
    "dog\n",
    "```\n"
   ]
  },
  {
   "cell_type": "code",
   "execution_count": null,
   "metadata": {},
   "outputs": [],
   "source": [
    "def create_sentence_from_filename(filename):\n",
    "    # Open the file for reading\n",
    "    \n",
    "    # Remove 'pass' on the next line and finish the function\n",
    "    pass\n",
    "\n",
    "# This should print: The quick brown fox jumped over the lazy dog.\n",
    "print(create_sentence_from_filename('words.txt'))\n"
   ]
  },
  {
   "cell_type": "markdown",
   "metadata": {},
   "source": [
    "---\n",
    "\n",
    "**Write a function `count_word_lengths(a_string)` that, given a string consisting of words separated by spaces, returns a list containing the length of each word. Words will consist of alphabetic characters, you do not need to worry about punctuation. If the string is empty then the function should return an empty list.**\n"
   ]
  },
  {
   "cell_type": "code",
   "execution_count": null,
   "metadata": {},
   "outputs": [],
   "source": [
    "def count_word_lengths(a_string):\n",
    "    # Remove 'pass' on the next line and finish the function\n",
    "    pass\n",
    "\n",
    "# Should print the list: [3, 5, 5, 3, 6, 4, 3, 4, 3]\n",
    "print(count_word_lengths('The quick brown fox jumped over the lazy dog'))"
   ]
  }
 ],
 "metadata": {
  "kernelspec": {
   "display_name": "Python 3",
   "language": "python",
   "name": "python3"
  },
  "language_info": {
   "codemirror_mode": {
    "name": "ipython",
    "version": 3
   },
   "file_extension": ".py",
   "mimetype": "text/x-python",
   "name": "python",
   "nbconvert_exporter": "python",
   "pygments_lexer": "ipython3",
   "version": "3.6.6"
  }
 },
 "nbformat": 4,
 "nbformat_minor": 2
}
