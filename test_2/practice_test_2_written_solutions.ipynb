{
 "cells": [
  {
   "cell_type": "markdown",
   "metadata": {},
   "source": [
    "# Solutions to Practice Test 2 -- Written\n",
    "\n",
    "[![Binder](https://mybinder.org/badge.svg)](https://mybinder.org/v2/gh/enactdev/CISC_106_F18/master?filepath=test_2/practice_test_2_written_solutions.ipynb)\n",
    "\n",
    "**Real test during class on Th. Nov. 8**\n",
    "\n",
    "**Note: There is often multiple ways to solve a problem, my solutions may not directly match yours even when you would get full credit.**\n",
    "\n",
    "## Updates\n",
    "* **Writing the assertEqual statements for the `list_replace()` function is problematic since the list is edited in place. Don't worry if you had trouble here.**\n",
    "* **I added this to the problem description for creating a nested list: \" and in order\"**\n",
    "\n",
    "**Cell below imports the assertEqual function. Run it first before continuing. Do not change it.**"
   ]
  },
  {
   "cell_type": "code",
   "execution_count": 1,
   "metadata": {},
   "outputs": [],
   "source": [
    "# Leave this alone\n",
    "from cisc106 import assertEqual"
   ]
  },
  {
   "cell_type": "markdown",
   "metadata": {},
   "source": [
    "---\n",
    "\n",
    "**5 Points:**\n",
    "\n",
    "**Lists do not have a replace method. Write a function called `list_replace()` that takes a list, a search item, and a replace item. The function edits the list, replacing all instances of search item with the replace item.**\n",
    "\n",
    "****"
   ]
  },
  {
   "cell_type": "code",
   "execution_count": 2,
   "metadata": {},
   "outputs": [],
   "source": [
    "def list_replace(a_list, search_item, replace_item):\n",
    "    # Remove the 'pass' line below and write the function\n",
    "    \n",
    "    # We need to iterate by index since we are editing the list that was passed\n",
    "    for i in range(len(a_list)):\n",
    "        if a_list[i] == search_item:\n",
    "            a_list[i] = replace_item\n",
    "\n",
    "\n",
    "        "
   ]
  },
  {
   "cell_type": "markdown",
   "metadata": {},
   "source": [
    "**Now write two assertEqual statements to test your function above. At least one of the tests needs to have a `search_item` that appears more than once in the list (such as `list_replace([1, 1, 2, 3], 1, 'a')` but do not use that example).**"
   ]
  },
  {
   "cell_type": "code",
   "execution_count": 3,
   "metadata": {},
   "outputs": [
    {
     "name": "stdout",
     "output_type": "stream",
     "text": [
      "SUCCESS - [line 4] assertEqual(my_list, ['a', 2, 3])\n",
      "SUCCESS - [line 8] assertEqual(my_list, ['a', 2, 'c'])\n"
     ]
    },
    {
     "data": {
      "text/plain": [
       "True"
      ]
     },
     "execution_count": 3,
     "metadata": {},
     "output_type": "execute_result"
    }
   ],
   "source": [
    "# Write 2 assertEqual statements that test the list_replace() function. \n",
    "my_list = [1, 2, 3]\n",
    "list_replace(my_list, 1, 'a')\n",
    "assertEqual(my_list, ['a', 2, 3])\n",
    "\n",
    "my_list = ['a', 'b', 'c']\n",
    "list_replace(my_list, 'b', 2)\n",
    "assertEqual(my_list, ['a', 2, 'c'])\n"
   ]
  },
  {
   "cell_type": "markdown",
   "metadata": {},
   "source": [
    "---\n",
    "\n",
    "**Finish the instantiation of `nested_list` which is a 3x3 nested list that has all the numbers 1-9 inclusive and in order. (3x3 means the outter list and the inner lists all have length of 3). Note that the value of `nested_list[0][0]` will be 1 and the value of `nested_list[2][2]` will be 9.**"
   ]
  },
  {
   "cell_type": "code",
   "execution_count": 4,
   "metadata": {},
   "outputs": [
    {
     "name": "stdout",
     "output_type": "stream",
     "text": [
      "[[1, 2, 3], [4, 5, 6], [7, 8, 9]]\n"
     ]
    }
   ],
   "source": [
    "nested_list = [[1,2,3], [4,5,6], [7,8,9]]\n",
    "\n",
    "print(nested_list)"
   ]
  },
  {
   "cell_type": "markdown",
   "metadata": {},
   "source": [
    "---\n",
    "\n",
    "**Finish the function `nested_list_count()` that takes two arguments, a nested list and an item, and returns the number of times item appears in all of the nested lists.**"
   ]
  },
  {
   "cell_type": "code",
   "execution_count": 5,
   "metadata": {},
   "outputs": [
    {
     "name": "stdout",
     "output_type": "stream",
     "text": [
      "1\n"
     ]
    }
   ],
   "source": [
    "def nested_list_count(nested_list, item):\n",
    "    # Remove the 'pass' line below and write the function\n",
    "    item_count = 0\n",
    "    for outter_item in nested_list:\n",
    "        for inner_item in outter_item:\n",
    "            if item == inner_item:\n",
    "                item_count+= 1\n",
    "    return item_count\n",
    "\n",
    "print(nested_list_count(nested_list, 2))\n"
   ]
  },
  {
   "cell_type": "code",
   "execution_count": 6,
   "metadata": {},
   "outputs": [
    {
     "name": "stdout",
     "output_type": "stream",
     "text": [
      "1\n"
     ]
    }
   ],
   "source": [
    "# Alternate solution -- You can also loop by index\n",
    "def nested_list_count(nested_list, item):\n",
    "    # Remove the 'pass' line below and write the function\n",
    "    item_count = 0\n",
    "    for i in range(len(nested_list)):\n",
    "        for j in range(len(nested_list[i])):\n",
    "            if item == nested_list[i][j]:\n",
    "                item_count+= 1\n",
    "    return item_count\n",
    "\n",
    "print(nested_list_count(nested_list, 2))\n"
   ]
  },
  {
   "cell_type": "markdown",
   "metadata": {},
   "source": [
    "---\n",
    "\n",
    "**Finish the function `file_num_lines()` that takes one argument, a file that has already been opened, and returns the number of lines in the file.**"
   ]
  },
  {
   "cell_type": "code",
   "execution_count": 7,
   "metadata": {},
   "outputs": [],
   "source": [
    "def file_num_lines(open_file):\n",
    "    # Remove the 'pass' line below and write the function\n",
    "    num_lines = 0\n",
    "    for line in open_file:\n",
    "        num_lines += 1\n",
    "    return num_lines\n"
   ]
  },
  {
   "cell_type": "markdown",
   "metadata": {},
   "source": [
    "---\n",
    "\n",
    "**Now open the provided file, call `file_num_lines()` and assign the return value to `num_lines` and print the value of `num_lines`**"
   ]
  },
  {
   "cell_type": "code",
   "execution_count": 8,
   "metadata": {},
   "outputs": [
    {
     "name": "stdout",
     "output_type": "stream",
     "text": [
      "24\n"
     ]
    }
   ],
   "source": [
    "filename = '../data_files/us_census_population.csv'\n",
    "\n",
    "# Finish the rest\n",
    "f = open(filename, 'r')\n",
    "num_lines = file_num_lines(f)\n",
    "print(num_lines)"
   ]
  },
  {
   "cell_type": "markdown",
   "metadata": {},
   "source": [
    "---\n",
    "\n",
    "**Complete the following two problems using the range() function:**\n",
    "\n",
    "**Initilize a variable named `tens` that is a list of all numbers evenly divisible by `10` starting with `10` and ending at `100`, both inclusive.**"
   ]
  },
  {
   "cell_type": "code",
   "execution_count": 9,
   "metadata": {},
   "outputs": [
    {
     "name": "stdout",
     "output_type": "stream",
     "text": [
      "[10, 20, 30, 40, 50, 60, 70, 80, 90, 100]\n"
     ]
    }
   ],
   "source": [
    "# Your code here\n",
    "tens = list(range(10, 101, 10))\n",
    "\n",
    "print(tens)"
   ]
  },
  {
   "cell_type": "markdown",
   "metadata": {},
   "source": [
    "**Initilize a variable named `evens` that is a list of all numbers evenly divisible by `2` starting with `2` and ending at `10`, both inclusive.**"
   ]
  },
  {
   "cell_type": "code",
   "execution_count": 10,
   "metadata": {},
   "outputs": [
    {
     "name": "stdout",
     "output_type": "stream",
     "text": [
      "[2, 4, 6, 8, 10]\n"
     ]
    }
   ],
   "source": [
    "# Your code here\n",
    "evens = list(range(2, 11, 2))\n",
    "\n",
    "print(evens)"
   ]
  },
  {
   "cell_type": "markdown",
   "metadata": {},
   "source": [
    "---\n",
    "\n",
    "**Finish the function `vowel_count()` that takes a string as the only argument and returns the number of vowels in the string. For this 'y' is not a vowel, only a-e-i-o-u.**"
   ]
  },
  {
   "cell_type": "code",
   "execution_count": 11,
   "metadata": {},
   "outputs": [
    {
     "name": "stdout",
     "output_type": "stream",
     "text": [
      "11\n"
     ]
    }
   ],
   "source": [
    "def vowel_count(a_string):\n",
    "    # Remove the 'pass' line below and write the function\n",
    "    num_vowels = 0\n",
    "    for letter in a_string:\n",
    "        if letter.lower() in 'aeiou':\n",
    "            num_vowels += 1\n",
    "    return num_vowels\n",
    "        \n",
    "print(vowel_count('The quick brown fox jumps over the lazy dog.'))"
   ]
  }
 ],
 "metadata": {
  "kernelspec": {
   "display_name": "Python 3",
   "language": "python",
   "name": "python3"
  },
  "language_info": {
   "codemirror_mode": {
    "name": "ipython",
    "version": 3
   },
   "file_extension": ".py",
   "mimetype": "text/x-python",
   "name": "python",
   "nbconvert_exporter": "python",
   "pygments_lexer": "ipython3",
   "version": "3.6.6"
  }
 },
 "nbformat": 4,
 "nbformat_minor": 2
}
