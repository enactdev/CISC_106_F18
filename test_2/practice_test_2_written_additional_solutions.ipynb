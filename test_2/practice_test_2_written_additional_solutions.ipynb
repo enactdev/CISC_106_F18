{
 "cells": [
  {
   "cell_type": "markdown",
   "metadata": {},
   "source": [
    "# Practice Test 2 -- Solutions to the Additional Written Problems\n",
    "\n",
    "[![Binder](https://mybinder.org/badge.svg)](https://mybinder.org/v2/gh/enactdev/CISC_106_F18/master?filepath=test_2/practice_test_2_written_additional_solutions.ipynb)\n",
    "\n",
    "---\n",
    "\n",
    "**Finish this function `create_sentence_from_filename()` that takes a single argument, the location of a file that has a single word on each line, and turns the words into a sentence. You need to capitalize the first letter of the first word, and return a sentence with a period at the end.**\n",
    "\n",
    "**The test file is called `words.txt` and its content is as follows:**\n",
    "\n",
    "```\n",
    "the\n",
    "quick\n",
    "brown\n",
    "fox\n",
    "jumped\n",
    "over\n",
    "the\n",
    "lazy\n",
    "dog\n",
    "```\n",
    "**Solution using a list of words and joining them into a sentence**"
   ]
  },
  {
   "cell_type": "code",
   "execution_count": 1,
   "metadata": {},
   "outputs": [
    {
     "name": "stdout",
     "output_type": "stream",
     "text": [
      "The quick brown fox jumped over the lazy dog.\n"
     ]
    }
   ],
   "source": [
    "def create_sentence_from_filename(filename):\n",
    "    # Open the file for reading\n",
    "    f = open(filename, 'r')\n",
    "    \n",
    "    # Remove 'pass' on the next line and finish the function\n",
    "    words_list = []\n",
    "    for line in f:\n",
    "        # Remove the \"\\n\" from the line\n",
    "        words_list.append(line.strip())\n",
    "        \n",
    "    # Capitalize the first word -- Could also call the \n",
    "    words_list[0] = words_list[0].title()\n",
    "\n",
    "    # These would also capitalize the first word:\n",
    "    words_list[0] = words_list[0].capitalize()\n",
    "    words_list[0] = words_list[0][0].upper() + words_list[0][1:]\n",
    "    \n",
    "    # Don't forget to add the period\n",
    "    return ' '.join(words_list) + '.'\n",
    "\n",
    "\n",
    "# This should print: The quick brown fox jumped over the lazy dog.\n",
    "print(create_sentence_from_filename('words.txt'))\n"
   ]
  },
  {
   "cell_type": "markdown",
   "metadata": {},
   "source": [
    "---\n",
    "\n",
    "**Write a function `count_word_lengths(a_string)` that, given a string consisting of words separated by spaces, returns a list containing the length of each word. Words will consist of alphabetic characters, you do not need to worry about punctuation. If the string is empty then the function should return an empty list.**\n"
   ]
  },
  {
   "cell_type": "code",
   "execution_count": 2,
   "metadata": {},
   "outputs": [
    {
     "name": "stdout",
     "output_type": "stream",
     "text": [
      "[3, 5, 5, 3, 6, 4, 3, 4, 3]\n"
     ]
    }
   ],
   "source": [
    "def count_word_lengths(a_string):\n",
    "    list_of_lengths = []\n",
    "    \n",
    "    a_string_split = a_string.split()\n",
    "    \n",
    "    for word in a_string_split:\n",
    "        list_of_lengths.append(len(word))\n",
    "        \n",
    "    return list_of_lengths\n",
    "\n",
    "# Should print the list: [3, 5, 5, 3, 6, 4, 3, 4, 3]\n",
    "print(count_word_lengths('The quick brown fox jumped over the lazy dog'))"
   ]
  },
  {
   "cell_type": "code",
   "execution_count": null,
   "metadata": {},
   "outputs": [],
   "source": []
  }
 ],
 "metadata": {
  "kernelspec": {
   "display_name": "Python 3",
   "language": "python",
   "name": "python3"
  },
  "language_info": {
   "codemirror_mode": {
    "name": "ipython",
    "version": 3
   },
   "file_extension": ".py",
   "mimetype": "text/x-python",
   "name": "python",
   "nbconvert_exporter": "python",
   "pygments_lexer": "ipython3",
   "version": "3.6.6"
  }
 },
 "nbformat": 4,
 "nbformat_minor": 2
}
