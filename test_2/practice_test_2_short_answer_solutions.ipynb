{
 "cells": [
  {
   "cell_type": "markdown",
   "metadata": {},
   "source": [
    "# Solutions to Practice Test 2 -- Short Answer Problems\n",
    "\n",
    "[![Binder](https://mybinder.org/badge.svg)](https://mybinder.org/v2/gh/enactdev/CISC_106_F18/master?filepath=test_2/practice_test_2_short_answer_solutions.ipynb)\n",
    "\n",
    "**Note: There is often multiple ways to solve a problem, my solutions may not directly match yours even when you would get full credit.**\n",
    "\n",
    "## Updates:\n",
    "* **The `updateOneSecond()` method was missing the argument `self`**\n",
    "\n",
    "**For 1 through 4, fill in the blank:**"
   ]
  },
  {
   "cell_type": "markdown",
   "metadata": {},
   "source": [
    "---\n",
    "\n",
    "## 1) Given:\n",
    "```\n",
    "my_str = \"1\\t2\\n3\"\n",
    "```\n",
    "\n",
    "## 1) How many characters are in `my_str`?  \\_\\_\\_\\_\\_\\_\\_\\_\\_\n"
   ]
  },
  {
   "cell_type": "code",
   "execution_count": 1,
   "metadata": {},
   "outputs": [
    {
     "name": "stdout",
     "output_type": "stream",
     "text": [
      "5\n"
     ]
    }
   ],
   "source": [
    "# Test #1 here:\n",
    "print(len(\"1\\t2\\n3\"))"
   ]
  },
  {
   "cell_type": "markdown",
   "metadata": {},
   "source": [
    "---\n",
    "## 2) Given:\n",
    "```\n",
    "def f(x, y):\n",
    "    return x > y\n",
    "```\n",
    "\n",
    "## 2) What is the data type returned by the function `f()`?  \\_\\_\\_\\_\\_\\_\\_\\_\\_\n"
   ]
  },
  {
   "cell_type": "code",
   "execution_count": 2,
   "metadata": {},
   "outputs": [
    {
     "name": "stdout",
     "output_type": "stream",
     "text": [
      "<class 'bool'>\n"
     ]
    }
   ],
   "source": [
    "# Test #2 here:\n",
    "def f(x, y):\n",
    "    return x > y\n",
    "print(type(f(1, 2)))"
   ]
  },
  {
   "cell_type": "markdown",
   "metadata": {},
   "source": [
    "---\n",
    "\n",
    "## 3) Given:\n",
    "```\n",
    "nested_list = [[1, 2, 3], [4, 5, 6], [7, 8, 9]]\n",
    "```\n",
    "\n",
    "## 3) What is the value of `nested_list[1][2]`?  \\_\\_\\_\\_\\_\\_\\_\\_\\_\n"
   ]
  },
  {
   "cell_type": "code",
   "execution_count": 3,
   "metadata": {},
   "outputs": [
    {
     "name": "stdout",
     "output_type": "stream",
     "text": [
      "6\n"
     ]
    }
   ],
   "source": [
    "# Test #3 here:\n",
    "nested_list = [[1, 2, 3], [4, 5, 6], [7, 8, 9]]\n",
    "print(nested_list[1][2])"
   ]
  },
  {
   "cell_type": "markdown",
   "metadata": {},
   "source": [
    "---\n",
    "\n",
    "## 4) Given:\n",
    "```\n",
    "nested_list = [[1, 2, 3], [4, 5, 6], [7, 8, 9]]\n",
    "\n",
    "i = ____\n",
    "j = ____\n",
    "\n",
    "# This statement is True\n",
    "nested_list[i][j] == 7\n",
    "```\n",
    "\n",
    "## 4) What are the values of i and j above?  i is: \\_\\_\\_\\_\\_ and j is: \\_\\_\\_\\_\\_"
   ]
  },
  {
   "cell_type": "code",
   "execution_count": 4,
   "metadata": {},
   "outputs": [
    {
     "name": "stdout",
     "output_type": "stream",
     "text": [
      "7\n"
     ]
    }
   ],
   "source": [
    "# Test #4 here:\n",
    "\n",
    "nested_list = [[1, 2, 3], [4, 5, 6], [7, 8, 9]]\n",
    "\n",
    "i = 2\n",
    "j = 0\n",
    "\n",
    "# This statement is True\n",
    "print(nested_list[i][j])"
   ]
  },
  {
   "cell_type": "markdown",
   "metadata": {},
   "source": [
    "---\n",
    "\n",
    "**For question 5, finish the function `is_nested_list_square()` that returns `True` if the length of all inner lists are equal to the length of the outter list. Otherwise it returns `False`.**"
   ]
  },
  {
   "cell_type": "code",
   "execution_count": 5,
   "metadata": {},
   "outputs": [
    {
     "name": "stdout",
     "output_type": "stream",
     "text": [
      "True\n",
      "False\n"
     ]
    }
   ],
   "source": [
    "def is_nested_list_square(nested_list):\n",
    "    \n",
    "    # Get length of outter list\n",
    "    outter_list_len = len(nested_list)\n",
    "    \n",
    "    # Cycle through the inner lists\n",
    "    for inner_list in nested_list:\n",
    "        \n",
    "        # If this length is not the same then return False\n",
    "        if len(inner_list) != outter_list_len:\n",
    "            return False\n",
    "        \n",
    "    # If we did not already return False then the list must be a square\n",
    "    return True\n",
    "\n",
    "# This should print `True`\n",
    "print(is_nested_list_square([[1, 2, 3], [4, 5, 6], [7, 8, 9]]))\n",
    "\n",
    "# This should print `False`\n",
    "print(is_nested_list_square([[1], [2, 3], [4, 5, 6]]))"
   ]
  },
  {
   "cell_type": "markdown",
   "metadata": {},
   "source": [
    "---\n",
    "\n",
    "## **6 and 7 share the same class below**\n",
    "\n",
    "## 6) Write the __str__() function for the SpanceLander class below\n",
    "\n",
    "**Note: If the contructor function is called with values `(400, 40, 25, 4)`, then the string should be:**\n",
    "\n",
    "**`Alt = 400.0 Vel = 40.0 Fuel = 25 Str = 4`**\n",
    "\n",
    "**Note also that altitude and velocity (speed) are both floats rounded to the tenths place, and fuel and strength are both integers.**\n",
    "\n",
    "## 7) Write the function updateOneSecond, where:\n",
    "* The speed is increased by the value held by the attribute gravity (defined for you).\n",
    "* The altitude is decreased by the (new) value of the speed.\n",
    "* If the altitude becomes negative, it should be set to zero. \n",
    "\n",
    "**Nothing is returned by this method. It simply updates the object's values.**\n"
   ]
  },
  {
   "cell_type": "code",
   "execution_count": 6,
   "metadata": {},
   "outputs": [
    {
     "name": "stdout",
     "output_type": "stream",
     "text": [
      "Alt = 400 Vel = 40 Fuel = 25 Str = 4\n",
      "Alt = 358.4 Vel = 41.6 Fuel = 25 Str = 4\n"
     ]
    }
   ],
   "source": [
    "# This is for questions 6 & 7\n",
    "class SpaceLander:\n",
    "    \"\"\" SpaceLander class keeping track of what to buy at the grocery store. \"\"\"\n",
    "    \n",
    "    gravity = 1.622 # assumed to be m/s**2. This is the gravity of the moon.\n",
    "    power = 4 # This is the amount of thrust received for each unit of fuel expended.\n",
    "    \n",
    "    def __init__(self, initial_altitude, initial_speed, initial_fuel, strength):\n",
    "        \"\"\" Set values for the lander (strength does not change) \"\"\"\n",
    "        self.altitude = initial_altitude\n",
    "        self.speed = initial_speed\n",
    "        self.fuel = initial_fuel\n",
    "        self.strength = strength\n",
    "\n",
    "    def __str__(self):\n",
    "        \"\"\" String representation of SpaceLander \"\"\"\n",
    "        # Remove pass and finish this function\n",
    "        return 'Alt = {} Vel = {} Fuel = {} Str = {}'.format(round(self.altitude, 1), round(self.speed, 1), self.fuel, self.strength)\n",
    "\n",
    "    def updateOneSecond(self):\n",
    "        \"\"\" Update altitude and speed by one second based on gravity \"\"\"\n",
    "        # Remove pass and finish this function\n",
    "        self.speed += self.gravity\n",
    "        self.altitude -= self.speed\n",
    "        if self.altitude < 0:\n",
    "            self.altitude = 0\n",
    "        \n",
    "\n",
    "my_lander = SpaceLander(400, 40, 25, 4)\n",
    "\n",
    "# This should print: Alt = 400.0 Vel = 40.0 Fuel = 25 Str = 4\n",
    "print(my_lander)\n",
    "\n",
    "# Update the object's values by one second\n",
    "my_lander.updateOneSecond()\n",
    "\n",
    "# This should print: Alt = 358.4 Vel = 41.6 Fuel = 25 Str = 4\n",
    "print(my_lander)\n"
   ]
  },
  {
   "cell_type": "markdown",
   "metadata": {},
   "source": [
    "---\n",
    "\n",
    "## Debug the following SpaceLander class. \n",
    "\n",
    "**For questions 8, 9, and 10, debug the following SpaceLander class. There are four bugs, at least one bug in each of these methods: `setManualOrAutomatic()`, `setThrustFromUser()`, and `applyThrust()`. One of those methods has two bugs. You get half credit for finding each bug and half credit for fixing it.**\n",
    "\n",
    "**Assume the methods you created above are working, and so is the `__init__()` function.**\n",
    "\n",
    "**Note: I only added comments about what is wrong, I did not fix below.**"
   ]
  },
  {
   "cell_type": "code",
   "execution_count": null,
   "metadata": {},
   "outputs": [],
   "source": [
    "# This is for questions 6 & 7\n",
    "class SpaceLander:\n",
    "    \"\"\" SpaceLander class keeping track of what to buy at the grocery store. \"\"\"\n",
    "    \n",
    "    gravity = 1.622    # assumed to be m/s**2. This is the gravity of the moon.\n",
    "    power = 4\n",
    "\n",
    "    def __init__(self, initial_altitude, initial_speed, initial_fuel, strength):\n",
    "        \"\"\" Set values for the lander (strength does not change) \"\"\"\n",
    "        self.altitude = initial_altitude\n",
    "        self.speed = initial_speed\n",
    "        self.fuel = initial_fuel\n",
    "        self.strength = strength\n",
    "\n",
    "    def __str__(self):\n",
    "        \"\"\" String representation of SpaceLander \"\"\"\n",
    "        # This method works\n",
    "        pass\n",
    "    \n",
    "    def updateOneSecond(self):\n",
    "        \"\"\" Update altitude and speed by one second based on gravity \"\"\"\n",
    "        # This method words\n",
    "        pass\n",
    "    \n",
    "    def setManualOrAutomatic(self):\n",
    "        \"\"\" Ask the user if they want to run in manual or automatic mode. Set attribute to 'm' or 'a' \"\"\"\n",
    "\n",
    "        user_input = ''\n",
    "        \n",
    "        while user_input.lower() != 'm' and user_input.lower() != 'a':\n",
    "            user_input = input(\"Enter 'm' for Manual Mode or 'a' for Automatic Mode: \")\n",
    "\n",
    "        # Missing () to method call to `lower()`\n",
    "        self.manual_or_auto = user_input.lower\n",
    "\n",
    "    def setThrustFromUser(self):    \n",
    "        \"\"\" Ask the user to input their desired thrust. Thrust must be >= 0 and <= both strength and fuel \"\"\"\n",
    "\n",
    "        user_input = ''\n",
    "        \n",
    "        # input_is_valid initial value needs to be 'False'\n",
    "        input_is_valid = True\n",
    "        \n",
    "        while not input_is_valid:\n",
    "            thrust = input(\"Enter thrust: \")\n",
    "            if thrust == '':\n",
    "                print(\"Enter a value.\")\n",
    "            elif int(thrust) < 0:\n",
    "                print(\"That number is too low.\")\n",
    "            elif int(thrust) > self.strength or int(thrust) > self.fuel:\n",
    "                print(\"That number is too high.\")\n",
    "            else:\n",
    "                input_is_valid = True\n",
    "\n",
    "        # Need to convert user-inputted thrust to an int before assigning to self.thrust\n",
    "        self.thrust = thrust\n",
    "        \n",
    "    def applyThrust(self):\n",
    "        \"\"\" Decreae fuel by thrust and decrease speed by (power * thrust) \"\"\"\n",
    "        \n",
    "        # Below needs to be 'self.thurst'\n",
    "        self.fuel -= thrust\n",
    "        \n",
    "        self.speed += (self.power * self.thrust)\n",
    "\n",
    "    \n",
    "        \n",
    "\n",
    "my_lander = SpaceLander(400, 40, 2, 4)\n",
    "\n",
    "my_lander.setManualOrAutomatic()\n",
    "\n",
    "my_lander.setThrustFromUser()\n",
    "\n",
    "my_lander.applyThrust()\n",
    "\n"
   ]
  }
 ],
 "metadata": {
  "kernelspec": {
   "display_name": "Python 3",
   "language": "python",
   "name": "python3"
  },
  "language_info": {
   "codemirror_mode": {
    "name": "ipython",
    "version": 3
   },
   "file_extension": ".py",
   "mimetype": "text/x-python",
   "name": "python",
   "nbconvert_exporter": "python",
   "pygments_lexer": "ipython3",
   "version": "3.6.6"
  }
 },
 "nbformat": 4,
 "nbformat_minor": 2
}
