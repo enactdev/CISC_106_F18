{
 "cells": [
  {
   "cell_type": "markdown",
   "metadata": {},
   "source": [
    "# Practice Test 2 -- Written\n",
    "\n",
    "[![Binder](https://mybinder.org/badge.svg)](https://mybinder.org/v2/gh/enactdev/CISC_106_F18/master?filepath=test_2/practice_test_2_written.ipynb)\n",
    "\n",
    "**Real test during class on Th. Nov. 8**\n",
    "\n",
    "**Cell below imports the assertEqual function. Run it first before continuing. Do not change it.**"
   ]
  },
  {
   "cell_type": "code",
   "execution_count": null,
   "metadata": {},
   "outputs": [],
   "source": [
    "# Leave this alone\n",
    "from cisc106 import assertEqual"
   ]
  },
  {
   "cell_type": "markdown",
   "metadata": {},
   "source": [
    "---\n",
    "\n",
    "**5 Points:**\n",
    "\n",
    "**Lists do not have a replace method. Write a function called `list_replace()` that takes a list, a search item, and a replace item. The function edits the list, replacing all instances of search item with the replace item.**\n",
    "\n",
    "****"
   ]
  },
  {
   "cell_type": "code",
   "execution_count": null,
   "metadata": {},
   "outputs": [],
   "source": [
    "def list_replace(a_list, search_item, replace_item):\n",
    "    # Remove the 'pass' line below and write the function\n",
    "    pass\n",
    "\n",
    "        "
   ]
  },
  {
   "cell_type": "markdown",
   "metadata": {},
   "source": [
    "**Now write two assertEqual statements to test your function above. At least one of the tests needs to have a `search_item` that appears more than once in the list (such as `list_replace([1, 1, 2, 3], 1, 'a')` but do not use that example).**"
   ]
  },
  {
   "cell_type": "code",
   "execution_count": null,
   "metadata": {},
   "outputs": [],
   "source": [
    "# Write 2 assertEqual statements that test the list_replace() function. \n",
    "assertEqual(list_replace())\n",
    "assertEqual(list_replace())\n"
   ]
  },
  {
   "cell_type": "markdown",
   "metadata": {},
   "source": [
    "---\n",
    "\n",
    "**Finish the instantiation of `nested_list` which is a 3x3 nested list that has all the numbers 1-9 inclusive. (3x3 means the outter list and the inner lists all have length of 3). Note that the value of `nested_list[0][0]` will be 1 and the value of `nested_list[2][2]` will be 9.**"
   ]
  },
  {
   "cell_type": "code",
   "execution_count": null,
   "metadata": {},
   "outputs": [],
   "source": [
    "nested_list = []"
   ]
  },
  {
   "cell_type": "markdown",
   "metadata": {},
   "source": [
    "---\n",
    "\n",
    "**Finish the function `nested_list_count()` that takes two arguments, a nested list and an item, and returns the number of times item appears in all of the nested lists.**"
   ]
  },
  {
   "cell_type": "code",
   "execution_count": null,
   "metadata": {},
   "outputs": [],
   "source": [
    "def nested_list_count(nested_list, item):\n",
    "    # Remove the 'pass' line below and write the function\n",
    "    pass\n",
    "\n",
    "        "
   ]
  },
  {
   "cell_type": "markdown",
   "metadata": {},
   "source": [
    "---\n",
    "\n",
    "**Finish the function `file_num_lines()` that takes one argument, a file that has already been opened, and returns the number of lines in the file.**"
   ]
  },
  {
   "cell_type": "code",
   "execution_count": null,
   "metadata": {},
   "outputs": [],
   "source": [
    "def file_num_lines(open_file):\n",
    "    # Remove the 'pass' line below and write the function\n",
    "    pass\n"
   ]
  },
  {
   "cell_type": "markdown",
   "metadata": {},
   "source": [
    "---\n",
    "\n",
    "**Now open the provided file, call `file_num_lines()` and assign the return value to `num_lines` and print the value of `num_lines`**"
   ]
  },
  {
   "cell_type": "code",
   "execution_count": null,
   "metadata": {},
   "outputs": [],
   "source": [
    "filename = '../data_files/us_census_population.csv'\n",
    "\n",
    "# Finish the rest"
   ]
  },
  {
   "cell_type": "markdown",
   "metadata": {},
   "source": [
    "---\n",
    "\n",
    "**Complete the following two problems using the range() function:**\n",
    "\n",
    "**Initilize a variable named `tens` that is a list of all numbers evenly divisible by `10` starting with `10` and ending at `100`, both inclusive.**"
   ]
  },
  {
   "cell_type": "code",
   "execution_count": null,
   "metadata": {},
   "outputs": [],
   "source": [
    "# Your code here\n"
   ]
  },
  {
   "cell_type": "markdown",
   "metadata": {},
   "source": [
    "**Initilize a variable named `evens` that is a list of all numbers evenly divisible by `2` starting with `2` and ending at `10`, both inclusive.**"
   ]
  },
  {
   "cell_type": "code",
   "execution_count": null,
   "metadata": {},
   "outputs": [],
   "source": [
    "# Your code here"
   ]
  },
  {
   "cell_type": "markdown",
   "metadata": {},
   "source": [
    "---\n",
    "\n",
    "**Finish the function `vowel_count()` that takes a string as the only argument and returns the number of vowels in the string. For this 'y' is not a vowel, only a-e-i-o-u.**"
   ]
  },
  {
   "cell_type": "code",
   "execution_count": null,
   "metadata": {},
   "outputs": [],
   "source": [
    "def vowel_count(a_string):\n",
    "    # Remove the 'pass' line below and write the function\n",
    "    pass"
   ]
  },
  {
   "cell_type": "code",
   "execution_count": null,
   "metadata": {},
   "outputs": [],
   "source": []
  }
 ],
 "metadata": {
  "kernelspec": {
   "display_name": "Python 3",
   "language": "python",
   "name": "python3"
  },
  "language_info": {
   "codemirror_mode": {
    "name": "ipython",
    "version": 3
   },
   "file_extension": ".py",
   "mimetype": "text/x-python",
   "name": "python",
   "nbconvert_exporter": "python",
   "pygments_lexer": "ipython3",
   "version": "3.6.6"
  }
 },
 "nbformat": 4,
 "nbformat_minor": 2
}
