{
 "cells": [
  {
   "cell_type": "markdown",
   "metadata": {},
   "source": [
    "# Practice Test 1\n",
    "\n",
    "[![Binder](https://mybinder.org/badge.svg)](https://mybinder.org/v2/gh/enactdev/CISC_106_F18/master?filepath=practice_test_1_mult_choice.ipynb)\n",
    "\n",
    "**Real test during class on Th. Oct. 4**\n",
    "\n",
    "**Note: These are the exact same practice questions given in class, in the exact same order.**\n",
    "\n",
    "**Set the value, 'A' through 'E', to the list answer_list so you can check your score at the end.**\n",
    "\n",
    "---"
   ]
  },
  {
   "cell_type": "code",
   "execution_count": null,
   "metadata": {},
   "outputs": [],
   "source": [
    "# This list will hold your answers. Do not edit this.\n",
    "answers_list = ['' for i in range(17)]"
   ]
  },
  {
   "cell_type": "markdown",
   "metadata": {},
   "source": [
    "### 0) Add parenthesis to \"7 \\* 6 + 8 // 3 \\* 2\" while maintining precedence\n",
    "* A) ((7 \\* (6 + 8)) // 3) \\* 2\n",
    "* B) 7 \\* ((6 + 8) // (3 \\* 2))\n",
    "* C) (7 \\* 6) + (8 // (3 \\* 2))\n",
    "* D) (7 \\* 6) + ((8 // 3) \\* 2)"
   ]
  },
  {
   "cell_type": "code",
   "execution_count": null,
   "metadata": {},
   "outputs": [],
   "source": [
    "answers_list[0] = ''"
   ]
  },
  {
   "cell_type": "markdown",
   "metadata": {},
   "source": [
    "### 1) Add parenthesis to \"True or False and False or True\" while maintining precedence\n",
    "* A) (True or False) and (False or True)\n",
    "* B) (True or (False and False)) or True\n",
    "* C) ((True or False) and False) or True"
   ]
  },
  {
   "cell_type": "code",
   "execution_count": null,
   "metadata": {},
   "outputs": [],
   "source": [
    "answers_list[1] = ''"
   ]
  },
  {
   "cell_type": "markdown",
   "metadata": {},
   "source": [
    "### 2) What does '1.42 % 1 * 100' evaluate to?:\n",
    "* A) 0.0142\n",
    "* B) 142\n",
    "* C) 42\n",
    "* D) 1.42\n",
    "* E) 100"
   ]
  },
  {
   "cell_type": "code",
   "execution_count": null,
   "metadata": {},
   "outputs": [],
   "source": [
    "answers_list[2] = ''"
   ]
  },
  {
   "cell_type": "markdown",
   "metadata": {},
   "source": [
    "### 3) What is \"int(True)\"\n",
    "* A) True\n",
    "* B) False\n",
    "* C) 1\n",
    "* D) 0"
   ]
  },
  {
   "cell_type": "code",
   "execution_count": null,
   "metadata": {},
   "outputs": [],
   "source": [
    "answers_list[3] = ''"
   ]
  },
  {
   "cell_type": "markdown",
   "metadata": {},
   "source": [
    "### Given:\n",
    "```\n",
    "car = 'BMW'\n",
    "\n",
    "print(car == 'bmw')\n",
    "```\n",
    "\n",
    "### 4) Does the above print:\n",
    "* A) True\n",
    "* B) False"
   ]
  },
  {
   "cell_type": "code",
   "execution_count": null,
   "metadata": {},
   "outputs": [],
   "source": [
    "answers_list[4] = ''"
   ]
  },
  {
   "cell_type": "markdown",
   "metadata": {},
   "source": [
    "### Given:\n",
    "```\n",
    "car = 'BMW'\n",
    "\n",
    "```\n",
    "### 5) Which expression is True:\n",
    "* A) car.lower == 'bmw'\n",
    "* B) car == 'bmw'\n",
    "* C) car != 'BMW'\n",
    "* D) car.lower() == 'bmw'"
   ]
  },
  {
   "cell_type": "code",
   "execution_count": null,
   "metadata": {},
   "outputs": [],
   "source": [
    "answers_list[5] = ''"
   ]
  },
  {
   "cell_type": "markdown",
   "metadata": {},
   "source": [
    "### 6) Round \\$100 / 3 to the nearest cent:\n",
    "* A) round(100/3)\n",
    "* B) round(100/3, 2)\n",
    "* C) round(100/3, -2)\n",
    "* D) round (100/3, 1)"
   ]
  },
  {
   "cell_type": "code",
   "execution_count": null,
   "metadata": {},
   "outputs": [],
   "source": [
    "answers_list[6] = ''"
   ]
  },
  {
   "cell_type": "markdown",
   "metadata": {},
   "source": [
    "### 7) What is plus_two(plus_two(1)):\n",
    "* A) 3\n",
    "* B) 5\n",
    "* C) 1\n",
    "* D) 4"
   ]
  },
  {
   "cell_type": "code",
   "execution_count": null,
   "metadata": {},
   "outputs": [],
   "source": [
    "answers_list[7] = ''"
   ]
  },
  {
   "cell_type": "markdown",
   "metadata": {},
   "source": [
    "### 8) What conditional statement should you use for students under the age of 18?:\n",
    "* A) if age <= 18\n",
    "* B) if age == 18\n",
    "* C) if age != 18\n",
    "* D) if age < 18\n",
    "* E) if age >= 18"
   ]
  },
  {
   "cell_type": "code",
   "execution_count": null,
   "metadata": {},
   "outputs": [],
   "source": [
    "answers_list[8] = ''"
   ]
  },
  {
   "cell_type": "markdown",
   "metadata": {},
   "source": [
    "### 9) What conditional statement should you use for kids under 18 but at least 6?\n",
    "* A) if (age > 6) and (age < 18):\n",
    "* B) if (age >= 6) and (age < 18):\n",
    "* C) if (age <= 18) and (age >= 6):\n",
    "* D) if (6 == age) and (age < 18):\n",
    "* E) if (age < 6) and (age < 18):"
   ]
  },
  {
   "cell_type": "code",
   "execution_count": null,
   "metadata": {},
   "outputs": [],
   "source": [
    "answers_list[9] = ''"
   ]
  },
  {
   "cell_type": "markdown",
   "metadata": {},
   "source": [
    "### Given:\n",
    "```\n",
    "my_list = ['a', 'b', 'c', 'd', 'e']\n",
    "```\n",
    "### 10) What is the difference between:\n",
    "```\n",
    "for item in my_list:\n",
    "   print(item)\n",
    "```\n",
    "### - and -\n",
    "```\n",
    "for i in range(len(my_list)):\n",
    "   print(i)\n",
    "```\n",
    "### ?:\n",
    "* A) The first block prints the indexes in the list, the second block prints the items in the list.\n",
    "* B) Nothing, they are the same.\n",
    "* C) The first block prints the items in the list, the second block prints the indexes in the list."
   ]
  },
  {
   "cell_type": "code",
   "execution_count": null,
   "metadata": {},
   "outputs": [],
   "source": [
    "answers_list[10] = ''"
   ]
  },
  {
   "cell_type": "markdown",
   "metadata": {},
   "source": [
    "### Given:\n",
    "```\n",
    "message1 = \"Hello, world!\"\n",
    "message2 = \"How are you?\"\n",
    "```\n",
    "### 11) What will be the output?\n",
    "* A) Hello, world!\n",
    "* B) How are you?\n",
    "* C) Hello, world!\n",
    "How are you?\n",
    "* D) An Error\n",
    "* E) No output"
   ]
  },
  {
   "cell_type": "code",
   "execution_count": null,
   "metadata": {},
   "outputs": [],
   "source": [
    "answers_list[11] = ''"
   ]
  },
  {
   "cell_type": "markdown",
   "metadata": {},
   "source": [
    "### 12) How to instantiate a variable called my_list and assign it an empty list?\n",
    "* A) my_list = ''\n",
    "* B) my_list = \\[\\]\n",
    "* C) my_list = {}\n",
    "* D) my_list = ()\n",
    "* E) my_list = list"
   ]
  },
  {
   "cell_type": "code",
   "execution_count": null,
   "metadata": {},
   "outputs": [],
   "source": [
    "answers_list[12] = ''"
   ]
  },
  {
   "cell_type": "markdown",
   "metadata": {},
   "source": [
    "### Given:\n",
    "```\n",
    "my_list = ['a', 'b', 'c', 'd', 'e']\n",
    "\n",
    "my_list[1] = my_list[1].upper()\n",
    "\n",
    "print(my_list)\n",
    "```\n",
    "### 13) What is printed?\n",
    "* A) \\['a', 'b', 'c', 'd', 'e'\\]\n",
    "* B) \\['A', 'b', 'c', 'd', 'e'\\]\n",
    "* C) \\['a', 'B', 'c', 'd', 'e'\\]\n",
    "* D) \\['a', 'b', 'c', 'D', 'e'\\]\n",
    "* E) \\['a', 'b', 'c', 'd', 'E'\\]"
   ]
  },
  {
   "cell_type": "code",
   "execution_count": null,
   "metadata": {},
   "outputs": [],
   "source": [
    "answers_list[13] = ''"
   ]
  },
  {
   "cell_type": "markdown",
   "metadata": {},
   "source": [
    "### Given\n",
    "```\n",
    "my_number = input(\"Enter a whole number\")\n",
    "```\n",
    "### 14) What is the data type of my_number?\n",
    "* A) bool\n",
    "* B) float\n",
    "* C) str\n",
    "* D) int\n",
    "* E) assignment"
   ]
  },
  {
   "cell_type": "code",
   "execution_count": null,
   "metadata": {},
   "outputs": [],
   "source": [
    "answers_list[14] = ''"
   ]
  },
  {
   "cell_type": "markdown",
   "metadata": {},
   "source": [
    "### 15) Which of the following statements evaluates to a value of 2 ?\n",
    "* A) 6 % 3\n",
    "* B) 12 % 5\n",
    "* C) 5 / 2\n",
    "* D) 1 * 2 // 2\n",
    "* E) 5 // 3"
   ]
  },
  {
   "cell_type": "code",
   "execution_count": null,
   "metadata": {},
   "outputs": [],
   "source": [
    "answers_list[15] = ''"
   ]
  },
  {
   "cell_type": "markdown",
   "metadata": {},
   "source": [
    "### Given:\n",
    "```\n",
    "i = 0\n",
    "while i < 10:\n",
    "    print(i)\n",
    "    i+=1\n",
    "```\n",
    "### 16) How many times is the condition i < 10 evaluated? (In other words, how many times is that test performed)\n",
    "* A) 9 times\n",
    "* B) 10 times\n",
    "* C) 11 times"
   ]
  },
  {
   "cell_type": "code",
   "execution_count": null,
   "metadata": {},
   "outputs": [],
   "source": [
    "answers_list[16] = ''"
   ]
  },
  {
   "cell_type": "code",
   "execution_count": null,
   "metadata": {},
   "outputs": [],
   "source": [
    "# Run this cell to check your score.\n",
    "correct_answers_list = ['D', 'B', 'C', 'C', 'B', 'D', 'B', 'B', 'D', 'B', 'C', 'E', 'B', 'C', 'C', 'B', 'C']\n",
    "\n",
    "num_correct = 0\n",
    "incorrect_list = []\n",
    "\n",
    "for i in range(len(correct_answers_list)):\n",
    "    # Make sure answers are capitlized\n",
    "    if answers_list[i].upper() == correct_answers_list[i].upper():\n",
    "        num_correct += 1\n",
    "    else:\n",
    "        incorrect_list.append(i)\n",
    "    \n",
    "print('You got', num_correct, 'correct for a score of:', round(100*(num_correct/len(correct_answers_list)), 2))\n",
    "if len(incorrect_list):\n",
    "    print('Your incorrect answers are:', incorrect_list)"
   ]
  }
 ],
 "metadata": {
  "kernelspec": {
   "display_name": "Python 3",
   "language": "python",
   "name": "python3"
  },
  "language_info": {
   "codemirror_mode": {
    "name": "ipython",
    "version": 3
   },
   "file_extension": ".py",
   "mimetype": "text/x-python",
   "name": "python",
   "nbconvert_exporter": "python",
   "pygments_lexer": "ipython3",
   "version": "3.6.6"
  }
 },
 "nbformat": 4,
 "nbformat_minor": 2
}
