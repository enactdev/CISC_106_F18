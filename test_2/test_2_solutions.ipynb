{
 "cells": [
  {
   "cell_type": "markdown",
   "metadata": {},
   "source": [
    "# CISC 106 Williams -- Solutions to Test 2\n",
    "\n",
    "### Thursday November 8, 2018\n"
   ]
  },
  {
   "cell_type": "markdown",
   "metadata": {},
   "source": [
    "---\n",
    "\n",
    "### Questions 1-15 are worth 3 points each.\n",
    "\n",
    "### Use the following for questions 1-4. Given:\n",
    "\n",
    "```\n",
    "nested_list = [[1], [2, 3], [4, 5, 6]]\n",
    "loop_counter = 0\n",
    "for inner_list in nested_list:\n",
    "    for item in inner_list:\n",
    "        loop_counter += 1\n",
    "        \n",
    "my_str = '1' * len(nested_list[0]) + '2' * len(nested_list[1]) + '3' * len(nested_list[2])\n",
    "\n",
    "```\n",
    "### 1) What is the value of `len(nested_list)`?  \\_\\_\\_\\_\\_\\_\\_\\_\\_\n",
    "\n",
    "### 2) What is the value of `nested_list[2][1]`?  \\_\\_\\_\\_\\_\\_\\_\\_\\_\n",
    "\n",
    "### 3) What is the final value of `loop_counter`?  \\_\\_\\_\\_\\_\\_\\_\\_\\_\n",
    "\n",
    "### 4) What is the value of `my_str`?  \\_\\_\\_\\_\\_\\_\\_\\_\\_"
   ]
  },
  {
   "cell_type": "code",
   "execution_count": 1,
   "metadata": {},
   "outputs": [
    {
     "name": "stdout",
     "output_type": "stream",
     "text": [
      "len(nested_list): 3\n",
      "nested_list[2][1]: 5\n",
      "loop_counter: 6\n",
      "my_str: 122333\n"
     ]
    }
   ],
   "source": [
    "nested_list = [[1], [2, 3], [4, 5, 6]]\n",
    "loop_counter = 0\n",
    "for inner_list in nested_list:\n",
    "    for item in inner_list:\n",
    "        loop_counter += 1\n",
    "\n",
    "my_str = '1' * len(nested_list[0]) + '2' * len(nested_list[1]) + '3' * len(nested_list[2])\n",
    "\n",
    "print('len(nested_list):', len(nested_list))\n",
    "print('nested_list[2][1]:', nested_list[2][1])\n",
    "print('loop_counter:', loop_counter)\n",
    "print('my_str:', my_str)"
   ]
  },
  {
   "cell_type": "markdown",
   "metadata": {},
   "source": [
    "---\n",
    "\n",
    "### Use the following for questions 5-6. Write your answer below the question. Given:\n",
    "\n",
    "```\n",
    "user_dictionary = {'name': 'Professor Williams', 'job': 'CISC 106 Instructor'}\n",
    "```\n",
    "### 5) Use the` print()` function to print the value held by the key '`name`' in  `user_dictionary`: \n",
    "```\n",
    "\n",
    "```\n",
    "\n",
    "### 6) Using slicing, access just the numer `106` from the string held in the `job` key in `user_dictionary` and assign it to the variable `course_number:`  \n",
    "```\n",
    "# Finish this line:\n",
    "course_number = \n",
    "```\n"
   ]
  },
  {
   "cell_type": "code",
   "execution_count": 2,
   "metadata": {},
   "outputs": [
    {
     "name": "stdout",
     "output_type": "stream",
     "text": [
      "Professor Williams\n",
      "106\n"
     ]
    }
   ],
   "source": [
    "user_dictionary = {'name': 'Professor Williams', 'job': 'CISC 106 Instructor'}\n",
    "\n",
    "print(user_dictionary['name'])\n",
    "\n",
    "course_number = user_dictionary['job'][5:8]\n",
    "\n",
    "print(course_number)"
   ]
  },
  {
   "cell_type": "markdown",
   "metadata": {},
   "source": [
    "---\n",
    "\n",
    "### 7) Given:\n",
    "\n",
    "```\n",
    "dow = [\"Sun\", \"Mon\", \"Tue\", \"Wed\", \"Thu\", \"Fri\", \"Sat\"]\n",
    "```\n",
    "\n",
    "### 7) Fill in the blanks:\n",
    "```\n",
    "print('We have classes on {} and {}, and labs are on {}'.format(dow[_____], dow[______], dow[______]))\n",
    "```"
   ]
  },
  {
   "cell_type": "code",
   "execution_count": 3,
   "metadata": {},
   "outputs": [
    {
     "name": "stdout",
     "output_type": "stream",
     "text": [
      "We have classes on Tue and Thu, and labs are on Fri\n"
     ]
    }
   ],
   "source": [
    "dow = [\"Sun\",\"Mon\",\"Tue\",\"Wed\",\"Thu\",\"Fri\",\"Sat\"]\n",
    "\n",
    "print('We have classes on {} and {}, and labs are on {}'.format(dow[2], dow[4], dow[5]))"
   ]
  },
  {
   "cell_type": "markdown",
   "metadata": {},
   "source": [
    "---\n",
    "### Use the following for 8-10. Given:\n",
    "\n",
    "my_str = \"Crazy like a fox.\\n\"\n",
    "\n",
    "\n",
    "### 8) What is the value of `len(my_str)`?  \\_\\_\\_\\_\\_\\_\\_\\_\\_\n",
    "\n",
    "### 9) Write one or more lines of code that removes whitespace from the end of `my_str`, removes the punctuation, and makes the string lowercase. Assign the result to `my_str_clean`.\n",
    "```\n",
    "# Finish the line below. You can use additional lines, but make \n",
    "# sure `my_str_clean` holds the proper value.\n",
    "my_str_clean = \n",
    "\n",
    "\n",
    "```\n",
    "\n",
    "```\n",
    "\n",
    "```\n",
    "\n",
    "### 10) Turn `my_str_clean` into a list of words and store it in the variable `my_str_clean_word_list`.\n",
    "```\n",
    "# Finish the line below. \n",
    "my_str_clean_word_list = \n",
    "\n",
    "\n",
    "```"
   ]
  },
  {
   "cell_type": "code",
   "execution_count": 4,
   "metadata": {},
   "outputs": [
    {
     "name": "stdout",
     "output_type": "stream",
     "text": [
      "len(my_str): 18\n",
      "my_str_clean: crazy like a fox\n",
      "my_str_clean_word_list: ['crazy', 'like', 'a', 'fox']\n"
     ]
    }
   ],
   "source": [
    "my_str = \"Crazy like a fox.\\n\"\n",
    "\n",
    "print('len(my_str):', len(my_str))\n",
    "\n",
    "my_str_clean = my_str.strip().strip('.').lower()\n",
    "\n",
    "print('my_str_clean:', my_str_clean)\n",
    " \n",
    "my_str_clean_word_list = my_str_clean.split()\n",
    "\n",
    "print('my_str_clean_word_list:', my_str_clean_word_list)"
   ]
  },
  {
   "cell_type": "markdown",
   "metadata": {},
   "source": [
    "---\n",
    "\n",
    "### 11) Given:\n",
    "\n",
    "```\n",
    "my_name = 'Professor Williams'\n",
    "```\n",
    "\n",
    "### 11) Using slicing and assuming 0 is even, print a string of all the even indexes of the string `my_name` (string will start with 'Poes'):\n",
    "```\n",
    "# Finish the line below\n",
    "print(my_name[\n",
    "\n",
    "```"
   ]
  },
  {
   "cell_type": "code",
   "execution_count": 5,
   "metadata": {},
   "outputs": [
    {
     "name": "stdout",
     "output_type": "stream",
     "text": [
      "PoesrWlim\n",
      "PoesrWlim\n"
     ]
    }
   ],
   "source": [
    "my_name = 'Professor Williams'\n",
    "\n",
    "print(my_name[::2])\n",
    "\n",
    "# or\n",
    "\n",
    "print(my_name[0:len(my_name):2])"
   ]
  },
  {
   "cell_type": "markdown",
   "metadata": {},
   "source": [
    "---\n",
    "### 12) Given:\n",
    "```\n",
    "phone_number = '302-867-5309'\n",
    "```\n",
    "\n",
    "### 12) Use a slice to get the area code (first 3 digits) from `phone_number` and set it to the variable `area_code`:\n",
    "```\n",
    "# Finish the line below\n",
    "area_code = phone_number[\n",
    "```"
   ]
  },
  {
   "cell_type": "code",
   "execution_count": 6,
   "metadata": {},
   "outputs": [
    {
     "name": "stdout",
     "output_type": "stream",
     "text": [
      "302\n"
     ]
    }
   ],
   "source": [
    "phone_number = '302-867-5309'\n",
    "\n",
    "area_code = phone_number[:3]\n",
    "\n",
    "print(area_code)"
   ]
  },
  {
   "cell_type": "markdown",
   "metadata": {},
   "source": [
    "---\n",
    "**For Questions 13, 14, and 24: You can think of a nested list as a grid with rows and columns, where each inner-list holds a row of values. For instance, a formatted version of `[[1, 2, 3], [4, 5, 6], [7, 8, 9]]` that looks like a grid is:**\n",
    "```\n",
    "[[1, 2, 3], \n",
    " [4, 5, 6], \n",
    " [7, 8, 9]]\n",
    "```\n",
    "### 13) Set `nested_list_diagonal` to be a list of three values, the top-left to lower-right diagonal of `nested_list` (see `assertEqual()` statement):\n",
    "```\n",
    "nested_list = [[1, 2, 3], [4, 5, 6], [7, 8, 9]]\n",
    "\n",
    "# Finish this line:\n",
    "nested_list_diagonal = \n",
    "\n",
    "# This statement is a SUCCESS\n",
    "assertEqual(nested_list_diagonal, [1, 5, 9])\n",
    "```"
   ]
  },
  {
   "cell_type": "code",
   "execution_count": 7,
   "metadata": {},
   "outputs": [
    {
     "name": "stdout",
     "output_type": "stream",
     "text": [
      "SUCCESS - [line 8] assertEqual(nested_list_diagonal, [1, 5, 9])\n"
     ]
    },
    {
     "data": {
      "text/plain": [
       "True"
      ]
     },
     "execution_count": 7,
     "metadata": {},
     "output_type": "execute_result"
    }
   ],
   "source": [
    "from cisc106 import assertEqual\n",
    "nested_list = [[1, 2, 3], [4, 5, 6], [7, 8, 9]]\n",
    "\n",
    "# Finish this line:\n",
    "nested_list_diagonal = [nested_list[0][0], nested_list[1][1], nested_list[2][2]]\n",
    "\n",
    "# This statement is a SUCCESS\n",
    "assertEqual(nested_list_diagonal, [1, 5, 9])"
   ]
  },
  {
   "cell_type": "markdown",
   "metadata": {},
   "source": [
    "---\n",
    "\n",
    "### 14) Finish the loop so that `nested_list_first_column` is the first column of `nested_list` (see `assertEqual()` statement):\n",
    "```\n",
    "nested_list = [[1, 2, 3], [4, 5, 6], [7, 8, 9]]\n",
    "\n",
    "nested_list_first_column = []\n",
    "\n",
    "for inner_list in nested_list:\n",
    "    # Finish the line below:\n",
    "    nested_list_first_column.append(\n",
    "\n",
    "# This statement is a SUCCESS\n",
    "assertEqual(nested_list_first_column, [1, 4, 7])\n",
    "```"
   ]
  },
  {
   "cell_type": "code",
   "execution_count": 8,
   "metadata": {},
   "outputs": [
    {
     "name": "stdout",
     "output_type": "stream",
     "text": [
      "SUCCESS - [line 10] assertEqual(nested_list_first_column, [1, 4, 7])\n"
     ]
    },
    {
     "data": {
      "text/plain": [
       "True"
      ]
     },
     "execution_count": 8,
     "metadata": {},
     "output_type": "execute_result"
    }
   ],
   "source": [
    "nested_list = [[1, 2, 3], [4, 5, 6], [7, 8, 9]]\n",
    "\n",
    "nested_list_first_column = []\n",
    "\n",
    "for inner_list in nested_list:\n",
    "    # Finish the line below:\n",
    "    nested_list_first_column.append(inner_list[0])\n",
    "\n",
    "# This statement is a SUCCESS\n",
    "assertEqual(nested_list_first_column, [1, 4, 7])"
   ]
  },
  {
   "cell_type": "markdown",
   "metadata": {},
   "source": [
    "---\n",
    "### 15) Given:\n",
    "```\n",
    "my_str = 'The quick brown fox jumps over the lazy dog.'\n",
    "```\n",
    "\n",
    "### 15) Use the string `replace()` method and print (changes in italics): The quick *red* fox jumps over the *ugly* dog.\n",
    "```\n",
    "# Write code below\n",
    "\n",
    "```\n",
    "```\n",
    "\n",
    "```"
   ]
  },
  {
   "cell_type": "code",
   "execution_count": 9,
   "metadata": {},
   "outputs": [
    {
     "name": "stdout",
     "output_type": "stream",
     "text": [
      "The quick red fox jumps over the ugly dog.\n"
     ]
    }
   ],
   "source": [
    "my_str = 'The quick brown fox jumps over the lazy dog.'\n",
    "\n",
    "print(my_str.replace('brown', 'red').replace('lazy', 'ugly'))\n"
   ]
  },
  {
   "cell_type": "markdown",
   "metadata": {},
   "source": [
    "### For 16-18, complete the following class methods (12 points total, 4 points for each method)\n",
    "* **Write the `___str___()` method. It should return a string of how many items are in each category. Use the format below, but replace the number with the actual number of items in each category (It is ok that 'items' is plural even if there is only one item):**\n",
    "    * **Example: 'Shopping list has 3 items in produce, 1 items in deli, and 4 items in dairy.'**\n",
    "* **Write the `addItem()` method, assume that category is one of these three values: produce, deli, dairy**\n",
    "* **Write the `removeItem()`, it removes a given item from any category it appears in.**\n",
    "\n",
    "**Note that the init() method is correct and complete**\n",
    "```\n",
    "class ShoppingList:\n",
    "    \"\"\" ShoppingList class to keep track of what to buy at the grocery store. \"\"\"\n",
    "\n",
    "    def __init__(self):\n",
    "        \"\"\" Create a shopping list \"\"\"\n",
    "        self.produce_list = []\n",
    "        self.deli_list = []\n",
    "        self.dairy_list = []\n",
    "        \n",
    "    def __str__(self):\n",
    "        \"\"\" String version of the shopping list \"\"\"\n",
    "        \n",
    "\n",
    "        \n",
    "        \n",
    "        \n",
    "    def addItem(self, category, item):\n",
    "        # Finish this method below\n",
    "        \n",
    "\n",
    "\n",
    "\n",
    "\n",
    "\n",
    "\n",
    "\n",
    "        \n",
    "        \n",
    "    def removeItem(self, item):\n",
    "        # Finish this method below\n",
    "\n",
    "        \n",
    "\n",
    "```\n",
    "```\n",
    "\n",
    "```\n",
    "```\n",
    "\n",
    "```\n",
    "```\n",
    "\n",
    "```"
   ]
  },
  {
   "cell_type": "code",
   "execution_count": 10,
   "metadata": {},
   "outputs": [
    {
     "name": "stdout",
     "output_type": "stream",
     "text": [
      "Shopping list has 4 items in produce, 2 items in deli, and 3 items in dairy.\n",
      "Shopping list has 3 items in produce, 2 items in deli, and 2 items in dairy.\n"
     ]
    }
   ],
   "source": [
    "class ShoppingList:\n",
    "    \"\"\" ShoppingList class to keep track of what to buy at the grocery store. \"\"\"\n",
    "\n",
    "    def __init__(self):\n",
    "        \"\"\" Create a shopping list \"\"\"\n",
    "        self.produce_list = []\n",
    "        self.deli_list = []\n",
    "        self.dairy_list = []\n",
    "        \n",
    "    def __str__(self):\n",
    "        \"\"\" String version of the shopping list \"\"\"\n",
    "        return 'Shopping list has {} items in produce, {} items in deli, and {} items in dairy.'.format(\n",
    "            len(self.produce_list), len(self.deli_list), len(self.dairy_list))\n",
    "\n",
    "        \n",
    "    def addItem(self, category, item):\n",
    "        # Finish this method below\n",
    "        if category == 'produce':\n",
    "            self.produce_list.append(item)\n",
    "        elif category == 'deli':\n",
    "            self.deli_list.append(item)\n",
    "        elif category == 'dairy':\n",
    "            self.dairy_list.append(item)\n",
    "        \n",
    "    def removeItem(self, item):\n",
    "        # Finish this method below\n",
    "        if item in self.produce_list:\n",
    "            self.produce_list.remove(item)\n",
    "            \n",
    "        if item in self.deli_list:\n",
    "            self.deli_list.remove(item)\n",
    "            \n",
    "        if item in self.dairy_list:\n",
    "            self.dairy_list.remove(item)\n",
    "        \n",
    "# Testing examples\n",
    "shopping_list = ShoppingList()\n",
    "shopping_list.addItem('produce', 'apple')\n",
    "shopping_list.addItem('produce', 'bannana')\n",
    "shopping_list.addItem('produce', 'tomatos')\n",
    "shopping_list.addItem('produce', 'berries')\n",
    "shopping_list.addItem('deli', 'ham')\n",
    "shopping_list.addItem('deli', 'turkey')\n",
    "shopping_list.addItem('dairy', 'milk')\n",
    "shopping_list.addItem('dairy', 'cheese')\n",
    "shopping_list.addItem('dairy', 'yogurt')\n",
    "\n",
    "print(shopping_list)\n",
    "\n",
    "shopping_list.removeItem('cheese')\n",
    "shopping_list.removeItem('tomatos')\n",
    "\n",
    "print(shopping_list)"
   ]
  },
  {
   "cell_type": "markdown",
   "metadata": {},
   "source": [
    "---\n",
    "### For 19-22, debug the following class (16 points total: 4 points for each of 4 bugs. 2 points for finding, 2 points for fixing)\n",
    "\n",
    "**There are 4 bugs spread out amoung these 5 methods: `getAllItems()`, `getCountOfAllItems()`, `getListOfDuplicates()`, `addItemFromUser()`, `removeItemFromUser()`**\n",
    "\n",
    "**A method might have more than one bug. Obviously at least one method has zero bugs.**\n",
    "\n",
    "**None of the bugs involve indentation or misspellings.**\n",
    "\n",
    "```\n",
    "\n",
    "class ShoppingList:\n",
    "    \"\"\" ShoppingList class to keep track of what to buy at the grocery store. \"\"\"\n",
    "\n",
    "    def __init__(self):\n",
    "        \"\"\" Create a shopping list \"\"\"\n",
    "        self.produce_list = []\n",
    "        self.deli_list = []\n",
    "        self.dairy_list = []\n",
    "        \n",
    "    def __str__(self):\n",
    "        # Assume working version that you already created \n",
    "        pass\n",
    "\n",
    "    def addItem(self, category, item):\n",
    "        # Assume working version that you already created \n",
    "        pass\n",
    "        \n",
    "    def removeItem(self, item):\n",
    "        # Assume working version that you already created \n",
    "        pass\n",
    "\n",
    "    def getAllItems():\n",
    "        \"\"\" Returns a list of all items \"\"\"\n",
    "        return self.produce_list + self.deli_list + self.dairy_list\n",
    "\n",
    "    def getCountOfAllItems(self):\n",
    "        \"\"\" Returns a single number of all items in all categories \"\"\"\n",
    "        return len(self.getAllItems())\n",
    "\n",
    "    def getListOfDuplicates(self):\n",
    "        \"\"\" Returns a list of items that appear more than once \"\"\"\n",
    "        all_items = self.getAllItems()\n",
    "        duplicate_items = []\n",
    "        for item in all_items:\n",
    "            if all_items.count(item) > 1 and item in duplicate_items:\n",
    "                duplicate_items.append(item)\n",
    "        return duplicate_items\n",
    "                \n",
    "    def addItemFromUser(self):\n",
    "        \"\"\"\n",
    "        Ask the user for a category and an item. \n",
    "        If the category is not valid, keep asking until they enter \n",
    "        one of: produce, deli, dairy\n",
    "        The item is assumed to be valid, no matter what the user enters\n",
    "        \"\"\"\n",
    "        category = ''\n",
    "        while category not in ['produce', 'deli']:\n",
    "            category = input('Enter a category: ')\n",
    "            \n",
    "        item = input('Enter an item to add to {}: '.format(category))\n",
    "        \n",
    "        self.addItem(category, item)\n",
    "        \n",
    "\n",
    "    def removeItemFromUser(self):\n",
    "        \"\"\"\n",
    "        Ask the user for an item to remove.\n",
    "        If the item is not in any of the lists, keep asking until \n",
    "        they enter an item that exists\n",
    "        \"\"\"\n",
    "        item = ''\n",
    "        while item not in self.getAllItems():\n",
    "            item = input('Enter an item to remove: ')\n",
    "        \n",
    "        self.removeItem()\n",
    "\n",
    "```"
   ]
  },
  {
   "cell_type": "code",
   "execution_count": 11,
   "metadata": {},
   "outputs": [
    {
     "name": "stdout",
     "output_type": "stream",
     "text": [
      "Enter a category. Valid options are: produce, deli, and dairy: no\n",
      "Enter a category. Valid options are: produce, deli, and dairy: prod\n",
      "Enter a category. Valid options are: produce, deli, and dairy: produce\n",
      "Enter an item to add to produce: milk\n",
      "Enter a category. Valid options are: produce, deli, and dairy: dairy\n",
      "Enter an item to add to dairy: milk\n",
      "Enter a category. Valid options are: produce, deli, and dairy: deli\n",
      "Enter an item to add to deli: roast beef\n",
      "3\n",
      "['milk', 'roast beef', 'milk']\n",
      "['milk']\n",
      "Enter an item to remove: milk\n",
      "['roast beef']\n"
     ]
    }
   ],
   "source": [
    "class ShoppingList:\n",
    "    \"\"\" ShoppingList class to keep track of what to buy at the grocery store. \"\"\"\n",
    "\n",
    "    def __init__(self):\n",
    "        \"\"\" Create a shopping list \"\"\"\n",
    "        self.produce_list = []\n",
    "        self.deli_list = []\n",
    "        self.dairy_list = []\n",
    "        \n",
    "    def __str__(self):\n",
    "        \"\"\" String version of the shopping list \"\"\"\n",
    "        return 'Shopping list has {} items in produce, {} items in deli, and {} items in dairy.'.format(\n",
    "            len(self.produce_list), len(self.deli_list), len(self.dairy_list))\n",
    "\n",
    "        \n",
    "    def addItem(self, category, item):\n",
    "        # Finish this method below\n",
    "        if category == 'produce':\n",
    "            self.produce_list.append(item)\n",
    "        elif category == 'deli':\n",
    "            self.deli_list.append(item)\n",
    "        elif category == 'dairy':\n",
    "            self.dairy_list.append(item)\n",
    "        \n",
    "    def removeItem(self, item):\n",
    "        # Finish this method below\n",
    "        if item in self.produce_list:\n",
    "            self.produce_list.remove(item)\n",
    "            \n",
    "        if item in self.deli_list:\n",
    "            self.deli_list.remove(item)\n",
    "            \n",
    "        if item in self.dairy_list:\n",
    "            self.dairy_list.remove(item)\n",
    "\n",
    "    # Method definition missing 'self' as an argument\n",
    "    def getAllItems(self):\n",
    "        \"\"\" Returns a list of all items \"\"\"\n",
    "        return self.produce_list + self.deli_list + self.dairy_list\n",
    "\n",
    "    def getCountOfAllItems(self):\n",
    "        \"\"\" Returns a single number of all items in all categories \"\"\"\n",
    "        return len(self.getAllItems())\n",
    "\n",
    "    def getListOfDuplicates(self):\n",
    "        \"\"\" Returns a list of items that appear more than once \"\"\"\n",
    "        all_items = self.getAllItems()\n",
    "        duplicate_items = []\n",
    "        for item in all_items:\n",
    "            # Needs to read: 'item not in duplicate_items'\n",
    "            if all_items.count(item) > 1 and item not in duplicate_items:\n",
    "                duplicate_items.append(item)\n",
    "        return duplicate_items\n",
    "                \n",
    "    def addItemFromUser(self):\n",
    "        \"\"\"\n",
    "        Ask the user for a category and an item. \n",
    "        If the category is not valid, keep asking until they enter one of: produce, deli, dairy\n",
    "        The item is assumed to be valid, no matter what the user entres\n",
    "        \"\"\"\n",
    "        category = ''\n",
    "        # Missing category name 'dairy'\n",
    "        while category not in ['produce', 'deli', 'dairy']:\n",
    "            category = input('Enter a category. Valid options are: produce, deli, and dairy: ')\n",
    "            \n",
    "        item = input('Enter an item to add to {}: '.format(category))\n",
    "        \n",
    "        self.addItem(category, item)\n",
    "        \n",
    "\n",
    "    def removeItemFromUser(self):\n",
    "        \"\"\"\n",
    "        Ask the user for an item to remove.\n",
    "        If the item is not in any of the lists, keep asking until they enter an item that exists\n",
    "        \"\"\"\n",
    "        item = ''\n",
    "        while item not in self.getAllItems():\n",
    "            item = input('Enter an item to remove: ')\n",
    "        \n",
    "        # Need to pass item to method removeItem()\n",
    "        self.removeItem(item)\n",
    "\n",
    "# Testing example\n",
    "shopping_list = ShoppingList()\n",
    "\n",
    "shopping_list.addItemFromUser()\n",
    "shopping_list.addItemFromUser()\n",
    "shopping_list.addItemFromUser()\n",
    "\n",
    "print(shopping_list.getCountOfAllItems())\n",
    "\n",
    "print(shopping_list.getAllItems())\n",
    "\n",
    "print(shopping_list.getListOfDuplicates())\n",
    "\n",
    "shopping_list.removeItemFromUser()\n",
    "\n",
    "print(shopping_list.getAllItems())"
   ]
  },
  {
   "cell_type": "markdown",
   "metadata": {},
   "source": [
    "### 23) Finish this function `nested_list_sum()` that takes a nested list and returns the sum of all numbers. Assume the function is only passed nested lists of numbers. One assertEqual() statement is provided for you, write two more. (6 points)\n",
    "```\n",
    "def nested_list_sum(nested_list):\n",
    "    # Finish the function\n",
    "    \n",
    "\n",
    "\n",
    "\n",
    "\n",
    "\n",
    "# This one is a SUCCESS\n",
    "assertEqual(nested_list_sum([[1], [2, 3], [4, 5, 6]]), 21)\n",
    "\n",
    "# Finish these two:\n",
    "assertEqual(nested_list_sum(\n",
    "\n",
    "assertEqual(nested_list_sum(\n",
    "\n",
    "```"
   ]
  },
  {
   "cell_type": "code",
   "execution_count": 12,
   "metadata": {},
   "outputs": [
    {
     "name": "stdout",
     "output_type": "stream",
     "text": [
      "SUCCESS - [line 12] assertEqual(nested_list_sum([[1], [2, 3], [4, 5, 6]]), 21)\n",
      "SUCCESS - [line 15] assertEqual(nested_list_sum([[1], [3], [6]]), 10)\n",
      "SUCCESS - [line 17] assertEqual(nested_list_sum([[1, 2, 3], [4, 5, 6], [7, 8, 9]]), 45)\n"
     ]
    },
    {
     "data": {
      "text/plain": [
       "True"
      ]
     },
     "execution_count": 12,
     "metadata": {},
     "output_type": "execute_result"
    }
   ],
   "source": [
    "def nested_list_sum(nested_list):\n",
    "    # Finish the function\n",
    "    my_sum = 0\n",
    "    \n",
    "    for inner_list in nested_list:\n",
    "        my_sum += sum(inner_list)\n",
    "        \n",
    "    return my_sum\n",
    "\n",
    "\n",
    "# This one is correct\n",
    "assertEqual(nested_list_sum([[1], [2, 3], [4, 5, 6]]), 21)\n",
    "\n",
    "# Finish these two:\n",
    "assertEqual(nested_list_sum([[1], [3], [6]]), 10)\n",
    "\n",
    "assertEqual(nested_list_sum([[1, 2, 3], [4, 5, 6], [7, 8, 9]]), 45)"
   ]
  },
  {
   "cell_type": "markdown",
   "metadata": {},
   "source": [
    "---\n",
    "\n",
    "### 24) Finish the function `nested_list_size()` that takes a nested list and returns a list with two values, the first has the number of rows and the second number is the number of columns. One assertEqual() statement is provided for you, write two more. (6 points)\n",
    "**Additional information: The number of columns is the length of the largest inner-list. For instance, a formatted version of `[[1, 2, 3], [4, 5, 6], [7, 8, 9]]` has size of `[3, 3]`. (Do not use this as one of your `assertEqual()` statements.)**\n",
    "```\n",
    "def nested_list_size(nested_list):\n",
    "    # Finish the function\n",
    "\n",
    "\n",
    "\n",
    "\n",
    "\n",
    "\n",
    "\n",
    "\n",
    "\n",
    "# This one is a SUCCESS\n",
    "assertEqual(nested_list_size([[1], [2, 3], [4, 5, 6]]), [3, 3])\n",
    "\n",
    "# Finish these two:\n",
    "assertEqual(nested_list_size(\n",
    "\n",
    "assertEqual(nested_list_size(\n",
    "```"
   ]
  },
  {
   "cell_type": "code",
   "execution_count": 13,
   "metadata": {},
   "outputs": [
    {
     "name": "stdout",
     "output_type": "stream",
     "text": [
      "SUCCESS - [line 13] assertEqual(nested_list_size([[1], [2, 3], [4, 5, 6]]), [3, 3])\n",
      "SUCCESS - [line 16] assertEqual(nested_list_size([[1]]), [1, 1])\n",
      "SUCCESS - [line 18] assertEqual(nested_list_size([[1], [2, 3], [4, 5]]), [3, 2])\n"
     ]
    },
    {
     "data": {
      "text/plain": [
       "True"
      ]
     },
     "execution_count": 13,
     "metadata": {},
     "output_type": "execute_result"
    }
   ],
   "source": [
    "def nested_list_size(nested_list):\n",
    "    # Finish the function\n",
    "    max_length = len(nested_list[0])\n",
    "    \n",
    "    for inner_list in nested_list:\n",
    "        if len(inner_list) > max_length:\n",
    "            max_length = len(inner_list)\n",
    "            \n",
    "    return [len(nested_list), max_length]\n",
    "\n",
    "\n",
    "# This one is correct\n",
    "assertEqual(nested_list_size([[1], [2, 3], [4, 5, 6]]), [3, 3])\n",
    "\n",
    "# Finish these two:\n",
    "assertEqual(nested_list_size([[1]]), [1, 1])\n",
    "\n",
    "assertEqual(nested_list_size([[1], [2, 3], [4, 5]]), [3, 2])"
   ]
  },
  {
   "cell_type": "markdown",
   "metadata": {},
   "source": [
    "---\n",
    "### 25) Finish the function `sum_numbers_from_filename()` that takes a single argument, the location of a file that has a single number on each line. Sum all the numbers and return the value. (5 points)\n",
    "\n",
    "**The file is called `numbers.txt` and the numbers it holds are unknown. But, an example might be:**\n",
    "\n",
    "```\n",
    "67\n",
    "974\n",
    "23\n",
    "178\n",
    "98\n",
    "```\n",
    "\n",
    "```\n",
    "def sum_numbers_from_filename(filename):\n",
    "    # Open the file for reading\n",
    "    \n",
    "    \n",
    "    # Finish the rest of the function\n",
    "\n",
    "\n",
    "\n",
    "\n",
    "\n",
    "\n",
    "\n",
    "# This line is provided to give an example of calling the function\n",
    "print(sum_numbers_from_filename('numbers.txt'))\n",
    "```"
   ]
  },
  {
   "cell_type": "code",
   "execution_count": 14,
   "metadata": {},
   "outputs": [
    {
     "name": "stdout",
     "output_type": "stream",
     "text": [
      "1340\n"
     ]
    }
   ],
   "source": [
    "def sum_numbers_from_filename(filename):\n",
    "    # Open the file for reading\n",
    "    f = open(filename, 'r')\n",
    "    \n",
    "    # Finish the rest of the function\n",
    "    my_sum = 0\n",
    "    for line in f:\n",
    "        my_sum += int(line)\n",
    "    \n",
    "    return my_sum\n",
    "\n",
    "# This line is provided to give an example of calling the function\n",
    "print(sum_numbers_from_filename('numbers.txt'))"
   ]
  },
  {
   "cell_type": "markdown",
   "metadata": {},
   "source": [
    "---\n",
    "### 26) Finish the function `remove_max_from_list()` that takes a list as its only argument and removes all occurances of whichever element is the max. Edit the list that is passed, and do not change the order of the other elements. (5 points)\n",
    "\n",
    "**Example:**\n",
    "```\n",
    "my_list = [3, 9, 1, 9]\n",
    "remove_max_from_list(my_list)\n",
    "assertEqual(my_list, [3, 1] ) # This one is a SUCCESS\n",
    "```\n",
    "**Solve here:**\n",
    "```\n",
    "def remove_max_from_list(a_list):\n",
    "    # Finish the rest of the function\n",
    "```\n",
    "```\n",
    "\n",
    "```\n",
    "```\n",
    "\n",
    "```\n",
    "```\n",
    "\n",
    "```"
   ]
  },
  {
   "cell_type": "code",
   "execution_count": 15,
   "metadata": {},
   "outputs": [
    {
     "name": "stdout",
     "output_type": "stream",
     "text": [
      "SUCCESS - [line 9] assertEqual(my_list, [3, 1] )\n"
     ]
    },
    {
     "data": {
      "text/plain": [
       "True"
      ]
     },
     "execution_count": 15,
     "metadata": {},
     "output_type": "execute_result"
    }
   ],
   "source": [
    "def remove_max_from_list(a_list):\n",
    "    # Finish the rest of the function\n",
    "    list_max = max(a_list)\n",
    "    while list_max in a_list:\n",
    "        a_list.remove(list_max)\n",
    "    \n",
    "my_list = [3, 9, 1, 9]\n",
    "remove_max_from_list(my_list)\n",
    "assertEqual(my_list, [3, 1] )"
   ]
  },
  {
   "cell_type": "markdown",
   "metadata": {},
   "source": [
    "---\n",
    "**Consider a triangle of size 4:**\n",
    "```\n",
    "####\n",
    "###\n",
    "##\n",
    "#\n",
    "```\n",
    "**Note the top line has four hashmarks, there are four lines in total, and the bottom line has a single hash mark. A tringle of size 1 would be just a single line with a single hashmark. For full credit, use recusion on this problem. You can solve it without recusion for half credit.**\n",
    "\n",
    "### 27) Finish the function `draw_triangle()` that takes a number as its only argument and draws a triangle of that size as described above. (5 points)\n",
    "\n",
    "```\n",
    "def draw_triangle(n):\n",
    "    # Finish the rest of the function\n",
    "```\n",
    "```\n",
    "\n",
    "```\n",
    "```\n",
    "\n",
    "```\n",
    "```\n",
    "\n",
    "```"
   ]
  },
  {
   "cell_type": "code",
   "execution_count": 16,
   "metadata": {},
   "outputs": [
    {
     "name": "stdout",
     "output_type": "stream",
     "text": [
      "#####\n",
      "####\n",
      "###\n",
      "##\n",
      "#\n"
     ]
    }
   ],
   "source": [
    "def draw_triangle(n):\n",
    "    # Finish the rest of the function\n",
    "    # If n is 1 we need to return, \n",
    "    # otherwise recursive function will call itself for infinity\n",
    "    if n == 1:\n",
    "        print('#')\n",
    "        return\n",
    "    \n",
    "    line = ''\n",
    "    for i in range(n):\n",
    "        line += '#'\n",
    "    print(line)\n",
    "    draw_triangle(n-1)\n",
    "    \n",
    "draw_triangle(5)"
   ]
  }
 ],
 "metadata": {
  "kernelspec": {
   "display_name": "Python 3",
   "language": "python",
   "name": "python3"
  },
  "language_info": {
   "codemirror_mode": {
    "name": "ipython",
    "version": 3
   },
   "file_extension": ".py",
   "mimetype": "text/x-python",
   "name": "python",
   "nbconvert_exporter": "python",
   "pygments_lexer": "ipython3",
   "version": "3.6.6"
  }
 },
 "nbformat": 4,
 "nbformat_minor": 2
}
