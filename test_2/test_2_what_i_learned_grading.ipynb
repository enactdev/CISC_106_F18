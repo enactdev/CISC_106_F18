{
 "cells": [
  {
   "cell_type": "markdown",
   "metadata": {},
   "source": [
    "# CISC 106 Williams -- What I learned grading Test 2\n",
    "\n",
    "### Thursday November 8, 2018\n",
    "\n",
    "[![Binder](https://mybinder.org/badge.svg)](https://mybinder.org/v2/gh/enactdev/CISC_106_F18/master?filepath=test_2/test_2_what_i_learned_grading.ipynb)\n",
    "\n",
    "### Nothing here will be on the final."
   ]
  },
  {
   "cell_type": "code",
   "execution_count": 1,
   "metadata": {},
   "outputs": [],
   "source": [
    "from cisc106 import assertEqual"
   ]
  },
  {
   "cell_type": "markdown",
   "metadata": {},
   "source": [
    "---\n",
    "### Use the following for 8-10. Given:\n",
    "\n",
    "my_str = \"Crazy like a fox.\\n\"\n",
    "\n",
    "**Line above was not in code-font, which uses the same width for all characters. That was my fault. Should have looked like this:**\n",
    "\n",
    "```\n",
    "my_str = \"Crazy like a fox.\\n\"\n",
    "```\n",
    "\n",
    "### 8) What is the value of `len(my_str)`?  \\_\\_\\_\\_\\_\\_\\_\\_\\_\n"
   ]
  },
  {
   "cell_type": "code",
   "execution_count": 2,
   "metadata": {},
   "outputs": [
    {
     "name": "stdout",
     "output_type": "stream",
     "text": [
      "len(my_str): 18\n"
     ]
    }
   ],
   "source": [
    "my_str = \"Crazy like a fox.\\n\"\n",
    "\n",
    "print('len(my_str):', len(my_str))\n"
   ]
  },
  {
   "cell_type": "markdown",
   "metadata": {},
   "source": [
    "---\n",
    "**For Questions 13, 14, and 24: You can think of a nested list as a grid with rows and columns, where each inner-list holds a row of values. For instance, a formatted version of `[[1, 2, 3], [4, 5, 6], [7, 8, 9]]` that looks like a grid is:**\n",
    "```\n",
    "[[1, 2, 3], \n",
    " [4, 5, 6], \n",
    " [7, 8, 9]]\n",
    "```\n",
    "### 13) Set `nested_list_diagonal` to be a list of three values, the top-left to lower-right diagonal of `nested_list` (see `assertEqual()` statement):\n",
    "```\n",
    "nested_list = [[1, 2, 3], [4, 5, 6], [7, 8, 9]]\n",
    "\n",
    "# Finish this line:\n",
    "nested_list_diagonal = \n",
    "\n",
    "# This statement is a SUCCESS\n",
    "assertEqual(nested_list_diagonal, [1, 5, 9])\n",
    "```"
   ]
  },
  {
   "cell_type": "code",
   "execution_count": 3,
   "metadata": {},
   "outputs": [
    {
     "name": "stdout",
     "output_type": "stream",
     "text": [
      "SUCCESS - [line 9] assertEqual(nested_list_diagonal, [1, 5, 9])\n"
     ]
    },
    {
     "data": {
      "text/plain": [
       "True"
      ]
     },
     "execution_count": 3,
     "metadata": {},
     "output_type": "execute_result"
    }
   ],
   "source": [
    "# My expected solution:\n",
    "from cisc106 import assertEqual\n",
    "nested_list = [[1, 2, 3], [4, 5, 6], [7, 8, 9]]\n",
    "\n",
    "# Finish this line:\n",
    "nested_list_diagonal = [nested_list[0][0], nested_list[1][1], nested_list[2][2]]\n",
    "\n",
    "# This statement is a SUCCESS\n",
    "assertEqual(nested_list_diagonal, [1, 5, 9])\n",
    "\n"
   ]
  },
  {
   "cell_type": "markdown",
   "metadata": {},
   "source": [
    "**A few students did not put brackets around their list items, but turns out that code works because it creates a tuple, and the `assertEqual()` statement considers tuples and lists to be equal if they have the same elements:**"
   ]
  },
  {
   "cell_type": "code",
   "execution_count": 4,
   "metadata": {},
   "outputs": [
    {
     "name": "stdout",
     "output_type": "stream",
     "text": [
      "<class 'tuple'>\n",
      "SUCCESS - [line 7] assertEqual(nested_list_diagonal, [1, 5, 9])\n"
     ]
    },
    {
     "data": {
      "text/plain": [
       "True"
      ]
     },
     "execution_count": 4,
     "metadata": {},
     "output_type": "execute_result"
    }
   ],
   "source": [
    "# Finish this line:\n",
    "nested_list_diagonal = nested_list[0][0], nested_list[1][1], nested_list[2][2]\n",
    "\n",
    "print(type(nested_list_diagonal))\n",
    "\n",
    "# This statement is a SUCCESS\n",
    "assertEqual(nested_list_diagonal, [1, 5, 9])\n"
   ]
  },
  {
   "cell_type": "markdown",
   "metadata": {},
   "source": [
    "**But please note that Python does not treat them as equal:**"
   ]
  },
  {
   "cell_type": "code",
   "execution_count": 5,
   "metadata": {},
   "outputs": [
    {
     "ename": "AssertionError",
     "evalue": "",
     "output_type": "error",
     "traceback": [
      "\u001b[0;31m---------------------------------------------------------------------------\u001b[0m",
      "\u001b[0;31mAssertionError\u001b[0m                            Traceback (most recent call last)",
      "\u001b[0;32m<ipython-input-5-876ce7302a41>\u001b[0m in \u001b[0;36m<module>\u001b[0;34m()\u001b[0m\n\u001b[1;32m      3\u001b[0m \u001b[0mnested_tuple_diagonal\u001b[0m \u001b[0;34m=\u001b[0m \u001b[0mnested_list\u001b[0m\u001b[0;34m[\u001b[0m\u001b[0;36m0\u001b[0m\u001b[0;34m]\u001b[0m\u001b[0;34m[\u001b[0m\u001b[0;36m0\u001b[0m\u001b[0;34m]\u001b[0m\u001b[0;34m,\u001b[0m \u001b[0mnested_list\u001b[0m\u001b[0;34m[\u001b[0m\u001b[0;36m1\u001b[0m\u001b[0;34m]\u001b[0m\u001b[0;34m[\u001b[0m\u001b[0;36m1\u001b[0m\u001b[0;34m]\u001b[0m\u001b[0;34m,\u001b[0m \u001b[0mnested_list\u001b[0m\u001b[0;34m[\u001b[0m\u001b[0;36m2\u001b[0m\u001b[0;34m]\u001b[0m\u001b[0;34m[\u001b[0m\u001b[0;36m2\u001b[0m\u001b[0;34m]\u001b[0m\u001b[0;34m\u001b[0m\u001b[0m\n\u001b[1;32m      4\u001b[0m \u001b[0;34m\u001b[0m\u001b[0m\n\u001b[0;32m----> 5\u001b[0;31m \u001b[0;32massert\u001b[0m \u001b[0mnested_list_diagonal\u001b[0m \u001b[0;34m==\u001b[0m \u001b[0mnested_tuple_diagonal\u001b[0m\u001b[0;34m\u001b[0m\u001b[0m\n\u001b[0m",
      "\u001b[0;31mAssertionError\u001b[0m: "
     ]
    }
   ],
   "source": [
    "nested_list_diagonal = [nested_list[0][0], nested_list[1][1], nested_list[2][2]]\n",
    "\n",
    "nested_tuple_diagonal = nested_list[0][0], nested_list[1][1], nested_list[2][2]\n",
    "\n",
    "assert nested_list_diagonal == nested_tuple_diagonal"
   ]
  },
  {
   "cell_type": "markdown",
   "metadata": {},
   "source": [
    "**Also, this explains why this worked a few weeks ago:**"
   ]
  },
  {
   "cell_type": "code",
   "execution_count": 6,
   "metadata": {},
   "outputs": [],
   "source": [
    "my_list = ['a', 'b', 'c']\n",
    "\n",
    "my_list += 'd', 'e', 'f'"
   ]
  },
  {
   "cell_type": "markdown",
   "metadata": {},
   "source": [
    "**And it turns out Python will add anything that is iterable:**"
   ]
  },
  {
   "cell_type": "code",
   "execution_count": 7,
   "metadata": {},
   "outputs": [
    {
     "name": "stdout",
     "output_type": "stream",
     "text": [
      "['a', 'b', 'c', 'd']\n"
     ]
    },
    {
     "data": {
      "text/plain": [
       "['a', 'b', 'c', 'd', 'e', 'f', 'g']"
      ]
     },
     "execution_count": 7,
     "metadata": {},
     "output_type": "execute_result"
    }
   ],
   "source": [
    "my_list = ['a', 'b', 'c']\n",
    "\n",
    "my_list += 'd'\n",
    "\n",
    "print(my_list)\n",
    "\n",
    "my_list += 'efg'\n",
    "\n",
    "my_list"
   ]
  },
  {
   "cell_type": "markdown",
   "metadata": {},
   "source": [
    "**But please note that integers are not iterable, so this works:**"
   ]
  },
  {
   "cell_type": "code",
   "execution_count": 8,
   "metadata": {},
   "outputs": [
    {
     "data": {
      "text/plain": [
       "[1, 2, 3, 4, 5, 6]"
      ]
     },
     "execution_count": 8,
     "metadata": {},
     "output_type": "execute_result"
    }
   ],
   "source": [
    "my_list = [1, 2, 3]\n",
    "\n",
    "my_list += 4, 5, 6\n",
    "\n",
    "my_list"
   ]
  },
  {
   "cell_type": "markdown",
   "metadata": {},
   "source": [
    "**But this will not:**"
   ]
  },
  {
   "cell_type": "code",
   "execution_count": 9,
   "metadata": {},
   "outputs": [
    {
     "ename": "TypeError",
     "evalue": "'int' object is not iterable",
     "output_type": "error",
     "traceback": [
      "\u001b[0;31m---------------------------------------------------------------------------\u001b[0m",
      "\u001b[0;31mTypeError\u001b[0m                                 Traceback (most recent call last)",
      "\u001b[0;32m<ipython-input-9-766750a5c97e>\u001b[0m in \u001b[0;36m<module>\u001b[0;34m()\u001b[0m\n\u001b[1;32m      1\u001b[0m \u001b[0mmy_list\u001b[0m \u001b[0;34m=\u001b[0m \u001b[0;34m[\u001b[0m\u001b[0;36m1\u001b[0m\u001b[0;34m,\u001b[0m \u001b[0;36m2\u001b[0m\u001b[0;34m,\u001b[0m \u001b[0;36m3\u001b[0m\u001b[0;34m]\u001b[0m\u001b[0;34m\u001b[0m\u001b[0m\n\u001b[1;32m      2\u001b[0m \u001b[0;34m\u001b[0m\u001b[0m\n\u001b[0;32m----> 3\u001b[0;31m \u001b[0mmy_list\u001b[0m \u001b[0;34m+=\u001b[0m \u001b[0;36m4\u001b[0m\u001b[0;34m\u001b[0m\u001b[0m\n\u001b[0m",
      "\u001b[0;31mTypeError\u001b[0m: 'int' object is not iterable"
     ]
    }
   ],
   "source": [
    "my_list = [1, 2, 3]\n",
    "\n",
    "my_list += 4"
   ]
  },
  {
   "cell_type": "markdown",
   "metadata": {},
   "source": [
    "---\n",
    "### 26) Finish the function `remove_max_from_list()` that takes a list as its only argument and removes all occurances of whichever element is the max. Edit the list that is passed, and do not change the order of the other elements. (5 points)\n",
    "\n",
    "**Example:**\n",
    "```\n",
    "my_list = [3, 9, 1, 9]\n",
    "remove_max_from_list(my_list)\n",
    "assertEqual(my_list, [3, 1] ) # This one is a SUCCESS\n",
    "```\n",
    "**Solve here:**\n",
    "```\n",
    "def remove_max_from_list(a_list):\n",
    "    # Finish the rest of the function\n",
    "```\n",
    "\n",
    "**I learned that `del` does not require parenthesis:**"
   ]
  },
  {
   "cell_type": "code",
   "execution_count": 10,
   "metadata": {},
   "outputs": [
    {
     "data": {
      "text/plain": [
       "['a', 'c', 'd']"
      ]
     },
     "execution_count": 10,
     "metadata": {},
     "output_type": "execute_result"
    }
   ],
   "source": [
    "my_list = ['a', 'b', 'c', 'd']\n",
    "\n",
    "del my_list[1]\n",
    "\n",
    "my_list"
   ]
  },
  {
   "cell_type": "markdown",
   "metadata": {},
   "source": [
    "**But please use parenthesis:**"
   ]
  },
  {
   "cell_type": "code",
   "execution_count": 11,
   "metadata": {},
   "outputs": [
    {
     "data": {
      "text/plain": [
       "['a', 'c', 'd']"
      ]
     },
     "execution_count": 11,
     "metadata": {},
     "output_type": "execute_result"
    }
   ],
   "source": [
    "my_list = ['a', 'b', 'c', 'd']\n",
    "\n",
    "del(my_list[1])\n",
    "\n",
    "my_list"
   ]
  }
 ],
 "metadata": {
  "kernelspec": {
   "display_name": "Python 3",
   "language": "python",
   "name": "python3"
  },
  "language_info": {
   "codemirror_mode": {
    "name": "ipython",
    "version": 3
   },
   "file_extension": ".py",
   "mimetype": "text/x-python",
   "name": "python",
   "nbconvert_exporter": "python",
   "pygments_lexer": "ipython3",
   "version": "3.6.6"
  }
 },
 "nbformat": 4,
 "nbformat_minor": 2
}
