{
 "cells": [
  {
   "cell_type": "code",
   "execution_count": null,
   "metadata": {},
   "outputs": [],
   "source": [
    "# Help with prooject 2\n",
    "\n"
   ]
  },
  {
   "cell_type": "code",
   "execution_count": 1,
   "metadata": {},
   "outputs": [
    {
     "name": "stdout",
     "output_type": "stream",
     "text": [
      "True\n"
     ]
    }
   ],
   "source": [
    "my_list = [1, 2, 3]\n",
    "\n",
    "print(2 in my_list)"
   ]
  },
  {
   "cell_type": "code",
   "execution_count": 3,
   "metadata": {},
   "outputs": [
    {
     "name": "stdout",
     "output_type": "stream",
     "text": [
      "True\n",
      "False\n"
     ]
    }
   ],
   "source": [
    "my_str = 'abc'\n",
    "\n",
    "print('b' in my_str)\n",
    "\n",
    "print('d' in my_str)"
   ]
  },
  {
   "cell_type": "code",
   "execution_count": 4,
   "metadata": {},
   "outputs": [
    {
     "name": "stdout",
     "output_type": "stream",
     "text": [
      "2\n"
     ]
    }
   ],
   "source": [
    "bad_float = '3..14'\n",
    "\n",
    "print(bad_float.count('.'))"
   ]
  },
  {
   "cell_type": "markdown",
   "metadata": {},
   "source": [
    "**From description:**\n",
    "\n",
    "**The function should open a new file named 'LandingNN.csv' **\n",
    "\n",
    "```\n",
    "history =[ [3.61, 2.98, 15],  [3.01, 0.6, 14],  [0.79, 2.22, 14],  [0, 3.84, 14]]\n",
    "save_history(history,1)\n",
    "```"
   ]
  },
  {
   "cell_type": "code",
   "execution_count": 5,
   "metadata": {},
   "outputs": [
    {
     "name": "stdout",
     "output_type": "stream",
     "text": [
      "len(current_number_str): 1\n"
     ]
    }
   ],
   "source": [
    "\n",
    "current_number = 1\n",
    "\n",
    "current_number_str = str(1)\n",
    "\n",
    "print('len(current_number_str):', len(current_number_str))\n",
    "\n",
    "\n"
   ]
  },
  {
   "cell_type": "markdown",
   "metadata": {},
   "source": [
    "**Convert a list to a string to write, comma separated:**"
   ]
  },
  {
   "cell_type": "code",
   "execution_count": 9,
   "metadata": {},
   "outputs": [
    {
     "data": {
      "text/plain": [
       "'3.01,0.6,14'"
      ]
     },
     "execution_count": 9,
     "metadata": {},
     "output_type": "execute_result"
    }
   ],
   "source": [
    "my_list = [3.01, 0.6, 14]\n",
    "\n",
    "my_list_of_strings = []\n",
    "\n",
    "for item in my_list:\n",
    "    my_list_of_strings.append(str(item))\n",
    "\n",
    "my_list_str = ','.join(my_list_of_strings)\n",
    "\n",
    "my_list_str"
   ]
  },
  {
   "cell_type": "code",
   "execution_count": 12,
   "metadata": {},
   "outputs": [
    {
     "data": {
      "text/plain": [
       "'3.01,0.6,14'"
      ]
     },
     "execution_count": 12,
     "metadata": {},
     "output_type": "execute_result"
    }
   ],
   "source": [
    "my_list = [3.01, 0.6, 14]\n",
    "\n",
    "my_list_str = ''\n",
    "\n",
    "for item in my_list:\n",
    "    my_list_str += str(item) + ','\n",
    "\n",
    "my_list_str = my_list_str.rstrip(',')\n",
    "\n",
    "my_list_str"
   ]
  },
  {
   "cell_type": "code",
   "execution_count": null,
   "metadata": {},
   "outputs": [],
   "source": []
  }
 ],
 "metadata": {
  "kernelspec": {
   "display_name": "Python 3",
   "language": "python",
   "name": "python3"
  },
  "language_info": {
   "codemirror_mode": {
    "name": "ipython",
    "version": 3
   },
   "file_extension": ".py",
   "mimetype": "text/x-python",
   "name": "python",
   "nbconvert_exporter": "python",
   "pygments_lexer": "ipython3",
   "version": "3.6.6"
  }
 },
 "nbformat": 4,
 "nbformat_minor": 2
}
