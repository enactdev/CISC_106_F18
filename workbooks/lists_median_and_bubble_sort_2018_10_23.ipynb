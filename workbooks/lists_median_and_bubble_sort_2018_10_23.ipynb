{
 "cells": [
  {
   "cell_type": "markdown",
   "metadata": {},
   "source": [
    "# Lists -- Median and Bubble Sort functions\n",
    "\n",
    "## October 23, 2018\n",
    "\n",
    "[![Binder](https://mybinder.org/badge.svg)](https://mybinder.org/v2/gh/enactdev/CISC_106_F18/master?filepath=workbooks/lists_median_and_bubble_sort_2018_10_23)\n",
    "\n",
    "**Use the [guide on list methods](https://github.com/enactdev/CISC_106_F18/blob/master/guides/list_methods.ipynb) and example [starter code](https://github.com/enactdev/CISC_106_F18/blob/master/starter_code.ipynb) for reference on this workbook.**\n",
    "\n",
    "**The median of a list of numbers is the number in the middle if the list has an odd number of elements. If the list has an even number of elements then the median is the average of the middle two numbers. Write a function that takes a list and returns the median without changing the original list:**"
   ]
  },
  {
   "cell_type": "code",
   "execution_count": 1,
   "metadata": {},
   "outputs": [
    {
     "data": {
      "text/plain": [
       "5.5"
      ]
     },
     "execution_count": 1,
     "metadata": {},
     "output_type": "execute_result"
    }
   ],
   "source": [
    "def my_median(a_list):\n",
    "    my_list = a_list.copy()\n",
    "    my_list.sort()\n",
    "    if (len(my_list) % 2) != 0:\n",
    "        middle_index = len(my_list)//2\n",
    "        return my_list[middle_index]\n",
    "    else:\n",
    "        larger_index = len(my_list)//2\n",
    "        smaller_index = larger_index - 1\n",
    "        return (my_list[larger_index] + my_list[smaller_index]) / 2\n",
    "        \n",
    "my_median([1, 7, 5, 6, 3, 9])"
   ]
  },
  {
   "cell_type": "markdown",
   "metadata": {},
   "source": [
    "---\n",
    "\n",
    "**Write a function that takes a list of numbers and returns the maximum, without using the Python `max()` function or the list `sort()` method.**"
   ]
  },
  {
   "cell_type": "code",
   "execution_count": 2,
   "metadata": {},
   "outputs": [
    {
     "data": {
      "text/plain": [
       "9"
      ]
     },
     "execution_count": 2,
     "metadata": {},
     "output_type": "execute_result"
    }
   ],
   "source": [
    "def max_in_list(a_list):\n",
    "    my_max = a_list[0]\n",
    "    for item in a_list:\n",
    "        if item > my_max:\n",
    "            my_max = item\n",
    "    return my_max\n",
    "\n",
    "max_in_list([1, 7, 5, 9, 6, 3])"
   ]
  },
  {
   "cell_type": "markdown",
   "metadata": {},
   "source": [
    "---\n",
    "\n",
    "**Write another function that retuns the maximum number in a list, this time using the list `sort()` method, but without changing the list!**"
   ]
  },
  {
   "cell_type": "code",
   "execution_count": 3,
   "metadata": {},
   "outputs": [
    {
     "data": {
      "text/plain": [
       "9"
      ]
     },
     "execution_count": 3,
     "metadata": {},
     "output_type": "execute_result"
    }
   ],
   "source": [
    "def max_in_list_via_sort(a_list):\n",
    "    my_list = a_list.copy()\n",
    "    my_list.sort()\n",
    "    return my_list[-1]\n",
    "\n",
    "max_in_list_via_sort([1, 7, 5, 9, 6, 3])"
   ]
  },
  {
   "cell_type": "markdown",
   "metadata": {},
   "source": [
    "---\n",
    "\n",
    "## The following three functions will be combined in a function that will execute the [Bubble Sort](https://en.wikipedia.org/wiki/Bubble_sort) algorithm.\n",
    "\n",
    "**Write a function that returns `True` if the list is sorted, and `False` if not:**"
   ]
  },
  {
   "cell_type": "code",
   "execution_count": 4,
   "metadata": {},
   "outputs": [
    {
     "data": {
      "text/plain": [
       "False"
      ]
     },
     "execution_count": 4,
     "metadata": {},
     "output_type": "execute_result"
    }
   ],
   "source": [
    "def is_list_sorted(a_list):\n",
    "    \n",
    "    # We will be comparing the item in index i with i+1, so we need the range()\n",
    "    # function to stop early, hense the '-1'\n",
    "    for i in range(len(a_list)-1):\n",
    "        \n",
    "        # If the element in the next index is less than the item in this index then\n",
    "        # the list is not sorted\n",
    "        if a_list[i] > a_list[i+1]:\n",
    "            return False\n",
    "        \n",
    "    # If we have not yet returned False then the list is sorted and we need to return True\n",
    "    return True\n",
    "        \n",
    "is_list_sorted([1, 2, 4, 3])"
   ]
  },
  {
   "cell_type": "markdown",
   "metadata": {},
   "source": [
    "**We can also write the above function to compare the item at index i with the item at index i-1 (instead of i+1):**"
   ]
  },
  {
   "cell_type": "code",
   "execution_count": 5,
   "metadata": {},
   "outputs": [
    {
     "data": {
      "text/plain": [
       "False"
      ]
     },
     "execution_count": 5,
     "metadata": {},
     "output_type": "execute_result"
    }
   ],
   "source": [
    "def is_list_sorted_alternative(a_list):\n",
    "    \n",
    "    # We will be comparing the item in index i with i-1, so we need the range()\n",
    "    # function to start at 1 instead of 0\n",
    "    for i in range(1, len(a_list)):\n",
    "        \n",
    "        # If the previous element at index i-1 is greater than the current element at\n",
    "        # index i, then the list is not sorted\n",
    "        if a_list[i-1] > a_list[i]:\n",
    "            return False\n",
    "        \n",
    "    # If we have not yet returned False then the list is sorted and we need to return True\n",
    "    return True\n",
    "        \n",
    "is_list_sorted_alternative([1, 2, 4, 3])"
   ]
  },
  {
   "cell_type": "markdown",
   "metadata": {},
   "source": [
    "---\n",
    "\n",
    "**Back to our original methodology, of comparing index i with index i+1:**\n",
    "\n",
    "**This function is very similar to the function that tests if a list is sorted, but it returns the index of the first item that is out of order.**\n",
    "\n",
    "**Write a function that takes a list and returns the index of the first element that is out of order (i.e. where the element at index+1 is less than the element at index:**"
   ]
  },
  {
   "cell_type": "code",
   "execution_count": 6,
   "metadata": {},
   "outputs": [
    {
     "data": {
      "text/plain": [
       "2"
      ]
     },
     "execution_count": 6,
     "metadata": {},
     "output_type": "execute_result"
    }
   ],
   "source": [
    "def first_index_out_of_order(a_list):\n",
    "    \n",
    "    for i in range(len(a_list)-1):\n",
    "        if a_list[i] > a_list[i+1]:\n",
    "            return i\n",
    "        \n",
    "first_index_out_of_order([1, 2, 4, 3])"
   ]
  },
  {
   "cell_type": "markdown",
   "metadata": {},
   "source": [
    "---\n",
    "\n",
    "**Write a function that takes a list and two indexes, and edits the list, swapping the values of those two indexes:** "
   ]
  },
  {
   "cell_type": "code",
   "execution_count": 7,
   "metadata": {},
   "outputs": [
    {
     "data": {
      "text/plain": [
       "[1, 2, 3, 4]"
      ]
     },
     "execution_count": 7,
     "metadata": {},
     "output_type": "execute_result"
    }
   ],
   "source": [
    "def index_swap(a_list, index_1, index_2):\n",
    "    # We need to save the value in index_1 before overwriting it\n",
    "    temp_var = a_list[index_1]\n",
    "    \n",
    "    # We can safely overwrite the value at index_1 since we saved it above\n",
    "    a_list[index_1] = a_list[index_2]\n",
    "    \n",
    "    # Set index_1 to the value that was originally stored at index_1\n",
    "    a_list[index_2] = temp_var\n",
    "    \n",
    "my_list = [1, 2, 4, 3]\n",
    "index_swap(my_list, 2, 3)\n",
    "my_list"
   ]
  },
  {
   "cell_type": "markdown",
   "metadata": {},
   "source": [
    "---\n",
    "\n",
    "**Write a function that uses the above functions to sort the elements of a list:**"
   ]
  },
  {
   "cell_type": "code",
   "execution_count": 8,
   "metadata": {},
   "outputs": [
    {
     "data": {
      "text/plain": [
       "[1, 2, 2, 3, 3, 4, 4, 5, 7, 7, 9]"
      ]
     },
     "execution_count": 8,
     "metadata": {},
     "output_type": "execute_result"
    }
   ],
   "source": [
    "\"\"\"\n",
    "is_list_sorted(a_list):\n",
    "first_index_out_of_order(a_list):\n",
    "index_swap(a_list, index_1, index_2)\n",
    "\"\"\"\n",
    "def my_sort(a_list):\n",
    "    # We need the while loop to run until the list is completely sorted\n",
    "    while not is_list_sorted(a_list):\n",
    "        \n",
    "        # Get the first index that is out of order\n",
    "        bad_index = first_index_out_of_order(a_list)\n",
    "        \n",
    "        # Swap it with the next \n",
    "        index_swap(a_list, bad_index, bad_index+1)\n",
    "\n",
    "\n",
    "my_list = [1, 2, 4, 3, 7, 3, 5, 9, 2, 4, 7]\n",
    "my_sort(my_list)\n",
    "my_list"
   ]
  },
  {
   "cell_type": "markdown",
   "metadata": {},
   "source": [
    "## That is called the Bubble Sort algorithm."
   ]
  },
  {
   "cell_type": "code",
   "execution_count": null,
   "metadata": {},
   "outputs": [],
   "source": []
  }
 ],
 "metadata": {
  "kernelspec": {
   "display_name": "Python 3",
   "language": "python",
   "name": "python3"
  },
  "language_info": {
   "codemirror_mode": {
    "name": "ipython",
    "version": 3
   },
   "file_extension": ".py",
   "mimetype": "text/x-python",
   "name": "python",
   "nbconvert_exporter": "python",
   "pygments_lexer": "ipython3",
   "version": "3.6.6"
  }
 },
 "nbformat": 4,
 "nbformat_minor": 2
}
