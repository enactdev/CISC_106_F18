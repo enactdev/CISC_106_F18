{
 "cells": [
  {
   "cell_type": "markdown",
   "metadata": {},
   "source": [
    "# Workbook on strings -- October 916, 2018\n",
    "\n",
    "[![Binder](https://mybinder.org/badge.svg)](https://mybinder.org/v2/gh/enactdev/CISC_106_F18/master?filepath=workbooks/strings_2018_10_16.ipynb)\n",
    "\n",
    "**This sentence is famous for including every letter in the alphabet: \"The quick brown fox jumps over the lazy dog.\"**\n",
    "\n",
    "**Let's check it.**"
   ]
  },
  {
   "cell_type": "code",
   "execution_count": null,
   "metadata": {},
   "outputs": [],
   "source": [
    "my_sentence = \"The quick brown fox jumps over the lazy dog.\"\n",
    "\n",
    "# Make the sentence lowercase, and remove spaces and punctuation\n",
    "my_sentence_letters = my_sentence.lower().replace(' ', '').strip().strip('.')\n",
    "\n",
    "print(my_sentence_letters)\n",
    "\n",
    "#print(list(my_sentence_letters))\n",
    "\n",
    "\n",
    "# Turn the sentence into a list of letters\n",
    "#my_sentence_letters_list = []\n",
    "#for letter in my_sentence_letters:\n",
    "#    my_sentence_letters_list.append(letter)\n",
    "\n",
    "my_sentence_letters_list = list(my_sentence_letters)\n",
    "    \n",
    "print(my_sentence_letters_list)\n",
    "\n",
    "# Sort my_sentence_letters_list\n",
    "my_sentence_letters_list.sort()\n",
    "\n",
    "print(my_sentence_letters_list)\n",
    "\n",
    "# Remove duplicate letters\n",
    "for letter in my_sentence_letters_list:\n",
    "    if my_sentence_letters_list.count(letter) > 1:\n",
    "        # The remove() method only removes the first instance, not all\n",
    "        my_sentence_letters_list.remove(letter)\n",
    "        \n",
    "print(my_sentence_letters_list)"
   ]
  },
  {
   "cell_type": "code",
   "execution_count": null,
   "metadata": {},
   "outputs": [],
   "source": [
    "my_sentence_letters_list.count('o')"
   ]
  },
  {
   "cell_type": "markdown",
   "metadata": {},
   "source": [
    "---\n",
    "\n",
    "**Unfortunately, Python does not include a method to check if a string is a float. Write a function named `isfloat()` that takes a string and returns `True` if all the characters are either a number or a decimal, and `False` otherwise. (Function will also return `True` if the string is an integer.)**"
   ]
  },
  {
   "cell_type": "code",
   "execution_count": null,
   "metadata": {},
   "outputs": [],
   "source": [
    "from cisc106 import assertEqual\n",
    "\n",
    "def isfloat(a_string):\n",
    "    \n",
    "    for a_char in a_string:\n",
    "        if not a_char.isnumeric() and a_char != '.':\n",
    "            return False\n",
    "    \n",
    "    return True\n",
    "\n",
    "assertEqual(isfloat('3.14'), True)\n",
    "assertEqual(isfloat('5'), True)\n",
    "assertEqual(isfloat(' 3.14 '), False)\n",
    "assertEqual(isfloat('three point one four'), False)"
   ]
  },
  {
   "cell_type": "markdown",
   "metadata": {},
   "source": [
    "---\n",
    "\n",
    "**Python does not have a string reverse method. Write a function that returns the reverse of a string. Hint: You can use the list `reverse()` method.**"
   ]
  },
  {
   "cell_type": "code",
   "execution_count": null,
   "metadata": {},
   "outputs": [],
   "source": [
    "def string_reverse(a_string):    \n",
    "    \n",
    "    return list(a_string).reverse()\n",
    "\n",
    "assertEqual(string_reverse('3.14'), '41.3')\n",
    "assertEqual(string_reverse('123'), '321')\n",
    "assertEqual(string_reverse('abcde'), 'edcba')\n"
   ]
  },
  {
   "cell_type": "markdown",
   "metadata": {},
   "source": [
    "---\n",
    "\n",
    "**The \"Lorem ipsum\" text is commonly used dummy text when working on design (desingers don't want people getting distracted by real words). Let's use it in a few sting methods.**"
   ]
  },
  {
   "cell_type": "code",
   "execution_count": null,
   "metadata": {},
   "outputs": [],
   "source": [
    "lorem_ipsum_text = \"\"\"Lorem ipsum dolor sit amet, consectetur adipiscing elit. Nullam ut nisi id velit venenatis tincidunt ut sit amet eros. Cras maximus lorem id enim viverra gravida. Nulla gravida sagittis massa, et consectetur tellus rutrum ut. In facilisis lorem vitae dolor porttitor, eu suscipit ex dapibus. Curabitur eget mollis dui, quis porttitor odio. Quisque ullamcorper eleifend hendrerit. Cras pellentesque, felis quis ultricies dictum, leo ante scelerisque arcu, ut vulputate dolor odio at est. Pellentesque habitant morbi tristique senectus et netus et malesuada fames ac turpis egestas. Curabitur sit amet pulvinar quam, eu luctus tortor. In at aliquam nulla. Aliquam enim nulla, sagittis eget metus nec, laoreet cursus risus. Nulla dictum metus mauris, nec sollicitudin dui sodales sed. Sed vel elementum velit. Nulla facilisi. \"\"\"\n",
    "\n",
    "print('Original:', lorem_ipsum_text)\n",
    "\n",
    "# Convert lorem_ipsum_text to lower case, and print\n",
    "\n",
    "# Split lorem_ipsum_text into a list of words, and print\n",
    "\n",
    "# Cycle though the list and remove punctuation (only periods and commas), and print\n",
    "# Remember that you need to cyle by index in order to edit the item in the list\n",
    "# (Or remove it another way if you want)\n",
    "\n",
    "\n",
    "# Generate a count for every word. Uncomment out and edit the following code so that \n",
    "# it works with your variable names\n",
    "\"\"\"\n",
    "word_count_dict = {}\n",
    "# Rename 'lorem_ipsum_text_list' to match your variable name\n",
    "for word in lorem_ipsum_text_list:\n",
    "    if word not in word_count_dict:\n",
    "        word_count_dict[word] = 0\n",
    "    word_count_dict[word] += 1\n",
    "    \n",
    "print(word_count_dict)\n",
    "\"\"\""
   ]
  },
  {
   "cell_type": "code",
   "execution_count": null,
   "metadata": {},
   "outputs": [],
   "source": []
  }
 ],
 "metadata": {
  "kernelspec": {
   "display_name": "Python 3",
   "language": "python",
   "name": "python3"
  },
  "language_info": {
   "codemirror_mode": {
    "name": "ipython",
    "version": 3
   },
   "file_extension": ".py",
   "mimetype": "text/x-python",
   "name": "python",
   "nbconvert_exporter": "python",
   "pygments_lexer": "ipython3",
   "version": "3.6.6"
  }
 },
 "nbformat": 4,
 "nbformat_minor": 2
}
