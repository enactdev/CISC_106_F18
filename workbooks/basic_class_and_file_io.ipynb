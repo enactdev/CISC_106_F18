{
 "cells": [
  {
   "cell_type": "markdown",
   "metadata": {},
   "source": [
    "# Basic class and file io\n",
    "\n",
    "[![Binder](https://mybinder.org/badge.svg)](https://mybinder.org/v2/gh/enactdev/CISC_106_F18/master?filepath=workbooks/basic_class_and_file_io.ipynb)\n",
    "\n",
    "**You may want to refer to the starter code for [file input](../starter_code/file_input.ipynb) and [file output](starter_code/file_output.ipynb).**\n",
    "\n",
    "---\n",
    "\n",
    "**Prompt the user for their name, age, and favorite class. Save these three values in a file.**\n",
    "\n",
    "**Note that you will either have to select a deliminator to save on one line (such as a comma) or save the values on multiple lines. You may also decide to save a JSON file if you want an extra challenge.**"
   ]
  },
  {
   "cell_type": "code",
   "execution_count": null,
   "metadata": {},
   "outputs": [],
   "source": [
    "# If running in Binder use this file name. If you are running locally you may change it.\n",
    "# Note if running locally you will need to create the file first! (Or open with 'x')\n",
    "filename = '../data_files/scratch_data.txt'\n",
    "\n"
   ]
  },
  {
   "cell_type": "markdown",
   "metadata": {},
   "source": [
    "---\n",
    "\n",
    "**Open the file for reading and print out the values that were saved above.**"
   ]
  },
  {
   "cell_type": "code",
   "execution_count": null,
   "metadata": {},
   "outputs": [],
   "source": [
    "filename = '../data_files/scratch_data.txt'\n",
    "\n"
   ]
  },
  {
   "cell_type": "markdown",
   "metadata": {},
   "source": [
    "---\n",
    "\n",
    "**Create a class named 'Student' that has attributes for name, age, and favorite class. Then define the following methods:**\n",
    "* \\_\\_init\\_\\_\n",
    "* \\_\\_str\\_\\_\n",
    "* setName\n",
    "* getName\n",
    "* setAge\n",
    "* getAge\n",
    "* setFavClass\n",
    "* getFavClass\n",
    "\n",
    "**The methods should do what they describe. Now read the values from the data file you saved and set the proper class attributes.**"
   ]
  },
  {
   "cell_type": "code",
   "execution_count": null,
   "metadata": {},
   "outputs": [],
   "source": [
    "filename = '../data_files/scratch_data.txt'\n"
   ]
  }
 ],
 "metadata": {
  "kernelspec": {
   "display_name": "Python 3",
   "language": "python",
   "name": "python3"
  },
  "language_info": {
   "codemirror_mode": {
    "name": "ipython",
    "version": 3
   },
   "file_extension": ".py",
   "mimetype": "text/x-python",
   "name": "python",
   "nbconvert_exporter": "python",
   "pygments_lexer": "ipython3",
   "version": "3.6.6"
  }
 },
 "nbformat": 4,
 "nbformat_minor": 2
}
