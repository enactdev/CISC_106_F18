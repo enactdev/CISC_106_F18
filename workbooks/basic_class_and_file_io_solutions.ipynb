{
 "cells": [
  {
   "cell_type": "markdown",
   "metadata": {},
   "source": [
    "# Solutions to Basic class and file io\n",
    "\n",
    "[![Binder](https://mybinder.org/badge.svg)](https://mybinder.org/v2/gh/enactdev/CISC_106_F18/master?filepath=workbooks/basic_class_and_file_io_solutions.ipynb)\n",
    "\n",
    "**You may want to refer to the starter code for [file input](../starter_code/file_input.ipynb) and [file output](starter_code/file_output.ipynb).**\n",
    "\n",
    "---\n",
    "\n",
    "**Prompt the user for their name, age, and favorite class. Save these three values in a file.**\n",
    "\n",
    "**Note that you will either have to select a deliminator to save on one line (such as a comma) or save the values on multiple lines. You may also decide to save a JSON file if you want an extra challenge.**\n",
    "\n",
    "**I will solve this by saving each variable on a different line.**"
   ]
  },
  {
   "cell_type": "code",
   "execution_count": null,
   "metadata": {},
   "outputs": [],
   "source": [
    "# If running in Binder use this file name. If you are running locally you may change it.\n",
    "# Note if running locally you will need to create the file first! (Or open with 'x')\n",
    "filename = '../data_files/scratch_data.txt'\n",
    "\n",
    "name = input('What is your name: ')\n",
    "\n",
    "age = input('What is your age: ')\n",
    "\n",
    "favorite_class = input('What is your favorite class: ')\n",
    "\n",
    "f = open(filename, 'w')\n",
    "\n",
    "# Don't forget to create new lines\n",
    "f.write(name+\"\\n\")\n",
    "f.write(age+\"\\n\")\n",
    "f.write(favorite_class+\"\\n\")\n",
    "\n",
    "f.close()"
   ]
  },
  {
   "cell_type": "markdown",
   "metadata": {},
   "source": [
    "---\n",
    "\n",
    "**Open the file for reading and print out the values that were saved above.**"
   ]
  },
  {
   "cell_type": "code",
   "execution_count": null,
   "metadata": {},
   "outputs": [],
   "source": [
    "filename = '../data_files/scratch_data.txt'\n",
    "\n",
    "f = open(filename, 'r')\n",
    "\n",
    "name = f.readline()\n",
    "age = f.readline()\n",
    "favorite_class = f.readline()\n",
    "\n",
    "f.close()\n",
    "\n",
    "print('The stored name is:', name)\n",
    "print('The stored age is:', age)\n",
    "print('The stored favorite class is:', favorite_class)"
   ]
  },
  {
   "cell_type": "markdown",
   "metadata": {},
   "source": [
    "**Alternative 1, use the readlines() method and access the lines as a list:**"
   ]
  },
  {
   "cell_type": "code",
   "execution_count": null,
   "metadata": {},
   "outputs": [],
   "source": [
    "filename = '../data_files/scratch_data.txt'\n",
    "\n",
    "f = open(filename, 'r')\n",
    "\n",
    "values = f.readlines()\n",
    "\n",
    "#print(values)\n",
    "\n",
    "name = values[0]\n",
    "age = values[1]\n",
    "favorite_class = values[2]\n",
    "\n",
    "f.close()\n",
    "\n",
    "print('The stored name is:', name)\n",
    "print('The stored age is:', age)\n",
    "print('The stored favorite class is:', favorite_class)"
   ]
  },
  {
   "cell_type": "markdown",
   "metadata": {},
   "source": [
    "**Alternative 2: Read all the file contents into a single variable and split on the newline.**"
   ]
  },
  {
   "cell_type": "code",
   "execution_count": null,
   "metadata": {},
   "outputs": [],
   "source": [
    "filename = '../data_files/scratch_data.txt'\n",
    "\n",
    "f = open(filename, 'r')\n",
    "\n",
    "file_contents = f.read()\n",
    "\n",
    "values = file_contents.split('\\n')\n",
    "\n",
    "name = values[0]\n",
    "age = values[1]\n",
    "favorite_class = values[2]\n",
    "\n",
    "f.close()\n",
    "\n",
    "print('The stored name is:', name)\n",
    "print('The stored age is:', age)\n",
    "print('The stored favorite class is:', favorite_class)"
   ]
  },
  {
   "cell_type": "markdown",
   "metadata": {},
   "source": [
    "---\n",
    "\n",
    "**Create a class named 'Student' that has attributes for name, age, and favorite class. Then define the following methods:**\n",
    "* \\_\\_init\\_\\_\n",
    "* \\_\\_str\\_\\_\n",
    "* setName\n",
    "* getName\n",
    "* setAge\n",
    "* getAge\n",
    "* setFavClass\n",
    "* getFavClass\n",
    "\n",
    "**The methods should do what they describe. Next, create a new instance of your class, read the values from the data file you saved, and set the proper class attributes.**"
   ]
  },
  {
   "cell_type": "code",
   "execution_count": null,
   "metadata": {},
   "outputs": [],
   "source": [
    "filename = '../data_files/scratch_data.txt'\n",
    "\n",
    "class Student:\n",
    "    \n",
    "    def __init__(self):\n",
    "        self.name = ''\n",
    "        self.age = ''\n",
    "        self.favorite_class = ''\n",
    "    \n",
    "    def __str__(self):\n",
    "        # This can be anything, as long as you return a string representation of your object. For this basic\n",
    "        # object, your string should include all three variables\n",
    "        return '<Student name={} age={} favorite_class={}>'.format(self.name, self.age, self.favorite_class)\n",
    "    \n",
    "    def setName(self, name):\n",
    "        self.name = name\n",
    "    \n",
    "    def getName(self):\n",
    "        return self.name\n",
    "    \n",
    "    def setAge(self, age):\n",
    "        self.age = age\n",
    "    \n",
    "    def getAge(self):\n",
    "        return self.age\n",
    "    \n",
    "    def setFavClass(self, favorite_class):\n",
    "        self.favorite_class = favorite_class\n",
    "    \n",
    "    def getFavClass(self):\n",
    "        return self.favorite_class\n",
    "\n",
    "a_student = Student()\n",
    "    \n",
    "f = open(filename, 'r')\n",
    "\n",
    "a_student.setName(f.readline())\n",
    "a_student.setAge(f.readline())\n",
    "a_student.setFavClass(f.readline())\n",
    "\n",
    "f.close()\n",
    "\n",
    "print(a_student)"
   ]
  }
 ],
 "metadata": {
  "kernelspec": {
   "display_name": "Python 3",
   "language": "python",
   "name": "python3"
  },
  "language_info": {
   "codemirror_mode": {
    "name": "ipython",
    "version": 3
   },
   "file_extension": ".py",
   "mimetype": "text/x-python",
   "name": "python",
   "nbconvert_exporter": "python",
   "pygments_lexer": "ipython3",
   "version": "3.6.6"
  }
 },
 "nbformat": 4,
 "nbformat_minor": 2
}
