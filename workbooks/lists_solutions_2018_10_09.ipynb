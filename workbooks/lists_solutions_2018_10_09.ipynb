{
 "cells": [
  {
   "cell_type": "markdown",
   "metadata": {},
   "source": [
    "# Solutions to orkbook on lists -- October 9, 2018\n",
    "\n",
    "[![Binder](https://mybinder.org/badge.svg)](https://mybinder.org/v2/gh/enactdev/CISC_106_F18/master?filepath=workbooks/lists_2018_10_09.ipynb)\n",
    "\n",
    "**Use the [guide on list methods](https://github.com/enactdev/CISC_106_F18/guides/list_methods.ipynb) and example [starter code](https://github.com/enactdev/CISC_106_F18/blob/master/starter_code.ipynb) for reference on this workbook.**\n",
    "\n",
    "**Inspired by [HackerRank problem on lists](https://www.hackerrank.com/challenges/python-lists/problem)**\n",
    "\n",
    "**Start with an empty list and run the following methods:**\n",
    "* insert 0 5\n",
    "* insert 1 10\n",
    "* insert 0 6\n",
    "* print\n",
    "* remove 6\n",
    "* append 9\n",
    "* append 1\n",
    "* sort\n",
    "* print\n",
    "* pop\n",
    "* reverse\n",
    "* print\n",
    "\n",
    "**Note: For insert statements, the first number is the position to insert at, the second number is the value to insert.**\n",
    "\n",
    "**Sample output:**\n",
    "\n",
    "```\n",
    "[6, 5, 10]\n",
    "[1, 5, 9, 10]\n",
    "[9, 5, 1]\n",
    "```\n",
    "\n",
    "**The actual HackerRank challenge is tricker, you can try it on your own.**"
   ]
  },
  {
   "cell_type": "code",
   "execution_count": 1,
   "metadata": {},
   "outputs": [
    {
     "name": "stdout",
     "output_type": "stream",
     "text": [
      "[6, 5, 10]\n",
      "[1, 5, 9, 10]\n",
      "[9, 5, 1]\n"
     ]
    }
   ],
   "source": [
    "# Create an empty list and follow the instructions above\n",
    "my_list = []\n",
    "\n",
    "my_list.insert(0, 5)\n",
    "my_list.insert(1, 10)\n",
    "my_list.insert(0, 6)\n",
    "print(my_list)\n",
    "my_list.remove(6)\n",
    "my_list.append(9)\n",
    "my_list.append(1)\n",
    "my_list.sort()\n",
    "print(my_list)\n",
    "my_list.pop()\n",
    "my_list.reverse()\n",
    "print(my_list)\n",
    "\n"
   ]
  },
  {
   "cell_type": "markdown",
   "metadata": {},
   "source": [
    "---\n",
    "\n",
    "**A shopping list has been created for you. First, iterate through the list by index and make all the items lowercases with the string `lowercase()` method. Then, create a while loop that will run until the list is empty. Within the while loop, prompt the user for an item on the list to remove. Make their response lowercase as well. If their response is in the list, remove the item and let them know. If their response is not in the list, let them know as well. Once the list is empty, tell them that as well.**"
   ]
  },
  {
   "cell_type": "code",
   "execution_count": 2,
   "metadata": {},
   "outputs": [
    {
     "name": "stdout",
     "output_type": "stream",
     "text": [
      "['eggs', 'milk', 'cheese', 'bread']\n",
      "Please enter an item to remove from the list:milk\n",
      "milk has been removed\n",
      "Please enter an item to remove from the list:cheese\n",
      "cheese has been removed\n",
      "Please enter an item to remove from the list:bread\n",
      "bread has been removed\n",
      "Please enter an item to remove from the list:eggs\n",
      "eggs has been removed\n",
      "The list is now empty.\n"
     ]
    }
   ],
   "source": [
    "# Shopping list to use in this problem\n",
    "shopping_list = ['Eggs', 'Milk', 'Cheese', 'Bread']\n",
    "\n",
    "# Iterate through the list and make all the items lowercase. Hint, you can see how to\n",
    "# iterate by index and update a list in the starter code.\n",
    "for i in range(len(shopping_list)):\n",
    "    shopping_list[i] = shopping_list[i].lower()\n",
    "\n",
    "print(shopping_list)\n",
    "\n",
    "\n",
    "# While the list is not empty, prompt the user for items to remove\n",
    "while shopping_list != []:\n",
    "    \"\"\"\n",
    "    My comment for the function\n",
    "    \"\"\"\n",
    "    remove_item = input('Please enter an item to remove from the list:')\n",
    "    \n",
    "    remove_item = remove_item.lower()\n",
    "    \n",
    "    if remove_item in shopping_list:\n",
    "    \n",
    "        shopping_list.remove(remove_item)\n",
    "        print(remove_item, 'has been removed')\n",
    "        \n",
    "    else:\n",
    "        print(remove_item, 'is not in the list.')\n",
    "\n",
    "\n",
    "# Tell the user the list is empty.\n",
    "print('The list is now empty.')\n",
    "\n"
   ]
  },
  {
   "cell_type": "markdown",
   "metadata": {},
   "source": [
    "---\n",
    "\n",
    "**Write a function that takes a list of integers and returns a list of integers where each number has been multiplied by three. For example:**\n",
    "\n",
    "```[1, 2, 3]```\n",
    "\n",
    "**Will return:**\n",
    "\n",
    "`[3, 6, 9]`"
   ]
  },
  {
   "cell_type": "code",
   "execution_count": 3,
   "metadata": {},
   "outputs": [
    {
     "name": "stdout",
     "output_type": "stream",
     "text": [
      "[3, 6, 9]\n"
     ]
    }
   ],
   "source": [
    "# Finish this function\n",
    "def list_mult_three(a_list):\n",
    "\n",
    "    return_list = []\n",
    "    \n",
    "    # Iterate through a_list and append each number by three to return_list\n",
    "    for item in a_list:\n",
    "        return_list.append(item*3)\n",
    "    \n",
    "    return return_list\n",
    "\n",
    "print(list_mult_three([1, 2, 3]))"
   ]
  },
  {
   "cell_type": "markdown",
   "metadata": {},
   "source": [
    "---\n",
    "\n",
    "**This is similar to above, but works on lists within a list.**\n",
    "\n",
    "**Write a function that takes a 2-d list of integers and returns a 2-d list of integers where each number has been multiplied by three. For example:**\n",
    "\n",
    "```[[1, 1, 1], [2, 2, 2], [3, 3, 3]]```\n",
    "\n",
    "**Will return:**\n",
    "\n",
    "`[[3, 3, 3], [6, 6, 6], [9, 9, 9]]`\n",
    "\n",
    "**You can use `i` as an index variable, and if you have lists embeded in a list, you can use `j` for an internal index variable, and also `k` if needed.**"
   ]
  },
  {
   "cell_type": "code",
   "execution_count": 4,
   "metadata": {
    "scrolled": true
   },
   "outputs": [
    {
     "name": "stdout",
     "output_type": "stream",
     "text": [
      "[[3, 3, 3], [6, 6, 6], [9, 9, 9]]\n"
     ]
    }
   ],
   "source": [
    "# Finish this function\n",
    "def list_2d_mult_three(a_list):\n",
    "\n",
    "    return_list = []\n",
    "    \n",
    "    # Write this: Iterate through a_list with index variable i\n",
    "    for each_list in a_list:\n",
    "    \n",
    "        # Start a list that will be the inner list to return_list\n",
    "        inner_list = []\n",
    "        \n",
    "        # Write this: Iterate through each list within a_list with index variable\n",
    "        # j and append each number by three to inner_list\n",
    "        for num in each_list:\n",
    "            inner_list.append(3 * num)\n",
    "    \n",
    "        # Append inner_list to return_list\n",
    "        return_list.append(inner_list)\n",
    "        \n",
    "    return return_list\n",
    "\n",
    "print(list_2d_mult_three([[1, 1, 1], [2, 2, 2], [3, 3, 3]]))"
   ]
  },
  {
   "cell_type": "markdown",
   "metadata": {},
   "source": [
    "**We haven't covered recusion yet. A recursive function is one that can call itself. Let's update the original `list_mult_three` function to be recursive, and call it `list_mult_three_recursive`.**"
   ]
  },
  {
   "cell_type": "code",
   "execution_count": 5,
   "metadata": {},
   "outputs": [
    {
     "name": "stdout",
     "output_type": "stream",
     "text": [
      "[3, 6, 9]\n",
      "[[3, 3, 3], [6, 6, 6], [9, 9, 9]]\n"
     ]
    }
   ],
   "source": [
    "# Finish this function\n",
    "def list_mult_three_recursive(a_list):\n",
    "\n",
    "    return_list = []\n",
    "    \n",
    "    # Iterate through a_list and append each number by three to return_list\n",
    "    for item in a_list:\n",
    "        if isinstance(item, int):\n",
    "            return_list.append(item*3)\n",
    "        elif isinstance(item, list):\n",
    "            return_list.append(list_mult_three_recursive(item))\n",
    "    \n",
    "    return return_list\n",
    "\n",
    "print(list_mult_three_recursive([1, 2, 3]))\n",
    "print(list_mult_three_recursive([[1, 1, 1], [2, 2, 2], [3, 3, 3]]))"
   ]
  },
  {
   "cell_type": "markdown",
   "metadata": {},
   "source": [
    "**Note: All recursive functions need to have a way to traverse back. In the above example, if a list of integers is passed to `list_mult_three_recursive` then it just processes and returns a list just like the original `list_mult_three`. Also, look at the inner loop of `list_2d_mult_three`, which is basically just the only loop in `list_mult_three`.**\n",
    "\n",
    "**Just for fun, lets do recursion with factorial:**\n",
    "\n",
    "**Remember that the facotorial of 5 (5!) is `5*4*3*2*1`, and the facorial of 4 (4!) is `4*3*2*1`, so `5! = 5 * 4!`**\n",
    "\n",
    "**Here, to make sure the the function traverses back at some point, simply return the number `1` if `an_int` is `1`:**"
   ]
  },
  {
   "cell_type": "code",
   "execution_count": 6,
   "metadata": {
    "scrolled": true
   },
   "outputs": [
    {
     "name": "stdout",
     "output_type": "stream",
     "text": [
      "Returning 5 * factorial( 4 )\n",
      "Returning 4 * factorial( 3 )\n",
      "Returning 3 * factorial( 2 )\n",
      "Returning 2 * factorial( 1 )\n",
      "Returning 1\n"
     ]
    },
    {
     "data": {
      "text/plain": [
       "120"
      ]
     },
     "execution_count": 6,
     "metadata": {},
     "output_type": "execute_result"
    }
   ],
   "source": [
    "# Recursive example of factorial function\n",
    "def factorial(an_int):\n",
    "    if an_int == 1:\n",
    "        print('Returning 1')\n",
    "        return 1\n",
    "    else:\n",
    "        print('Returning', an_int, '* factorial(', an_int -1,')')\n",
    "        return an_int * factorial(an_int - 1)\n",
    "    \n",
    "factorial(5)"
   ]
  }
 ],
 "metadata": {
  "kernelspec": {
   "display_name": "Python 3",
   "language": "python",
   "name": "python3"
  },
  "language_info": {
   "codemirror_mode": {
    "name": "ipython",
    "version": 3
   },
   "file_extension": ".py",
   "mimetype": "text/x-python",
   "name": "python",
   "nbconvert_exporter": "python",
   "pygments_lexer": "ipython3",
   "version": "3.6.6"
  }
 },
 "nbformat": 4,
 "nbformat_minor": 2
}
