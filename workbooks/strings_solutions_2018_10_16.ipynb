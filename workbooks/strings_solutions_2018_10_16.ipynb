{
 "cells": [
  {
   "cell_type": "markdown",
   "metadata": {},
   "source": [
    "# Solutions to workbook on strings -- October 916, 2018\n",
    "\n",
    "[![Binder](https://mybinder.org/badge.svg)](https://mybinder.org/v2/gh/enactdev/CISC_106_F18/master?filepath=workbooks/strings_2018_10_16.ipynb)\n",
    "\n",
    "**This sentence is famous for including every letter in the alphabet: \"The quick brown fox jumps over the lazy dog.\"**\n",
    "\n",
    "**Let's check it.**"
   ]
  },
  {
   "cell_type": "code",
   "execution_count": 1,
   "metadata": {},
   "outputs": [
    {
     "name": "stdout",
     "output_type": "stream",
     "text": [
      "thequickbrownfoxjumpsoverthelazydog\n",
      "['a', 'b', 'c', 'd', 'e', 'e', 'e', 'f', 'g', 'h', 'h', 'i', 'j', 'k', 'l', 'm', 'n', 'o', 'o', 'o', 'o', 'p', 'q', 'r', 'r', 's', 't', 't', 'u', 'u', 'v', 'w', 'x', 'y', 'z']\n",
      "['a', 'b', 'c', 'd', 'e', 'f', 'g', 'h', 'i', 'j', 'k', 'l', 'm', 'n', 'o', 'o', 'p', 'q', 'r', 's', 't', 'u', 'v', 'w', 'x', 'y', 'z']\n"
     ]
    }
   ],
   "source": [
    "my_sentence = \"The quick brown fox jumps over the lazy dog.\"\n",
    "\n",
    "# Make the sentence lowercase, and remove spaces and punctuation\n",
    "my_sentence_letters = my_sentence.lower().replace(' ', '').strip().strip('.')\n",
    "\n",
    "print(my_sentence_letters)\n",
    "\n",
    "#print(list(my_sentence_letters))\n",
    "\n",
    "\n",
    "# Turn the sentence into a list of letters\n",
    "#my_sentence_letters_list = []\n",
    "#for letter in my_sentence_letters:\n",
    "#    my_sentence_letters_list.append(letter)\n",
    "\n",
    "my_sentence_letters_list = list(my_sentence_letters)\n",
    "\n",
    "#print(my_sentence_letters_list)\n",
    "\n",
    "# Sort my_sentence_letters_list\n",
    "my_sentence_letters_list.sort()\n",
    "\n",
    "print(my_sentence_letters_list)\n",
    "\n",
    "# Remove duplicate letters\n",
    "for letter in my_sentence_letters_list:\n",
    "    if my_sentence_letters_list.count(letter) > 1:\n",
    "        # The remove() method only removes the first instance, not all\n",
    "        my_sentence_letters_list.remove(letter)\n",
    "        \n",
    "print(my_sentence_letters_list)"
   ]
  },
  {
   "cell_type": "markdown",
   "metadata": {},
   "source": [
    "## Update : as noticed in class, the letter 'o' is in there twice:"
   ]
  },
  {
   "cell_type": "code",
   "execution_count": 2,
   "metadata": {},
   "outputs": [
    {
     "data": {
      "text/plain": [
       "2"
      ]
     },
     "execution_count": 2,
     "metadata": {},
     "output_type": "execute_result"
    }
   ],
   "source": [
    "my_sentence_letters_list.count('o')"
   ]
  },
  {
   "cell_type": "markdown",
   "metadata": {},
   "source": [
    "**Any other duplicates?**"
   ]
  },
  {
   "cell_type": "code",
   "execution_count": 3,
   "metadata": {},
   "outputs": [
    {
     "data": {
      "text/plain": [
       "27"
      ]
     },
     "execution_count": 3,
     "metadata": {},
     "output_type": "execute_result"
    }
   ],
   "source": [
    "len(my_sentence_letters_list)"
   ]
  },
  {
   "cell_type": "markdown",
   "metadata": {},
   "source": [
    "**Nope. Ok, let's look at why there are two o's. Note that we started with 4, which was the most of any letter. What happens if there are 4 e's:**"
   ]
  },
  {
   "cell_type": "code",
   "execution_count": 4,
   "metadata": {},
   "outputs": [
    {
     "name": "stdout",
     "output_type": "stream",
     "text": [
      "thequickbrownfoxjumpsoverthelazydog\n",
      "['a', 'b', 'c', 'd', 'e', 'e', 'e', 'e', 'f', 'g', 'h', 'h', 'i', 'j', 'k', 'l', 'm', 'n', 'o', 'o', 'o', 'o', 'p', 'q', 'r', 'r', 's', 't', 't', 'u', 'u', 'v', 'w', 'x', 'y', 'z']\n",
      "['a', 'b', 'c', 'd', 'e', 'e', 'f', 'g', 'h', 'i', 'j', 'k', 'l', 'm', 'n', 'o', 'o', 'p', 'q', 'r', 's', 't', 'u', 'v', 'w', 'x', 'y', 'z']\n"
     ]
    }
   ],
   "source": [
    "my_sentence = \"The quick brown fox jumps over the lazy dog.\"\n",
    "\n",
    "# Make the sentence lowercase, and remove spaces and punctuation\n",
    "my_sentence_letters = my_sentence.lower().replace(' ', '').strip().strip('.')\n",
    "\n",
    "print(my_sentence_letters)\n",
    "\n",
    "#print(list(my_sentence_letters))\n",
    "\n",
    "\n",
    "# Turn the sentence into a list of letters\n",
    "#my_sentence_letters_list = []\n",
    "#for letter in my_sentence_letters:\n",
    "#    my_sentence_letters_list.append(letter)\n",
    "\n",
    "my_sentence_letters_list = list(my_sentence_letters)\n",
    "\n",
    "# And an 'e'\n",
    "my_sentence_letters_list.append('e')\n",
    "\n",
    "#print(my_sentence_letters_list)\n",
    "\n",
    "# Sort my_sentence_letters_list\n",
    "my_sentence_letters_list.sort()\n",
    "\n",
    "print(my_sentence_letters_list)\n",
    "\n",
    "# Remove duplicate letters\n",
    "for letter in my_sentence_letters_list:\n",
    "    if my_sentence_letters_list.count(letter) > 1:\n",
    "        # The remove() method only removes the first instance, not all\n",
    "        my_sentence_letters_list.remove(letter)\n",
    "        \n",
    "print(my_sentence_letters_list)"
   ]
  },
  {
   "cell_type": "code",
   "execution_count": 5,
   "metadata": {},
   "outputs": [
    {
     "name": "stdout",
     "output_type": "stream",
     "text": [
      "Number of e chars: 2\n",
      "Number of o chars: 2\n"
     ]
    }
   ],
   "source": [
    "print('Number of e chars:', my_sentence_letters_list.count('e'))\n",
    "print('Number of o chars:', my_sentence_letters_list.count('o'))"
   ]
  },
  {
   "cell_type": "markdown",
   "metadata": {},
   "source": [
    "**What if there are 6 o's?**"
   ]
  },
  {
   "cell_type": "code",
   "execution_count": 6,
   "metadata": {},
   "outputs": [
    {
     "name": "stdout",
     "output_type": "stream",
     "text": [
      "thequickbrownfoxjumpsoverthelazydog\n",
      "['a', 'b', 'c', 'd', 'e', 'e', 'e', 'f', 'g', 'h', 'h', 'i', 'j', 'k', 'l', 'm', 'n', 'o', 'o', 'o', 'o', 'o', 'o', 'p', 'q', 'r', 'r', 's', 't', 't', 'u', 'u', 'v', 'w', 'x', 'y', 'z']\n",
      "['a', 'b', 'c', 'd', 'e', 'f', 'g', 'h', 'i', 'j', 'k', 'l', 'm', 'n', 'o', 'o', 'o', 'p', 'q', 'r', 's', 't', 'u', 'v', 'w', 'x', 'y', 'z']\n"
     ]
    }
   ],
   "source": [
    "my_sentence = \"The quick brown fox jumps over the lazy dog.\"\n",
    "\n",
    "# Make the sentence lowercase, and remove spaces and punctuation\n",
    "my_sentence_letters = my_sentence.lower().replace(' ', '').strip().strip('.')\n",
    "\n",
    "print(my_sentence_letters)\n",
    "\n",
    "#print(list(my_sentence_letters))\n",
    "\n",
    "\n",
    "# Turn the sentence into a list of letters\n",
    "#my_sentence_letters_list = []\n",
    "#for letter in my_sentence_letters:\n",
    "#    my_sentence_letters_list.append(letter)\n",
    "\n",
    "my_sentence_letters_list = list(my_sentence_letters)\n",
    "\n",
    "# And two 'o'\n",
    "my_sentence_letters_list.append('o')\n",
    "my_sentence_letters_list.append('o')\n",
    "\n",
    "\n",
    "#print(my_sentence_letters_list)\n",
    "\n",
    "# Sort my_sentence_letters_list\n",
    "my_sentence_letters_list.sort()\n",
    "\n",
    "print(my_sentence_letters_list)\n",
    "\n",
    "# Remove duplicate letters\n",
    "for letter in my_sentence_letters_list:\n",
    "    if my_sentence_letters_list.count(letter) > 1:\n",
    "        # The remove() method only removes the first instance, not all\n",
    "        my_sentence_letters_list.remove(letter)\n",
    "        \n",
    "print(my_sentence_letters_list)"
   ]
  },
  {
   "cell_type": "markdown",
   "metadata": {},
   "source": [
    "**Now there are three o's**\n",
    "\n",
    "**Here, after it finds a letter and removes it, Python skips the next letter.**\n",
    "\n",
    "## Lesson: Do not change the length if a list that you are iterating though\n",
    "\n",
    "**My go-to methodology is to create a new empty list and append unique **"
   ]
  },
  {
   "cell_type": "code",
   "execution_count": 7,
   "metadata": {},
   "outputs": [
    {
     "name": "stdout",
     "output_type": "stream",
     "text": [
      "thequickbrownfoxjumpsoverthelazydog\n",
      "['a', 'b', 'c', 'd', 'e', 'e', 'e', 'f', 'g', 'h', 'h', 'i', 'j', 'k', 'l', 'm', 'n', 'o', 'o', 'o', 'o', 'p', 'q', 'r', 'r', 's', 't', 't', 'u', 'u', 'v', 'w', 'x', 'y', 'z']\n",
      "unique_letters: ['a', 'b', 'c', 'd', 'e', 'f', 'g', 'h', 'i', 'j', 'k', 'l', 'm', 'n', 'o', 'p', 'q', 'r', 's', 't', 'u', 'v', 'w', 'x', 'y', 'z']\n",
      "len(unique_letters): 26\n"
     ]
    }
   ],
   "source": [
    "my_sentence = \"The quick brown fox jumps over the lazy dog.\"\n",
    "\n",
    "# Make the sentence lowercase, and remove spaces and punctuation\n",
    "my_sentence_letters = my_sentence.lower().replace(' ', '').strip().strip('.')\n",
    "\n",
    "print(my_sentence_letters)\n",
    "\n",
    "#print(list(my_sentence_letters))\n",
    "\n",
    "\n",
    "# Turn the sentence into a list of letters\n",
    "#my_sentence_letters_list = []\n",
    "#for letter in my_sentence_letters:\n",
    "#    my_sentence_letters_list.append(letter)\n",
    "\n",
    "my_sentence_letters_list = list(my_sentence_letters)\n",
    "\n",
    "#print(my_sentence_letters_list)\n",
    "\n",
    "# Sort my_sentence_letters_list\n",
    "my_sentence_letters_list.sort()\n",
    "\n",
    "print(my_sentence_letters_list)\n",
    "\n",
    "# Remove duplicate letters\n",
    "unique_letters = []\n",
    "for letter in my_sentence_letters_list:\n",
    "    if letter not in unique_letters:\n",
    "        unique_letters.append(letter)\n",
    "        \n",
    "print('unique_letters:', unique_letters)\n",
    "print('len(unique_letters):', len(unique_letters))"
   ]
  },
  {
   "cell_type": "markdown",
   "metadata": {},
   "source": [
    "---\n",
    "\n",
    "**Unfortunately, Python does not include a method to check if a string is a float. Write a function named `isfloat()` that takes a string and returns `True` if all the characters are either a number or a decimal, and `False` otherwise. (Function will also return `True` if the string is an integer.)**"
   ]
  },
  {
   "cell_type": "code",
   "execution_count": 8,
   "metadata": {},
   "outputs": [
    {
     "name": "stdout",
     "output_type": "stream",
     "text": [
      "SUCCESS - [line 11] assertEqual(isfloat('3.14'), True)\n",
      "SUCCESS - [line 12] assertEqual(isfloat('5'), True)\n",
      "SUCCESS - [line 13] assertEqual(isfloat(' 3.14 '), False)\n",
      "SUCCESS - [line 14] assertEqual(isfloat('three point one four'), False)\n"
     ]
    },
    {
     "data": {
      "text/plain": [
       "True"
      ]
     },
     "execution_count": 8,
     "metadata": {},
     "output_type": "execute_result"
    }
   ],
   "source": [
    "from cisc106 import assertEqual\n",
    "\n",
    "def isfloat(a_string):\n",
    "    \n",
    "    for a_char in a_string:\n",
    "        if not a_char.isnumeric() and a_char != '.':\n",
    "            return False\n",
    "    \n",
    "    return True\n",
    "\n",
    "assertEqual(isfloat('3.14'), True)\n",
    "assertEqual(isfloat('5'), True)\n",
    "assertEqual(isfloat(' 3.14 '), False)\n",
    "assertEqual(isfloat('three point one four'), False)"
   ]
  },
  {
   "cell_type": "markdown",
   "metadata": {},
   "source": [
    "---\n",
    "\n",
    "**Python does not have a string reverse method. Write a function that returns the reverse of a string. Hint: You can use the list `reverse()` method.**"
   ]
  },
  {
   "cell_type": "code",
   "execution_count": 9,
   "metadata": {},
   "outputs": [
    {
     "name": "stdout",
     "output_type": "stream",
     "text": [
      "SUCCESS - [line 10] assertEqual(string_reverse('3.14'), '41.3')\n",
      "SUCCESS - [line 11] assertEqual(string_reverse('123'), '321')\n",
      "SUCCESS - [line 12] assertEqual(string_reverse('abcde'), 'edcba')\n"
     ]
    },
    {
     "data": {
      "text/plain": [
       "True"
      ]
     },
     "execution_count": 9,
     "metadata": {},
     "output_type": "execute_result"
    }
   ],
   "source": [
    "def string_reverse(a_string):    \n",
    "    \n",
    "    a_list = list(a_string)\n",
    "    a_list.reverse()\n",
    "    reverse_string = ''\n",
    "    for item in a_list:\n",
    "        reverse_string += item\n",
    "    return reverse_string\n",
    "\n",
    "assertEqual(string_reverse('3.14'), '41.3')\n",
    "assertEqual(string_reverse('123'), '321')\n",
    "assertEqual(string_reverse('abcde'), 'edcba')\n"
   ]
  },
  {
   "cell_type": "markdown",
   "metadata": {},
   "source": [
    "---\n",
    "\n",
    "**The \"Lorem ipsum\" text is commonly used dummy text when working on design (desingers don't want people getting distracted by real words). Let's use it in a few sting methods.**"
   ]
  },
  {
   "cell_type": "code",
   "execution_count": 10,
   "metadata": {
    "scrolled": true
   },
   "outputs": [
    {
     "name": "stdout",
     "output_type": "stream",
     "text": [
      "Original: Lorem ipsum dolor sit amet, consectetur adipiscing elit. Nullam ut nisi id velit venenatis tincidunt ut sit amet eros. Cras maximus lorem id enim viverra gravida. Nulla gravida sagittis massa, et consectetur tellus rutrum ut. In facilisis lorem vitae dolor porttitor, eu suscipit ex dapibus. Curabitur eget mollis dui, quis porttitor odio. Quisque ullamcorper eleifend hendrerit. Cras pellentesque, felis quis ultricies dictum, leo ante scelerisque arcu, ut vulputate dolor odio at est. Pellentesque habitant morbi tristique senectus et netus et malesuada fames ac turpis egestas. Curabitur sit amet pulvinar quam, eu luctus tortor. In at aliquam nulla. Aliquam enim nulla, sagittis eget metus nec, laoreet cursus risus. Nulla dictum metus mauris, nec sollicitudin dui sodales sed. Sed vel elementum velit. Nulla facilisi. \n",
      "{'lorem': 3, 'ipsum': 1, 'dolor': 3, 'sit': 3, 'amet': 3, 'consectetur': 2, 'adipiscing': 1, 'elit': 1, 'nullam': 1, 'ut': 4, 'nisi': 1, 'id': 2, 'velit': 2, 'venenatis': 1, 'tincidunt': 1, 'eros': 1, 'cras': 2, 'maximus': 1, 'enim': 2, 'viverra': 1, 'gravida': 2, 'nulla': 5, 'sagittis': 2, 'massa': 1, 'et': 3, 'tellus': 1, 'rutrum': 1, 'in': 2, 'facilisis': 1, 'vitae': 1, 'porttitor': 2, 'eu': 2, 'suscipit': 1, 'ex': 1, 'dapibus': 1, 'curabitur': 2, 'eget': 2, 'mollis': 1, 'dui': 2, 'quis': 2, 'odio': 2, 'quisque': 1, 'ullamcorper': 1, 'eleifend': 1, 'hendrerit': 1, 'pellentesque': 2, 'felis': 1, 'ultricies': 1, 'dictum': 2, 'leo': 1, 'ante': 1, 'scelerisque': 1, 'arcu': 1, 'vulputate': 1, 'at': 2, 'est': 1, 'habitant': 1, 'morbi': 1, 'tristique': 1, 'senectus': 1, 'netus': 1, 'malesuada': 1, 'fames': 1, 'ac': 1, 'turpis': 1, 'egestas': 1, 'pulvinar': 1, 'quam': 1, 'luctus': 1, 'tortor': 1, 'aliquam': 2, 'metus': 2, 'nec': 2, 'laoreet': 1, 'cursus': 1, 'risus': 1, 'mauris': 1, 'sollicitudin': 1, 'sodales': 1, 'sed': 2, 'vel': 1, 'elementum': 1, 'facilisi': 1}\n"
     ]
    }
   ],
   "source": [
    "lorem_ipsum_text = \"\"\"Lorem ipsum dolor sit amet, consectetur adipiscing elit. Nullam ut nisi id velit venenatis tincidunt ut sit amet eros. Cras maximus lorem id enim viverra gravida. Nulla gravida sagittis massa, et consectetur tellus rutrum ut. In facilisis lorem vitae dolor porttitor, eu suscipit ex dapibus. Curabitur eget mollis dui, quis porttitor odio. Quisque ullamcorper eleifend hendrerit. Cras pellentesque, felis quis ultricies dictum, leo ante scelerisque arcu, ut vulputate dolor odio at est. Pellentesque habitant morbi tristique senectus et netus et malesuada fames ac turpis egestas. Curabitur sit amet pulvinar quam, eu luctus tortor. In at aliquam nulla. Aliquam enim nulla, sagittis eget metus nec, laoreet cursus risus. Nulla dictum metus mauris, nec sollicitudin dui sodales sed. Sed vel elementum velit. Nulla facilisi. \"\"\"\n",
    "\n",
    "print('Original:', lorem_ipsum_text)\n",
    "\n",
    "# Convert lorem_ipsum_text to lower case, and print\n",
    "lorem_ipsum_text = lorem_ipsum_text.lower()\n",
    "\n",
    "# Split lorem_ipsum_text into a list of words, and print\n",
    "lorem_ipsum_list = lorem_ipsum_text.split()\n",
    "\n",
    "# Cycle though the list and remove punctuation (only periods and commas), and print\n",
    "# Remember that you need to cyle by index in order to edit the item in the list\n",
    "# (Or remove it another way if you want)\n",
    "for i in range(len(lorem_ipsum_list)):\n",
    "    lorem_ipsum_list[i] = lorem_ipsum_list[i].strip('.,')\n",
    "\n",
    "#print(lorem_ipsum_list)\n",
    "\n",
    "# Generate a count for every word. Uncomment out and edit the following code so that \n",
    "# it works with your variable names\n",
    "\n",
    "word_count_dict = {}\n",
    "# Rename 'lorem_ipsum_text_list' to match your variable name\n",
    "for word in lorem_ipsum_list:\n",
    "    if word not in word_count_dict:\n",
    "        word_count_dict[word] = 0\n",
    "    word_count_dict[word] += 1\n",
    "    \n",
    "print(word_count_dict)\n",
    "\n",
    "\n"
   ]
  }
 ],
 "metadata": {
  "kernelspec": {
   "display_name": "Python 3",
   "language": "python",
   "name": "python3"
  },
  "language_info": {
   "codemirror_mode": {
    "name": "ipython",
    "version": 3
   },
   "file_extension": ".py",
   "mimetype": "text/x-python",
   "name": "python",
   "nbconvert_exporter": "python",
   "pygments_lexer": "ipython3",
   "version": "3.6.6"
  }
 },
 "nbformat": 4,
 "nbformat_minor": 2
}
