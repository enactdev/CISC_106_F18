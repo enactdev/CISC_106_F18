{
 "cells": [
  {
   "cell_type": "markdown",
   "metadata": {},
   "source": [
    "# Workbook on dictionaries -- October 11, 2018\n",
    "\n",
    "[![Binder](https://mybinder.org/badge.svg)](https://mybinder.org/v2/gh/enactdev/CISC_106_F18/master?filepath=workbooks/dictionaries_2018_10_11.ipynb)\n",
    "\n",
    "**An empty dictionary has been created for you. Prompt a user for their name, and save it in the dictionary with an appropriately named key. Then prompt the user for their favoriate class, and add that to the dictionary as well.**"
   ]
  },
  {
   "cell_type": "code",
   "execution_count": null,
   "metadata": {},
   "outputs": [],
   "source": [
    "name_and_class = {}\n",
    "\n",
    "# Write your two input() statements and update name_and_class\n",
    "\n"
   ]
  },
  {
   "cell_type": "markdown",
   "metadata": {},
   "source": [
    "**Your friend is going grocery shopping and will buy you milk, bread, and cereal. They're asking you what kind you want for each. Use the input() function to prompt yourself for what brand (or kind, like 2%) for each of those three items, and store the result in the dictionary that has been started for you.**\n",
    "\n",
    "**Note: You can simply write three input() statements, or use a loop to cycle through the dictionary keys. Your choice.**"
   ]
  },
  {
   "cell_type": "code",
   "execution_count": null,
   "metadata": {},
   "outputs": [],
   "source": [
    "shopping_items = {'milk': '', 'bread': '', 'cereal': ''}\n",
    "\n",
    "\n"
   ]
  }
 ],
 "metadata": {
  "kernelspec": {
   "display_name": "Python 3",
   "language": "python",
   "name": "python3"
  },
  "language_info": {
   "codemirror_mode": {
    "name": "ipython",
    "version": 3
   },
   "file_extension": ".py",
   "mimetype": "text/x-python",
   "name": "python",
   "nbconvert_exporter": "python",
   "pygments_lexer": "ipython3",
   "version": "3.6.6"
  }
 },
 "nbformat": 4,
 "nbformat_minor": 2
}
