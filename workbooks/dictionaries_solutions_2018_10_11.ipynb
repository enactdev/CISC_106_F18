{
 "cells": [
  {
   "cell_type": "markdown",
   "metadata": {},
   "source": [
    "# Workbook on dictionaries -- solutions -- October 11, 2018\n",
    "\n",
    "[![Binder](https://mybinder.org/badge.svg)](https://mybinder.org/v2/gh/enactdev/CISC_106_F18/master?filepath=workbooks/dictionaries_solutions_2018_10_11.ipynb)\n",
    "\n",
    "**An empty dictionary has been created for you. Prompt a user for their name, and save it in the dictionary with an appropriately named key. Then prompt the user for their favoriate class, and add that to the dictionary as well.**"
   ]
  },
  {
   "cell_type": "code",
   "execution_count": 1,
   "metadata": {},
   "outputs": [
    {
     "name": "stdout",
     "output_type": "stream",
     "text": [
      "What is your name: Professor Williams\n",
      "What is your favorite class: CISC 106\n",
      "{'name': 'Professor Williams', 'fav_class': 'CISC 106'}\n"
     ]
    }
   ],
   "source": [
    "name_and_class = {}\n",
    "\n",
    "# Write your two input() statements and update name_and_class\n",
    "name_and_class['name'] = input('What is your name: ')\n",
    "\n",
    "name_and_class['fav_class'] = input('What is your favorite class: ')\n",
    "\n",
    "print(name_and_class)"
   ]
  },
  {
   "cell_type": "markdown",
   "metadata": {},
   "source": [
    "**Your friend is going grocery shopping and will buy you milk, bread, and cereal. They're asking you what kind you want for each. Use the input() function to prompt yourself for what brand (or kind, like 2%) for each of those three items, and store the result in the dictionary that has been started for you.**\n",
    "\n",
    "**Note: You can simply write three input() statements, or use a loop to cycle through the dictionary keys. Your choice.**"
   ]
  },
  {
   "cell_type": "code",
   "execution_count": 2,
   "metadata": {},
   "outputs": [
    {
     "name": "stdout",
     "output_type": "stream",
     "text": [
      "What kind of milk do you want:2%\n",
      "What kind of bread do you want:Rye\n",
      "What kind of cereal do you want:Chocholate Coated Sugar Bombs\n"
     ]
    }
   ],
   "source": [
    "shopping_items = {'milk': '', 'bread': '', 'cereal': ''}\n",
    "\n",
    "for key in shopping_items:\n",
    "    #print(key)\n",
    "    shopping_items[key] = input('What kind of {} do you want:'.format(key))"
   ]
  },
  {
   "cell_type": "code",
   "execution_count": 3,
   "metadata": {},
   "outputs": [
    {
     "name": "stdout",
     "output_type": "stream",
     "text": [
      "{'milk': '2%', 'bread': 'Rye', 'cereal': 'Chocholate Coated Sugar Bombs'}\n"
     ]
    }
   ],
   "source": [
    "print(shopping_items)"
   ]
  }
 ],
 "metadata": {
  "kernelspec": {
   "display_name": "Python 3",
   "language": "python",
   "name": "python3"
  },
  "language_info": {
   "codemirror_mode": {
    "name": "ipython",
    "version": 3
   },
   "file_extension": ".py",
   "mimetype": "text/x-python",
   "name": "python",
   "nbconvert_exporter": "python",
   "pygments_lexer": "ipython3",
   "version": "3.6.6"
  }
 },
 "nbformat": 4,
 "nbformat_minor": 2
}
