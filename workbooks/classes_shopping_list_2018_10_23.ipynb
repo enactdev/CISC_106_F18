{
 "cells": [
  {
   "cell_type": "markdown",
   "metadata": {},
   "source": [
    "# Workbook on classes -- October 22, 2018\n",
    "\n",
    "[![Binder](https://mybinder.org/badge.svg)](https://mybinder.org/v2/gh/enactdev/CISC_106_F18/master?filepath=workbooks/classes_shopping_list_2018_10_23.ipynb)\n",
    "\n",
    "**Let's make a class to handle the creation and usage of a shopping list:**\n",
    "\n",
    "**I added comments in the class for things that need to be added:**\n",
    "* **If category is not in items_by_category then add it with the addCategory() method**\n",
    "* **If the category is now empty them delete it from items_by_category**\n",
    "* **Write a method `removeItemFromAllCategories()` that only takes an item name and removes that item from all categories it is in. Note: We did a basic version of this in the [lists workbook](lists_solutions_2018_10_09.ipynb) but now you need to (potentially) remove from multiple lists.**\n",
    "\n",
    "\n",
    "**And after the `class` definition, when interacting with the `shopping_list` instance,  remove all items from 'produce' (if you finished the other updates then the 'produce' category will be gone when you print it).**\n",
    "\n",
    "\n"
   ]
  },
  {
   "cell_type": "code",
   "execution_count": 1,
   "metadata": {},
   "outputs": [
    {
     "data": {
      "text/plain": [
       "{'dairy': ['milk', 'cheese'], 'produce': ['apples', 'spam']}"
      ]
     },
     "execution_count": 1,
     "metadata": {},
     "output_type": "execute_result"
    }
   ],
   "source": [
    "import json\n",
    "import os.path\n",
    "\n",
    "class ShoppingList:\n",
    "    \"\"\" ShoppingList class keeping track of what to buy at the grocery store. \"\"\"\n",
    "\n",
    "    def __init__(self):\n",
    "        \"\"\" Create a shopping list \"\"\"\n",
    "        self.categories = []\n",
    "        self.items_by_category = {}\n",
    "        \n",
    "    def addCategory(self, category):\n",
    "        self.categories.append(category)\n",
    "        self.items_by_category[category] = []\n",
    "        \n",
    "    def addItemToCategory(self, category, item):\n",
    "        # If category is not in items_by_category then \n",
    "        # add it with the addCategory() method\n",
    "        # (This needs to be fixed or else it will break below when adding 'dairy')\n",
    "        if category not in self.items_by_category:\n",
    "            self.addCategory(category)\n",
    "            \n",
    "        self.items_by_category[category].append(item)\n",
    "\n",
    "    def removeItemFromCategory(self, category, item):\n",
    "        self.items_by_category[category].remove(item)\n",
    "        \n",
    "        # If the category is now empty them delete it from items_by_category\n",
    "        if len(self.items_by_category[category]) == 0:\n",
    "            self.items_by_category.pop(category)\n",
    "        \n",
    "    # Write a method that only takes an item name and removes that item from\n",
    "    # all categories it is in\n",
    "    def removeItemFromAllCategories(self, item):\n",
    "        for category in self.items_by_category:\n",
    "            if item in self.items_by_category[category]:\n",
    "                self.items_by_category[category].remove(item)\n",
    "\n",
    "    def getCategories(self):\n",
    "        return self.categories\n",
    "\n",
    "    def getItemsByCategory(self):\n",
    "        return self.items_by_category\n",
    "    \n",
    "shopping_list = ShoppingList()\n",
    "\n",
    "shopping_list.addCategory('produce')\n",
    "\n",
    "shopping_list.addItemToCategory('produce', 'apples')\n",
    "shopping_list.addItemToCategory('produce', 'bananas')\n",
    "shopping_list.addItemToCategory('produce', 'spam')\n",
    "\n",
    "shopping_list.addItemToCategory('dairy', 'milk')\n",
    "shopping_list.addItemToCategory('dairy', 'cheese')\n",
    "\n",
    "shopping_list.getItemsByCategory()\n",
    "\n",
    "shopping_list.removeItemFromCategory('produce', 'bananas')\n",
    "\n",
    "# Remove the other two items in produce:\n",
    "#shopping_list.removeItemFromCategory('produce', 'apples')\n",
    "#shopping_list.removeItemFromCategory('produce', 'spam')\n",
    "\n",
    "shopping_list.getItemsByCategory()"
   ]
  },
  {
   "cell_type": "markdown",
   "metadata": {},
   "source": [
    "**This is done. Practice building a shopping list yourself so you understand how the class works.**\n",
    "\n",
    "**Now write a loop within a loop to build the shopping list by prompting the user for categories and items. The outer loop will ask the user what category they want to add items to, until they enter a black line. The inner loop will prompt the user to enter items until they enter a blank line.**\n",
    "\n",
    "**For example, if the user first enters 'fruit' then they will be promted for items. The can add apples, bananas, strawberries, then a blank line. So the 'fruit' category would then have 3 items in it, and the user will be prompted for another category.**"
   ]
  },
  {
   "cell_type": "code",
   "execution_count": null,
   "metadata": {},
   "outputs": [],
   "source": [
    "shopping_list = ShoppingList()\n",
    "\n",
    "# Write your loops here and build the shopping list\n",
    "category = input('Welcome to Shopping List Builder. Enter a category: ')\n",
    "\n",
    "while category != '':\n",
    "    shopping_list.addCategory(category)\n",
    "    \n",
    "    item = input('Enter an item for {}: '.format(category))\n",
    "    \n",
    "    while item != '':\n",
    "        shopping_list.addItemToCategory(category, item)\n",
    "\n",
    "        item = input('Enter an item for {}, or just hit enter when you\\'re done: '.format(category))\n",
    "\n",
    "    category = input('Enter anther category, or just hit enter when you\\'re done: ')\n",
    "    \n",
    "\n",
    "    "
   ]
  },
  {
   "cell_type": "code",
   "execution_count": null,
   "metadata": {},
   "outputs": [],
   "source": [
    "# Let's look at our list:\n",
    "shopping_list.getItemsByCategory()"
   ]
  },
  {
   "cell_type": "markdown",
   "metadata": {},
   "source": [
    "**Finally, use a single loop to ask the user to enter items to remove from the list. Remove items by calling the `removeItemFromAllCategories()` method you finished.**"
   ]
  },
  {
   "cell_type": "code",
   "execution_count": null,
   "metadata": {},
   "outputs": [],
   "source": [
    "item = input('Welcome to Shopping List Builder. Enter an item to remove: ')\n",
    "while item != '':\n",
    "    \n",
    "    shopping_list.removeItemFromAllCategories(item)\n",
    "\n",
    "    item = input('Enter another item to remove, or just hit enter when you\\'re done: ')\n",
    "\n",
    "    \n",
    "shopping_list.getItemsByCategory()"
   ]
  },
  {
   "cell_type": "code",
   "execution_count": null,
   "metadata": {},
   "outputs": [],
   "source": []
  }
 ],
 "metadata": {
  "kernelspec": {
   "display_name": "Python 3",
   "language": "python",
   "name": "python3"
  },
  "language_info": {
   "codemirror_mode": {
    "name": "ipython",
    "version": 3
   },
   "file_extension": ".py",
   "mimetype": "text/x-python",
   "name": "python",
   "nbconvert_exporter": "python",
   "pygments_lexer": "ipython3",
   "version": "3.6.6"
  }
 },
 "nbformat": 4,
 "nbformat_minor": 2
}
