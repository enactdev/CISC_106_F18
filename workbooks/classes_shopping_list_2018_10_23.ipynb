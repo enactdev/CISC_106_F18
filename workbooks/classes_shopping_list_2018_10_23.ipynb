{
 "cells": [
  {
   "cell_type": "markdown",
   "metadata": {},
   "source": [
    "# Workbook on classes -- October 22, 2018\n",
    "\n",
    "[![Binder](https://mybinder.org/badge.svg)](https://mybinder.org/v2/gh/enactdev/CISC_106_F18/master?filepath=workbooks/classes_shopping_list_2018_10_23.ipynb)\n",
    "\n",
    "**Let's make a class to handle the creation and usage of a shopping list:**"
   ]
  },
  {
   "cell_type": "code",
   "execution_count": null,
   "metadata": {},
   "outputs": [],
   "source": [
    "class ShoppingList:\n",
    "    \"\"\" ShoppingList class keeping track of what to buy at the grocery store. \"\"\"\n",
    "\n",
    "    def __init__(self):\n",
    "        \"\"\" Create a shopping list \"\"\"\n",
    "        self.categories = []\n",
    "        self.items_by_category = {}\n",
    "        \n",
    "    def addCategory(self, category):\n",
    "        self.categories.append(category)\n",
    "        self.items_by_category[category] = []\n",
    "        \n",
    "    def addItemToCategory(self, category, item):\n",
    "        # If category is not in items_by_category then \n",
    "        # add it with the addCategory() method\n",
    "        self.items_by_category[category].append(item)\n",
    "\n",
    "    def removeItemFromCategory(self, category, item):\n",
    "        self.items_by_category[category].remove(item)\n",
    "        \n",
    "        # If the category is now empty them delete it from items_by_category\n",
    "        \n",
    "    def getCategories(self):\n",
    "        return self.categories\n",
    "\n",
    "    def getItemsByCategory(self):\n",
    "        return self.items_by_category\n",
    "    \n",
    "shopping_list = ShoppingList()\n",
    "\n",
    "shopping_list.addCategory('produce')\n",
    "\n",
    "shopping_list.addItemToCategory('produce', 'apples')\n",
    "shopping_list.addItemToCategory('produce', 'bananas')\n",
    "shopping_list.addItemToCategory('produce', 'spam')\n",
    "\n",
    "shopping_list.addItemToCategory('dairy', 'milk')\n",
    "shopping_list.addItemToCategory('dairy', 'cheese')\n",
    "\n",
    "shopping_list.getItemsByCategory()\n",
    "\n",
    "shopping_list.removeItemFromCategory('produce', 'bananas')\n",
    "\n",
    "# Remove the other two items in produce:\n",
    "\n",
    "shopping_list.getItemsByCategory()"
   ]
  },
  {
   "cell_type": "code",
   "execution_count": null,
   "metadata": {},
   "outputs": [],
   "source": []
  },
  {
   "cell_type": "code",
   "execution_count": null,
   "metadata": {},
   "outputs": [],
   "source": []
  },
  {
   "cell_type": "code",
   "execution_count": null,
   "metadata": {},
   "outputs": [],
   "source": []
  },
  {
   "cell_type": "markdown",
   "metadata": {},
   "source": [
    "**Remember this from a month ago? The 'self' parameter passed to class methods is why this worked:**"
   ]
  },
  {
   "cell_type": "code",
   "execution_count": null,
   "metadata": {},
   "outputs": [],
   "source": [
    "str.isnumeric('5')"
   ]
  },
  {
   "cell_type": "markdown",
   "metadata": {},
   "source": [
    "**But, you should always do it this way.**"
   ]
  },
  {
   "cell_type": "code",
   "execution_count": null,
   "metadata": {},
   "outputs": [],
   "source": [
    "my_int = '5'\n",
    "\n",
    "my_int.isnumeric()"
   ]
  },
  {
   "cell_type": "code",
   "execution_count": null,
   "metadata": {},
   "outputs": [],
   "source": [
    "', '.join(['a', 'b', 'c'])"
   ]
  },
  {
   "cell_type": "code",
   "execution_count": null,
   "metadata": {},
   "outputs": [],
   "source": [
    "help(str.isnumeric)"
   ]
  },
  {
   "cell_type": "code",
   "execution_count": null,
   "metadata": {},
   "outputs": [],
   "source": []
  }
 ],
 "metadata": {
  "kernelspec": {
   "display_name": "Python 3",
   "language": "python",
   "name": "python3"
  },
  "language_info": {
   "codemirror_mode": {
    "name": "ipython",
    "version": 3
   },
   "file_extension": ".py",
   "mimetype": "text/x-python",
   "name": "python",
   "nbconvert_exporter": "python",
   "pygments_lexer": "ipython3",
   "version": "3.6.6"
  }
 },
 "nbformat": 4,
 "nbformat_minor": 2
}
