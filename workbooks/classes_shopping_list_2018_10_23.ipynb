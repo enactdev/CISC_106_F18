{
 "cells": [
  {
   "cell_type": "markdown",
   "metadata": {},
   "source": [
    "# Workbook on classes -- October 22, 2018\n",
    "\n",
    "[![Binder](https://mybinder.org/badge.svg)](https://mybinder.org/v2/gh/enactdev/CISC_106_F18/master?filepath=workbooks/classes_shopping_list_2018_10_23.ipynb)\n",
    "\n",
    "**Let's make a class to handle the creation and usage of a shopping list:**\n",
    "\n",
    "**I added comments in the class for things that need to be added:**\n",
    "* **If category is not in items_by_category then add it with the addCategory() method**\n",
    "* **If the category is now empty them delete it from items_by_category**\n",
    "* **Write a method `removeItemFromAllCategories()` that only takes an item name and removes that item from all categories it is in. Note: We did a basic version of this in the [lists workbook](lists_solutions_2018_10_09.ipynb) but now you need to (potentially) remove from multiple lists.**\n",
    "\n",
    "\n",
    "**And after the `class` definition, when interacting with the `shopping_list` instance,  remove all items from 'produce' (if you finished the other updates then the 'produce' category will be gone when you print it).**\n",
    "\n",
    "\n"
   ]
  },
  {
   "cell_type": "code",
   "execution_count": null,
   "metadata": {},
   "outputs": [],
   "source": [
    "class ShoppingList:\n",
    "    \"\"\" ShoppingList class keeping track of what to buy at the grocery store. \"\"\"\n",
    "\n",
    "    def __init__(self):\n",
    "        \"\"\" Create a shopping list \"\"\"\n",
    "        self.categories = []\n",
    "        self.items_by_category = {}\n",
    "        \n",
    "    def addCategory(self, category):\n",
    "        self.categories.append(category)\n",
    "        self.items_by_category[category] = []\n",
    "        \n",
    "    def addItemToCategory(self, category, item):\n",
    "        # If category is not in items_by_category then \n",
    "        # add it with the addCategory() method\n",
    "        # (This needs to be fixed or else it will break below when adding 'dairy')\n",
    "        self.items_by_category[category].append(item)\n",
    "\n",
    "    def removeItemFromCategory(self, category, item):\n",
    "        self.items_by_category[category].remove(item)\n",
    "        \n",
    "        # If the category is now empty them delete it from items_by_category\n",
    "        \n",
    "    # Write a method that only takes an item name and removes that item from\n",
    "    # all categories it is in\n",
    "    def removeItemFromAllCategories(self, item):\n",
    "        pass\n",
    "\n",
    "    def getCategories(self):\n",
    "        return self.categories\n",
    "\n",
    "    def getItemsByCategory(self):\n",
    "        return self.items_by_category\n",
    "    \n",
    "shopping_list = ShoppingList()\n",
    "\n",
    "shopping_list.addCategory('produce')\n",
    "\n",
    "shopping_list.addItemToCategory('produce', 'apples')\n",
    "shopping_list.addItemToCategory('produce', 'bananas')\n",
    "shopping_list.addItemToCategory('produce', 'spam')\n",
    "\n",
    "shopping_list.addItemToCategory('dairy', 'milk')\n",
    "shopping_list.addItemToCategory('dairy', 'cheese')\n",
    "\n",
    "shopping_list.getItemsByCategory()\n",
    "\n",
    "shopping_list.removeItemFromCategory('produce', 'bananas')\n",
    "\n",
    "# Remove the other two items in produce:\n",
    "\n",
    "shopping_list.getItemsByCategory()"
   ]
  },
  {
   "cell_type": "markdown",
   "metadata": {},
   "source": [
    "**Now write a loop within a loop to build the shopping list by prompting the user for categories and items. The outer loop will ask the user what category they want to add items to, until they enter a black line. The inner loop will prompt the user to enter items until they enter a blank line.**\n",
    "\n",
    "**For example, if the user first enters 'fruit' then they will be promted for items. The can add apples, bananas, strawberries, then a blank line. So the 'fruit' category would then have 3 items in it, and the user will be prompted for another category.**"
   ]
  },
  {
   "cell_type": "code",
   "execution_count": null,
   "metadata": {},
   "outputs": [],
   "source": [
    "# Write your loops here and build the shopping list"
   ]
  },
  {
   "cell_type": "markdown",
   "metadata": {},
   "source": [
    "**Finally, use a single loop to ask the user to enter items to remove from the list. Remove items by calling the `removeItemFromAllCategories()` method you finished.**"
   ]
  },
  {
   "cell_type": "code",
   "execution_count": null,
   "metadata": {},
   "outputs": [],
   "source": []
  },
  {
   "cell_type": "markdown",
   "metadata": {},
   "source": [
    "---\n",
    "\n",
    "### Off topic, question in class\n",
    "\n",
    "**Remember this from a month ago? The 'self' parameter passed to class methods is why this worked:**"
   ]
  },
  {
   "cell_type": "code",
   "execution_count": null,
   "metadata": {},
   "outputs": [],
   "source": [
    "str.isnumeric('5')"
   ]
  },
  {
   "cell_type": "markdown",
   "metadata": {},
   "source": [
    "**But, you should always do it this way.**"
   ]
  },
  {
   "cell_type": "code",
   "execution_count": null,
   "metadata": {},
   "outputs": [],
   "source": [
    "my_int = '5'\n",
    "\n",
    "my_int.isnumeric()"
   ]
  },
  {
   "cell_type": "code",
   "execution_count": null,
   "metadata": {},
   "outputs": [],
   "source": [
    "', '.join(['a', 'b', 'c'])"
   ]
  },
  {
   "cell_type": "code",
   "execution_count": null,
   "metadata": {},
   "outputs": [],
   "source": [
    "help(str.isnumeric)"
   ]
  }
 ],
 "metadata": {
  "kernelspec": {
   "display_name": "Python 3",
   "language": "python",
   "name": "python3"
  },
  "language_info": {
   "codemirror_mode": {
    "name": "ipython",
    "version": 3
   },
   "file_extension": ".py",
   "mimetype": "text/x-python",
   "name": "python",
   "nbconvert_exporter": "python",
   "pygments_lexer": "ipython3",
   "version": "3.6.6"
  }
 },
 "nbformat": 4,
 "nbformat_minor": 2
}
