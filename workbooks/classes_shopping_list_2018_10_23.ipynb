{
 "cells": [
  {
   "cell_type": "markdown",
   "metadata": {},
   "source": [
    "# Workbook on classes -- October 22, 2018\n",
    "\n",
    "[![Binder](https://mybinder.org/badge.svg)](https://mybinder.org/v2/gh/enactdev/CISC_106_F18/master?filepath=workbooks/classes_shopping_list_2018_10_23.ipynb)\n",
    "\n",
    "**Let's make a class to handle the creation and usage of a shopping list:**\n",
    "\n",
    "**I added comments in the class for things that need to be added:**\n",
    "* **If category is not in items_by_category then add it with the addCategory() method**\n",
    "* **If the category is now empty them delete it from items_by_category**\n",
    "* **Write a method `removeItemFromAllCategories()` that only takes an item name and removes that item from all categories it is in. Note: We did a basic version of this in the [lists workbook](lists_solutions_2018_10_09.ipynb) but now you need to (potentially) remove from multiple lists.**\n",
    "\n",
    "\n",
    "**And after the `class` definition, when interacting with the `shopping_list` instance,  remove all items from 'produce' (if you finished the other updates then the 'produce' category will be gone when you print it).**\n",
    "\n",
    "\n"
   ]
  },
  {
   "cell_type": "code",
   "execution_count": 19,
   "metadata": {},
   "outputs": [],
   "source": [
    "import json\n",
    "import os.path\n",
    "\n",
    "class ShoppingList:\n",
    "    \"\"\" ShoppingList class keeping track of what to buy at the grocery store. \"\"\"\n",
    "\n",
    "    def __init__(self):\n",
    "        \"\"\" Create a shopping list \"\"\"\n",
    "        self.categories = []\n",
    "        self.items_by_category = {}\n",
    "        \n",
    "    def addCategory(self, category):\n",
    "        self.categories.append(category)\n",
    "        self.items_by_category[category] = []\n",
    "        \n",
    "    def addItemToCategory(self, category, item):\n",
    "        # If category is not in items_by_category then \n",
    "        # add it with the addCategory() method\n",
    "        # (This needs to be fixed or else it will break below when adding 'dairy')\n",
    "        if category not in self.items_by_category:\n",
    "            self.addCategory(category)\n",
    "            \n",
    "        self.items_by_category[category].append(item)\n",
    "\n",
    "    def removeItemFromCategory(self, category, item):\n",
    "        self.items_by_category[category].remove(item)\n",
    "        \n",
    "        # If the category is now empty them delete it from items_by_category\n",
    "        if len(self.items_by_category[category]) == 0:\n",
    "            self.items_by_category.pop(category)\n",
    "        \n",
    "    # Write a method that only takes an item name and removes that item from\n",
    "    # all categories it is in\n",
    "    def removeItemFromAllCategories(self, item):\n",
    "        for category in self.items_by_category:\n",
    "            if item in self.items_by_category[category]:\n",
    "                self.items_by_category[category].remove(item)\n",
    "\n",
    "    def getCategories(self):\n",
    "        return self.categories\n",
    "\n",
    "    def getItemsByCategory(self):\n",
    "        return self.items_by_category\n",
    "    \n",
    "    def saveShoppingListToJson(self):\n",
    "\n",
    "        filename = '../data_files/shopping_list.json'\n",
    "        \n",
    "        if os.path.isfile(filename):\n",
    "            f = open(filename, 'w')\n",
    "        else:\n",
    "            f = open(filename, 'x')\n",
    "            \n",
    "        data_list = {\n",
    "            'categories': self.categories,\n",
    "            'items_by_category': self.items_by_category\n",
    "        }\n",
    "\n",
    "        f.write(json.dumps(data_list))\n",
    "\n",
    "        f.close()\n"
   ]
  },
  {
   "cell_type": "markdown",
   "metadata": {},
   "source": [
    "**Now write a loop within a loop to build the shopping list by prompting the user for categories and items. The outer loop will ask the user what category they want to add items to, until they enter a black line. The inner loop will prompt the user to enter items until they enter a blank line.**\n",
    "\n",
    "**For example, if the user first enters 'fruit' then they will be promted for items. The can add apples, bananas, strawberries, then a blank line. So the 'fruit' category would then have 3 items in it, and the user will be prompted for another category.**"
   ]
  },
  {
   "cell_type": "code",
   "execution_count": 3,
   "metadata": {},
   "outputs": [
    {
     "name": "stdout",
     "output_type": "stream",
     "text": [
      "Welcome to Shopping List Builder. Enter a category: dairy\n",
      "Enter an item for dairy: milk\n",
      "Enter an item for dairy, or just hit enter when you're done: cheese\n",
      "Enter an item for dairy, or just hit enter when you're done: sauce\n",
      "Enter an item for dairy, or just hit enter when you're done: ice cream\n",
      "Enter an item for dairy, or just hit enter when you're done: popsicle\n",
      "Enter an item for dairy, or just hit enter when you're done: \n",
      "Enter anther category, or just hit enter when you're done: meat\n",
      "Enter an item for meat: chicken\n",
      "Enter an item for meat, or just hit enter when you're done: lamb\n",
      "Enter an item for meat, or just hit enter when you're done: salami\n",
      "Enter an item for meat, or just hit enter when you're done: more salami\n",
      "Enter an item for meat, or just hit enter when you're done: liverwurst\n",
      "Enter an item for meat, or just hit enter when you're done: baloney\n",
      "Enter an item for meat, or just hit enter when you're done: \n",
      "Enter anther category, or just hit enter when you're done: bread\n",
      "Enter an item for bread: sourdough\n",
      "Enter an item for bread, or just hit enter when you're done: bagel\n",
      "Enter an item for bread, or just hit enter when you're done: bagette\n",
      "Enter an item for bread, or just hit enter when you're done: baguette\n",
      "Enter an item for bread, or just hit enter when you're done: rye\n",
      "Enter an item for bread, or just hit enter when you're done: \n",
      "Enter anther category, or just hit enter when you're done: \n"
     ]
    }
   ],
   "source": [
    "shopping_list = ShoppingList()\n",
    "\n",
    "# Write your loops here and build the shopping list\n",
    "category = input('Welcome to Shopping List Builder. Enter a category: ')\n",
    "\n",
    "while category != '':\n",
    "    shopping_list.addCategory(category)\n",
    "    \n",
    "    item = input('Enter an item for {}: '.format(category))\n",
    "    \n",
    "    while item != '':\n",
    "        shopping_list.addItemToCategory(category, item)\n",
    "\n",
    "        item = input('Enter an item for {}, or just hit enter when you\\'re done: '.format(category))\n",
    "\n",
    "    category = input('Enter anther category, or just hit enter when you\\'re done: ')\n",
    "    \n",
    "\n",
    "    "
   ]
  },
  {
   "cell_type": "code",
   "execution_count": 4,
   "metadata": {},
   "outputs": [
    {
     "data": {
      "text/plain": [
       "{'bread': ['sourdough', 'bagel', 'bagette', 'baguette', 'rye'],\n",
       " 'dairy': ['milk', 'cheese', 'sauce', 'ice cream', 'popsicle'],\n",
       " 'meat': ['chicken', 'lamb', 'salami', 'more salami', 'liverwurst', 'baloney']}"
      ]
     },
     "execution_count": 4,
     "metadata": {},
     "output_type": "execute_result"
    }
   ],
   "source": [
    "# Let's look at our list:\n",
    "shopping_list.getItemsByCategory()"
   ]
  },
  {
   "cell_type": "markdown",
   "metadata": {},
   "source": [
    "**Finally, use a single loop to ask the user to enter items to remove from the list. Remove items by calling the `removeItemFromAllCategories()` method you finished.**"
   ]
  },
  {
   "cell_type": "code",
   "execution_count": 8,
   "metadata": {},
   "outputs": [
    {
     "name": "stdout",
     "output_type": "stream",
     "text": [
      "Welcome to Shopping List Builder. Enter an item to remove: bagette\n",
      "Enter another item to remove, or just hit enter when you're done: \n"
     ]
    }
   ],
   "source": [
    "item = input('Welcome to Shopping List Builder. Enter an item to remove: ')\n",
    "while item != '':\n",
    "    \n",
    "    shopping_list.removeItemFromAllCategories(item)\n",
    "\n",
    "    item = input('Enter another item to remove, or just hit enter when you\\'re done: ')\n",
    "\n",
    "    \n"
   ]
  },
  {
   "cell_type": "code",
   "execution_count": 12,
   "metadata": {},
   "outputs": [
    {
     "ename": "AttributeError",
     "evalue": "'ShoppingList' object has no attribute 'saveShoppingListToJson'",
     "output_type": "error",
     "traceback": [
      "\u001b[0;31m---------------------------------------------------------------------------\u001b[0m",
      "\u001b[0;31mAttributeError\u001b[0m                            Traceback (most recent call last)",
      "\u001b[0;32m<ipython-input-12-092c90911811>\u001b[0m in \u001b[0;36m<module>\u001b[0;34m()\u001b[0m\n\u001b[1;32m      2\u001b[0m \u001b[0mshopping_list\u001b[0m\u001b[0;34m.\u001b[0m\u001b[0mgetItemsByCategory\u001b[0m\u001b[0;34m(\u001b[0m\u001b[0;34m)\u001b[0m\u001b[0;34m\u001b[0m\u001b[0m\n\u001b[1;32m      3\u001b[0m \u001b[0;34m\u001b[0m\u001b[0m\n\u001b[0;32m----> 4\u001b[0;31m \u001b[0mshopping_list\u001b[0m\u001b[0;34m.\u001b[0m\u001b[0msaveShoppingListToJson\u001b[0m\u001b[0;34m(\u001b[0m\u001b[0;34m)\u001b[0m\u001b[0;34m\u001b[0m\u001b[0m\n\u001b[0m",
      "\u001b[0;31mAttributeError\u001b[0m: 'ShoppingList' object has no attribute 'saveShoppingListToJson'"
     ]
    }
   ],
   "source": [
    "# Let's look at our list:\n",
    "shopping_list.getItemsByCategory()\n",
    "\n",
    "shopping_list.saveShoppingListToJson()"
   ]
  },
  {
   "cell_type": "code",
   "execution_count": null,
   "metadata": {},
   "outputs": [],
   "source": []
  },
  {
   "cell_type": "code",
   "execution_count": null,
   "metadata": {},
   "outputs": [],
   "source": []
  },
  {
   "cell_type": "code",
   "execution_count": null,
   "metadata": {},
   "outputs": [],
   "source": []
  },
  {
   "cell_type": "code",
   "execution_count": null,
   "metadata": {},
   "outputs": [],
   "source": []
  },
  {
   "cell_type": "markdown",
   "metadata": {},
   "source": [
    "**But, you should always do it this way.**"
   ]
  },
  {
   "cell_type": "code",
   "execution_count": null,
   "metadata": {},
   "outputs": [],
   "source": [
    "str.isnumeric('5')"
   ]
  },
  {
   "cell_type": "code",
   "execution_count": null,
   "metadata": {},
   "outputs": [],
   "source": [
    "my_int = '5'\n",
    "\n",
    "my_int.isnumeric()"
   ]
  },
  {
   "cell_type": "code",
   "execution_count": null,
   "metadata": {},
   "outputs": [],
   "source": [
    "', '.join(['a', 'b', 'c'])"
   ]
  },
  {
   "cell_type": "code",
   "execution_count": null,
   "metadata": {},
   "outputs": [],
   "source": [
    "help(str.isnumeric)"
   ]
  },
  {
   "cell_type": "code",
   "execution_count": 20,
   "metadata": {},
   "outputs": [
    {
     "data": {
      "text/plain": [
       "{'dairy': ['milk', 'cheese'], 'produce': ['apples', 'spam']}"
      ]
     },
     "execution_count": 20,
     "metadata": {},
     "output_type": "execute_result"
    }
   ],
   "source": [
    "shopping_list = ShoppingList()\n",
    "\n",
    "shopping_list.addCategory('produce')\n",
    "\n",
    "shopping_list.addItemToCategory('produce', 'apples')\n",
    "shopping_list.addItemToCategory('produce', 'bananas')\n",
    "shopping_list.addItemToCategory('produce', 'spam')\n",
    "\n",
    "shopping_list.addItemToCategory('dairy', 'milk')\n",
    "shopping_list.addItemToCategory('dairy', 'cheese')\n",
    "\n",
    "shopping_list.getItemsByCategory()\n",
    "\n",
    "shopping_list.removeItemFromCategory('produce', 'bananas')\n",
    "\n",
    "# Remove the other two items in produce:\n",
    "#shopping_list.removeItemFromCategory('produce', 'apples')\n",
    "#shopping_list.removeItemFromCategory('produce', 'spam')\n",
    "\n",
    "shopping_list.getItemsByCategory()"
   ]
  },
  {
   "cell_type": "code",
   "execution_count": 21,
   "metadata": {},
   "outputs": [],
   "source": [
    "shopping_list.saveShoppingListToJson()"
   ]
  },
  {
   "cell_type": "code",
   "execution_count": null,
   "metadata": {},
   "outputs": [],
   "source": []
  }
 ],
 "metadata": {
  "kernelspec": {
   "display_name": "Python 3",
   "language": "python",
   "name": "python3"
  },
  "language_info": {
   "codemirror_mode": {
    "name": "ipython",
    "version": 3
   },
   "file_extension": ".py",
   "mimetype": "text/x-python",
   "name": "python",
   "nbconvert_exporter": "python",
   "pygments_lexer": "ipython3",
   "version": "3.6.6"
  }
 },
 "nbformat": 4,
 "nbformat_minor": 2
}
