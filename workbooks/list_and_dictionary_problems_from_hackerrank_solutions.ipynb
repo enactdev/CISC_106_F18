{
 "cells": [
  {
   "cell_type": "markdown",
   "metadata": {},
   "source": [
    "# Hackerrank lists and string problems\n",
    "\n",
    "[![Binder](https://mybinder.org/badge.svg)](https://mybinder.org/v2/gh/enactdev/CISC_106_F18/master?filepath=workbooks/list_and_dictionary_problems_from_hackerrank_solutions.ipynb)\n",
    "\n",
    "**Function and parameter names are directly copied from Hackerrank and may differ from the naming convensions used in class. I letf tham as-is so you can copy your solutions into Hacerrank and they will run the same. **\n",
    "\n",
    "## Update\n",
    "* **miniMaxSum() asks for 5 numbers, but I passed more than 5 with example `[4, 7, 1, 0, 3, 6]`, so the last example is updated.**\n",
    "\n",
    "**Use the [guide on list methods](https://github.com/enactdev/CISC_106_F18/guides/list_methods.ipynb) and example [starter code](https://github.com/enactdev/CISC_106_F18/blob/master/starter_code.ipynb) for reference on this workbook.**\n",
    "\n",
    "---\n",
    "\n",
    "### From: Algorithms > Warmup > [Staircase](https://www.hackerrank.com/challenges/staircase/problem)\n",
    "\n",
    "**Consider a staircase of size 4:**\n",
    "\n",
    "```\n",
    "   #\n",
    "  ##\n",
    " ###\n",
    "####\n",
    "```\n",
    "\n",
    "**The base and height are both equal to 4, and the image is drawn using '#' characters and spaces. Write a function `staircase()` that prints a staircase of size n.**\n",
    "\n",
    "**Note: The last line does not have any spaces.**"
   ]
  },
  {
   "cell_type": "code",
   "execution_count": 1,
   "metadata": {},
   "outputs": [
    {
     "name": "stdout",
     "output_type": "stream",
     "text": [
      "    #\n",
      "   ##\n",
      "  ###\n",
      " ####\n",
      "#####\n"
     ]
    }
   ],
   "source": [
    "# Complete the staircase function below.\n",
    "def staircase(n):\n",
    "    \n",
    "    num_hash = 1\n",
    "    \n",
    "    while num_hash <= n:\n",
    "        line = ''\n",
    "        \n",
    "        # Add the spaces\n",
    "        for i in range(n-num_hash):\n",
    "            line += ' '\n",
    "        \n",
    "        # Add the hash marks\n",
    "        for i in range(num_hash):\n",
    "            line += '#'\n",
    "            \n",
    "        print(line)\n",
    "        \n",
    "        # Update num_hash to eventually exit the while loop\n",
    "        num_hash += 1\n",
    "\n",
    "staircase(5)"
   ]
  },
  {
   "cell_type": "markdown",
   "metadata": {},
   "source": [
    "---\n",
    "\n",
    "### From: Algorithms> Warmup> [Mini-Max Sum](https://www.hackerrank.com/challenges/mini-max-sum/problem)\n",
    "\n",
    "**Use the list `sort()` method and list slicing for this problem**\n",
    "\n",
    "**From Hackerrank: \"Given \\[an array of\\] five positive integers, find the minimum and maximum values that can be calculated by summing exactly four of the five integers. Then print the respective minimum and maximum values as a single line of two space-separated long integers.\"**\n",
    "\n",
    "**For example, `arr = [1, 2, 3, 4, 5]` Our minimum sum is `1 + 2 + 3 + 4 = 14` and our maximum sum is `2 + 3 + 4 + 5 = 24`. We would print:**\n",
    "```\n",
    "10 14\n",
    "```\n",
    "\n",
    "**Complete the `miniMaxSum()` function below:**"
   ]
  },
  {
   "cell_type": "code",
   "execution_count": 2,
   "metadata": {},
   "outputs": [
    {
     "name": "stdout",
     "output_type": "stream",
     "text": [
      "10 14\n",
      "16 24\n",
      "14 20\n"
     ]
    }
   ],
   "source": [
    "def miniMaxSum(arr):\n",
    "    \n",
    "    # Sort the array\n",
    "    arr.sort()\n",
    "    \n",
    "    # Print the sum of the first 4 numbers, and the sum of the last 4 numbers\n",
    "    print(sum(arr[:-1]), sum(arr[1:]))\n",
    "\n",
    "    # This would also work\n",
    "    #print(sum(arr[:4]), sum(arr[1:]))\n",
    "\n",
    "miniMaxSum([1, 2, 3, 4, 5]) # Should print 10 14\n",
    "miniMaxSum([1, 3, 5, 7, 9]) # Should print 16 24\n",
    "miniMaxSum([4, 7, 1, 3, 6])# Should print 14 20"
   ]
  },
  {
   "cell_type": "markdown",
   "metadata": {},
   "source": [
    "---\n",
    "\n",
    "### From Algorithms > Warmup > [Time Conversion](https://www.hackerrank.com/challenges/time-conversion/problem)\n",
    "\n",
    "**Use slicing and the string `split()` method for this problem.**\n",
    "\n",
    "**From Hackerrank: Given a time in hour:minute:second AM/PM format, convert it to military (24-hour) time. Note: Midnight is 12:00:00AM on a 12-hour clock, and 00:00:00 on a 24-hour clock. Noon is 12:00:00PM on a 12-hour clock, and 12:00:00 on a 24-hour clock.**\n",
    "\n",
    "**Function Description: Complete the timeConversion function in the editor below. It should return a new string representing the input time in 24 hour format. timeConversion has the following parameter(s):**\n",
    "* **s: A single string containing a time in 24-hour clock format (i.e.: 'hh:mm:ssAM' or 'hh:mm:ssPM') for (h)ours, (m)inutes and (s)econds where 01 <= hh <= 12. **\n",
    "\n",
    "**Output: 24-hour time in 'hh:mm:ss' where 00 <= hh <= 23**\n",
    "\n",
    "**We solved this in class on Oct. 30, 2018**"
   ]
  },
  {
   "cell_type": "code",
   "execution_count": 3,
   "metadata": {},
   "outputs": [
    {
     "name": "stdout",
     "output_type": "stream",
     "text": [
      "19:05:45\n",
      "09:15:40\n",
      "00:35:00\n",
      "12:55:00\n"
     ]
    }
   ],
   "source": [
    "def timeConversion(s):\n",
    "    # If the character at index 8 is an 'A' then it is the morning\n",
    "    if s[8] == 'A':\n",
    "        # If the hour is 12 then it becomes 00 in 24-hour time\n",
    "        if s[0:2] == '12':\n",
    "            return '00' + s[2:8]\n",
    "        else:\n",
    "            return s[0:8]\n",
    "        \n",
    "    else:\n",
    "        s_split = s.split(':')\n",
    "        if s_split[0] == '12':\n",
    "            return s[0:8]\n",
    "        else:\n",
    "            s_split[0] = str(int(s_split[0])+12)\n",
    "            s_split[0] = str(s_split[0])\n",
    "            return ':'.join(s_split)[0:8]\n",
    "\n",
    "print(timeConversion('07:05:45PM')) # Should print '19:05:45'\n",
    "print(timeConversion('09:15:40AM')) # Should print '09:15:40'\n",
    "print(timeConversion('12:35:00AM')) # Should print '00:35:00'\n",
    "print(timeConversion('12:55:00PM')) # Should print '12:55:00'"
   ]
  },
  {
   "cell_type": "markdown",
   "metadata": {},
   "source": [
    "---\n",
    "\n",
    "**Here is an alternate way to solve `timeConversion()`, this is what I did myself before we solved it together in class.**"
   ]
  },
  {
   "cell_type": "code",
   "execution_count": 4,
   "metadata": {},
   "outputs": [
    {
     "name": "stdout",
     "output_type": "stream",
     "text": [
      "19:05:45\n",
      "09:15:40\n",
      "00:35:00\n",
      "12:55:00\n"
     ]
    }
   ],
   "source": [
    "def timeConversion(s):\n",
    "    \n",
    "    # Check if is AM\n",
    "    if s[-2:] == 'AM':\n",
    "        \n",
    "        # If morning and the hour is not 12 time stays the same, just remove the 'AM'\n",
    "        if s[:2] != '12':\n",
    "            return s[:-2]\n",
    "        # Else replace '12' with '00'\n",
    "        else:\n",
    "            return '00'+s[2:-2]\n",
    "    \n",
    "    # Else is PM\n",
    "    else:\n",
    "        # If the hour is 12 then the time stays the same, just remove the 'PM'\n",
    "        if s[:2] == '12':\n",
    "            return s[:-2]\n",
    "        # Else add 12 to the hour and return\n",
    "        else:\n",
    "            time_split = s.split(':')\n",
    "            return str(int(time_split[0])+12)+s[2:-2]\n",
    "        \n",
    "\n",
    "print(timeConversion('07:05:45PM')) # Should print '19:05:45'\n",
    "print(timeConversion('09:15:40AM')) # Should print '09:15:40'\n",
    "print(timeConversion('12:35:00AM')) # Should print '00:35:00'\n",
    "print(timeConversion('12:55:00PM')) # Should print '12:55:00'"
   ]
  },
  {
   "cell_type": "code",
   "execution_count": null,
   "metadata": {},
   "outputs": [],
   "source": []
  }
 ],
 "metadata": {
  "kernelspec": {
   "display_name": "Python 3",
   "language": "python",
   "name": "python3"
  },
  "language_info": {
   "codemirror_mode": {
    "name": "ipython",
    "version": 3
   },
   "file_extension": ".py",
   "mimetype": "text/x-python",
   "name": "python",
   "nbconvert_exporter": "python",
   "pygments_lexer": "ipython3",
   "version": "3.6.6"
  }
 },
 "nbformat": 4,
 "nbformat_minor": 2
}
