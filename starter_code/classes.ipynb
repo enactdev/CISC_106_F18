{
 "cells": [
  {
   "cell_type": "markdown",
   "metadata": {},
   "source": [
    "# Starter code for a class\n",
    "\n",
    "[![Binder](https://mybinder.org/badge.svg)](https://mybinder.org/v2/gh/enactdev/CISC_106_F18/master?filepath=starter_code/classes.ipynb)\n",
    "\n",
    "**Write a class that defines a ShoppingItem with item name, and the isle is is on at the grocery store.**\n",
    "\n",
    "**Define methods for `__init__()` and `__str__()`, plus some additional methods.**"
   ]
  },
  {
   "cell_type": "code",
   "execution_count": 1,
   "metadata": {},
   "outputs": [
    {
     "name": "stdout",
     "output_type": "stream",
     "text": [
      "(item: milk; isle: 10)\n"
     ]
    }
   ],
   "source": [
    "class ShoppingItem:\n",
    "    \n",
    "    def __init__(self, name, isle):\n",
    "        self.name = name\n",
    "        self.isle = int(isle)\n",
    "    \n",
    "    # This defines the string representation of the class, it is called\n",
    "    # when you print the class\n",
    "    def __str__(self):\n",
    "        return '(item: {}; isle: {})'.format(self.name, self.isle)\n",
    "\n",
    "    def setName(self, name):\n",
    "        self.name = name\n",
    "    \n",
    "    def getName(self):\n",
    "        return self.name\n",
    "    \n",
    "    def setIsle(self, isle):\n",
    "        self.isle = isle\n",
    "    \n",
    "    def getIsle(self):\n",
    "        return self.isle\n",
    "    \n",
    "milk = ShoppingItem('milk', '10')\n",
    "\n",
    "print(milk)\n"
   ]
  }
 ],
 "metadata": {
  "kernelspec": {
   "display_name": "Python 3",
   "language": "python",
   "name": "python3"
  },
  "language_info": {
   "codemirror_mode": {
    "name": "ipython",
    "version": 3
   },
   "file_extension": ".py",
   "mimetype": "text/x-python",
   "name": "python",
   "nbconvert_exporter": "python",
   "pygments_lexer": "ipython3",
   "version": "3.6.6"
  }
 },
 "nbformat": 4,
 "nbformat_minor": 2
}
