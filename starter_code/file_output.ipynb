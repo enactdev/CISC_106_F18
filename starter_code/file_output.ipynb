{
 "cells": [
  {
   "cell_type": "markdown",
   "metadata": {},
   "source": [
    "# Starter code when writing files\n",
    "\n",
    "[![Binder](https://mybinder.org/badge.svg)](https://mybinder.org/v2/gh/enactdev/CISC_106_F18/master?filepath=starter_code/file_output.ipynb)\n",
    "\n",
    "**Even if you have not been using the Binder links, I suggest you do for file io since the file is already created for you and in the proper place.**\n",
    "\n",
    "### Save a single value:"
   ]
  },
  {
   "cell_type": "code",
   "execution_count": null,
   "metadata": {},
   "outputs": [],
   "source": [
    "# Get a value to save\n",
    "user_name = input('What is your name?')\n",
    "\n",
    "filename = '../data_files/scratch_data.txt'\n",
    "\n",
    "# This file has already been created, so use 'w' ('x' would create a new file)\n",
    "f = open(filename, 'w')\n",
    "\n",
    "f.write(user_name)\n",
    "\n",
    "f.close()"
   ]
  },
  {
   "cell_type": "markdown",
   "metadata": {},
   "source": [
    "---\n",
    "\n",
    "### Read the value you just saved"
   ]
  },
  {
   "cell_type": "code",
   "execution_count": null,
   "metadata": {},
   "outputs": [],
   "source": [
    "# Get a value to save\n",
    "user_name = input('What is your name?')\n",
    "\n",
    "filename = '../data_files/scratch_data.txt'\n",
    "\n",
    "# This file has already been created, so use 'w' ('x' would create a new file)\n",
    "f = open(filename, 'w')\n",
    "\n",
    "f.write(user_name)\n",
    "\n",
    "f.close()"
   ]
  }
 ],
 "metadata": {
  "kernelspec": {
   "display_name": "Python 3",
   "language": "python",
   "name": "python3"
  },
  "language_info": {
   "codemirror_mode": {
    "name": "ipython",
    "version": 3
   },
   "file_extension": ".py",
   "mimetype": "text/x-python",
   "name": "python",
   "nbconvert_exporter": "python",
   "pygments_lexer": "ipython3",
   "version": "3.6.6"
  }
 },
 "nbformat": 4,
 "nbformat_minor": 2
}
