{
 "cells": [
  {
   "cell_type": "markdown",
   "metadata": {},
   "source": [
    "# Starter code when reading files\n",
    "\n",
    "[![Binder](https://mybinder.org/badge.svg)](https://mybinder.org/v2/gh/enactdev/CISC_106_F18/master?filepath=starter_code/file_input.ipynb)\n",
    "\n",
    "**Even if you have not been using the Binder links, I suggest you do for file io since the file is already created for you and in the proper place.**\n",
    "\n",
    "### Read the entire file into a variable:"
   ]
  },
  {
   "cell_type": "code",
   "execution_count": 1,
   "metadata": {},
   "outputs": [
    {
     "name": "stdout",
     "output_type": "stream",
     "text": [
      "Year,Population\n",
      "1790,3929326\n",
      "1800,5308483\n",
      "1810,723\n"
     ]
    }
   ],
   "source": [
    "filename = '../data_files/us_census_population.csv'\n",
    "\n",
    "# Open the file\n",
    "f = open(filename, 'r')\n",
    "\n",
    "# Read entire file\n",
    "file_contents = f.read()\n",
    "\n",
    "# Close the file\n",
    "f.close()\n",
    "\n",
    "# Check out the first 50 characters\n",
    "print(file_contents[:50])"
   ]
  },
  {
   "cell_type": "markdown",
   "metadata": {},
   "source": [
    "---\n",
    "\n",
    "### Read a file line by line:\n",
    "\n",
    "**Just like user input with the `input()` function, data from a file starts out as a string.**"
   ]
  },
  {
   "cell_type": "code",
   "execution_count": 2,
   "metadata": {},
   "outputs": [
    {
     "name": "stdout",
     "output_type": "stream",
     "text": [
      "current line number: 1\n",
      "type(line): <class 'str'>\n",
      "line: Year,Population\n",
      "\n",
      "current line number: 2\n",
      "type(line): <class 'str'>\n",
      "line: 1790,3929326\n",
      "\n",
      "current line number: 3\n",
      "type(line): <class 'str'>\n",
      "line: 1800,5308483\n",
      "\n",
      "current line number: 4\n",
      "type(line): <class 'str'>\n",
      "line: 1810,7239881\n",
      "\n",
      "current line number: 5\n",
      "type(line): <class 'str'>\n",
      "line: 1820,9638453\n",
      "\n"
     ]
    }
   ],
   "source": [
    "filename = '../data_files/us_census_population.csv'\n",
    "\n",
    "# Open the file\n",
    "f = open(filename, 'r')\n",
    "\n",
    "# When reading a file it can be handy to know what line you are on\n",
    "current_line = 0\n",
    "\n",
    "# Iterate through the file line by line. This happens automatically when iterating\n",
    "# through a file with a for loop\n",
    "for line in f:\n",
    "    \n",
    "    current_line += 1\n",
    "    \n",
    "    # For testing, look at the data type the line is, and also the line value\n",
    "    print('current line number:', current_line)\n",
    "    print('type(line):', type(line))\n",
    "    print('line:', line)\n",
    "    \n",
    "    # When testing, it can be useful to exit after manually looking at a few lines.\n",
    "    # You do not want these two lines in production code\n",
    "    if current_line >= 5:\n",
    "        break\n",
    "    \n",
    "f.close()"
   ]
  },
  {
   "cell_type": "markdown",
   "metadata": {},
   "source": [
    "---\n",
    "\n",
    "### Converting a line into values:"
   ]
  },
  {
   "cell_type": "code",
   "execution_count": 3,
   "metadata": {},
   "outputs": [
    {
     "name": "stdout",
     "output_type": "stream",
     "text": [
      "In 1790 the population was 3929326\n",
      "In 1800 the population was 5308483\n",
      "In 1810 the population was 7239881\n",
      "In 1820 the population was 9638453\n",
      "In 1830 the population was 12866020\n",
      "In 1840 the population was 17069453\n",
      "In 1850 the population was 23191876\n",
      "In 1860 the population was 31443321\n",
      "In 1870 the population was 39818449\n",
      "In 1880 the population was 50189209\n",
      "In 1890 the population was 62947714\n",
      "In 1900 the population was 76212168\n",
      "In 1910 the population was 92228496\n",
      "In 1920 the population was 106021537\n",
      "In 1930 the population was 122775046\n",
      "In 1940 the population was 132164569\n",
      "In 1950 the population was 150697361\n",
      "In 1960 the population was 179323175\n",
      "In 1970 the population was 203302031\n",
      "In 1980 the population was 226545805\n",
      "In 1990 the population was 248709873\n",
      "In 2000 the population was 281421906\n",
      "In 2010 the population was 308745538\n"
     ]
    }
   ],
   "source": [
    "filename = '../data_files/us_census_population.csv'\n",
    "\n",
    "# Open the file\n",
    "f = open(filename, 'r')\n",
    "\n",
    "# This is a CSV file. As shown above, the first line is a header row. \n",
    "# Read it with the next() function, but do not do anything with it.\n",
    "header_row = next(f) \n",
    "\n",
    "# When reading a file it can be handy to know what line you are on\n",
    "# Since we read the first line and ignored it, set to 1\n",
    "current_line = 1\n",
    "\n",
    "# Iterate through the file line by line. This happens automatically when iterating\n",
    "# through a file with a for loop\n",
    "for line in f:\n",
    "    \n",
    "    current_line += 1\n",
    "    \n",
    "    # Turn the line into a list of values\n",
    "    line_split = line.split(',')\n",
    "    \n",
    "    # Use the strip() method to make sure there are not any spaces around the data\n",
    "    year = line_split[0].strip()\n",
    "    population = line_split[1].strip()\n",
    "    \n",
    "    print('In {} the population was {}'.format(year, population))\n",
    "\n",
    "    \n",
    "f.close()"
   ]
  },
  {
   "cell_type": "markdown",
   "metadata": {},
   "source": [
    "---\n",
    "\n",
    "**Basic skip lines example:**"
   ]
  },
  {
   "cell_type": "code",
   "execution_count": 4,
   "metadata": {},
   "outputs": [
    {
     "name": "stdout",
     "output_type": "stream",
     "text": [
      "In 1870 the population was 39818449\n",
      "In 1880 the population was 50189209\n",
      "In 1890 the population was 62947714\n",
      "In 1900 the population was 76212168\n",
      "In 1910 the population was 92228496\n",
      "In 1920 the population was 106021537\n",
      "In 1930 the population was 122775046\n",
      "In 1940 the population was 132164569\n",
      "In 1950 the population was 150697361\n",
      "In 1960 the population was 179323175\n",
      "In 1970 the population was 203302031\n",
      "In 1980 the population was 226545805\n",
      "In 1990 the population was 248709873\n",
      "In 2000 the population was 281421906\n",
      "In 2010 the population was 308745538\n"
     ]
    }
   ],
   "source": [
    "filename = '../data_files/us_census_population.csv'\n",
    "\n",
    "# Open the file\n",
    "f = open(filename, 'r')\n",
    "\n",
    "# This is a CSV file. As shown above, the first line is a header row. \n",
    "# Read it with the next() function, but do not do anything with it.\n",
    "header_row = next(f) \n",
    "\n",
    "# When reading a file it can be handy to know what line you are on\n",
    "# Since we read the first line and ignored it, set to 1\n",
    "current_line = 1\n",
    "\n",
    "# Number of lines to skip\n",
    "skip_lines = 10\n",
    "\n",
    "# Iterate through the file line by line. This happens automatically when iterating\n",
    "# through a file with a for loop\n",
    "for line in f:\n",
    "    \n",
    "    current_line += 1\n",
    "    \n",
    "    if current_line < skip_lines:\n",
    "        continue\n",
    "    \n",
    "    # Turn the line into a list of values\n",
    "    line_split = line.split(',')\n",
    "    \n",
    "    # Use the strip() method to make sure there are not any spaces around the data\n",
    "    year = line_split[0].strip()\n",
    "    population = line_split[1].strip()\n",
    "    \n",
    "    print('In {} the population was {}'.format(year, population))\n",
    "\n",
    "    \n",
    "f.close()"
   ]
  },
  {
   "cell_type": "code",
   "execution_count": null,
   "metadata": {},
   "outputs": [],
   "source": []
  }
 ],
 "metadata": {
  "kernelspec": {
   "display_name": "Python 3",
   "language": "python",
   "name": "python3"
  },
  "language_info": {
   "codemirror_mode": {
    "name": "ipython",
    "version": 3
   },
   "file_extension": ".py",
   "mimetype": "text/x-python",
   "name": "python",
   "nbconvert_exporter": "python",
   "pygments_lexer": "ipython3",
   "version": "3.6.6"
  }
 },
 "nbformat": 4,
 "nbformat_minor": 2
}
